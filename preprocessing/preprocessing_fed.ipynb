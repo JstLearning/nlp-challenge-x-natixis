{
 "cells": [
  {
   "cell_type": "code",
   "execution_count": 2,
   "metadata": {},
   "outputs": [],
   "source": [
    "import pandas as pd\n",
    "import numpy as np\n",
    "\n",
    "import matplotlib.pyplot as plt\n",
    "\n",
    "from sklearn.model_selection import train_test_split\n",
    "\n",
    "import time\n",
    "import re\n",
    "from langdetect import detect\n",
    "\n",
    "from collections import Counter\n",
    "\n",
    "import reprlib\n",
    "\n",
    "import gc"
   ]
  },
  {
   "cell_type": "code",
   "execution_count": 1,
   "metadata": {},
   "outputs": [],
   "source": [
    "FILENAME = \"../data/train_series.csv\"\n",
    "FILENAME_ECB = \"../data/ecb_data.csv\"\n",
    "FILENAME_FED = \"../data/fed_data.csv\"\n",
    "FILENAME_ECB_P = \"../data/ecb_data_preprocessed.csv\"\n",
    "FILENAME_FED_P = \"../data/fed_data_preprocessed.csv\""
   ]
  },
  {
   "cell_type": "code",
   "execution_count": 3,
   "metadata": {},
   "outputs": [],
   "source": [
    "def text_print(text, line_char_lim=150):\n",
    "    text_ = text.split('\\n')\n",
    "    for subtext in text_:\n",
    "        n = len(subtext)\n",
    "        k = 0\n",
    "        while k <= n:\n",
    "            print(subtext[k:min(n, k + line_char_lim)])\n",
    "            k += line_char_lim\n",
    "        print('\\n')"
   ]
  },
  {
   "cell_type": "code",
   "execution_count": 4,
   "metadata": {},
   "outputs": [],
   "source": [
    "fed = pd.read_csv(FILENAME_FED_P, index_col=0)"
   ]
  },
  {
   "cell_type": "code",
   "execution_count": 5,
   "metadata": {},
   "outputs": [
    {
     "data": {
      "text/plain": [
       "count      739.000000\n",
       "mean     22104.081191\n",
       "std      10999.279224\n",
       "min       2011.000000\n",
       "25%      13922.000000\n",
       "50%      22575.000000\n",
       "75%      28200.500000\n",
       "max      69492.000000\n",
       "Name: text, dtype: float64"
      ]
     },
     "execution_count": 5,
     "metadata": {},
     "output_type": "execute_result"
    }
   ],
   "source": [
    "# View length statistics\n",
    "fed[\"text\"].apply(len).describe()"
   ]
  },
  {
   "cell_type": "code",
   "execution_count": 6,
   "metadata": {},
   "outputs": [],
   "source": [
    "# View texts"
   ]
  },
  {
   "cell_type": "code",
   "execution_count": 6,
   "metadata": {},
   "outputs": [],
   "source": [
    "def find_footnote(x):\n",
    "    found = re.match(r\"(.*)footnote\", x, re.IGNORECASE)\n",
    "    if not found is None:\n",
    "        insensitive_footnote = re.compile(re.escape('footnote'), re.IGNORECASE)\n",
    "        return insensitive_footnote.sub(\"\", found.group()).strip()\n",
    "    else:\n",
    "        return x"
   ]
  },
  {
   "cell_type": "code",
   "execution_count": 7,
   "metadata": {},
   "outputs": [],
   "source": [
    "# Find amount of text we can remove by removing footnotes\n",
    "without_footnote = fed[\"text\"].apply(\n",
    "    find_footnote\n",
    ")"
   ]
  },
  {
   "cell_type": "code",
   "execution_count": 9,
   "metadata": {},
   "outputs": [
    {
     "data": {
      "text/plain": [
       "0"
      ]
     },
     "execution_count": 9,
     "metadata": {},
     "output_type": "execute_result"
    }
   ],
   "source": [
    "without_footnote.isna().sum()"
   ]
  },
  {
   "cell_type": "code",
   "execution_count": 10,
   "metadata": {},
   "outputs": [],
   "source": [
    "def find_useless_thanks(x):\n",
    "    if x is not None:\n",
    "        found = re.findall(r\"([^.]*?(thank | congratulat)[^.]*\\.)\", x, re.IGNORECASE)\n",
    "    if not found is None:\n",
    "        res = x\n",
    "        for substring in found:\n",
    "            res = re.sub(re.escape(substring[0]), \"\", res)\n",
    "        return res\n",
    "    return x"
   ]
  },
  {
   "cell_type": "code",
   "execution_count": 11,
   "metadata": {},
   "outputs": [],
   "source": [
    "# Thanks are useless. Let's just remove them.\n",
    "without_thanks = without_footnote.apply(find_useless_thanks)"
   ]
  },
  {
   "cell_type": "code",
   "execution_count": 12,
   "metadata": {},
   "outputs": [
    {
     "data": {
      "text/plain": [
       "0"
      ]
     },
     "execution_count": 12,
     "metadata": {},
     "output_type": "execute_result"
    }
   ],
   "source": [
    "without_thanks.isna().sum()"
   ]
  },
  {
   "cell_type": "code",
   "execution_count": 13,
   "metadata": {},
   "outputs": [
    {
     "data": {
      "text/plain": [
       "count      739.000000\n",
       "mean      3543.518268\n",
       "std       1730.606814\n",
       "min        309.000000\n",
       "25%       2256.500000\n",
       "50%       3592.000000\n",
       "75%       4530.500000\n",
       "max      10676.000000\n",
       "Name: text, dtype: float64"
      ]
     },
     "execution_count": 13,
     "metadata": {},
     "output_type": "execute_result"
    }
   ],
   "source": [
    "fed[\"text\"].str.split(\" \").apply(len).describe()"
   ]
  },
  {
   "cell_type": "code",
   "execution_count": 14,
   "metadata": {},
   "outputs": [
    {
     "data": {
      "text/plain": [
       "count      739.000000\n",
       "mean      3435.964817\n",
       "std       1693.646100\n",
       "min        286.000000\n",
       "25%       2175.500000\n",
       "50%       3458.000000\n",
       "75%       4461.000000\n",
       "max      10676.000000\n",
       "Name: text, dtype: float64"
      ]
     },
     "execution_count": 14,
     "metadata": {},
     "output_type": "execute_result"
    }
   ],
   "source": [
    "without_thanks.str.split(\" \").apply(len).describe()"
   ]
  },
  {
   "cell_type": "code",
   "execution_count": 15,
   "metadata": {},
   "outputs": [],
   "source": [
    "def remove_video_code(text):\n",
    "    if not text is None:\n",
    "        res = re.sub(\"Accessible Keys for Video.*myPlayer\\.play\\(\\);(.*?)\\}(.*?)\\}\", \"\", text).strip()\n",
    "        res = re.sub(\"^(Watch|View) Video\", \"\", res)\n",
    "        return res.strip()\n",
    "    return text"
   ]
  },
  {
   "cell_type": "code",
   "execution_count": 16,
   "metadata": {},
   "outputs": [],
   "source": [
    "def remove_refs_fed(text):\n",
    "    if not text is None:\n",
    "        res = re.sub(r'References.*', '', text)\n",
    "        res = re.sub(r'Return to text.*$', '', res)\n",
    "        return res.strip()\n",
    "    return text"
   ]
  },
  {
   "cell_type": "code",
   "execution_count": 17,
   "metadata": {},
   "outputs": [],
   "source": [
    "def website_remover(text):\n",
    "    # Remove websites\n",
    "    regex = \"((http|https)://)(www.)?\" \\\n",
    "        + \"[a-zA-Z0-9@:%._\\\\+~#?&//=]{2,256}\\\\.[a-z]\" \\\n",
    "        + \"{2,6}\\\\b([-a-zA-Z0-9@:%._\\\\+~#?&//=]*)\"\n",
    "    res = re.sub(regex, \"\", text).strip()\n",
    "    return res"
   ]
  },
  {
   "cell_type": "code",
   "execution_count": 27,
   "metadata": {},
   "outputs": [],
   "source": [
    "def remove_greetings(text):\n",
    "    if not text is None:\n",
    "        res = re.sub(r'^(.*?)Good (morning|afternoon|evening)[^.]*\\.', '', text)\n",
    "        res = re.sub(r'^(.*?)Ladies and (g|G)entlemen[^.]*\\.', '', res)\n",
    "        res = re.sub(r'Hello.', '', res)\n",
    "        return res.strip()\n",
    "    return text"
   ]
  },
  {
   "cell_type": "code",
   "execution_count": 28,
   "metadata": {},
   "outputs": [],
   "source": [
    "def pipeline_fed(x, tolist=False):\n",
    "    res = x[\"title\"]\n",
    "    text = x[\"text\"]\n",
    "    if not text is None and isinstance(text, str):\n",
    "        res = find_footnote(text)\n",
    "        res = remove_video_code(res)\n",
    "        res = find_useless_thanks(res)\n",
    "        res = remove_refs_fed(res)\n",
    "        res = remove_greetings(res)\n",
    "        res = website_remover(res)\n",
    "    return res\n"
   ]
  },
  {
   "cell_type": "code",
   "execution_count": 29,
   "metadata": {},
   "outputs": [],
   "source": [
    "fed_ = fed.apply(pipeline_fed, axis=1)"
   ]
  },
  {
   "cell_type": "code",
   "execution_count": 34,
   "metadata": {},
   "outputs": [
    {
     "data": {
      "text/plain": [
       "'I will begin with a brief update on the outlook for the U.S. economy, then discuss recent developments in global commodity markets that are significantly affecting both the U.S. and world economies, and conclude with some thoughts on the prospects for monetary policy.       The Outlook for Growth        U.S. economic growth so far this year looks to have been somewhat slower than expected. Aggregate output increased at only'"
      ]
     },
     "execution_count": 34,
     "metadata": {},
     "output_type": "execute_result"
    }
   ],
   "source": [
    "fed_.iloc[279]"
   ]
  },
  {
   "cell_type": "code",
   "execution_count": 35,
   "metadata": {},
   "outputs": [
    {
     "name": "stdout",
     "output_type": "stream",
     "text": [
      "         I would like to thank the organizers for inviting me to participate once again in the International Monetary Conference. I will begin with a \n",
      "brief update on the outlook for the U.S. economy, then discuss recent developments in global commodity markets that are significantly affecting both t\n",
      "he U.S. and world economies, and conclude with some thoughts on the prospects for monetary policy.       The Outlook for Growth        U.S. economic g\n",
      "rowth so far this year looks to have been somewhat slower than expected. Aggregate output increased at only 1.8 percent at an annual rate in the first\n",
      " quarter, and supply chain disruptions associated with the earthquake and tsunami in Japan are hampering economic activity this quarter. A number of i\n",
      "ndicators also suggest some loss of momentum in the labor market in recent weeks. We are, of course, monitoring these developments. That said, with th\n",
      "e effects of the Japanese disaster on manufacturing output likely to dissipate in coming months, and with some moderation in gasoline prices in prospe\n",
      "ct, growth seems likely to pick up somewhat in the second half of the year. Overall, the economic recovery appears to be continuing at a moderate pace\n",
      ", albeit at a rate that is both uneven across sectors and frustratingly slow from the perspective of millions of unemployed and underemployed workers.\n",
      "              As is often the case, the ability and willingness of households to spend will be an important determinant of the pace at which the econo\n",
      "my expands in coming quarters. A range of positive and negative forces is currently influencing both household finances and attitudes. On the positive\n",
      " side, household incomes have been boosted by the net improvement in job market conditions since earlier this year as well as from the reduction in pa\n",
      "yroll taxes that the Congress passed in December. Increases in household wealth--largely reflecting gains in equity values--and lower debt burdens hav\n",
      "e also increased consumers' willingness to spend. On the negative side, households are facing some significant headwinds, including increases in food \n",
      "and energy prices, declining home values, continued tightness in some credit markets, and still-high unemployment, all of which have taken a toll on c\n",
      "onsumer confidence.              Developments in the labor market will be of particular importance in setting the course for household spending. As yo\n",
      "u know, the jobs situation remains far from normal. For example, aggregate hours of production workers--a comprehensive measure of labor input that re\n",
      "flects the extent of part-time employment and opportunities for overtime as well as the number of people employed--fell, remarkably, by nearly 10 perc\n",
      "ent from the beginning of the recent recession through October 2009. Although hours of work have increased during the expansion, this measure still re\n",
      "mains about 6-1/2 percent below its pre-recession level. For comparison, the maximum decline in aggregate hours worked in the deep 1981-82 recession w\n",
      "as less than 6 percent. Other indicators, such as total payroll employment, the ratio of employment to population, and the unemployment rate, paint a \n",
      "similar picture. Particularly concerning is the very high level of long-term unemployment--nearly half of the unemployed have been jobless for more th\n",
      "an six months. People without work for long periods can find it increasingly difficult to obtain a job comparable to their previous one, as their skil\n",
      "ls tend to deteriorate over time and as employers are often reluctant to hire the long-term unemployed.              Although the jobs market remains \n",
      "quite weak and progress has been uneven, overall we have seen signs of gradual improvement. For example, private-sector payrolls increased at an avera\n",
      "ge rate of about 180,000 per month over the first five months of this year, compared with less than 140,000 during the last four months of 2010 and le\n",
      "ss than 80,000 per month in the four months prior to that. As I noted, however, recent indicators suggest some loss of momentum, with last Friday's jo\n",
      "bs market report showing an increase in private payrolls of just 83,000 in May. I expect hiring to pick up from last month's pace as growth strengthen\n",
      "s in the second half of the year, but, again, the recent data highlight the need to continue monitoring the jobs situation carefully.              The\n",
      " business sector generally presents a more upbeat picture. Capital spending on equipment and software has continued to expand, reflecting an improving\n",
      " sales outlook and the need to replace aging capital. Many U.S. firms, notably in manufacturing but also in services, have benefited from the strong g\n",
      "rowth of demand in foreign markets. Going forward, investment and hiring in the private sector should be facilitated by the ongoing improvement in cre\n",
      "dit conditions. Larger businesses remain able to finance themselves at historically low interest rates, and corporate balance sheets are strong. Small\n",
      "er businesses still face difficulties in obtaining credit, but surveys of both banks and borrowers indicate that conditions are slowly improving for t\n",
      "hose firms as well.              In contrast, virtually all segments of the construction industry remain troubled. In the residential sector, low home\n",
      " prices and mortgage rates imply that housing is quite affordable by historical standards; yet, with underwriting standards for home mortgages having \n",
      "tightened considerably, many potential homebuyers are unable to qualify for loans. Uncertainties about job prospects and the future course of house pr\n",
      "ices have also deterred potential buyers. Given these constraints on the demand for housing, and with a large inventory of vacant and foreclosed prope\n",
      "rties overhanging the market, construction of new single-family homes has remained at very low levels, and house prices have continued to fall. The ho\n",
      "using sector typically plays an important role in economic recoveries; the depressed state of housing in the United States is a big reason that the cu\n",
      "rrent recovery is less vigorous than we would like.              Developments in the public sector also help determine the pace of recovery. Here, too\n",
      ", the picture is one of relative weakness. Fiscally constrained state and local governments continue to cut spending and employment. Moreover, the imp\n",
      "etus provided to the growth of final demand by federal fiscal policies continues to wane.              The prospect of increasing fiscal drag on the r\n",
      "ecovery highlights one of the many difficult tradeoffs faced by fiscal policymakers: If the nation is to have a healthy economic future, policymakers \n",
      "urgently need to put the federal government's finances on a sustainable trajectory. But, on the other hand, a sharp fiscal consolidation focused on th\n",
      "e very near term could be self-defeating if it were to undercut the still-fragile recovery. The solution to this dilemma, I believe, lies in recognizi\n",
      "ng that our nation's fiscal problems are inherently long-term in nature. Consequently, the appropriate response is to move quickly to enact a credible\n",
      ", long-term plan for fiscal consolidation. By taking decisions today that lead to fiscal consolidation over a longer horizon, policymakers can avoid a\n",
      " sudden fiscal contraction that could put the recovery at risk. At the same time, establishing a credible plan for reducing future deficits now would \n",
      "not only enhance economic performance in the long run, but could also yield near-term benefits by leading to lower long-term interest rates and increa\n",
      "sed consumer and business confidence.       The Outlook for Inflation        Let me turn to the outlook for inflation. As you all know, over the past \n",
      "year, prices for many commodities have risen sharply, resulting in significantly higher consumer prices for gasoline and other energy products and, to\n",
      " a somewhat lesser extent, for food. Overall inflation measures reflect these price increases: For example, over the six months through April, the pri\n",
      "ce index for personal consumption expenditures has risen at an annual rate of about 3-1/2 percent, compared with an average of less than 1 percent ove\n",
      "r the preceding two years.              Although the recent increase in inflation is a concern, the appropriate diagnosis and policy response depend o\n",
      "n whether the rise in inflation is likely to persist. So far at least, there is not much evidence that inflation is becoming broad-based or ingrained \n",
      "in our economy; indeed, increases in the price of a single product--gasoline--account for the bulk of the recent increase in consumer price inflation.\n",
      "1 Of course, gasoline prices are exceptionally important for both family finances and the broader economy; but the fact that gasoline price increases \n",
      "alone account for so much of the overall increase in inflation suggests that developments in the global market for crude oil and related products, as \n",
      "well as in other commodities markets, are the principal factors behind the recent movements in inflation, rather than factors specific to the U.S. eco\n",
      "nomy. An important implication is that if the prices of energy and other commodities stabilize in ranges near current levels, as futures markets and m\n",
      "any forecasters predict, the upward impetus to overall price inflation will wane and the recent increase in inflation will prove transitory. Indeed, t\n",
      "he declines in many commodity prices seen over the past few weeks may be an indication that such moderation is occurring. I will discuss commodity pri\n",
      "ces further momentarily.              Besides the prospect of more-stable commodity prices, two other factors suggest that inflation is likely to retu\n",
      "rn to more subdued levels in the medium term. First, the still-substantial slack in U.S. labor and product markets should continue to have a moderatin\n",
      "g effect on inflationary pressures. Notably, because of the weak demand for labor, wage increases have not kept pace with productivity gains. Thus the\n",
      " level of unit labor costs in the business sector is lower than it was before the recession. Given the large share of labor costs in the production co\n",
      "sts of most firms (typically, a share far larger than that of raw materials costs), subdued unit labor costs should remain a restraining influence on \n",
      "inflation. To be clear, I am not arguing that healthy increases in real wages are inconsistent with low inflation; the two are perfectly consistent so\n",
      " long as productivity growth is reasonably strong.              The second additional factor restraining inflation is the stability of longer-term inf\n",
      "lation expectations. Despite the recent pickup in overall inflation, measures of households' longer-term inflation expectations from the Michigan surv\n",
      "ey, the 10-year inflation projections of professional economists, the 5-year-forward measure of inflation compensation derived from yields on inflatio\n",
      "n-protected securities, and other measures of longer-term inflation expectations have all remained reasonably stable.2 As long as longer-term inflatio\n",
      "n expectations are stable, increases in global commodity prices are unlikely to be built into domestic wage- and price-setting processes, and they sho\n",
      "uld therefore have only transitory effects on the rate of inflation. That said, the stability of inflation expectations is ensured only as long as the\n",
      " commitment of the central bank to low and stable inflation remains credible. Thus, the Federal Reserve will continue to closely monitor the evolution\n",
      " of inflation and inflation expectations and will take whatever actions are necessary to keep inflation well controlled.       Commodity Prices       \n",
      " As I noted earlier, the rise in commodity prices has directly increased the rate of inflation while also adversely affecting consumer confidence and \n",
      "consumer spending. Let's look at these price increases in closer detail.              The basic facts are familiar. Oil prices have risen significantl\n",
      "y, with the spot price of West Texas Intermediate crude oil near $100 per barrel as of the end of last week, up nearly 40 percent from a year ago. Pro\n",
      "portionally, prices of corn and wheat have risen even more, roughly doubling over the past year. And prices of industrial metals have increased notabl\n",
      "y as well, with aluminum and copper prices up about one-third over the past 12 months. When the price of any product moves sharply, the economist's fi\n",
      "rst instinct is to look for changes in the supply of or demand for that product. And indeed, the recent increase in commodity prices appears largely t\n",
      "o be the result of the same factors that drove commodity prices higher throughout much of the past decade: strong gains in global demand that have not\n",
      " been met with commensurate increases in supply.              From 2002 to 2008, a period of sustained increases in commodity prices, world economic a\n",
      "ctivity registered its fastest pace of expansion in decades, rising at an average rate of about 4-1/2 percent per year. This impressive performance wa\n",
      "s led by the emerging and developing economies, where real activity expanded at a remarkable 7 percent per annum. The emerging market economies have l\n",
      "ikewise led the way in the recovery from the global financial crisis: From 2008 to 2010, real gross domestic product (GDP) rose cumulatively by about \n",
      "10 percent in the emerging market economies even as GDP was essentially unchanged, on net, in the advanced economies.3           Naturally, increased \n",
      "economic activity in emerging market economies has increased global demand for raw materials. Moreover, the heavy emphasis on industrial development i\n",
      "n many emerging market economies has led their growth to be particularly intensive in the use of commodities, even as the consumption of commodities i\n",
      "n advanced economies has stabilized or declined. For example, world oil consumption rose by 14 percent from 2000 to 2010; underlying this overall tren\n",
      "d, however, was a 40 percent increase in oil use in emerging market economies and an outright decline of 4â1/2 percent in the advanced economies. In\n",
      " particular, U.S. oil consumption was about 2-1/2 percent lower in 2010 than in 2000, with net imports of oil down nearly 10 percent, even though U.S.\n",
      " real GDP rose by nearly 20 percent over that period.              This dramatic shift in the sources of demand for commodities is not unique to oil. \n",
      "If anything, the pattern is even more striking for industrial metals, where double-digit percentage rates of decline in consumption by the advanced ec\n",
      "onomies over the past decade have been overwhelmed by triple-digit percentage increases in consumption by the emerging market economies.4 Likewise, im\n",
      "proving diets in the emerging market economies have significantly increased their demand for agricultural commodities. Importantly, in noting these fa\n",
      "cts, I intend no criticism of emerging markets; growth in those economies has conferred substantial economic benefits both within those countries and \n",
      "globally, and in any case, the consumption of raw materials relative to population in emerging-market countries remains substantially lower than in th\n",
      "e United States and other advanced economies. Nevertheless, it is undeniable that the tremendous growth in emerging market economies has considerably \n",
      "increased global demand for commodities in recent years.              Against this backdrop of extremely robust growth in demand, the supply of many c\n",
      "ommodities has lagged behind. For example, world oil production has increased less than 1 percent per year since 2004, compared with nearly 2 percent \n",
      "per year in the prior decade. In part, the slower increase in the supply of oil reflected disappointing rates of production in countries that are not \n",
      "part of the Organization of the Petroleum Exporting Countries (OPEC). However, OPEC has not shown much willingness to ramp up production, either. Most\n",
      " recently, OPEC production fell 1.3 million barrels per day from January to April of this year, reflecting the disruption to Libyan supplies and the l\n",
      "ack of any significant offset from other OPEC producers. Indeed, OPEC's production of oil today remains about 3 million barrels per day below the peak\n",
      " level of mid-2008. With the demand for oil rising rapidly and the supply of crude stagnant, increases in oil prices are hardly a puzzle.             \n",
      " Production shortfalls have plagued many other commodities as well. Agricultural output has been hard hit by a spate of bad weather around the globe. \n",
      "For example, last summer's drought in Russia severely reduced that country's wheat crop. In the United States, high temperatures significantly impaire\n",
      "d the U.S. corn crop last fall, and dry conditions are currently hurting the wheat crop in Kansas. Over the past year, droughts have also afflicted Ar\n",
      "gentina, China, and France. Fortunately, the lag between planting and harvesting for many crops is relatively short; thus, if more-typical weather pat\n",
      "terns resume, supplies of agricultural commodities should rebound, thereby reducing the pressure on prices.              Not all commodity prices have\n",
      " increased, illustrating the point that supply and demand conditions can vary across markets. For example, prices for both lumber and natural gas are \n",
      "currently near their levels of the early 2000s. The demand for lumber has been curtailed by weakness in the U.S. construction sector, while the supply\n",
      " of natural gas in the United States has been increased by significant innovations in extraction techniques.5 Among agricultural commodities, rice pri\n",
      "ces have remained relatively subdued, reflecting favorable growing conditions.              In all, these cases reinforce the view that the fundamenta\n",
      "ls of global supply and demand have been playing a central role in recent swings in commodity prices. That said, there is usually significant uncertai\n",
      "nty about current and prospective supply and demand. Accordingly, commodity prices, like the prices of financial assets, can be volatile as market par\n",
      "ticipants react to incoming news. Recently, commodity prices seem to have been particularly responsive to news bearing on the prospects for global eco\n",
      "nomic growth as well as geopolitical developments.              As the rapid growth of emerging market economies seems likely to continue, should we t\n",
      "herefore expect continued rapid increases in the prices of globally-traded commodities? While it is certainly possible that we will see further increa\n",
      "ses, there are good reasons to believe that commodity prices will not continue to rise at the rapid rates we have seen recently. In the short run, une\n",
      "xpected shortfalls in the supplies of key commodities result in sharp price increases, as usage patterns and available supplies are difficult to chang\n",
      "e quickly. Over longer periods, however, high levels of commodity prices curtail demand as households and firms adjust their spending and production p\n",
      "atterns. Indeed, as I noted earlier, we have already seen significant reductions in commodity use in the advanced economies. Likewise, over time, high\n",
      " prices should elicit meaningful increases in supply, both as temporary factors, such as adverse weather, abate and as investments in productive capac\n",
      "ity come to fruition. Finally, because expectations of higher prices lead financial market participants to bid up the spot prices of commodities, pred\n",
      "ictable future developments bearing on the demands for and supplies of commodities tend already to be reflected in current prices. For these reasons, \n",
      "although unexpected developments could certainly lead to continued volatility in global commodity prices, it is reasonable to expect the effects of co\n",
      "mmodity prices on overall inflation to be relatively moderate in the medium term.              While supply and demand fundamentals surely account for\n",
      " most of the recent movements in commodity prices, some observers have attributed a significant portion of the run-up in prices to Federal Reserve pol\n",
      "icies, over and above the effects of those policies on U.S. economic growth. For example, some have argued that accommodative U.S. monetary policy has\n",
      " driven down the foreign exchange value of the dollar, thereby boosting the dollar price of commodities. Indeed, since February 2009, the trade-weight\n",
      "ed dollar has fallen by about 15 percent. However, since February 2009, oil prices have risen 160 percent and nonfuel commodity prices are up by about\n",
      " 80 percent, implying that the dollar's decline can explain, at most, only a small part of the rise in oil and other commodity prices; indeed, commodi\n",
      "ty prices have risen dramatically when measured in terms of any of the world's major currencies, not just the dollar. But even this calculation overst\n",
      "ates the role of monetary policy, as many factors other than monetary policy affect the value of the dollar. For example, the decline in the dollar si\n",
      "nce February 2009 that I just noted followed a comparable increase in the dollar, which largely reflected flight-to-safety flows triggered by the fina\n",
      "ncial crisis in the latter half of 2008; the dollar's decline since then in substantial part reflects the reversal of those flows as the crisis eased.\n",
      " Slow growth in the United States and a persistent trade deficit are additional, more fundamental sources of recent declines in the dollar's value; in\n",
      " particular, as the United States is a major oil importer, any geopolitical or other shock that increases the global price of oil will worsen our trad\n",
      "e balance and economic outlook, which tends to depress the dollar. In this case, the direction of causality runs from commodity prices to the dollar r\n",
      "ather than the other way around. The best way for the Federal Reserve to support the fundamental value of the dollar in the medium term is to pursue o\n",
      "ur dual mandate of maximum employment and price stability, and we will certainly do that.              Another argument that has been made is that low\n",
      " interest rates have pushed up commodity prices by reducing the cost of holding inventories, thus boosting commodity demand, or by encouraging specula\n",
      "tors to push commodity futures prices above their fundamental levels. In either case, if such forces were driving commodity prices materially and pers\n",
      "istently higher, we should see corresponding increases in commodity inventories, as higher prices curtailed consumption and boosted production relativ\n",
      "e to their fundamental levels. In fact, inventories of most commodities have not shown sizable increases over the past year as prices rose; indeed, in\n",
      "creases in prices have often been associated with lower rather than higher levels of inventories, likely reflecting strong demand or weak supply that \n",
      "tends to put pressure on available stocks.              Finally, some have suggested that very low interest rates in the United States and other advan\n",
      "ced economies have created risks of economic overheating in emerging market economies and have thus indirectly put upward pressures on commodity price\n",
      "s. In fact, most of the recent rapid economic growth in emerging market economies appears to reflect a bounceback from the previous recession and cont\n",
      "inuing increases in productive capacity, as their technologies and capital stocks catch up with those in advanced economies, rather than being primari\n",
      "ly the result of monetary conditions in those countries. More fundamentally, however, whatever the source of the recent growth in the emerging markets\n",
      ", the authorities in those economies clearly have a range of fiscal, monetary, exchange rate, and other tools that can be used to address any overheat\n",
      "ing that may occur. As in all countries, the primary objective of monetary policy in the United States should be to promote economic growth and price \n",
      "stability at home, which in turn supports a stable global economic and financial environment.       Monetary Policy        Let me conclude with a few \n",
      "words about the current stance of monetary policy. As I have discussed today, the economic recovery in the United States appears to be proceeding at a\n",
      " moderate pace and--notwithstanding unevenness in the rate of progress and some recent signs of reduced momentum--the labor market has been gradually \n",
      "improving. At the same time, the jobs situation remains far from normal, with unemployment remaining elevated. Inflation has risen lately but should m\n",
      "oderate, assuming that commodity prices stabilize and that, as I expect, longer-term inflation expectations remain stable.              Against this b\n",
      "ackdrop, the Federal Open Market Committee (FOMC) has maintained a highly accommodative monetary policy, keeping its target for the federal funds rate\n",
      " close to zero and further easing monetary conditions through large-scale asset purchases. The FOMC has indicated that it will complete its purchases \n",
      "of $600 billion of Treasury securities by the end of this month while maintaining its existing policy of reinvesting principal payments from its secur\n",
      "ities holdings. The Committee also continues to anticipate that economic conditions are likely to warrant exceptionally low levels for the federal fun\n",
      "ds rate for an extended period.              The U.S. economy is recovering from both the worst financial crisis and the most severe housing bust sinc\n",
      "e the Great Depression, and it faces additional headwinds ranging from the effects of the Japanese disaster to global pressures in commodity markets. \n",
      "In this context, monetary policy cannot be a panacea. Still, the Federal Reserve's actions in recent years have doubtless helped stabilize the financi\n",
      "al system, ease credit and financial conditions, guard against deflation, and promote economic recovery. All of this has been accomplished, I should n\n",
      "ote, at no net cost to the federal budget or to the U.S. taxpayer.              Although it is moving in the right direction, the economy is still pro\n",
      "ducing at levels well below its potential; consequently, accommodative monetary policies are still needed. Until we see a sustained period of stronger\n",
      " job creation, we cannot consider the recovery to be truly established. At the same time, the longer-run health of the economy requires that the Feder\n",
      "al Reserve be vigilant in preserving its hard-won credibility for maintaining price stability. As I have explained, most FOMC participants currently s\n",
      "ee the recent increase in inflation as transitory and expect inflation to remain subdued in the medium term. Should that forecast prove wrong, however\n",
      ", and particularly if signs were to emerge that inflation was becoming more broadly based or that longer-term inflation expectations were becoming les\n",
      "s well anchored, the Committee would respond as necessary. Under all circumstances, our policy actions will be guided by the objectives of supporting \n",
      "the recovery in output and employment while helping ensure that inflation, over time, is at levels consistent with the Federal Reserve's mandate.     \n",
      "                  1. Through April, personal consumption expenditures (PCE) inflation over the previous six months was 3.6 percent at an annual rate; \n",
      "excluding gasoline, inflation over that period was 2 percent. Over a 12-month span, inflation through April was 2.2 percent; excluding gasoline, it wa\n",
      "s 1.2 percent. Return to text   2. In the Thomson Reuters/University of Michigan Surveys of Consumers, the median reading on expected inflation over t\n",
      "he next 5 to 10 years was 2.9 percent in May after having averaged 2.8 percent in 2010. In the Survey of Professional Forecasters (SPF) compiled by th\n",
      "e Federal Reserve Bank of Philadelphia, the median projection for PCE inflation over the next 10 years was 2.3 percent in May, up from the 2.1 percent\n",
      " average reading last year. The equivalent SPF projection for CPI inflation was 2.4 percent, versus 2.3 percent in 2010. The 5-year forward measure of\n",
      " inflation compensation derived from TIPS stood at about 2-3/4 percent in May, down noticeably from the levels observed toward the end of 2010. Return\n",
      " to text   3. The GDP data cited here are from the International Monetary Fund's World Economic Outlook database. The difference between the advanced \n",
      "and emerging market economies is also evident in the statistics on industrial production, which is perhaps more directly relevant to the demand for co\n",
      "mmodities. According to the CPB Netherlands Bureau for Economic Policy Analysis, from March 2009 to March 2010, industrial production rose 26 percent \n",
      "in the emerging market economies and 11 percent in the advanced economies. Return to text   4. A portion of commodity use in the emerging market econo\n",
      "mies serves as inputs to the production of exports, some of which are ultimately consumed in advanced economies. Return to text   5. As natural gas is\n",
      " difficult to transport overseas, the increased supplies of natural gas in North America have not translated into significantly lower prices abroad. I\n",
      "n the first quarter of 2011, natural gas prices in the United States were less than half of those in Germany. Return to text                 \n",
      "\n",
      "\n"
     ]
    }
   ],
   "source": [
    "text_print(fed[\"text\"].iloc[279])"
   ]
  },
  {
   "cell_type": "code",
   "execution_count": 26,
   "metadata": {},
   "outputs": [
    {
     "data": {
      "text/plain": [
       "Series([], dtype: object)"
      ]
     },
     "execution_count": 26,
     "metadata": {},
     "output_type": "execute_result"
    }
   ],
   "source": [
    "weird_entries = fed_[fed_.str.contains(\"Ladies and gentlemen\")]\n",
    "weird_entries"
   ]
  },
  {
   "cell_type": "code",
   "execution_count": 373,
   "metadata": {},
   "outputs": [
    {
     "data": {
      "text/plain": [
       "'The Federal Reserve is best known for its role in the national economy and monetary policy. But through the 12 Federal Reserve Banks across the country, it also gets involved in efforts to support local communities and their economies. This work helps to enhance our understanding of the pace of economic recovery and further creates a backdrop for a national dialogue about common problems and their potential solutions.              Over the last several years, every community across the country has felt the effects of the financial crisis. Foreclosed, vacant, and abandoned properties threaten neighborhoods nationwide, and community leaders are working to stabilize those neighborhoods. While the problem touches every community, it doesn\\'t look the same in each because it\\'s shaped by the circumstances that prevailed in those neighborhoods before the crisis hit.              Neighborhood stabilization efforts are critical, now more than ever, as not all communities will be stabilized without intervention. This is because the market will not correct equally in all places. Through the 12 Reserve Banks and the Board, the Federal Reserve System facilitates community development activities as communities strive to repair the damage wrought by the financial crisis. We participate in local collaboration efforts, help evaluate what\\'s working and what\\'s not, and highlight promising practices. We do this by combining research and local outreach, and also by bringing together financial institutions, policymakers, and community leaders.       Introduction of Three Federal Reserve Community Development Videos        While the Fed conducts all kinds of research analyzing economic trends, we\\'re also looking for new ways to identify and showcase replicable models. To that end, I\\'d like to share with you a series of stories we\\'ve produced that highlight various challenges faced by communities and targeted strategies to deal with them. Everyone has heard about the foreclosure crisis, but it helps to see what it really looks like. So, we\\'re featuring three very different cities in a series of video reports that will be accessible on the Federal Reserve\\'s website. These \"Reports from the Field\" showcase three promising stabilization efforts that highlight grassroots innovation and collaboration.       Cleveland        Cleveland neighborhoods face five decades of population loss, outmigration of jobs, and urban sprawl, in addition to the more recent wave of foreclosures. Despite these persistent challenges, city leaders have responded with dynamic leadership. In Cleveland, public and private partners have created an innovative stabilization strategy that uses targeted data to help community leaders focus scarce resources on the neighborhoods that have the best chance for success. This is a model that has great potential to be replicated in other cities. Let\\'s watch Cleveland\\'s story.              As the video highlights, Cleveland\\'s success is built around both on-the-ground community outreach and intensive data collection that helps to identify block-level and community-level trends. It showcases strong collaboration among city and county officials; nonprofits like Neighborhood Progress, Inc.; local foundations; and universities. The Northeast Ohio Community and Neighborhood Data for Organizing (NEO CANDO) provides cutting-edge analytical mapping tools, and these data help steer resources into neighborhoods where the money will have the greatest impact. This \"tipping point\" strategy relies on the comprehensive investment of public and private resources for sustained stabilization.       Phoenix        The crisis looks different in western states. Phoenix reminds us that the foreclosure problem has hit suburban as well as urban areas. The vacant homes here tend to be newer than in many parts of the country, but overbuilding has left a high proportion of foreclosed homes in a community that has never dealt with these issues at scale before. Here, public-private partnerships have reached out to real estate professionals to help connect eligible families with affordable homes. Let\\'s take a look at Phoenix.              Given that the problem in Phoenix has largely been shaped by overbuilding and falling home prices, Phoenix faces a much different set of post-foreclosure crisis issues than older industrial cities such as Cleveland or Detroit. In Phoenix, houses and sometimes entire subdivisions are often purchased by investors armed with cash and able to move faster than individual homebuyers. The challenge for those trying to revitalize neighborhoods is to ensure that qualified homeowners and non-profits are in a position to compete with investors for these now affordable homes, and the city and private sector have come together to achieve this goal.       Detroit        While population growth may eventually aid the recovery in places like Phoenix, communities like Detroit are faced with the opposite problem. In Detroit, the nexus between decades of population loss and the foreclosure crisis has created a pivotal moment in which the city must reinvent itself. With extensive economic challenges and an infrastructure designed for a much larger population, few easy solutions exist. The city is partnering with community leaders to bring together thousands of residents to help make the tough choices that will shape Detroit\\'s future. Let\\'s turn to Detroit.              As the video illustrates, Detroit is finding new solutions to the decades-long problem of stabilizing its neighborhoods and attracting new residents. The Detroit Works Project aims to reimagine the city\\'s geographic footprint and service range, based on the current smaller population. Detroit\\'s story reminds us that when ideas are controversial and hard choices must be made, community input and buy-in is critical for success. To this end, the project has hosted extensive community meetings and created a leadership taskforce to map out future growth and investment areas.       Conclusion        At the Federal Reserve, we have been working to understand the issues, help craft national policies, and collect data that can be used by government agencies and nonprofits. But sometimes a research paper or a speech doesn\\'t give you a true picture of what the foreclosure crisis really looks like. When I began my role as a Governor, I travelled to the 12 Reserve Bank Districts to see firsthand what was happening across the country. It was an eye-opening experience--one that has informed my perspective as a Governor. And these stories from around the country can help provide the same type of context for researchers and policymakers.              Here at the Federal Reserve we are learning more each day about the complex task of stabilizing communities in the wake of the crisis, and research and analysis of what is working is critical. From these video \"Reports from the Field,\" we\\'ve learned that collaborations and partnerships help achieve success; strategic targeting of limited resources may be necessary; data can help focus a strategy; community input and buy-in are critical for long-term planning; and different approaches will work for diverse challenges and places.              The Fed will continue to identify the needs and challenges facing communities by fostering a dialogue for a better understanding of community development practices. As the research conference unfolds over the next two days, we\\'ll learn more about what community development may look like going forward. While research and evaluation remain central to the Fed\\'s contribution, the System is equally well positioned to share best practices and foster partnerships: connecting at the local level, building networks, raising awareness of successes, and using data and research to evaluate what\\'s working and to suggest improvements.'"
      ]
     },
     "execution_count": 373,
     "metadata": {},
     "output_type": "execute_result"
    }
   ],
   "source": [
    "weird_text = weird_entries.iloc[0]\n",
    "weird_text"
   ]
  },
  {
   "cell_type": "code",
   "execution_count": 331,
   "metadata": {},
   "outputs": [
    {
     "data": {
      "text/plain": [
       "'           Accessible Keys for Video [Space Bar] toggles play/pause; [Right/Left Arrows] seeks the video forwards and back (5 sec ); [Up/Down Arrows] increase/decrease volume; [M] toggles mute on/off; [F] toggles fullscreen on/off (Except IE 11); The [Tab] key may be used in combination with the [Enter/Return] key to navigate and activate control buttons, such as caption on/off.                  videojs(\\'frb-video6917\\').ready(function() {                 var myPlayer;                 myPlayer = this;                 myPlayer.on(\\'loadstart\\',function(){                   var videoInfo = \"\";                   var transcriptLinkLabel;                   if (myPlayer.mediainfo.custom_fields[\"actualdatetext\"]) {                     videoInfo += \"<span class=\\'col-xs-6\\'>\" + myPlayer.mediainfo.custom_fields[\"actualdatetext\"] + \"</span>\";                   }                                if (myPlayer.mediainfo.custom_fields[\"transcriptlinkurl\"]) {                     if (myPlayer.mediainfo.custom_fields[\"transcripttext\"]) {                       transcriptLinkLabel = myPlayer.mediainfo.custom_fields[\"transcripttext\"];                     } else {                       transcriptLinkLabel = \"Transcript (PDF)\";                     }                     videoInfo += \"<span class=\\'col-xs-6 text-right\\'><a href=\\'\" + myPlayer.mediainfo.custom_fields[\"transcriptlinkurl\"] + \"\\'>\" + transcriptLinkLabel + \"</a></span>\";                   }                   $(\"#videoDetails6917\").html(videoInfo);                 })                 });                    function seek(time) {                     // Advance to cue point, start playing if not playing.                     myPlayer.currentTime(time);                     if (myPlayer.paused()) {                         myPlayer.play();                     }                 }                   Thank you very much for the opportunity to address you today. I\\'m especially pleased as an economist and policymaker to discuss the importance of education to the success of our economy. At the Federal Reserve we spend a lot of time looking at economic data, such as production and employment. In doing so, we try never to forget that these seemingly sterile numbers are, in fact, reflections of the economic aspirations, opportunities, and well-being of millions of Americans. When individuals are denied opportunities to reach their maximum potential, it harms not only those individuals, of course, but also the larger economy, which depends vitally on having a skilled, productive workforce. As a result, we all have a stake in the essential work that you are doing for our children.              So how can we improve the opportunities for all children and give them a chance to succeed in our ever-changing, globalized economy? As the husband of a teacher and an educator myself, as well as a parent and former school board member, I know from personal experience that, for creating opportunity and changing lives, there is no substitute for a quality education. The research shows that effective educations lead to lower rates of poverty, higher lifetime earnings, and greater satisfaction on the job and at home. And specialists in economic development have identified educational attainment as a key source of economic growth and rising incomes in many countries around the world.              Although education and the acquisition of skills is a lifelong process, starting early in life is crucial. Neuroscientists observe that if the first few years of a child\\'s life include support for healthy development in families and communities, the child is more likely to succeed in school and to contribute to society as an adult. Conversely, without support during these early years, a child is ultimately more likely to drop out of school, earn lower wages, depend on government programs, or be incarcerated.1           Consistent with this research, early childhood education programs aim to nurture healthy development from the earliest years. Programs that provide enriched experiences for children and that also involve parents have shown to benefit children from all backgrounds, but they have the strongest influence on children from disadvantaged environments.2 Importantly, state preschool assessments have shown that early childhood education programs make children better prepared for school, a precursor of future success.3           The benefits of early childhood programs are not just short-term in nature. Careful studies demonstrate that early interventions can have a positive effect on young children from low-income families that lasts well into adulthood. For example, analysis of one program showed that children who attended a high-quality half-day preschool program at ages 3 and 4 were, at age 40, more economically successful--for example, more likely to own their own homes--than nonparticipants in a control group.4 In other evaluations, long-term benefits were demonstrated for a full-day early childhood education program starting before age 1 and for a nurse-based home visiting program.5           Economically speaking, early childhood programs are a good investment, with inflation-adjusted annual rates of return on the funds dedicated to these programs estimated to reach 10 percent or higher.6 Very few alternative investments can promise that kind of return. Notably, a portion of these economic returns accrues to the children themselves and their families, but studies show that the rest of society enjoys the majority of the benefits, reflecting the many contributions that skilled and productive workers make to the economy.7           The Federal Reserve has long supported increasing educational opportunity for children, including the youngest. Federal Reserve Banks have published articles and convened community forums on early childhood issues. For school-age children, we sponsor financial literacy and economic education programs. For these programs, we make a special effort to reach schools with high proportions of minorities and lower-income children.              Many of you in the audience today are still in school or have recently graduated. Your hard work demonstrates that you understand the value of a good education for yourself. With your efforts and the efforts of others, I hope we will one day achieve the Children\\'s Defense Fund\\'s goal of a level educational playing field for all children.              I wish you all the best in your conference and in your work. Thank you.        1. See National Scientific Council on the Developing Child (2005), \"Excessive Stress Disrupts the Architecture of the Developing Brain,\"  Working Paper No. 3 (Cambridge, Mass.: Center on the Developing Child at Harvard University, Summer). Return to text   2. See Arthur Rolnick and Rob Grunewald (2011), \"The Economic Case for Targeted Preschool Programs,\" in Edward Zigler, Walter S. Gilliam, and W. Steven Barnett, eds., The Pre-K Debates: Current Controversies and Issues (Baltimore: Brookes Publishing), pp. 22-26. Return to text   3. See Vivian C. Wong, Thomas D. Cook, W. Steven Barnett, and Kwanghee Jung (2008), \"An Effectiveness-Based Evaluation of Five State Pre-kindergarten Programs,\" Journal of Policy Analysis and Management, vol. 27 (Winter), pp. 122-54. Return to text   4. See Lawrence J. Schweinhart, Jeanne Montie, Zongping Xiang, W. Steven Barnett, Clive R. Belfield, and Milagros Nores (2005), Lifetime Effects: The High/Scope Perry Preschool Study through Age 40 (Ypsilanti, Mich.: HighScope Press). Return to text   5. See, respectively, Leonard N. Masse and W. Steven Barnett (2002), A Benefit-Cost Analysis of the Abecedarian Early Childhood Intervention, report (New Brunswick, N.J.: National Institute for Early Education Research, September); and Lynn A. Karoly, Peter W. Greenwood, Susan S. Everingham, Jill Houbé, M. Rebecca Kilburn, C. Peter Rydell, Matthew Sanders, and James Chiesa (1998), Investing in Our Children: What We Know and Don\\'t Know about the Costs and Benefits of Early Childhood Interventions, report (Santa Monica, Calif.: RAND Corporation). Return to text   6. See James J. Heckman, Seong Hyeok Moon, Rodrigo Pinto, Peter A. Savelyev, and Adam Yavitz (2010), \"The Rate of Return to the High/Scope Perry Preschool Program,\" Journal of Public Economics, vol. 94 (February), pp. 114-28; and James J. Heckman, Rob Grunewald, and Arthur J. Reynolds (2006), \"The Dollars and Cents of Investing Early: Cost-Benefit Analysis in Early Care and Education,\" Zero to Three, vol. 26 (July), pp. 10-17. Return to text   7. See Heckman and others, \"Rate of Return\"; and Heckman and others, \"Dollars and Cents,\" in note 6. Return to text  '"
      ]
     },
     "execution_count": 331,
     "metadata": {},
     "output_type": "execute_result"
    }
   ],
   "source": [
    "weird_entries.iloc[0]"
   ]
  },
  {
   "cell_type": "code",
   "execution_count": 332,
   "metadata": {},
   "outputs": [
    {
     "data": {
      "text/plain": [
       "'           Accessible Keys for Video [Space Bar] toggles play/pause; [Right/Left Arrows] seeks the video forwards and back (5 sec ); [Up/Down Arrows] increase/decrease volume; [M] toggles mute on/off; [F] toggles fullscreen on/off (Except IE 11); The [Tab] key may be used in combination with the [Enter/Return] key to navigate and activate control buttons, such as caption on/off.                  videojs(\\'frb-video6899\\').ready(function() {                 var myPlayer;                 myPlayer = this;                 myPlayer.on(\\'loadstart\\',function(){                   var videoInfo = \"\";                   var transcriptLinkLabel;                   if (myPlayer.mediainfo.custom_fields[\"actualdatetext\"]) {                     videoInfo += \"<span class=\\'col-xs-6\\'>\" + myPlayer.mediainfo.custom_fields[\"actualdatetext\"] + \"</span>\";                   }                                if (myPlayer.mediainfo.custom_fields[\"transcriptlinkurl\"]) {                     if (myPlayer.mediainfo.custom_fields[\"transcripttext\"]) {                       transcriptLinkLabel = myPlayer.mediainfo.custom_fields[\"transcripttext\"];                     } else {                       transcriptLinkLabel = \"Transcript (PDF)\";                     }                     videoInfo += \"<span class=\\'col-xs-6 text-right\\'><a href=\\'\" + myPlayer.mediainfo.custom_fields[\"transcriptlinkurl\"] + \"\\'>\" + transcriptLinkLabel + \"</a></span>\";                   }                   $(\"#videoDetails6899\").html(videoInfo);                 })                 });                    function seek(time) {                     // Advance to cue point, start playing if not playing.                     myPlayer.currentTime(time);                     if (myPlayer.paused()) {                         myPlayer.play();                     }                 }                   I appreciate the opportunity to speak at a conference with the important theme of economic measurement.  In many spheres of human endeavor, from science to business to education to economic policy, good decisions depend on good measurement.  More subtly, what we decide to measure, or are able to measure, has important effects on the choices we make, since it is natural to focus on those objectives for which we can best estimate and document the effects of our decisions.  One great pioneer in this subject area, of course, is Simon Kuznets, who was awarded the Nobel Prize in 1971 for his work on economic measurement, including the national income accounts.  Over the years many economists have built on his work to further improve our ability to quantify aspects of economic activity and thus to improve economic policymaking and our understanding of how the economy works.  The remarkably broad and ambitious research program of this conference and the impressive expertise that has been assembled illustrate the continued vitality of this field.  Evolving technologies that allow economists to gather new types of data and to manipulate millions of data points are just one factor among several that are likely to transform the field in coming years.              As we think about new directions for economic measurement, we might start by reminding ourselves of the purpose of economics.  Textbooks describe economics as the study of the allocation of scarce resources.  That definition may indeed be the \"what,\" but it certainly is not the \"why.\"  The ultimate purpose of economics, of course, is to understand and promote the enhancement of well-being.  Economic measurement accordingly must encompass measures of well-being and its determinants.              In the tradition of national income accounting, economic policymakers have typically focused on variables such as income, wealth, and consumption.  The Federal Reserve has a statutory mandate to foster maximum employment and price stability, which motivates our extensive efforts to monitor and forecast measures of employment and inflation.  Substantial research and the development of data collection infrastructures have, over the years, greatly enhanced our ability to receive timely and accurate measures of those variables.  Aggregate measures, such as gross domestic product and personal consumption expenditures, are useful for monitoring people\\'s ability to meet basic material needs and for tracking cyclical and secular changes in the economy as a whole.  Indeed, the experience of the recent financial crisis and the ensuing recession was strongly reflected in nearly all of these aggregate measures, indicating the severe economic stress felt by millions of people and hundreds of communities across the country.              But, as many of you will discuss this week, aggregate statistics can sometimes mask important information.  For example, even though some key aggregate metricsâ\\x80\\x91â\\x80\\x91including consumer spending, disposable income, household net worth, and debt service paymentsâ\\x80\\x91â\\x80\\x91have moved in the direction of recovery, it is clear that many individuals and households continue to struggle with difficult economic and financial conditions.  Exclusive attention to aggregate numbers is likely to paint an incomplete picture of what many individuals are experiencing.  One implication is that we should increase the attention paid to microeconomic data, which better capture the diversity of experience across households and firms.  Another implication, however, is that we should seek better and more-direct measurements of economic well-being, the ultimate objective of our policy decisions.               Although the field is still young, there have been interesting developments in the measurement of economic well-being.  In a commencement address two years ago titled \"The Economics of Happiness,\" I spoke about the concepts of happiness and life satisfaction from the perspective of economics and other social science research.1   Following the growing literature, I define \"happiness\" as a short-term state of awareness that depends on a person\\'s perceptions of one\\'s immediate reality, as well as on immediate external circumstances and outcomes.  By \"life satisfaction\" I mean a longer-term state of contentment and well-being that results from a person\\'s experiences over time.  Surveys and experimental studies have made progress in identifying the determinants of happiness and life satisfaction.  Interestingly, income and wealth do contribute to self-reported happiness, but the relationship is more complex and context-dependent than standard utility theory would suggest.2   Other important contributors to individuals\\' life satisfaction are a strong sense of support from belonging to a family or core group and a broader community, a sense of control over one\\'s life, a feeling of confidence or optimism about the future, and an ability to adapt to changing circumstances.  Indeed, an interesting finding in the literature is that the overwhelming majority of people in the United States and in many other countries report being very happy or pretty happy on a daily basisâ\\x80\\x91â\\x80\\x91a finding that researchers link to people\\'s intrinsic abilities to adapt and find satisfaction in their lives even in very difficult circumstances.3           This line of research has generated alternative measures of well-being that are frequently survey-based and incorporate elements such as psychological wellness, the level of education, physical health and safety, community vitality and the strength of family and social ties, and time spent in leisure activities.  These measures have begun to inform official statistics and have started to be discussed in policy debates.  An interesting and unique case is the Kingdom of Bhutan, which abandoned tracking gross national product in 1972 in favor of its Gross National Happiness index based on a survey that incorporates these types of indicators.  Taking the measurement of well-being in a cross-country framework, the Organisation for Economic Co-operation and Development (OECD), as part of its OECD Better Life Initiative, has created a \"better life index\" that allows a side-by-side comparison of countries according to various quality-of-life indicators that could, at least in principle, be followed over time.4   Other somewhat-more-conventional economic indicators that bear on quality of life, and that accordingly might be developed and followed in more detail, include changes in the distribution of income, wealth, or consumption; the degree of upward mobility in material measures of well-being; indications of job security and confidence about future employment prospects; and households\\' liquidity buffers or other measures of their ability to absorb financial shocks.  All of these indicators could be useful in measuring economic progress or setbacks as well as in explaining economic decisionmaking or projecting future economic outcomes.              Continued work on the measurement of economic well-being will likely lead to greater recognition by economists of the contributions of psychology--an area that has been explored by pioneers like 2002 Nobel laureate Daniel Kahneman.  One topic on the frontier of economics and psychology is the neurological basis of human decisions, including decisionmaking under risk and uncertainty, intertemporal choice, and social decisionmaking.5   Researchers are investigating behavioral tendencies in a variety of circumstances--for instance, by examining human responses to perceived inequality, losses, risk, and uncertainty; the need for autonomy; and the importance for well-being of social ties and community.  For example, brain imaging research has documented differences in the brain regions that light up in response to losses and gainsâ\\x80\\x91â\\x80\\x91a clear physical manifestation of the \"loss aversion\" documented in the earlier behavioral studies in economics and psychology.6   Evolutionary psychologists suggest that humans experienced evolutionary benefits from brain developments that included aversion to loss and risk, and from instincts for cooperation that helped strengthen communities.               Measurement of well-being is an important direction, but just one of many new directions for economic measurement being explored in the field generally and at this conference in particular.  I am glad to see scholars and practitioners continuing to push the frontiers of economic measurement with a broad perspective and with open minds.  As Arthur Conan Doyle\\'s immortal character Sherlock Holmes aptly put it, \"It is a capital mistake to theorize before one has data.\"7   As I said at the beginning, good economic analysis and policymaking depend on good measurement, and the work you are doing will accordingly yield significant benefits.  I thank you for the opportunity to give these short remarks, and I wish you the best for a productive and stimulating conference.                        1.  See Ben S. Bernanke (2010), \"The Economics of Happiness,\" speech delivered at the University of South Carolina commencement ceremony, Columbia, S.C., May 8. Return to text   2.  Canonical models of economic decisionmaking presume individual maximization of \"utility,\" or well-being.  They tend to focus on the consumption of goods or services and assume that more consumption is preferred to less.  For example, see Andrew Mas-Colell, Michael D. Whinston, and Jerry R Green (1995), Microeconomic Theory (New York: Oxford University Press). Return to text   3.  For examples drawn from Organisation for Economic Co-operation and Development countries from the mid-1970s to the mid-1990s, see Rafael Di Tella and Robert MacCulloch (2008), \"Gross National Happiness as an Answer to the Easterlin Paradox?\" Journal of Development Economics, vol. 86 (April), pp. 22-42.  For a survey of evidence on adaptability, see Shane Frederick and George Loewenstein (1999), \"Hedonic Adaptation,\" in Daniel Kahneman, Ed Diener, and Norbert Schwarz, eds., Well-Being: The Foundations of Hedonic Psychology (New York:  Russell Sage Foundation), pp. 302-29. Return to text   4.  See Organisation for Economic Co-operation and Development (2011), How\\'s Life? Measuring Well-Being (Washington:  OECD Publishing). Return to text   5.  For example, see George Loewenstein, Scott Rick, and Jonathan D. Cohen (2008), \"Neuroeconomics,\" Annual Review of Psychology, vol. 59 (January), pp. 647-72. Return to text   6.  See Sabrina M. Tom, Craig R. Fox, Christopher Trepel, and Russell A. Poldrack (2007), \"The Neural Basis of Loss Aversion in Decision-Making under Risk,\" Science, vol. 315 (January), pp. 515-18. Return to text   7.  See Arthur Conan Doyle ([1892] 1900), \"A Scandal in Bohemia,\" in The Adventures of Sherlock Holmes (New York:  Harper & Brothers), p. 7, available at http://books.google.com/books?id=RxAJAAAAIAAJ&printsec=frontcover&dq=adventures of sherlock holmes&source=bl&ots=tr8SxsUQhJ&sig=8d1uYsv-D13W5iU5T66tnzUFbOc&hl=en#v=onepage&q=It%20is%20a%20capital%20mistake%20to%20theorize%20before%20one%20has%20data&f=false. Return to text                                '"
      ]
     },
     "execution_count": 332,
     "metadata": {},
     "output_type": "execute_result"
    }
   ],
   "source": [
    "weird_entries.iloc[2]"
   ]
  },
  {
   "cell_type": "code",
   "execution_count": null,
   "metadata": {},
   "outputs": [],
   "source": []
  }
 ],
 "metadata": {
  "kernelspec": {
   "display_name": "nlp-env",
   "language": "python",
   "name": "python3"
  },
  "language_info": {
   "codemirror_mode": {
    "name": "ipython",
    "version": 3
   },
   "file_extension": ".py",
   "mimetype": "text/x-python",
   "name": "python",
   "nbconvert_exporter": "python",
   "pygments_lexer": "ipython3",
   "version": "3.9.13"
  },
  "orig_nbformat": 4
 },
 "nbformat": 4,
 "nbformat_minor": 2
}
