{
 "cells": [
  {
   "cell_type": "markdown",
   "metadata": {},
   "source": [
    "## Outliers detection"
   ]
  },
  {
   "cell_type": "code",
   "execution_count": 23,
   "metadata": {},
   "outputs": [],
   "source": [
    "import pandas as pd\n",
    "import numpy as np\n",
    "\n",
    "import matplotlib.pyplot as plt\n",
    "import seaborn as sns\n",
    "\n",
    "import torch\n",
    "import torch.nn as nn\n",
    "from torch.utils.data import DataLoader\n",
    "\n",
    "from sklearn.model_selection import train_test_split\n",
    "\n",
    "import time\n",
    "import re\n",
    "from langdetect import detect\n",
    "\n",
    "from collections import Counter\n",
    "\n",
    "import gc"
   ]
  },
  {
   "cell_type": "code",
   "execution_count": 2,
   "metadata": {},
   "outputs": [],
   "source": [
    "FILENAME = \"../data/train_series.csv\"\n",
    "FILENAME_ECB = \"../data/ecb_data.csv\"\n",
    "FILENAME_FED = \"../data/fed_data.csv\""
   ]
  },
  {
   "cell_type": "code",
   "execution_count": 3,
   "metadata": {},
   "outputs": [],
   "source": [
    "ecb = pd.read_csv(FILENAME_ECB, index_col=0)\n",
    "fed = pd.read_csv(FILENAME_FED, index_col=0)\n",
    "train_data = pd.read_csv(FILENAME, index_col=0)"
   ]
  },
  {
   "cell_type": "code",
   "execution_count": 5,
   "metadata": {},
   "outputs": [
    {
     "data": {
      "text/html": [
       "<div>\n",
       "<style scoped>\n",
       "    .dataframe tbody tr th:only-of-type {\n",
       "        vertical-align: middle;\n",
       "    }\n",
       "\n",
       "    .dataframe tbody tr th {\n",
       "        vertical-align: top;\n",
       "    }\n",
       "\n",
       "    .dataframe thead th {\n",
       "        text-align: right;\n",
       "    }\n",
       "</style>\n",
       "<table border=\"1\" class=\"dataframe\">\n",
       "  <thead>\n",
       "    <tr style=\"text-align: right;\">\n",
       "      <th></th>\n",
       "      <th>Index Name</th>\n",
       "      <th>Index - 9</th>\n",
       "      <th>Index - 8</th>\n",
       "      <th>Index - 7</th>\n",
       "      <th>Index - 6</th>\n",
       "      <th>Index - 5</th>\n",
       "      <th>Index - 4</th>\n",
       "      <th>Index - 3</th>\n",
       "      <th>Index - 2</th>\n",
       "      <th>Index - 1</th>\n",
       "      <th>Index - 0</th>\n",
       "      <th>index ecb</th>\n",
       "      <th>index fed</th>\n",
       "      <th>Index + 1</th>\n",
       "    </tr>\n",
       "  </thead>\n",
       "  <tbody>\n",
       "    <tr>\n",
       "      <th>0</th>\n",
       "      <td>V2X Index</td>\n",
       "      <td>0.001045</td>\n",
       "      <td>0.005841</td>\n",
       "      <td>0.003832</td>\n",
       "      <td>-0.027519</td>\n",
       "      <td>-0.103565</td>\n",
       "      <td>-0.045086</td>\n",
       "      <td>-0.011265</td>\n",
       "      <td>0.005164</td>\n",
       "      <td>0.054050</td>\n",
       "      <td>0.015779</td>\n",
       "      <td>1126,1471</td>\n",
       "      <td>96</td>\n",
       "      <td>0.010597</td>\n",
       "    </tr>\n",
       "    <tr>\n",
       "      <th>1</th>\n",
       "      <td>MOVE Index</td>\n",
       "      <td>-0.021497</td>\n",
       "      <td>0.007891</td>\n",
       "      <td>-0.013175</td>\n",
       "      <td>-0.008436</td>\n",
       "      <td>0.000000</td>\n",
       "      <td>0.026303</td>\n",
       "      <td>0.000556</td>\n",
       "      <td>0.001455</td>\n",
       "      <td>0.007422</td>\n",
       "      <td>0.000000</td>\n",
       "      <td>975</td>\n",
       "      <td>568</td>\n",
       "      <td>0.014492</td>\n",
       "    </tr>\n",
       "    <tr>\n",
       "      <th>2</th>\n",
       "      <td>SPX Index</td>\n",
       "      <td>-0.001872</td>\n",
       "      <td>-0.008154</td>\n",
       "      <td>0.023588</td>\n",
       "      <td>0.004086</td>\n",
       "      <td>0.003493</td>\n",
       "      <td>0.003300</td>\n",
       "      <td>0.000885</td>\n",
       "      <td>-0.011304</td>\n",
       "      <td>0.005040</td>\n",
       "      <td>0.000156</td>\n",
       "      <td>78,806</td>\n",
       "      <td>328,695</td>\n",
       "      <td>0.016263</td>\n",
       "    </tr>\n",
       "    <tr>\n",
       "      <th>3</th>\n",
       "      <td>SPX Index</td>\n",
       "      <td>0.004980</td>\n",
       "      <td>-0.000864</td>\n",
       "      <td>0.001677</td>\n",
       "      <td>0.000000</td>\n",
       "      <td>0.006030</td>\n",
       "      <td>-0.001083</td>\n",
       "      <td>0.000419</td>\n",
       "      <td>0.001492</td>\n",
       "      <td>0.001018</td>\n",
       "      <td>-0.002582</td>\n",
       "      <td>560,1405</td>\n",
       "      <td>118</td>\n",
       "      <td>0.013581</td>\n",
       "    </tr>\n",
       "    <tr>\n",
       "      <th>4</th>\n",
       "      <td>EURUSD Curncy</td>\n",
       "      <td>0.000360</td>\n",
       "      <td>-0.001893</td>\n",
       "      <td>0.005579</td>\n",
       "      <td>-0.003056</td>\n",
       "      <td>-0.001171</td>\n",
       "      <td>-0.001623</td>\n",
       "      <td>-0.002350</td>\n",
       "      <td>-0.006444</td>\n",
       "      <td>-0.000729</td>\n",
       "      <td>-0.000365</td>\n",
       "      <td>404</td>\n",
       "      <td>261</td>\n",
       "      <td>0.005092</td>\n",
       "    </tr>\n",
       "  </tbody>\n",
       "</table>\n",
       "</div>"
      ],
      "text/plain": [
       "      Index Name  Index - 9  Index - 8  Index - 7  Index - 6  Index - 5  \\\n",
       "0      V2X Index   0.001045   0.005841   0.003832  -0.027519  -0.103565   \n",
       "1     MOVE Index  -0.021497   0.007891  -0.013175  -0.008436   0.000000   \n",
       "2      SPX Index  -0.001872  -0.008154   0.023588   0.004086   0.003493   \n",
       "3      SPX Index   0.004980  -0.000864   0.001677   0.000000   0.006030   \n",
       "4  EURUSD Curncy   0.000360  -0.001893   0.005579  -0.003056  -0.001171   \n",
       "\n",
       "   Index - 4  Index - 3  Index - 2  Index - 1  Index - 0  index ecb index fed  \\\n",
       "0  -0.045086  -0.011265   0.005164   0.054050   0.015779  1126,1471        96   \n",
       "1   0.026303   0.000556   0.001455   0.007422   0.000000        975       568   \n",
       "2   0.003300   0.000885  -0.011304   0.005040   0.000156     78,806   328,695   \n",
       "3  -0.001083   0.000419   0.001492   0.001018  -0.002582   560,1405       118   \n",
       "4  -0.001623  -0.002350  -0.006444  -0.000729  -0.000365        404       261   \n",
       "\n",
       "   Index + 1  \n",
       "0   0.010597  \n",
       "1   0.014492  \n",
       "2   0.016263  \n",
       "3   0.013581  \n",
       "4   0.005092  "
      ]
     },
     "execution_count": 5,
     "metadata": {},
     "output_type": "execute_result"
    }
   ],
   "source": [
    "train_data.head()"
   ]
  },
  {
   "cell_type": "code",
   "execution_count": 8,
   "metadata": {},
   "outputs": [
    {
     "data": {
      "text/plain": [
       "(8946, 14)"
      ]
     },
     "execution_count": 8,
     "metadata": {},
     "output_type": "execute_result"
    }
   ],
   "source": [
    "train_data.shape"
   ]
  },
  {
   "cell_type": "code",
   "execution_count": 11,
   "metadata": {},
   "outputs": [
    {
     "data": {
      "text/plain": [
       "Index Name    0\n",
       "Index - 9     0\n",
       "Index - 8     0\n",
       "Index - 7     0\n",
       "Index - 6     0\n",
       "Index - 5     0\n",
       "Index - 4     0\n",
       "Index - 3     0\n",
       "Index - 2     0\n",
       "Index - 1     0\n",
       "Index - 0     0\n",
       "index ecb     0\n",
       "index fed     0\n",
       "Index + 1     0\n",
       "dtype: int64"
      ]
     },
     "execution_count": 11,
     "metadata": {},
     "output_type": "execute_result"
    }
   ],
   "source": [
    "train_data.isna().sum()"
   ]
  },
  {
   "cell_type": "markdown",
   "metadata": {},
   "source": [
    "### Z Scores "
   ]
  },
  {
   "cell_type": "code",
   "execution_count": 67,
   "metadata": {},
   "outputs": [
    {
     "name": "stdout",
     "output_type": "stream",
     "text": [
      "Index - 9    199\n",
      "Index - 8    195\n",
      "Index - 7    188\n",
      "Index - 6    195\n",
      "Index - 5    194\n",
      "Index - 4    200\n",
      "Index - 3    193\n",
      "Index - 2    191\n",
      "Index - 1    186\n",
      "Index - 0    189\n",
      "Index + 1    193\n",
      "dtype: int64\n",
      "[  15   18   20 ... 8933 8937 8938]\n"
     ]
    }
   ],
   "source": [
    "df = train_data.copy()\n",
    "\n",
    "cols = [f'Index - {i}' for i in range(9,0,-1)] + ['Index - 0', 'Index + 1']\n",
    "\n",
    "means = df[cols].mean()\n",
    "stds = df[cols].std()\n",
    "\n",
    "z_scores = pd.DataFrame()\n",
    "for col in cols:\n",
    "    z_scores[col] = (df[col] - means[col]) / stds[col]\n",
    "\n",
    "threshold = 3\n",
    "outliers = (z_scores > threshold) | (z_scores < -threshold)\n",
    "\n",
    "print(outliers.sum())\n",
    "\n",
    "outlier_indices = np.unique(np.where(outliers)[0])\n",
    "print(outlier_indices)\n"
   ]
  },
  {
   "cell_type": "code",
   "execution_count": 68,
   "metadata": {},
   "outputs": [
    {
     "data": {
      "text/html": [
       "<div>\n",
       "<style scoped>\n",
       "    .dataframe tbody tr th:only-of-type {\n",
       "        vertical-align: middle;\n",
       "    }\n",
       "\n",
       "    .dataframe tbody tr th {\n",
       "        vertical-align: top;\n",
       "    }\n",
       "\n",
       "    .dataframe thead th {\n",
       "        text-align: right;\n",
       "    }\n",
       "</style>\n",
       "<table border=\"1\" class=\"dataframe\">\n",
       "  <thead>\n",
       "    <tr style=\"text-align: right;\">\n",
       "      <th></th>\n",
       "      <th>Index - 9</th>\n",
       "      <th>Index - 8</th>\n",
       "      <th>Index - 7</th>\n",
       "      <th>Index - 6</th>\n",
       "      <th>Index - 5</th>\n",
       "      <th>Index - 4</th>\n",
       "      <th>Index - 3</th>\n",
       "      <th>Index - 2</th>\n",
       "      <th>Index - 1</th>\n",
       "      <th>Index - 0</th>\n",
       "      <th>Index + 1</th>\n",
       "    </tr>\n",
       "  </thead>\n",
       "  <tbody>\n",
       "    <tr>\n",
       "      <th>count</th>\n",
       "      <td>8946.000000</td>\n",
       "      <td>8946.000000</td>\n",
       "      <td>8946.000000</td>\n",
       "      <td>8946.000000</td>\n",
       "      <td>8946.000000</td>\n",
       "      <td>8946.000000</td>\n",
       "      <td>8946.000000</td>\n",
       "      <td>8946.000000</td>\n",
       "      <td>8946.000000</td>\n",
       "      <td>8946.000000</td>\n",
       "      <td>8946.000000</td>\n",
       "    </tr>\n",
       "    <tr>\n",
       "      <th>mean</th>\n",
       "      <td>-0.000008</td>\n",
       "      <td>0.000200</td>\n",
       "      <td>0.000255</td>\n",
       "      <td>0.000339</td>\n",
       "      <td>0.000090</td>\n",
       "      <td>0.000407</td>\n",
       "      <td>0.000644</td>\n",
       "      <td>0.000988</td>\n",
       "      <td>0.000847</td>\n",
       "      <td>0.000950</td>\n",
       "      <td>0.000254</td>\n",
       "    </tr>\n",
       "    <tr>\n",
       "      <th>std</th>\n",
       "      <td>0.040715</td>\n",
       "      <td>0.040788</td>\n",
       "      <td>0.039987</td>\n",
       "      <td>0.040587</td>\n",
       "      <td>0.039230</td>\n",
       "      <td>0.039386</td>\n",
       "      <td>0.040104</td>\n",
       "      <td>0.039900</td>\n",
       "      <td>0.040365</td>\n",
       "      <td>0.040699</td>\n",
       "      <td>0.040765</td>\n",
       "    </tr>\n",
       "    <tr>\n",
       "      <th>min</th>\n",
       "      <td>-0.355095</td>\n",
       "      <td>-0.355095</td>\n",
       "      <td>-0.355095</td>\n",
       "      <td>-0.355095</td>\n",
       "      <td>-0.355095</td>\n",
       "      <td>-0.355095</td>\n",
       "      <td>-0.350588</td>\n",
       "      <td>-0.350588</td>\n",
       "      <td>-0.345301</td>\n",
       "      <td>-0.345301</td>\n",
       "      <td>-0.453881</td>\n",
       "    </tr>\n",
       "    <tr>\n",
       "      <th>25%</th>\n",
       "      <td>-0.011516</td>\n",
       "      <td>-0.011160</td>\n",
       "      <td>-0.011122</td>\n",
       "      <td>-0.010843</td>\n",
       "      <td>-0.010698</td>\n",
       "      <td>-0.010363</td>\n",
       "      <td>-0.010435</td>\n",
       "      <td>-0.010155</td>\n",
       "      <td>-0.010360</td>\n",
       "      <td>-0.010515</td>\n",
       "      <td>-0.011235</td>\n",
       "    </tr>\n",
       "    <tr>\n",
       "      <th>50%</th>\n",
       "      <td>0.000000</td>\n",
       "      <td>0.000000</td>\n",
       "      <td>0.000000</td>\n",
       "      <td>0.000000</td>\n",
       "      <td>0.000000</td>\n",
       "      <td>0.000000</td>\n",
       "      <td>0.000000</td>\n",
       "      <td>0.000000</td>\n",
       "      <td>0.000000</td>\n",
       "      <td>0.000000</td>\n",
       "      <td>0.000000</td>\n",
       "    </tr>\n",
       "    <tr>\n",
       "      <th>75%</th>\n",
       "      <td>0.008365</td>\n",
       "      <td>0.008304</td>\n",
       "      <td>0.008276</td>\n",
       "      <td>0.008358</td>\n",
       "      <td>0.008156</td>\n",
       "      <td>0.008573</td>\n",
       "      <td>0.008795</td>\n",
       "      <td>0.008732</td>\n",
       "      <td>0.008855</td>\n",
       "      <td>0.009020</td>\n",
       "      <td>0.008582</td>\n",
       "    </tr>\n",
       "    <tr>\n",
       "      <th>max</th>\n",
       "      <td>0.382167</td>\n",
       "      <td>0.382167</td>\n",
       "      <td>0.382167</td>\n",
       "      <td>0.496008</td>\n",
       "      <td>0.496008</td>\n",
       "      <td>0.496008</td>\n",
       "      <td>0.768245</td>\n",
       "      <td>0.768245</td>\n",
       "      <td>0.768245</td>\n",
       "      <td>0.768245</td>\n",
       "      <td>0.470305</td>\n",
       "    </tr>\n",
       "  </tbody>\n",
       "</table>\n",
       "</div>"
      ],
      "text/plain": [
       "         Index - 9    Index - 8    Index - 7    Index - 6    Index - 5  \\\n",
       "count  8946.000000  8946.000000  8946.000000  8946.000000  8946.000000   \n",
       "mean     -0.000008     0.000200     0.000255     0.000339     0.000090   \n",
       "std       0.040715     0.040788     0.039987     0.040587     0.039230   \n",
       "min      -0.355095    -0.355095    -0.355095    -0.355095    -0.355095   \n",
       "25%      -0.011516    -0.011160    -0.011122    -0.010843    -0.010698   \n",
       "50%       0.000000     0.000000     0.000000     0.000000     0.000000   \n",
       "75%       0.008365     0.008304     0.008276     0.008358     0.008156   \n",
       "max       0.382167     0.382167     0.382167     0.496008     0.496008   \n",
       "\n",
       "         Index - 4    Index - 3    Index - 2    Index - 1    Index - 0  \\\n",
       "count  8946.000000  8946.000000  8946.000000  8946.000000  8946.000000   \n",
       "mean      0.000407     0.000644     0.000988     0.000847     0.000950   \n",
       "std       0.039386     0.040104     0.039900     0.040365     0.040699   \n",
       "min      -0.355095    -0.350588    -0.350588    -0.345301    -0.345301   \n",
       "25%      -0.010363    -0.010435    -0.010155    -0.010360    -0.010515   \n",
       "50%       0.000000     0.000000     0.000000     0.000000     0.000000   \n",
       "75%       0.008573     0.008795     0.008732     0.008855     0.009020   \n",
       "max       0.496008     0.768245     0.768245     0.768245     0.768245   \n",
       "\n",
       "         Index + 1  \n",
       "count  8946.000000  \n",
       "mean      0.000254  \n",
       "std       0.040765  \n",
       "min      -0.453881  \n",
       "25%      -0.011235  \n",
       "50%       0.000000  \n",
       "75%       0.008582  \n",
       "max       0.470305  "
      ]
     },
     "execution_count": 68,
     "metadata": {},
     "output_type": "execute_result"
    }
   ],
   "source": [
    "df.describe()"
   ]
  },
  {
   "cell_type": "code",
   "execution_count": 78,
   "metadata": {},
   "outputs": [
    {
     "data": {
      "text/plain": [
       "15     -0.064031\n",
       "18      0.086707\n",
       "20     -0.061635\n",
       "21     -0.003290\n",
       "30     -0.003499\n",
       "          ...   \n",
       "8931   -0.006391\n",
       "8932    0.000000\n",
       "8933    0.062966\n",
       "8937   -0.018711\n",
       "8938    0.000000\n",
       "Name: Index - 0, Length: 1265, dtype: float64"
      ]
     },
     "execution_count": 78,
     "metadata": {},
     "output_type": "execute_result"
    }
   ],
   "source": [
    "df.loc[outlier_indices, 'Index - 0']"
   ]
  },
  {
   "cell_type": "code",
   "execution_count": 80,
   "metadata": {},
   "outputs": [
    {
     "data": {
      "image/png": "[encoded data removed]",
      "text/plain": [
       "<Figure size 640x480 with 1 Axes>"
      ]
     },
     "metadata": {},
     "output_type": "display_data"
    }
   ],
   "source": [
    "plt.scatter(range(len(df)), df['Index - 0'], color='blue')\n",
    "plt.scatter(outlier_indices, df.loc[outlier_indices, 'Index - 0'], color='red')\n",
    "plt.title('Outliers in Index - 0')\n",
    "plt.xlabel('Index')\n",
    "plt.ylabel('Value')\n",
    "plt.show()\n"
   ]
  },
  {
   "cell_type": "code",
   "execution_count": null,
   "metadata": {},
   "outputs": [],
   "source": []
  },
  {
   "cell_type": "markdown",
   "metadata": {},
   "source": [
    "### Mean Absolute Deviation"
   ]
  },
  {
   "cell_type": "code",
   "execution_count": 59,
   "metadata": {},
   "outputs": [
    {
     "name": "stdout",
     "output_type": "stream",
     "text": [
      "Index - 9    419\n",
      "Index - 8    405\n",
      "Index - 7    399\n",
      "Index - 6    399\n",
      "Index - 5    398\n",
      "Index - 4    393\n",
      "Index - 3    393\n",
      "Index - 2    402\n",
      "Index - 1    410\n",
      "Index - 0    396\n",
      "Index + 1    395\n",
      "dtype: int64\n",
      "[   0   11   13 ... 8937 8938 8942]\n"
     ]
    }
   ],
   "source": [
    "cols = [f'Index - {i}' for i in range(9,0,-1)] + ['Index - 0', 'Index + 1']\n",
    "\n",
    "medians = df[cols].median()\n",
    "mad = df[cols].mad()\n",
    "\n",
    "deviations = pd.DataFrame()\n",
    "for col in cols:\n",
    "    deviations[col] = np.abs(df[col] - medians[col])\n",
    "\n",
    "threshold = 4\n",
    "outliers = (deviations > threshold * mad)\n",
    "\n",
    "print(outliers.sum())\n",
    "\n",
    "outlier_indices = np.unique(np.where(outliers)[0])\n",
    "print(outlier_indices)"
   ]
  },
  {
   "cell_type": "code",
   "execution_count": 60,
   "metadata": {},
   "outputs": [
    {
     "data": {
      "image/png": "[encoded data removed]",
      "text/plain": [
       "<Figure size 640x480 with 1 Axes>"
      ]
     },
     "metadata": {},
     "output_type": "display_data"
    }
   ],
   "source": [
    "plt.scatter(range(len(df)), df['Index - 0'], color='blue')\n",
    "plt.scatter(outlier_indices, df.loc[outlier_indices, 'Index - 0'], color='red')\n",
    "plt.title('Outliers in Index - 0')\n",
    "plt.xlabel('Index')\n",
    "plt.ylabel('Value')\n",
    "plt.show()"
   ]
  },
  {
   "cell_type": "markdown",
   "metadata": {},
   "source": [
    "### Box plot"
   ]
  },
  {
   "cell_type": "code",
   "execution_count": 103,
   "metadata": {},
   "outputs": [
    {
     "name": "stdout",
     "output_type": "stream",
     "text": [
      "Index - 9    429\n",
      "Index - 8    431\n",
      "Index - 7    413\n",
      "Index - 6    431\n",
      "Index - 5    410\n",
      "Index - 4    409\n",
      "Index - 3    406\n",
      "Index - 2    425\n",
      "Index - 1    428\n",
      "Index - 0    408\n",
      "Index + 1    400\n",
      "dtype: int64\n"
     ]
    },
    {
     "data": {
      "image/png": "[encoded data removed]",
      "text/plain": [
       "<Figure size 1000x700 with 1 Axes>"
      ]
     },
     "metadata": {},
     "output_type": "display_data"
    }
   ],
   "source": [
    "cols = [f'Index - {i}' for i in range(9,0,-1)] + ['Index - 0', 'Index + 1']\n",
    "plt.figure(figsize=(10, 7))\n",
    "sns.boxplot(data=df[cols])\n",
    "\n",
    "whisker_length = 4\n",
    "\n",
    "outliers = pd.DataFrame()\n",
    "for col in cols:\n",
    "    q1 = df[col].quantile(0.25)\n",
    "    q3 = df[col].quantile(0.75)\n",
    "    iqr = q3 - q1\n",
    "    lower_whisker = q1 - whisker_length * iqr\n",
    "    upper_whisker = q3 + whisker_length * iqr\n",
    "    outliers[col] = (df[col] < lower_whisker) | (df[col] > upper_whisker)\n",
    "\n",
    "print(outliers.sum())\n"
   ]
  },
  {
   "cell_type": "code",
   "execution_count": 112,
   "metadata": {},
   "outputs": [
    {
     "name": "stdout",
     "output_type": "stream",
     "text": [
      "(array([1384, 2077, 2685, 2762, 3257, 3996, 6263, 8000, 8025, 8880]),) (array([ 982, 2872, 3980, 4108, 4964, 5140, 5843, 6022, 6190, 6220, 7371,\n",
      "       7403, 8880]),) (array([1002, 1601, 2660, 2872, 3503, 3508, 3686, 4026, 4651, 5173, 6750,\n",
      "       8290]),) (array([ 788, 1194, 2289, 2685, 3508, 3716, 3759, 8000, 8009, 8419, 8725]),) (array([ 982, 1828, 2307, 4283, 4934, 5140, 7136, 8237, 8359]),) (array([ 437, 1353, 2756, 3543, 3828, 4026, 4651, 5496, 8814]),) (array([ 146,  147,  193, 2160, 3381, 5315, 6718, 8583]),) (array([ 854, 1028, 2046, 2207, 3866, 4339]),) (array([ 578,  656, 1647, 3532, 4077, 7351]),) (array([ 656, 2163, 5164, 5986, 6225, 6379, 6548]),) (array([ 359,  837,  854, 1237, 1798, 5186, 5550]),)\n"
     ]
    }
   ],
   "source": [
    "index9_upper = np.where(df['Index - 9']>0.3)\n",
    "index8_upper = np.where(df['Index - 8']>0.3)\n",
    "index7_upper = np.where(df['Index - 7']>0.3)\n",
    "index6_upper = np.where(df['Index - 6']>0.3)\n",
    "index5_upper = np.where(df['Index - 5']>0.3)\n",
    "index4_upper = np.where(df['Index - 4']>0.3)\n",
    "index3_upper = np.where(df['Index - 3']>0.3)\n",
    "index2_upper = np.where(df['Index - 2']>0.3)\n",
    "index1_upper = np.where(df['Index - 1']>0.3)\n",
    "index0_upper = np.where(df['Index - 0']>0.3)\n",
    "indexpos1_upper = np.where(df['Index + 1']>0.3)\n",
    "\n",
    "print(index9_upper, index8_upper, index7_upper, index6_upper,\n",
    "      index5_upper, index4_upper, index3_upper, index2_upper, index1_upper,\n",
    "      indexpos1_upper, index0_upper)"
   ]
  },
  {
   "cell_type": "code",
   "execution_count": 113,
   "metadata": {},
   "outputs": [
    {
     "name": "stdout",
     "output_type": "stream",
     "text": [
      "(array([1618, 3399, 3972, 4042, 4108, 4168, 4448, 5203]),) (array([2660, 4212, 8025, 8487]),) (array([1194, 2144, 7037, 7403]),) (array([1002, 3862, 5072, 6374, 7434, 8359]),) (array([ 523, 2756, 3769, 7278, 8009]),) (array([ 646, 1828, 3333, 3381, 6498, 7771]),) (array([1197, 1550, 4229, 7786, 8280, 8814]),) (array([  90,  146,  424, 1495, 2160, 5329, 5368]),) (array([ 854, 2207, 5278, 7054, 7717]),) (array([  37,  656, 4037, 4077, 8003]),) (array([ 359, 1237, 2220, 2709, 4108, 4321, 5007, 6369, 6691]),)\n"
     ]
    }
   ],
   "source": [
    "index9_lower = np.where(df['Index - 9']<-0.21)\n",
    "index8_lower = np.where(df['Index - 8']<-0.21)\n",
    "index7_lower = np.where(df['Index - 7']<-0.21)\n",
    "index6_lower = np.where(df['Index - 6']<-0.21)\n",
    "index5_lower = np.where(df['Index - 5']<-0.21)\n",
    "index4_lower = np.where(df['Index - 4']<-0.21)\n",
    "index3_lower = np.where(df['Index - 3']<-0.21)\n",
    "index2_lower = np.where(df['Index - 2']<-0.21)\n",
    "index1_lower = np.where(df['Index - 1']<-0.21)\n",
    "index0_lower = np.where(df['Index - 0']<-0.21)\n",
    "indexpos1_lower = np.where(df['Index + 1']<-0.21)\n",
    "\n",
    "print(index9_lower, index8_lower, index7_lower, index6_lower, \n",
    "      index5_lower, index4_lower, index3_lower, index2_lower, \n",
    "      index1_lower, index0_lower, indexpos1_lower)\n"
   ]
  },
  {
   "cell_type": "markdown",
   "metadata": {},
   "source": [
    "### LOF"
   ]
  },
  {
   "cell_type": "code",
   "execution_count": 44,
   "metadata": {},
   "outputs": [
    {
     "name": "stdout",
     "output_type": "stream",
     "text": [
      "Number of outliers: 0\n",
      "[]\n"
     ]
    }
   ],
   "source": [
    "from sklearn.neighbors import LocalOutlierFactor\n",
    "cols = [f'Index - {i}' for i in range(9,0,-1)] + ['Index - 0', 'Index + 1']\n",
    "\n",
    "data = df[cols]\n",
    "\n",
    "lof = LocalOutlierFactor(n_neighbors=100, contamination=0.05)\n",
    "\n",
    "lof_scores = -lof.fit_predict(data)\n",
    "\n",
    "threshold = 2\n",
    "outliers = (lof_scores > threshold)\n",
    "\n",
    "print(\"Number of outliers:\", outliers.sum())\n",
    "\n",
    "outlier_indices = np.unique(np.where(outliers)[0])\n",
    "print(outlier_indices)\n"
   ]
  },
  {
   "cell_type": "code",
   "execution_count": null,
   "metadata": {},
   "outputs": [],
   "source": []
  },
  {
   "cell_type": "markdown",
   "metadata": {},
   "source": [
    "### SVM"
   ]
  },
  {
   "cell_type": "code",
   "execution_count": 61,
   "metadata": {},
   "outputs": [],
   "source": [
    "from sklearn.svm import OneClassSVM\n",
    "\n",
    "cols = [f'Index - {i}' for i in range(9,0,-1)] + ['Index - 0', 'Index + 1']\n",
    "\n",
    "train_data = df[cols]\n",
    "\n",
    "svm = OneClassSVM(gamma='auto').fit(train_data)\n",
    "\n",
    "labels = svm.predict(df[cols])\n",
    "\n",
    "outliers = df[labels == -1]\n"
   ]
  },
  {
   "cell_type": "code",
   "execution_count": 62,
   "metadata": {},
   "outputs": [
    {
     "data": {
      "text/plain": [
       "(8946, 11)"
      ]
     },
     "execution_count": 62,
     "metadata": {},
     "output_type": "execute_result"
    }
   ],
   "source": [
    "df.shape"
   ]
  },
  {
   "cell_type": "code",
   "execution_count": 63,
   "metadata": {},
   "outputs": [
    {
     "data": {
      "text/plain": [
       "Int64Index([   0,    8,    9,   11,   13,   15,   16,   17,   18,   19,\n",
       "            ...\n",
       "            8927, 8930, 8931, 8932, 8933, 8934, 8935, 8937, 8938, 8942],\n",
       "           dtype='int64', length=4473)"
      ]
     },
     "execution_count": 63,
     "metadata": {},
     "output_type": "execute_result"
    }
   ],
   "source": [
    "outliers.index"
   ]
  },
  {
   "cell_type": "code",
   "execution_count": 64,
   "metadata": {},
   "outputs": [
    {
     "data": {
      "image/png": "[encoded data removed]",
      "text/plain": [
       "<Figure size 640x480 with 1 Axes>"
      ]
     },
     "metadata": {},
     "output_type": "display_data"
    }
   ],
   "source": [
    "plt.scatter(range(len(df)), df['Index - 0'], color='blue')\n",
    "plt.scatter(outlier_indices, df.loc[outlier_indices, 'Index - 0'], color='red')\n",
    "plt.title('Outliers in Index - 0')\n",
    "plt.xlabel('Index')\n",
    "plt.ylabel('Value')\n",
    "plt.show()"
   ]
  },
  {
   "cell_type": "markdown",
   "metadata": {},
   "source": [
    "### Compare the models"
   ]
  },
  {
   "cell_type": "code",
   "execution_count": 114,
   "metadata": {},
   "outputs": [],
   "source": [
    "import pandas as pd\n",
    "import numpy as np\n",
    "from sklearn.neighbors import LocalOutlierFactor\n",
    "from sklearn.svm import OneClassSVM\n",
    "\n",
    "def compare_outlier_methods(df):\n",
    "    # Z-score method\n",
    "    cols = [f'Index - {i}' for i in range(9,0,-1)] + ['Index - 0', 'Index + 1']\n",
    "    means = df[cols].mean()\n",
    "    stds = df[cols].std()\n",
    "    z_scores = pd.DataFrame()\n",
    "    for col in cols:\n",
    "        z_scores[col] = (df[col] - means[col]) / stds[col]\n",
    "    threshold = 3\n",
    "    outliers_zscore = (z_scores > threshold) | (z_scores < -threshold)\n",
    "    \n",
    "    # Median absolute deviation (MAD) method\n",
    "    median = df.median()\n",
    "    mad = df.mad()\n",
    "    threshold = 3\n",
    "    outliers_mad = (df - median).abs() > threshold * mad\n",
    "    \n",
    "    # Box plot method\n",
    "    q1 = df.quantile(0.25)\n",
    "    q3 = df.quantile(0.75)\n",
    "    iqr = q3 - q1\n",
    "    outliers_boxplot = (df < q1 - 1.5*iqr) | (df > q3 + 1.5*iqr)\n",
    "    \n",
    "    # Local Outlier Factor (LOF) method\n",
    "    lof = LocalOutlierFactor(n_neighbors=20, contamination=0.1)\n",
    "    outliers_lof = lof.fit_predict(df) == -1\n",
    "    \n",
    "    # One-class SVM method\n",
    "    svm = OneClassSVM(kernel='rbf', nu=0.05)\n",
    "    svm.fit(df)\n",
    "    outliers_svm = svm.predict(df) == -1\n",
    "    \n",
    "    # Combine outlier indices from all methods\n",
    "    outlier_indices = np.concatenate((\n",
    "        np.where(outliers_zscore.any(axis=1))[0],\n",
    "        np.where(outliers_mad.any(axis=1))[0],\n",
    "        np.where(outliers_boxplot.any(axis=1))[0],\n",
    "        np.where(outliers_lof)[0],\n",
    "        np.where(outliers_svm)[0]\n",
    "    ))\n",
    "    \n",
    "    \n",
    "    counts = np.bincount(outlier_indices)\n",
    "    \n",
    "    indices_to_remove = np.argsort(-counts)[:100]\n",
    "      \n",
    "    return indices_to_remove\n"
   ]
  },
  {
   "cell_type": "code",
   "execution_count": 115,
   "metadata": {},
   "outputs": [],
   "source": [
    "indices_to_remove = compare_outlier_methods(df)"
   ]
  },
  {
   "cell_type": "code",
   "execution_count": 136,
   "metadata": {},
   "outputs": [
    {
     "data": {
      "text/plain": [
       "array([3951, 6200, 1194, 3996, 6220, 6221, 3980, 3964, 1162, 6276, 6290,\n",
       "       1142, 2146, 1196, 6369, 1107, 2160, 6408, 8419, 2162, 3862, 6498,\n",
       "       1045, 3807, 6563, 6568, 2207, 8432, 1197, 6190, 8485,  130, 4168,\n",
       "       5809, 5819, 5843, 2872, 5894, 5910,  146, 4108, 8604, 5923, 5930,\n",
       "       8594, 4100, 4097, 4077, 4076, 5986, 8542, 8523, 2077, 6048, 1237,\n",
       "       4037, 4026,  193, 8359, 1002, 3769,  982, 3407,  656, 3087,  355,\n",
       "        646,  359, 3381, 7434, 2407, 2529, 3333, 3306, 8052, 3257, 7717,\n",
       "       7730,  509, 8003, 7786, 8000, 7804, 7829, 7983, 3197, 3185, 3145,\n",
       "        437, 7371, 5798, 7351, 7278, 6691, 2220, 6709, 6714, 6717, 3023,\n",
       "        953])"
      ]
     },
     "execution_count": 136,
     "metadata": {},
     "output_type": "execute_result"
    }
   ],
   "source": [
    "indices_to_remove"
   ]
  },
  {
   "cell_type": "code",
   "execution_count": 132,
   "metadata": {},
   "outputs": [],
   "source": [
    "box_plot_upper = [index9_upper[0], index8_upper[0], index7_upper[0], index6_upper[0],\n",
    "                  index5_upper[0], index4_upper[0], index3_upper[0], index2_upper[0], index1_upper[0],\n",
    "                  indexpos1_upper[0], index0_upper[0]]"
   ]
  },
  {
   "cell_type": "code",
   "execution_count": 133,
   "metadata": {},
   "outputs": [],
   "source": [
    "box_plot_lower = [index9_lower[0], index8_lower[0], index7_lower[0], index6_lower[0], \n",
    "                  index5_lower[0], index4_lower[0], index3_lower[0], index2_lower[0], \n",
    "                  index1_lower[0], index0_lower[0], indexpos1_lower[0]]"
   ]
  },
  {
   "cell_type": "code",
   "execution_count": 155,
   "metadata": {},
   "outputs": [
    {
     "ename": "AttributeError",
     "evalue": "'list' object has no attribute 'flatten'",
     "output_type": "error",
     "traceback": [
      "\u001b[0;31m---------------------------------------------------------------------------\u001b[0m",
      "\u001b[0;31mAttributeError\u001b[0m                            Traceback (most recent call last)",
      "Cell \u001b[0;32mIn[155], line 1\u001b[0m\n\u001b[0;32m----> 1\u001b[0m box_plot_upper\u001b[39m.\u001b[39;49mflatten()\n",
      "\u001b[0;31mAttributeError\u001b[0m: 'list' object has no attribute 'flatten'"
     ]
    }
   ],
   "source": [
    "box_plot_upper.flatten()"
   ]
  },
  {
   "cell_type": "code",
   "execution_count": 164,
   "metadata": {},
   "outputs": [
    {
     "name": "stdout",
     "output_type": "stream",
     "text": [
      "34\n",
      "11\n"
     ]
    }
   ],
   "source": [
    "from itertools import chain\n",
    "s = 0\n",
    "for x in list(chain(*box_plot_upper)): \n",
    "   if x in list(indices_to_remove):\n",
    "        s = s + 1\n",
    "print(s)\n",
    "print(len(box_plot_upper))"
   ]
  },
  {
   "cell_type": "code",
   "execution_count": 165,
   "metadata": {},
   "outputs": [
    {
     "name": "stdout",
     "output_type": "stream",
     "text": [
      "29\n",
      "11\n"
     ]
    }
   ],
   "source": [
    "from itertools import chain\n",
    "s = 0\n",
    "for x in list(chain(*box_plot_lower)): \n",
    "   if x in list(indices_to_remove):\n",
    "        s = s + 1\n",
    "print(s)\n",
    "print(len(box_plot_lower))\n"
   ]
  },
  {
   "cell_type": "code",
   "execution_count": null,
   "metadata": {},
   "outputs": [],
   "source": []
  }
 ],
 "metadata": {
  "kernelspec": {
   "display_name": "Python 3.9.12 ('base')",
   "language": "python",
   "name": "python3"
  },
  "language_info": {
   "codemirror_mode": {
    "name": "ipython",
    "version": 3
   },
   "file_extension": ".py",
   "mimetype": "text/x-python",
   "name": "python",
   "nbconvert_exporter": "python",
   "pygments_lexer": "ipython3",
   "version": "3.9.12"
  },
  "orig_nbformat": 4,
  "vscode": {
   "interpreter": {
    "hash": "40d3a090f54c6569ab1632332b64b2c03c39dcf918b08424e98f38b5ae0af88f"
   }
  }
 },
 "nbformat": 4,
 "nbformat_minor": 2
}
