{
 "cells": [
  {
   "cell_type": "code",
   "execution_count": 2,
   "metadata": {},
   "outputs": [],
   "source": [
    "import pandas as pd\n",
    "import numpy as np\n",
    "\n",
    "import matplotlib.pyplot as plt\n",
    "\n",
    "from sklearn.model_selection import train_test_split\n",
    "\n",
    "import time\n",
    "import re\n",
    "from langdetect import detect\n",
    "\n",
    "from collections import Counter\n",
    "\n",
    "import reprlib\n",
    "\n",
    "import gc"
   ]
  },
  {
   "cell_type": "code",
   "execution_count": 3,
   "metadata": {},
   "outputs": [],
   "source": [
    "FILENAME = \"../data/train_series.csv\"\n",
    "FILENAME_ECB = \"../data/ecb_data.csv\"\n",
    "FILENAME_FED = \"../data/fed_data.csv\"\n",
    "FILENAME_ECB_P = \"../data/ecb_data_preprocessed.csv\"\n",
    "FILENAME_FED_P = \"../data/fed_data_preprocessed.csv\""
   ]
  },
  {
   "cell_type": "code",
   "execution_count": 4,
   "metadata": {},
   "outputs": [],
   "source": [
    "ecb = pd.read_csv(FILENAME_ECB_P, index_col=0)\n",
    "fed = pd.read_csv(FILENAME_FED_P, index_col=0)"
   ]
  },
  {
   "cell_type": "code",
   "execution_count": 16,
   "metadata": {},
   "outputs": [],
   "source": [
    "def text_print(text, line_char_lim=150):\n",
    "    text_ = text.split('\\n')\n",
    "    for subtext in text_:\n",
    "        n = len(subtext)\n",
    "        k = 0\n",
    "        while k <= n:\n",
    "            print(subtext[k:min(n, k + line_char_lim)])\n",
    "            k += line_char_lim\n",
    "        print('\\n')"
   ]
  },
  {
   "cell_type": "code",
   "execution_count": 18,
   "metadata": {},
   "outputs": [
    {
     "name": "stdout",
     "output_type": "stream",
     "text": [
      "  Securing sustained economic growth in the euro area   Speech by Vítor Constâncio, Vice-President of the ECB, at the G30 Meeting in Washington, 9 Oct\n",
      "ober 2016 Ladies and Gentlemen, Thank you for inviting me here today and for giving me the opportunity to be part of such a distinguished panel. The s\n",
      "ubject matter of our panel is a demanding one. Nine years after the beginning of the crisis, advanced economies are apparently settled in a regime of \n",
      "low growth and low inflation with no end in sight. In many places, a weary complacency seems to be reconciled with the “new normal long-term economic \n",
      "equilibrium”. However, in our democratic societies this is not a stable social equilibrium. It is not even a sustainable long-term economic equilibriu\n",
      "m. Our economies need a higher level of nominal growth to work properly: to absorb overhangs from the crisis, to spur investment and productivity, to \n",
      "generate enough return for the pensions of an ageing population. The OECD referred to the present situation as a “self-reinforcing low growth trap” an\n",
      "d the IMF”s Maurice Obstfeld stated “Without determined policy action to support economic activity over the short and longer terms, sub-par growth at \n",
      "recent levels risks perpetuating itself – through the negative economic and political forces it is unleashing.”. The self-perpetuating nature of the p\n",
      "resent dynamics, underlined by both institutions, has to be broken by new significant policy initiatives that can lift confidence and “animal spirits”\n",
      " in our economies.  Following the initial broad-based policy reaction, monetary policy has done most of the expansionary effort to support the recover\n",
      "y. Yet, securing sustained economic growth and employment cannot be dependent on monetary policy alone. At the national and European levels, a much mo\n",
      "re comprehensive policy response is needed, especially now that markets have started to show scepticism about what monetary policy can continue to do \n",
      "going forward.  This underpins the urgency of both a meaningful implementation of targeted structural reforms and the adoption of growth friendly fisc\n",
      "al policies.  Prospects for the euro area economy Turning to recent euro area developments, the recovery is continuing its moderate but steady pace, s\n",
      "upported mainly by the ECB’s expansionary policies, which have significantly improved financial conditions, reduced financial fragmentation and suppor\n",
      "ted economic activity and inflation. In the absence of our measures, both growth and inflation in the euro area would have been significantly worse, a\n",
      "s our models calculate that inflation and growth would be lower by 0.8 and 0.7 percentage points, respectively, than the forecast values of 0.2% and 1\n",
      ".7% for this year.  For three years now, inflation has been quite low with a level of 0.4% in 2014, 0% last year and 0.2% forecast for this year. Howe\n",
      "ver, the recent flash estimate for September at 0.4% may indicate a movement compatible with our baseline scenario that foresees a gradual increase to\n",
      " levels above 1% by next spring, if no major downward movement in commodity prices takes place. Additionally, the normalisation of inflation depends o\n",
      "n the continued closing of the negative output gap and more dynamic wage behaviour.  In the first half of 2016 the euro area grew at an annualised rat\n",
      "e of 1.7%, similar to last year’s growth rate. This figure is far from being impressive, especially considering that the euro area is in the early pha\n",
      "se of a recovery after the second recession in 2012 and 2013. On the other hand, the unemployment rate, albeit falling, still remains above 10% amid a\n",
      " continuous increase in the participation rate in the labour force since the crisis. One positive aspect is that our policies have contributed to a de\n",
      "crease in financial fragmentation and that the dispersion of GDP growth and inflation across euro area countries is at the lowest level since the begi\n",
      "nning of monetary union in 1999. Another positive note is that the recent growth was largely driven by domestic demand. Moreover, the recovery has pro\n",
      "ved resilient to a series of adverse shocks over the past year: the slowdown in China last summer, the acute stock market turbulence in the early part\n",
      " of this year and, most recently, the uncertainty created by the UK referendum.  At the same time, this resilience reflects to a large degree the amou\n",
      "nt of monetary expansion – actual and expected – that is embedded in financial prices. Indeed, with the five packages of measures we have adopted sinc\n",
      "e June 2014, we have reduced the cost of capital, produced rebalancing effects in other asset markets, improved credit supply conditions and restored \n",
      "credit volume growth since the latter part of 2014, after two years of negative developments.    Figure 1:      Yields on bank and non-financial bonds\n",
      " have eased by 90 and 100 basis points, respectively, in response to the measures taken, testifying to the effectiveness of the current policy package\n",
      ". Funding conditions for banks improved as wholesale money market rates became negative and as banks received direct support from new liquidity facili\n",
      "ties with four-year maturities and low rates (TLTRO-I and II). These developments have stimulated the pass-through of this funding cost relief to borr\n",
      "owing costs for both firms and households.  As a consequence, bank lending rates to non-financial corporations (NFCs) and households are now at histor\n",
      "ical lows, and there has been a significant reduction in the fragmentation of lending rates across euro area countries as well as for large and small \n",
      "loans (see Figures 2 and 3). It is also important to note that the establishment of the Single Supervisory Mechanism (SSM) in November 2014 helped put\n",
      " the banking sector in a stronger position to transmit our monetary impulses.    Figure 2:        Figure 3:      The capital position of euro area sig\n",
      "nificant banks has been improving from a common equity capital ratio (CET1) of 7% in 2008 and 9% in 2012, and now stands 14.4%, with a total capital r\n",
      "atio of 18%. The problem for European banks lies, however, in the present low profitability levels resulting from legacy non-performing loans, excess \n",
      "banking capacity, growing competition from non-banks and slow adjustment to new business models. Return on equity in the first half of 2016 was just 5\n",
      ".8%, against 5.5% for the whole of last year. The low profitability has driven a poor performance of stock prices, leading to quite low price-to-book \n",
      "ratios. Contrary to some perceptions, our monetary policy has had a positive effect on the profitability of banks since 2014, by reducing their fundin\n",
      "g costs, by ensuring capital gains related to higher prices of financial assets affected by QE, by reducing impairment costs and by increasing credit \n",
      "volumes as a result of a strengthening recovery. We are aware that some of these effects will wane with time and that the banking sector will have to \n",
      "undergo structural reforms to overcome the challenges of a low profitability environment that, looking forward, is not sustainable. Public policy init\n",
      "iatives are necessary to foster the restructuring efforts.  In spite of the present headwinds, banks have resumed credit expansion since late 2014 to \n",
      "a present growth rate of 1.9%. This improvement is also evident from the latest bank lending surveys (BLS), which reveal a continued easing of credit \n",
      "supply standards on loans to firms which is largely driven by increasing competition among banks. This increased competition has been one of the main \n",
      "mechanisms through which our measures – notably TLTROs – have been operating and has squeezed bank margins, causing bank lending rates to fall and, co\n",
      "nsequently, net demand for borrowing to increase. As banks begin attracting additional borrowers, this leads to a gradual easing of credit standards a\n",
      "nd an additional strengthening of competitive pressures which lower lending rates and increase loan demand further. This in turn supports macroeconomi\n",
      "c conditions and reduces non-performing loans, thereby validating ex post the lower lending rate and creating a positive feedback loop. In effect, our\n",
      " credit easing measures have stimulated banks to start competing again for good credit. This evidence is supported by the findings of model-based anal\n",
      "ysis carried out by ECB staff, which suggests that credit supply restrictions are no longer dampening loan growth to NFCs. Furthermore, according to t\n",
      "he ECB survey on the access to finance of enterprises (SAFE), credit conditions are also improving for euro area small and medium-sized enterprises (S\n",
      "MEs), which constitute the backbone of the euro area economy and represent the vast majority of firms.   Staff economic projections Overall, the impac\n",
      "t of our measures has been significant, but the euro area recovery has certainly not been as fast as we had hoped. This is in part due to the headwind\n",
      "s stemming from the global economy, the structural slowdown in world trade and the financial crisis legacies lingering in many euro area countries whi\n",
      "ch continue to dampen economic activity. These factors explain why the risks to the outlook remain to the downside.  Nevertheless, the narrative of a \n",
      "continued yet moderate recovery is largely echoed in the latest (September 2016) ECB staff macroeconomic projections for euro area activity, which are\n",
      " almost unchanged compared to June 2016. Real GDP is projected to grow at an annual rate of 1.7% in 2016, 1.6% in 2017 and 1.6% in 2018. Since the pro\n",
      "jections cut-off date, the flow of high frequency data has been consistent with the materialisation of this baseline scenario. Crucially, this project\n",
      "ion is predicated on the current supportive financial conditions persisting. In fact, it is estimated that, cumulatively, the impact of our measures w\n",
      "ill contribute more than one and a half percentage points to real GDP growth between 2015 and 2018.  Regarding inflation, the latest ECB staff project\n",
      "ions foresee a rise to 1.2% in 2017 and 1.6% in 2018. The contribution of our measures to this projected increase in inflation, is significant, repres\n",
      "enting, on average, an impact on the inflation rate of about half a percentage point each year between 2016 and 2018.  In sum, the recovery has shown \n",
      "resilience in the face of a sequence of adverse shocks affecting the economy, although inflation dynamics have remained weak. In addition, the envisag\n",
      "ed return of inflation over the next couple of years to levels more consistent with our aim of below but close to 2% is very much dependent on the ful\n",
      "l implementation of our policy package. Last March we took a powerful set of measures by increasing our asset purchase programme and extending it to c\n",
      "orporate bonds. We also introduced a new medium-term liquidity facility with interest rates that can go as low as our negative deposit facility rate, \n",
      "contingent on the banks reaching a credit growth benchmark. As the ECB Governing Council has committed itself to pursuing the present set of policies,\n",
      " particularly the QE component, until we attain “a sustained path towards our inflation objective” and “at least until March 2017”, we will have to de\n",
      "cide closer to that date the final timeline of the programme and its conditions. We have not yet started any discussion about this issue, but we have \n",
      "become aware that market developments have raised increasing implementation challenges for asset purchases in the future. On account of this, in Septe\n",
      "mber the Governing Council tasked the relevant Eurosystem committees to evaluate the options that will ensure a smooth implementation of our purchase \n",
      "programme until March 2017, or beyond, if needed. The committees will report back to the Governing Council by December 2016.  It should be noted that \n",
      "the parameters of the programme can be adjusted at any time to achieve the intended amount of purchases, and it should be stressed that the Governing \n",
      "Council will continue to implement an accommodative monetary policy to fulfil its price stability objective.   Other policies  Monetary policy is effe\n",
      "ctive in correcting cyclical fluctuations, but it also contributes to medium-term growth by increasing capacity-building investment and by acceleratin\n",
      "g the closing of the output gap, thereby avoiding hysteresis effects in the labour market and in the capital stock that are detrimental to potential g\n",
      "rowth. Nevertheless, it is indisputable that long-term economic growth is mostly determined by supply-side factors such as productivity, technological\n",
      " innovation, the business environment and the quality of public institutions. In all euro area countries there is room for improvement in these areas.\n",
      " This requires governments to continue to implement a comprehensive and focused suite of structural reforms. Fiscal policy also needs to play a larger\n",
      " role in supporting the recovery. Fiscal expansion can contribute to increased interest rates by expanding the supply of safe assets. Conceptually, in\n",
      " terms of overlapping generations models with small Ricardian effects, this would also push upwards the real equilibrium interest rate.  While many eu\n",
      "ro area countries have very limited fiscal room for manoeuvre, those that have some should use it. All countries, however, should look at ways to enha\n",
      "nce the composition of their fiscal policies with a view to making it more growth-friendly, particularly in the area of taxation and the share of publ\n",
      "ic investment. Only with the right combination of structural and fiscal policies is it possible to fully reap the benefits of our accommodative moneta\n",
      "ry policy and increase the euro area’s potential growth. At the European level, firms and households need more clarity over the future institutional s\n",
      "et-up of the euro area, which is incomplete in key areas, such as banking union and capital markets union. This uncertainty is detrimental to investme\n",
      "nt, increases the precautionary saving of households and undermines our monetary policy effectiveness. As I mentioned at the beginning, we need govern\n",
      "ments to activate an assertive three-pronged strategy of growth initiatives that can break the self-reinforcing mechanisms mentioned by the OECD and t\n",
      "he IMF that seem to be condemning the advanced economies to a mediocre regime of socially unsustainable low nominal growth.  Thank you for your attent\n",
      "ion.  \n",
      "\n",
      "\n"
     ]
    }
   ],
   "source": [
    "text_print(ecb.iloc[1]['text'])"
   ]
  },
  {
   "cell_type": "code",
   "execution_count": 17,
   "metadata": {},
   "outputs": [
    {
     "name": "stdout",
     "output_type": "stream",
     "text": [
      "The OECD referred to the present situation as a “self-reinforcing low growth trap” and the IMF”s Maurice Obstfeld stated “Without determined policy ac\n",
      "tion to support economic activity over the short and longer terms, sub-par growth at recent levels risks perpetuating itself – through the negative ec\n",
      "onomic and political forces it is unleashing.”.\n",
      "\n",
      "\n",
      "Prospects for the euro area economy Turning to recent euro area developments, the recovery is continuing its moderate but steady pace, supported mainl\n",
      "y by the ECB’s expansionary policies, which have significantly improved financial conditions, reduced financial fragmentation and supported economic a\n",
      "ctivity and inflation.\n",
      "\n",
      "\n",
      "One positive aspect is that our policies have contributed to a decrease in financial fragmentation and that the dispersion of GDP growth and inflation\n",
      " across euro area countries is at the lowest level since the beginning of monetary union in 1999.\n",
      "\n",
      "\n",
      "Indeed, with the five packages of measures we have adopted since June 2014, we have reduced the cost of capital, produced rebalancing effects in other\n",
      " asset markets, improved credit supply conditions and restored credit volume growth since the latter part of 2014, after two years of negative develop\n",
      "ments.\n",
      "\n",
      "\n",
      "As a consequence, bank lending rates to non-financial corporations (NFCs) and households are now at historical lows, and there has been a significant \n",
      "reduction in the fragmentation of lending rates across euro area countries as well as for large and small loans (see Figures 2 and 3).\n",
      "\n",
      "\n",
      "Contrary to some perceptions, our monetary policy has had a positive effect on the profitability of banks since 2014, by reducing their funding costs,\n",
      " by ensuring capital gains related to higher prices of financial assets affected by QE, by reducing impairment costs and by increasing credit volumes \n",
      "as a result of a strengthening recovery.\n",
      "\n",
      "\n",
      "This improvement is also evident from the latest bank lending surveys (BLS), which reveal a continued easing of credit supply standards on loans to fi\n",
      "rms which is largely driven by increasing competition among banks.\n",
      "\n",
      "\n",
      "As banks begin attracting additional borrowers, this leads to a gradual easing of credit standards and an additional strengthening of competitive pres\n",
      "sures which lower lending rates and increase loan demand further.\n",
      "\n",
      "\n",
      "This evidence is supported by the findings of model-based analysis carried out by ECB staff, which suggests that credit supply restrictions are no lon\n",
      "ger dampening loan growth to NFCs. Furthermore, according to the ECB survey on the access to finance of enterprises (SAFE), credit conditions are also\n",
      " improving for euro area small and medium-sized enterprises (SMEs), which constitute the backbone of the euro area economy and represent the vast majo\n",
      "rity of firms.\n",
      "\n",
      "\n",
      "This is in part due to the headwinds stemming from the global economy, the structural slowdown in world trade and the financial crisis legacies linger\n",
      "ing in many euro area countries which continue to dampen economic activity.\n",
      "\n",
      "\n",
      "Nevertheless, the narrative of a continued yet moderate recovery is largely echoed in the latest (September 2016) ECB staff macroeconomic projections \n",
      "for euro area activity, which are almost unchanged compared to June 2016.\n",
      "\n",
      "\n",
      "The contribution of our measures to this projected increase in inflation, is significant, representing, on average, an impact on the inflation rate of\n",
      " about half a percentage point each year between 2016 and 2018.\n",
      "\n",
      "\n"
     ]
    }
   ],
   "source": [
    "text_print(ecb.iloc[1]['text_'])"
   ]
  },
  {
   "cell_type": "code",
   "execution_count": 34,
   "metadata": {},
   "outputs": [
    {
     "data": {
      "text/plain": [
       "0                                                 As ...\n",
       "1       The concept of financial innovation, it seems...\n",
       "2       Good afternoon. I would like to thank Standar...\n",
       "3       Thank you for the opportunity to take part in...\n",
       "4       When we convened in Jackson Hole in August 20...\n",
       "                             ...                        \n",
       "734                                               Goo...\n",
       "735     The financial and credit market turmoil that ...\n",
       "736     It is an honor to be invited to deliver the a...\n",
       "737             I am very pleased that the American E...\n",
       "738     Chairman Bernanke presented identical remarks...\n",
       "Name: text, Length: 739, dtype: object"
      ]
     },
     "execution_count": 34,
     "metadata": {},
     "output_type": "execute_result"
    }
   ],
   "source": [
    "fed[\"text\"]"
   ]
  },
  {
   "cell_type": "code",
   "execution_count": 33,
   "metadata": {},
   "outputs": [
    {
     "data": {
      "text/plain": [
       "count      739.000000\n",
       "mean      3543.518268\n",
       "std       1730.606814\n",
       "min        309.000000\n",
       "25%       2256.500000\n",
       "50%       3592.000000\n",
       "75%       4530.500000\n",
       "max      10676.000000\n",
       "Name: text, dtype: float64"
      ]
     },
     "execution_count": 33,
     "metadata": {},
     "output_type": "execute_result"
    }
   ],
   "source": [
    "fed[\"text\"].str.split(\" \").apply(len).describe()"
   ]
  }
 ],
 "metadata": {
  "kernelspec": {
   "display_name": "nlp-env",
   "language": "python",
   "name": "python3"
  },
  "language_info": {
   "codemirror_mode": {
    "name": "ipython",
    "version": 3
   },
   "file_extension": ".py",
   "mimetype": "text/x-python",
   "name": "python",
   "nbconvert_exporter": "python",
   "pygments_lexer": "ipython3",
   "version": "3.9.13"
  },
  "orig_nbformat": 4
 },
 "nbformat": 4,
 "nbformat_minor": 2
}
