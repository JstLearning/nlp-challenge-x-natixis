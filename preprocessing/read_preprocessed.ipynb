{
 "cells": [
  {
   "cell_type": "code",
   "execution_count": 1,
   "metadata": {},
   "outputs": [],
   "source": [
    "import pandas as pd\n",
    "import numpy as np\n",
    "\n",
    "import matplotlib.pyplot as plt\n",
    "\n",
    "from sklearn.model_selection import train_test_split\n",
    "\n",
    "import time\n",
    "import re\n",
    "from langdetect import detect\n",
    "\n",
    "from collections import Counter\n",
    "\n",
    "import reprlib\n",
    "\n",
    "import gc"
   ]
  },
  {
   "cell_type": "code",
   "execution_count": 22,
   "metadata": {},
   "outputs": [],
   "source": [
    "FILENAME = \"../data/train_series.csv\"\n",
    "FILENAME_ECB = \"../data/ecb_data.csv\"\n",
    "FILENAME_FED = \"../data/fed_data.csv\"\n",
    "FILENAME_ECB_P = \"../data/ecb_data_preprocessed.csv\"\n",
    "FILENAME_FED_P = \"../data/fed_data_preprocessed.csv\""
   ]
  },
  {
   "cell_type": "code",
   "execution_count": 23,
   "metadata": {},
   "outputs": [],
   "source": [
    "ecb = pd.read_csv(FILENAME_ECB_P, index_col=0)\n",
    "fed = pd.read_csv(FILENAME_FED_P, index_col=0)"
   ]
  },
  {
   "cell_type": "code",
   "execution_count": 25,
   "metadata": {},
   "outputs": [
    {
     "data": {
      "text/html": [
       "<div>\n",
       "<style scoped>\n",
       "    .dataframe tbody tr th:only-of-type {\n",
       "        vertical-align: middle;\n",
       "    }\n",
       "\n",
       "    .dataframe tbody tr th {\n",
       "        vertical-align: top;\n",
       "    }\n",
       "\n",
       "    .dataframe thead th {\n",
       "        text-align: right;\n",
       "    }\n",
       "</style>\n",
       "<table border=\"1\" class=\"dataframe\">\n",
       "  <thead>\n",
       "    <tr style=\"text-align: right;\">\n",
       "      <th></th>\n",
       "      <th>title</th>\n",
       "      <th>speaker</th>\n",
       "      <th>text</th>\n",
       "      <th>text_</th>\n",
       "    </tr>\n",
       "  </thead>\n",
       "  <tbody>\n",
       "  </tbody>\n",
       "</table>\n",
       "</div>"
      ],
      "text/plain": [
       "Empty DataFrame\n",
       "Columns: [title, speaker, text, text_]\n",
       "Index: []"
      ]
     },
     "execution_count": 25,
     "metadata": {},
     "output_type": "execute_result"
    }
   ],
   "source": [
    "fed[fed[\"text_\"].isna()]"
   ]
  },
  {
   "cell_type": "code",
   "execution_count": 33,
   "metadata": {},
   "outputs": [
    {
     "ename": "TypeError",
     "evalue": "object of type 'float' has no len()",
     "output_type": "error",
     "traceback": [
      "\u001b[1;31m---------------------------------------------------------------------------\u001b[0m",
      "\u001b[1;31mTypeError\u001b[0m                                 Traceback (most recent call last)",
      "Cell \u001b[1;32mIn[33], line 1\u001b[0m\n\u001b[1;32m----> 1\u001b[0m fed[\u001b[39m\"\u001b[39;49m\u001b[39mtext_\u001b[39;49m\u001b[39m\"\u001b[39;49m]\u001b[39m.\u001b[39;49mstr\u001b[39m.\u001b[39;49mstrip(\u001b[39m\"\u001b[39;49m\u001b[39m \u001b[39;49m\u001b[39m\"\u001b[39;49m)\u001b[39m.\u001b[39;49mapply(\u001b[39mlen\u001b[39;49m)\u001b[39m.\u001b[39mdescribe()\n",
      "File \u001b[1;32mc:\\Users\\huuta\\anaconda3\\envs\\nlp-env\\lib\\site-packages\\pandas\\core\\series.py:4433\u001b[0m, in \u001b[0;36mSeries.apply\u001b[1;34m(self, func, convert_dtype, args, **kwargs)\u001b[0m\n\u001b[0;32m   4323\u001b[0m \u001b[39mdef\u001b[39;00m \u001b[39mapply\u001b[39m(\n\u001b[0;32m   4324\u001b[0m     \u001b[39mself\u001b[39m,\n\u001b[0;32m   4325\u001b[0m     func: AggFuncType,\n\u001b[1;32m   (...)\u001b[0m\n\u001b[0;32m   4328\u001b[0m     \u001b[39m*\u001b[39m\u001b[39m*\u001b[39mkwargs,\n\u001b[0;32m   4329\u001b[0m ) \u001b[39m-\u001b[39m\u001b[39m>\u001b[39m DataFrame \u001b[39m|\u001b[39m Series:\n\u001b[0;32m   4330\u001b[0m \u001b[39m    \u001b[39m\u001b[39m\"\"\"\u001b[39;00m\n\u001b[0;32m   4331\u001b[0m \u001b[39m    Invoke function on values of Series.\u001b[39;00m\n\u001b[0;32m   4332\u001b[0m \n\u001b[1;32m   (...)\u001b[0m\n\u001b[0;32m   4431\u001b[0m \u001b[39m    dtype: float64\u001b[39;00m\n\u001b[0;32m   4432\u001b[0m \u001b[39m    \"\"\"\u001b[39;00m\n\u001b[1;32m-> 4433\u001b[0m     \u001b[39mreturn\u001b[39;00m SeriesApply(\u001b[39mself\u001b[39;49m, func, convert_dtype, args, kwargs)\u001b[39m.\u001b[39;49mapply()\n",
      "File \u001b[1;32mc:\\Users\\huuta\\anaconda3\\envs\\nlp-env\\lib\\site-packages\\pandas\\core\\apply.py:1088\u001b[0m, in \u001b[0;36mSeriesApply.apply\u001b[1;34m(self)\u001b[0m\n\u001b[0;32m   1084\u001b[0m \u001b[39mif\u001b[39;00m \u001b[39misinstance\u001b[39m(\u001b[39mself\u001b[39m\u001b[39m.\u001b[39mf, \u001b[39mstr\u001b[39m):\n\u001b[0;32m   1085\u001b[0m     \u001b[39m# if we are a string, try to dispatch\u001b[39;00m\n\u001b[0;32m   1086\u001b[0m     \u001b[39mreturn\u001b[39;00m \u001b[39mself\u001b[39m\u001b[39m.\u001b[39mapply_str()\n\u001b[1;32m-> 1088\u001b[0m \u001b[39mreturn\u001b[39;00m \u001b[39mself\u001b[39;49m\u001b[39m.\u001b[39;49mapply_standard()\n",
      "File \u001b[1;32mc:\\Users\\huuta\\anaconda3\\envs\\nlp-env\\lib\\site-packages\\pandas\\core\\apply.py:1143\u001b[0m, in \u001b[0;36mSeriesApply.apply_standard\u001b[1;34m(self)\u001b[0m\n\u001b[0;32m   1137\u001b[0m         values \u001b[39m=\u001b[39m obj\u001b[39m.\u001b[39mastype(\u001b[39mobject\u001b[39m)\u001b[39m.\u001b[39m_values\n\u001b[0;32m   1138\u001b[0m         \u001b[39m# error: Argument 2 to \"map_infer\" has incompatible type\u001b[39;00m\n\u001b[0;32m   1139\u001b[0m         \u001b[39m# \"Union[Callable[..., Any], str, List[Union[Callable[..., Any], str]],\u001b[39;00m\n\u001b[0;32m   1140\u001b[0m         \u001b[39m# Dict[Hashable, Union[Union[Callable[..., Any], str],\u001b[39;00m\n\u001b[0;32m   1141\u001b[0m         \u001b[39m# List[Union[Callable[..., Any], str]]]]]\"; expected\u001b[39;00m\n\u001b[0;32m   1142\u001b[0m         \u001b[39m# \"Callable[[Any], Any]\"\u001b[39;00m\n\u001b[1;32m-> 1143\u001b[0m         mapped \u001b[39m=\u001b[39m lib\u001b[39m.\u001b[39;49mmap_infer(\n\u001b[0;32m   1144\u001b[0m             values,\n\u001b[0;32m   1145\u001b[0m             f,  \u001b[39m# type: ignore[arg-type]\u001b[39;49;00m\n\u001b[0;32m   1146\u001b[0m             convert\u001b[39m=\u001b[39;49m\u001b[39mself\u001b[39;49m\u001b[39m.\u001b[39;49mconvert_dtype,\n\u001b[0;32m   1147\u001b[0m         )\n\u001b[0;32m   1149\u001b[0m \u001b[39mif\u001b[39;00m \u001b[39mlen\u001b[39m(mapped) \u001b[39mand\u001b[39;00m \u001b[39misinstance\u001b[39m(mapped[\u001b[39m0\u001b[39m], ABCSeries):\n\u001b[0;32m   1150\u001b[0m     \u001b[39m# GH#43986 Need to do list(mapped) in order to get treated as nested\u001b[39;00m\n\u001b[0;32m   1151\u001b[0m     \u001b[39m#  See also GH#25959 regarding EA support\u001b[39;00m\n\u001b[0;32m   1152\u001b[0m     \u001b[39mreturn\u001b[39;00m obj\u001b[39m.\u001b[39m_constructor_expanddim(\u001b[39mlist\u001b[39m(mapped), index\u001b[39m=\u001b[39mobj\u001b[39m.\u001b[39mindex)\n",
      "File \u001b[1;32mc:\\Users\\huuta\\anaconda3\\envs\\nlp-env\\lib\\site-packages\\pandas\\_libs\\lib.pyx:2870\u001b[0m, in \u001b[0;36mpandas._libs.lib.map_infer\u001b[1;34m()\u001b[0m\n",
      "\u001b[1;31mTypeError\u001b[0m: object of type 'float' has no len()"
     ]
    }
   ],
   "source": [
    "fed[\"text_\"].str.strip(\" \").apply(len).describe()"
   ]
  },
  {
   "cell_type": "code",
   "execution_count": 4,
   "metadata": {},
   "outputs": [],
   "source": [
    "def text_print(text, line_char_lim=150):\n",
    "    text_ = text.split('\\n')\n",
    "    for subtext in text_:\n",
    "        n = len(subtext)\n",
    "        k = 0\n",
    "        while k <= n:\n",
    "            print(subtext[k:min(n, k + line_char_lim)])\n",
    "            k += line_char_lim\n",
    "        print('\\n')"
   ]
  },
  {
   "cell_type": "code",
   "execution_count": 5,
   "metadata": {},
   "outputs": [
    {
     "name": "stdout",
     "output_type": "stream",
     "text": [
      "  Securing sustained economic growth in the euro area   Speech by Vítor Constâncio, Vice-President of the ECB, at the G30 Meeting in Washington, 9 Oct\n",
      "ober 2016 Ladies and Gentlemen, Thank you for inviting me here today and for giving me the opportunity to be part of such a distinguished panel. The s\n",
      "ubject matter of our panel is a demanding one. Nine years after the beginning of the crisis, advanced economies are apparently settled in a regime of \n",
      "low growth and low inflation with no end in sight. In many places, a weary complacency seems to be reconciled with the “new normal long-term economic \n",
      "equilibrium”. However, in our democratic societies this is not a stable social equilibrium. It is not even a sustainable long-term economic equilibriu\n",
      "m. Our economies need a higher level of nominal growth to work properly: to absorb overhangs from the crisis, to spur investment and productivity, to \n",
      "generate enough return for the pensions of an ageing population. The OECD referred to the present situation as a “self-reinforcing low growth trap” an\n",
      "d the IMF”s Maurice Obstfeld stated “Without determined policy action to support economic activity over the short and longer terms, sub-par growth at \n",
      "recent levels risks perpetuating itself – through the negative economic and political forces it is unleashing.”. The self-perpetuating nature of the p\n",
      "resent dynamics, underlined by both institutions, has to be broken by new significant policy initiatives that can lift confidence and “animal spirits”\n",
      " in our economies.  Following the initial broad-based policy reaction, monetary policy has done most of the expansionary effort to support the recover\n",
      "y. Yet, securing sustained economic growth and employment cannot be dependent on monetary policy alone. At the national and European levels, a much mo\n",
      "re comprehensive policy response is needed, especially now that markets have started to show scepticism about what monetary policy can continue to do \n",
      "going forward.  This underpins the urgency of both a meaningful implementation of targeted structural reforms and the adoption of growth friendly fisc\n",
      "al policies.  Prospects for the euro area economy Turning to recent euro area developments, the recovery is continuing its moderate but steady pace, s\n",
      "upported mainly by the ECB’s expansionary policies, which have significantly improved financial conditions, reduced financial fragmentation and suppor\n",
      "ted economic activity and inflation. In the absence of our measures, both growth and inflation in the euro area would have been significantly worse, a\n",
      "s our models calculate that inflation and growth would be lower by 0.8 and 0.7 percentage points, respectively, than the forecast values of 0.2% and 1\n",
      ".7% for this year.  For three years now, inflation has been quite low with a level of 0.4% in 2014, 0% last year and 0.2% forecast for this year. Howe\n",
      "ver, the recent flash estimate for September at 0.4% may indicate a movement compatible with our baseline scenario that foresees a gradual increase to\n",
      " levels above 1% by next spring, if no major downward movement in commodity prices takes place. Additionally, the normalisation of inflation depends o\n",
      "n the continued closing of the negative output gap and more dynamic wage behaviour.  In the first half of 2016 the euro area grew at an annualised rat\n",
      "e of 1.7%, similar to last year’s growth rate. This figure is far from being impressive, especially considering that the euro area is in the early pha\n",
      "se of a recovery after the second recession in 2012 and 2013. On the other hand, the unemployment rate, albeit falling, still remains above 10% amid a\n",
      " continuous increase in the participation rate in the labour force since the crisis. One positive aspect is that our policies have contributed to a de\n",
      "crease in financial fragmentation and that the dispersion of GDP growth and inflation across euro area countries is at the lowest level since the begi\n",
      "nning of monetary union in 1999. Another positive note is that the recent growth was largely driven by domestic demand. Moreover, the recovery has pro\n",
      "ved resilient to a series of adverse shocks over the past year: the slowdown in China last summer, the acute stock market turbulence in the early part\n",
      " of this year and, most recently, the uncertainty created by the UK referendum.  At the same time, this resilience reflects to a large degree the amou\n",
      "nt of monetary expansion – actual and expected – that is embedded in financial prices. Indeed, with the five packages of measures we have adopted sinc\n",
      "e June 2014, we have reduced the cost of capital, produced rebalancing effects in other asset markets, improved credit supply conditions and restored \n",
      "credit volume growth since the latter part of 2014, after two years of negative developments.    Figure 1:      Yields on bank and non-financial bonds\n",
      " have eased by 90 and 100 basis points, respectively, in response to the measures taken, testifying to the effectiveness of the current policy package\n",
      ". Funding conditions for banks improved as wholesale money market rates became negative and as banks received direct support from new liquidity facili\n",
      "ties with four-year maturities and low rates (TLTRO-I and II). These developments have stimulated the pass-through of this funding cost relief to borr\n",
      "owing costs for both firms and households.  As a consequence, bank lending rates to non-financial corporations (NFCs) and households are now at histor\n",
      "ical lows, and there has been a significant reduction in the fragmentation of lending rates across euro area countries as well as for large and small \n",
      "loans (see Figures 2 and 3). It is also important to note that the establishment of the Single Supervisory Mechanism (SSM) in November 2014 helped put\n",
      " the banking sector in a stronger position to transmit our monetary impulses.    Figure 2:        Figure 3:      The capital position of euro area sig\n",
      "nificant banks has been improving from a common equity capital ratio (CET1) of 7% in 2008 and 9% in 2012, and now stands 14.4%, with a total capital r\n",
      "atio of 18%. The problem for European banks lies, however, in the present low profitability levels resulting from legacy non-performing loans, excess \n",
      "banking capacity, growing competition from non-banks and slow adjustment to new business models. Return on equity in the first half of 2016 was just 5\n",
      ".8%, against 5.5% for the whole of last year. The low profitability has driven a poor performance of stock prices, leading to quite low price-to-book \n",
      "ratios. Contrary to some perceptions, our monetary policy has had a positive effect on the profitability of banks since 2014, by reducing their fundin\n",
      "g costs, by ensuring capital gains related to higher prices of financial assets affected by QE, by reducing impairment costs and by increasing credit \n",
      "volumes as a result of a strengthening recovery. We are aware that some of these effects will wane with time and that the banking sector will have to \n",
      "undergo structural reforms to overcome the challenges of a low profitability environment that, looking forward, is not sustainable. Public policy init\n",
      "iatives are necessary to foster the restructuring efforts.  In spite of the present headwinds, banks have resumed credit expansion since late 2014 to \n",
      "a present growth rate of 1.9%. This improvement is also evident from the latest bank lending surveys (BLS), which reveal a continued easing of credit \n",
      "supply standards on loans to firms which is largely driven by increasing competition among banks. This increased competition has been one of the main \n",
      "mechanisms through which our measures – notably TLTROs – have been operating and has squeezed bank margins, causing bank lending rates to fall and, co\n",
      "nsequently, net demand for borrowing to increase. As banks begin attracting additional borrowers, this leads to a gradual easing of credit standards a\n",
      "nd an additional strengthening of competitive pressures which lower lending rates and increase loan demand further. This in turn supports macroeconomi\n",
      "c conditions and reduces non-performing loans, thereby validating ex post the lower lending rate and creating a positive feedback loop. In effect, our\n",
      " credit easing measures have stimulated banks to start competing again for good credit. This evidence is supported by the findings of model-based anal\n",
      "ysis carried out by ECB staff, which suggests that credit supply restrictions are no longer dampening loan growth to NFCs. Furthermore, according to t\n",
      "he ECB survey on the access to finance of enterprises (SAFE), credit conditions are also improving for euro area small and medium-sized enterprises (S\n",
      "MEs), which constitute the backbone of the euro area economy and represent the vast majority of firms.   Staff economic projections Overall, the impac\n",
      "t of our measures has been significant, but the euro area recovery has certainly not been as fast as we had hoped. This is in part due to the headwind\n",
      "s stemming from the global economy, the structural slowdown in world trade and the financial crisis legacies lingering in many euro area countries whi\n",
      "ch continue to dampen economic activity. These factors explain why the risks to the outlook remain to the downside.  Nevertheless, the narrative of a \n",
      "continued yet moderate recovery is largely echoed in the latest (September 2016) ECB staff macroeconomic projections for euro area activity, which are\n",
      " almost unchanged compared to June 2016. Real GDP is projected to grow at an annual rate of 1.7% in 2016, 1.6% in 2017 and 1.6% in 2018. Since the pro\n",
      "jections cut-off date, the flow of high frequency data has been consistent with the materialisation of this baseline scenario. Crucially, this project\n",
      "ion is predicated on the current supportive financial conditions persisting. In fact, it is estimated that, cumulatively, the impact of our measures w\n",
      "ill contribute more than one and a half percentage points to real GDP growth between 2015 and 2018.  Regarding inflation, the latest ECB staff project\n",
      "ions foresee a rise to 1.2% in 2017 and 1.6% in 2018. The contribution of our measures to this projected increase in inflation, is significant, repres\n",
      "enting, on average, an impact on the inflation rate of about half a percentage point each year between 2016 and 2018.  In sum, the recovery has shown \n",
      "resilience in the face of a sequence of adverse shocks affecting the economy, although inflation dynamics have remained weak. In addition, the envisag\n",
      "ed return of inflation over the next couple of years to levels more consistent with our aim of below but close to 2% is very much dependent on the ful\n",
      "l implementation of our policy package. Last March we took a powerful set of measures by increasing our asset purchase programme and extending it to c\n",
      "orporate bonds. We also introduced a new medium-term liquidity facility with interest rates that can go as low as our negative deposit facility rate, \n",
      "contingent on the banks reaching a credit growth benchmark. As the ECB Governing Council has committed itself to pursuing the present set of policies,\n",
      " particularly the QE component, until we attain “a sustained path towards our inflation objective” and “at least until March 2017”, we will have to de\n",
      "cide closer to that date the final timeline of the programme and its conditions. We have not yet started any discussion about this issue, but we have \n",
      "become aware that market developments have raised increasing implementation challenges for asset purchases in the future. On account of this, in Septe\n",
      "mber the Governing Council tasked the relevant Eurosystem committees to evaluate the options that will ensure a smooth implementation of our purchase \n",
      "programme until March 2017, or beyond, if needed. The committees will report back to the Governing Council by December 2016.  It should be noted that \n",
      "the parameters of the programme can be adjusted at any time to achieve the intended amount of purchases, and it should be stressed that the Governing \n",
      "Council will continue to implement an accommodative monetary policy to fulfil its price stability objective.   Other policies  Monetary policy is effe\n",
      "ctive in correcting cyclical fluctuations, but it also contributes to medium-term growth by increasing capacity-building investment and by acceleratin\n",
      "g the closing of the output gap, thereby avoiding hysteresis effects in the labour market and in the capital stock that are detrimental to potential g\n",
      "rowth. Nevertheless, it is indisputable that long-term economic growth is mostly determined by supply-side factors such as productivity, technological\n",
      " innovation, the business environment and the quality of public institutions. In all euro area countries there is room for improvement in these areas.\n",
      " This requires governments to continue to implement a comprehensive and focused suite of structural reforms. Fiscal policy also needs to play a larger\n",
      " role in supporting the recovery. Fiscal expansion can contribute to increased interest rates by expanding the supply of safe assets. Conceptually, in\n",
      " terms of overlapping generations models with small Ricardian effects, this would also push upwards the real equilibrium interest rate.  While many eu\n",
      "ro area countries have very limited fiscal room for manoeuvre, those that have some should use it. All countries, however, should look at ways to enha\n",
      "nce the composition of their fiscal policies with a view to making it more growth-friendly, particularly in the area of taxation and the share of publ\n",
      "ic investment. Only with the right combination of structural and fiscal policies is it possible to fully reap the benefits of our accommodative moneta\n",
      "ry policy and increase the euro area’s potential growth. At the European level, firms and households need more clarity over the future institutional s\n",
      "et-up of the euro area, which is incomplete in key areas, such as banking union and capital markets union. This uncertainty is detrimental to investme\n",
      "nt, increases the precautionary saving of households and undermines our monetary policy effectiveness. As I mentioned at the beginning, we need govern\n",
      "ments to activate an assertive three-pronged strategy of growth initiatives that can break the self-reinforcing mechanisms mentioned by the OECD and t\n",
      "he IMF that seem to be condemning the advanced economies to a mediocre regime of socially unsustainable low nominal growth.  Thank you for your attent\n",
      "ion.  \n",
      "\n",
      "\n"
     ]
    }
   ],
   "source": [
    "text_print(fed.iloc[1]['text'])"
   ]
  },
  {
   "cell_type": "code",
   "execution_count": 6,
   "metadata": {},
   "outputs": [
    {
     "name": "stdout",
     "output_type": "stream",
     "text": [
      "The OECD referred to the present situation as a “self-reinforcing low growth trap” and the IMF”s Maurice Obstfeld stated “Without determined policy ac\n",
      "tion to support economic activity over the short and longer terms, sub-par growth at recent levels risks perpetuating itself – through the negative ec\n",
      "onomic and political forces it is unleashing.”.\n",
      "\n",
      "\n",
      "Prospects for the euro area economy Turning to recent euro area developments, the recovery is continuing its moderate but steady pace, supported mainl\n",
      "y by the ECB’s expansionary policies, which have significantly improved financial conditions, reduced financial fragmentation and supported economic a\n",
      "ctivity and inflation.\n",
      "\n",
      "\n",
      "One positive aspect is that our policies have contributed to a decrease in financial fragmentation and that the dispersion of GDP growth and inflation\n",
      " across euro area countries is at the lowest level since the beginning of monetary union in 1999.\n",
      "\n",
      "\n",
      "Indeed, with the five packages of measures we have adopted since June 2014, we have reduced the cost of capital, produced rebalancing effects in other\n",
      " asset markets, improved credit supply conditions and restored credit volume growth since the latter part of 2014, after two years of negative develop\n",
      "ments.\n",
      "\n",
      "\n",
      "As a consequence, bank lending rates to non-financial corporations (NFCs) and households are now at historical lows, and there has been a significant \n",
      "reduction in the fragmentation of lending rates across euro area countries as well as for large and small loans (see Figures 2 and 3).\n",
      "\n",
      "\n",
      "Contrary to some perceptions, our monetary policy has had a positive effect on the profitability of banks since 2014, by reducing their funding costs,\n",
      " by ensuring capital gains related to higher prices of financial assets affected by QE, by reducing impairment costs and by increasing credit volumes \n",
      "as a result of a strengthening recovery.\n",
      "\n",
      "\n",
      "This improvement is also evident from the latest bank lending surveys (BLS), which reveal a continued easing of credit supply standards on loans to fi\n",
      "rms which is largely driven by increasing competition among banks.\n",
      "\n",
      "\n",
      "As banks begin attracting additional borrowers, this leads to a gradual easing of credit standards and an additional strengthening of competitive pres\n",
      "sures which lower lending rates and increase loan demand further.\n",
      "\n",
      "\n",
      "This evidence is supported by the findings of model-based analysis carried out by ECB staff, which suggests that credit supply restrictions are no lon\n",
      "ger dampening loan growth to NFCs. Furthermore, according to the ECB survey on the access to finance of enterprises (SAFE), credit conditions are also\n",
      " improving for euro area small and medium-sized enterprises (SMEs), which constitute the backbone of the euro area economy and represent the vast majo\n",
      "rity of firms.\n",
      "\n",
      "\n",
      "This is in part due to the headwinds stemming from the global economy, the structural slowdown in world trade and the financial crisis legacies linger\n",
      "ing in many euro area countries which continue to dampen economic activity.\n",
      "\n",
      "\n",
      "Nevertheless, the narrative of a continued yet moderate recovery is largely echoed in the latest (September 2016) ECB staff macroeconomic projections \n",
      "for euro area activity, which are almost unchanged compared to June 2016.\n",
      "\n",
      "\n",
      "The contribution of our measures to this projected increase in inflation, is significant, representing, on average, an impact on the inflation rate of\n",
      " about half a percentage point each year between 2016 and 2018.\n",
      "\n",
      "\n"
     ]
    }
   ],
   "source": [
    "text_print(ecb.iloc[1]['text_'])"
   ]
  },
  {
   "cell_type": "code",
   "execution_count": 7,
   "metadata": {},
   "outputs": [
    {
     "data": {
      "text/plain": [
       "0                                                 As ...\n",
       "1       The concept of financial innovation, it seems...\n",
       "2       Good afternoon. I would like to thank Standar...\n",
       "3       Thank you for the opportunity to take part in...\n",
       "4       When we convened in Jackson Hole in August 20...\n",
       "                             ...                        \n",
       "734                                               Goo...\n",
       "735     The financial and credit market turmoil that ...\n",
       "736     It is an honor to be invited to deliver the a...\n",
       "737             I am very pleased that the American E...\n",
       "738     Chairman Bernanke presented identical remarks...\n",
       "Name: text, Length: 739, dtype: object"
      ]
     },
     "execution_count": 7,
     "metadata": {},
     "output_type": "execute_result"
    }
   ],
   "source": [
    "fed[\"text\"]"
   ]
  },
  {
   "cell_type": "code",
   "execution_count": 8,
   "metadata": {},
   "outputs": [
    {
     "data": {
      "text/plain": [
       "count      739.000000\n",
       "mean      3543.518268\n",
       "std       1730.606814\n",
       "min        309.000000\n",
       "25%       2256.500000\n",
       "50%       3592.000000\n",
       "75%       4530.500000\n",
       "max      10676.000000\n",
       "Name: text, dtype: float64"
      ]
     },
     "execution_count": 8,
     "metadata": {},
     "output_type": "execute_result"
    }
   ],
   "source": [
    "fed[\"text\"].str.split(\" \").apply(len).describe()"
   ]
  },
  {
   "cell_type": "code",
   "execution_count": 15,
   "metadata": {},
   "outputs": [
    {
     "name": "stdout",
     "output_type": "stream",
     "text": [
      "                                           As an educator myself, it's a pleasure to be here today to take part in this important event that brings pe\n",
      "ople together from educational organizations all over the country, with the common goal of educating students and citizens in the fundamentals of econ\n",
      "omic and financial literacy. As many of you know, the Federal Reserve has had a long and fruitful relationship with the National Council on Economic E\n",
      "ducation (NCEE), through our many Reserve Bank collaborative efforts around the country, and through leadership at the national level. This leadership\n",
      " is evidenced, in part, by the involvement of my former and present colleagues on the Federal Open Market Committee, Cathy Minehan and Gary Stern, who\n",
      " currently serve as NCEE board members. Cathy, of course, is the former president of the Federal Reserve Bank of Boston, a bank that under her leaders\n",
      "hip has played a key role in furthering economic education in our New England states. Gary is president of the Federal Reserve Bank of Minneapolis, fr\n",
      "om where he has served not only as a long-time member on NCEE's board, but also as its chair. And they are just two of the many Federal Reserve Bank p\n",
      "residents and officials who have worked to foster and improve economic education with the National Council over the years.  There can hardly be a bett\n",
      "er time to make the case for economic and financial literacy than right now. Others have doubtless stood before an audience like you in years past and\n",
      " made the same case, but now we face a downturn in our housing industry fueled, at least in part, by unwise mortgage borrowing and, at times, abusive \n",
      "lending practices. Improving consumers' knowledge of the home mortgage process will better equip them to avoid unsuitable mortgages in the future. Our\n",
      " national economy has been strained by this housing slowdown and other forces, causing policymakers and others to debate what response is necessary. A\n",
      "lso, during this election season, we are reminded of the importance of economic issues. Just a brief consideration of these three cases shows that a b\n",
      "etter-educated citizenry can not only contribute to a better functioning economy, but also to a more-effective government.  On the first point, many l\n",
      "essons can be drawn from the downward swing in the housing industry, ranging from those that individual consumers can learn at the micro level, to tho\n",
      "se that financial companies can learn about investment and oversight. In that regard, the Federal Reserve has proposed new rules to strengthen regulat\n",
      "ory oversight and to protect consumers in the future, and we continue to assess this episode to determine what more can be done to help homebuyers and\n",
      " homeowners. Of course, one of the most effective ways to help consumers is to empower them with information. And this gets to our first case for econ\n",
      "omic and financial literacy: Improving consumers' economic decision making will enhance the effectiveness of new rules and regulations. And while we a\n",
      "t the Federal Reserve are charged with regulatory duties, we certainly see the value of education and the positive impact it can have on the broader e\n",
      "conomy. While the current troubles in the housing industry stem from a number of causes, a better-informed citizenry would likely have resulted in mor\n",
      "e-prudent decision making and, consequently, less harm to the economy. In the matter of the national economy, here the call for economic education is \n",
      "based on the idea that a better-informed citizenry makes for better economic policymaking. This is a subtle argument, but its logic is no less clear. \n",
      "As my friend Alan Blinder, the noted Princeton economist and textbook author, as well as the former vice chairman of the Federal Reserve's Board of Go\n",
      "vernors, has said, an uneducated citizenry can lead to simplistic policy solutions, and those solutions are usually suboptimal. \"The fact that the bas\n",
      "ic level of economic literacy in the country, indeed in the world, is so low,\" Alan has said, \"is one of the things that leaves the political process \n",
      "so vulnerable to this malady.\"1 Now, even Alan would admit that it's difficult to draw a direct line from economic literacy to economic policymaking, \n",
      "but politicians listen to their constituents at home, just as they are supposed to do. And at a time when our elected officials are confronted with a \n",
      "myriad of options to address a slowing economy, or when they consider the increasing fears about a globalizing economy, it's fair to ask whether they \n",
      "are getting good economic counsel from their constituents. This is not to say that there is only one valid answer for these complicated questions, but\n",
      " it does mean that we get a better answer when we are all better informed. Let me reinforce this point by sharing this quote from Ben Bernanke, Chairm\n",
      "an of the Federal Reserve's Board of Governors: The Federal Reserve's mission of conducting monetary policy and maintaining a stable financial system \n",
      "depends upon the participation and support of an educated public. Accomplishing this mission involves trade-offs and tough decisions. As the Fed pursu\n",
      "es the monetary policy objectives that have been set out for us by Congress--to pursue price stability, maximum employment, and moderate long-term int\n",
      "erest rates--it is essential that the public understand our objectives and our actions. Educating the public about the reasoning behind our decisions \n",
      "helps build confidence in our economic system--another critical factor in keeping our economy running smoothly.2 Chairman Bernanke made those comments\n",
      " nearly two years ago, but the message is no less relevant today. Let's now consider our third case for economic and financial literacy--the role of c\n",
      "itizens as voters. Americans elect a president every four years and we also send representatives and senators to Washington. As is so often the case, \n",
      "the pundits and the opinion polls tell us that the top issues on voters' minds this year are those relating to the economy. What do the candidates hav\n",
      "e to say about how, if at all, the federal government should address the lagging national economy? How about issues relating to trade? Taxes? Income i\n",
      "nequality? Even issues that are not often described as economic--such as health care, education, and the environment--are informed by an understanding\n",
      " of economic principles. All these issues are better understood by an appreciation of tradeoffs, cost-benefit ratios, and opportunity cost, to name ju\n",
      "st a few core economic tools and principles.  Finally, as we are so often told, people vote with their pocketbooks. And not only do they vote with the\n",
      "ir pocketbooks, they also make a lot of pocketbook decisions every day that have an impact on the health of the economy, such as whether to take on a \n",
      "particular mortgage, how much to save and invest, whether to lease or buy a car, and how to manage credit cards. This brings us back to the importance\n",
      " of financial literacy. The choices we make as individuals--as consumers, investors, and even voters--are linked to the broader economy in ways that w\n",
      "e don't always appreciate. However, one thing is certain--we make better decisions if we are better informed, and the whole economy benefits. That's t\n",
      "he promise of economic education--to get back to the title of this session--that it not only improves the lives of individual consumers, but that it a\n",
      "lso makes for more-effective policy and a better economy. Delivering on that promise is the hard part, of course, but that's where the National Counci\n",
      "l comes in. We at the Federal Reserve are proud of our relationship with the National Council and with other educational organizations around the coun\n",
      "try, and we look forward to continuing this important work. The task at hand is not easy, as all of you know, but the returns are high.   Footnotes 1.\n",
      "  Blinder, Alan S, (1994), \"Interview with Alan S. Blinder,\" The Region, Federal Reserve Bank of Minneapolis, December, Return to text 2.  Bernanke, B\n",
      "en (2006), \"A Message from Chairman Bernanke,\" Federal Reserve Bank of Dallas, July, Return to text \n",
      "\n",
      "\n"
     ]
    }
   ],
   "source": [
    "text_print(fed.iloc[0][\"text\"])"
   ]
  },
  {
   "cell_type": "code",
   "execution_count": null,
   "metadata": {},
   "outputs": [],
   "source": [
    "fed.iloc"
   ]
  },
  {
   "cell_type": "code",
   "execution_count": 17,
   "metadata": {},
   "outputs": [
    {
     "data": {
      "text/plain": [
       "(739, 4)"
      ]
     },
     "execution_count": 17,
     "metadata": {},
     "output_type": "execute_result"
    }
   ],
   "source": [
    "fed.shape"
   ]
  },
  {
   "cell_type": "code",
   "execution_count": 16,
   "metadata": {},
   "outputs": [
    {
     "name": "stdout",
     "output_type": "stream",
     "text": [
      " The concept of financial innovation, it seems, has fallen on hard times. Subprime mortgage loans, credit default swaps, structured investment vehicles, and other more-recently developed financial products have become emblematic of our present financial crisis. Indeed, innovation, once held up as the solution, is now more often than not perceived as the problem. I think that perception goes too far, and innovation, at its best, has been and will continue to be a tool for making our financial system more efficient and more inclusive. But, as we have seen only too clearly during the past two years, innovation that is inappropriately implemented can be positively harmful. In short, it would be unwise to try to stop financial innovation, but we must be more alert to its risks and the need to manage those risks properly. My remarks today will focus on the consumer protection issues raised by financial innovation. First, though, I want to say how pleased I am to join you for the sixth biennial Federal Reserve System Community Affairs Research Conference. We all want to see our communities grow and thrive, especially those that have been traditionally underserved. But the people in this room know as well as anyone that, when it comes to consumer protection and community development, good intentions are not enough. Hard-won knowledge, as exemplified by the empirical work presented here during the past two days, is required. I applaud your diligent and tough-minded research in analyzing what works and what doesn't. Only with such knowledge can efforts to spread prosperity more widely become increasingly effective. Sources of Financial InnovationWhere does financial innovation come from? In the United States in recent decades, three particularly important sources of innovation have been financial deregulation, public policies toward credit markets, and broader technological change. I'll talk briefly about each of these sources. The process of financial deregulation began in earnest in the 1970s, a period when stringent regulations limited competition and the range of product offerings in the markets for consumer credit. For example, Regulation Q, which capped interest rates on deposits, hampered the ability of depository institutions to attract funding and thus to extend credit. Restrictions on branching were a particularly significant constraint, as they limited the size of the market that individual depository institutions could service and thus their scope to reduce costs through economies of scale.1 The lifting of these regulations, especially branching restrictions, allowed the development of national banking networks. With national networks, the fixed costs of product innovation could be spread over larger markets, making the development and marketing of new products more profitable. Many public policy decisions have affected the evolution of financial products and lending practices. One particularly important example was the Community Reinvestment Act of 1977 (CRA), which induced lenders to find ways to extend credit and provide services in low- and moderate-income neighborhoods. Another important set of policies was the government's support for the development of secondary mortgage markets, particularly through the government-sponsored enterprises, Fannie Mae and Freddie Mac. Secondary mortgage markets were rudimentary and thin in the 1970s; indeed, the Federal Reserve's Flow of Funds accounts do not even record private securitization activity until the early 1980s. As secondary mortgage markets--an important innovation in themselves--grew, they gave lenders both greater access to funding and better ability to diversify, providing further impetus to expansion into new markets and new products. On the technological front, advances in information technology made possible the low-cost collection, processing, and dissemination of household and business financial data, functions that were once highly localized and, by today's standards, inefficiently managed.2 As credit reporting advanced, models for credit scoring gradually emerged, allowing for ever-faster evaluation of creditworthiness, identification of prospective borrowers, and management of existing accounts.  All these developments had their positive aspects, including for people in low- and moderate-income communities. Prior to the introduction of the CRA, as you know, many of these communities had limited access to mortgages and other forms of consumer credit. Subsequent innovations in financial products and services, processes, and technology helped at least some underserved consumers more fully enter the financial mainstream, save money, invest, and build wealth, and homeownership rates rose significantly. Yet with hindsight, we can see that something went wrong in recent years, as evidenced by the currently high rates of mortgage delinquency and foreclosure, especially in minority and lower-income neighborhoods. Indeed, we have come almost full circle, with credit availability increasingly restricted for low- and moderate-income borrowers. And the damage from this turn in the credit cycle--in terms of lost wealth, lost homes, and blemished credit histories--is likely to be long-lasting. One would be forgiven for concluding that the assumed benefits of financial innovation are not all they were cracked up to be.  A number of factors explain the recent credit boom and bust, including problems stemming from financial innovation. From a consumer protection point of view, a particular concern has been the sharp increase in the complexity of the financial products offered to consumers, complexity which has been a side effect of innovation but which also has in many cases been associated with reduced transparency and clarity in the products being offered. I will illustrate the issue in the context of some familiar forms of consumer credit: credit cards, mortgages, and overdraft protection. Credit Cards, Mortgages, and Overdrafts: Some Instructive ExamplesThe credit card is an example of financial innovation driven by technological advance, including improvements in communications, data management, and credit scoring. When the first general-purpose credit card was issued in 1952, it represented a way to make small loans more quickly and at a lower cost than the closed-end installment loans offered by retailers and finance companies at the time. Moreover, this form of credit doubled as a means of payment. Card issuers benefited by spreading fixed costs over multiple advances of credit, over larger customer bases, across geographic areas, and among many merchants.3 From the consumer's perspective, credit cards provided convenience, facilitated recordkeeping, and offered security from loss (by theft, for example).4 Their use gradually expanded among American families, rising to 43 percent in 1983 and to 70 percent by 2007. Among lower-income families, usage increased from 11 percent in 1983 to 37 percent in 2007.5  Mortgage markets saw similar product innovations. For example, in the early 1990s, automated underwriting systems helped open new opportunities for underserved consumers to obtain traditional forms of mortgage credit. This innovation was followed by an expansion of lending to borrowers perceived to have high credit risk, which became known as the subprime market. Lenders developed new techniques for using credit information to determine underwriting standards, set interest rates, and manage their risks. As I have already mentioned, the ongoing growth and development of the secondary mortgage market reinforced the effect of these innovations, giving mortgage lenders greater access to the capital markets, lowering transaction costs, and spreading risk more broadly. Subprime lending rose dramatically from 5 percent of total mortgage originations in 1994 to about 20 percent in 2005 and 2006.6 Innovation thus laid the groundwork for the expansion of credit card and mortgage lending that has taken place over the past 15 years or so, as well as some other forms of credit like auto loans. However, while innovation often brought consumers improved access to credit, it also brought increased complexity and an array of choices that consumers have often found difficult to evaluate properly. Take the case of credit cards. In the early days, a card may have allowed the user to make purchases or obtain cash advances, with a single, unchanging annual percentage rate, or APR, applied to each feature. Card fees were typically limited to an annual fee, a charge for cash advances, and perhaps fees for making a late payment or exceeding the credit limit. In contrast, today's more-complex products offer balance transfers and treat different classes of purchases and cash advances as different features, each with its own APR. In addition, interest rates adjust much more frequently than they once did, and the array of fees charged for various features, requirements, or services has grown. More-complex plans may benefit some consumers; for example, pricing that varies according to consumers' credit risk and preferences for certain services may improve access to credit and allow for more-customized products. Growing complexity, however, has increased the probability that even the most diligent consumers will not understand or notice key terms that affect a plan's cost in important ways. When complexity reaches the point of reducing transparency, it impedes competition and leads consumers to make poor choices. And, in some cases, complexity simply serves to disguise practices that are unfair and deceptive.  Mortgage products have likewise become much more complex. Moreover, in recent years, the increased complexity has sometimes interacted with weakened incentives for good underwriting, to the detriment of the borrower. The practice of securitization, notwithstanding its benefits, appears to have been one source of the decline in underwriting standards during the recent episode. Depending on the terms of the sale, originators who sold mortgage loans passed much of the risk--including the risks of poor underwriting--on to investors. Compensation structures for originators also caused problems in some cases. For example, some incentive schemes linked originator revenue to particular loan features and to volume rather than to the quality of the loan. Complexity made the problem worse, as the wide array of specialized products made consumer choices more difficult. For example, some originators offered what were once niche products--such as interest-only mortgages or no-documentation loans--to a wider group of consumers. And, we have learned, loan features matter. Some studies of mortgage lending outcomes, after controlling for borrower characteristics, have found elevated levels of default associated with certain loan features, including adjustable rates and prepayment penalties, as well as with certain origination channels, including broker originations.7 Although these results are not conclusive, they suggest that complexity may diminish consumers' ability to identify products appropriate to their circumstances. The vulnerabilities created by misaligned incentives and product complexity in the mortgage market were largely disguised so long as home prices continued to appreciate, allowing troubled borrowers to refinance or sell their properties. Once housing prices began to flatten and then decline, however, the problems became apparent. Mortgage delinquencies and foreclosure starts for subprime mortgages increased dramatically beginning in 2006 and spread to near-prime (alt-A) loans soon thereafter. By the fourth quarter of 2008, the percentages of loans 60 days past due, 90 days or more past due, and in foreclosure were at record highs.8 Credit cards and mortgages are not the only product classes for which innovation has been associated with increased complexity and reduced transparency. I will cite one more example: overdraft protection.  Historically, financial institutions used their discretion to determine whether to pay checks that would overdraw a consumer's account. In recent years, institutions automated that process with predetermined thresholds.  Although institutions usually charged the same amount when they paid an overdraft as when they returned the check unpaid, many consumers appreciated this service because it saved them from additional merchant fees and the embarrassment of a bounced check. However, technological innovations allowed institutions to extend the service, often without consumers' understanding or approval, to non-check transactions such as ATM withdrawals and debit card transactions. As a result, consumers who used their debit cards at point-of-sale terminals to make retail purchases, for instance, could inadvertently incur hundreds of dollars in overdraft fees for small purchases. In response to this problem, the Board last December proposed regulatory changes that would give consumers a meaningful choice regarding the payment of these kinds of overdraft fees, and we expect to issue a final rule later this year.  Protecting Consumers in an Era of Innovation and ComplexityIn light of this experience, how should policymakers ensure that consumers are protected without stifling innovation that improves product choice and expands access to sustainable credit? The first line of defense undoubtedly is a well-informed consumer. The Federal Reserve System has a long-standing commitment to promoting financial literacy, and we devote considerable resources to helping consumers educate themselves about their financial options.9 Consumers who know what questions to ask are considerably better able to find the financial products and services that are right for them. The capacity of any consumer, including the best informed, to make good choices among financial products is enhanced by clear and well-organized disclosures. The Board has a number of responsibilities and authorities with respect to consumer disclosures, responsibilities we take very seriously. In the past year or so, the Board has developed extensive new disclosures for a variety of financial products, most notably credit cards, and we are currently in the midst of a major overhaul of mortgage disclosures.  In designing new disclosures, we have increased our use of consumer testing. The process of exploring how consumers process information and come to understand--or sometimes misunderstand--important features of financial products has proven eye-opening. We have used what we learned from consumer testing to make our required disclosures better. For example, our recently released rules on credit card disclosures require certain key terms to be included in a conspicuous table provided at account opening; we took this route because our field testing indicated that consumers were often already familiar with and able to interpret such tables on applications and solicitations, but that they were unlikely to read densely written account agreements. We have also learned from consumer testing, however, that not even the best disclosures are always adequate. According to our testing, some aspects of increasingly complex products simply cannot be adequately understood or evaluated by most consumers, no matter how clear the disclosure. In those cases, direct regulation, including the prohibition of certain practices, may be the only way to provide appropriate protections. An example that came up in our recent rulemaking was the allocation of payments by credit card issuers. As creditors began offering different interest rates for purchases, cash advances, and balance transfers, they were also able to increase their revenues through their policies for allocating consumer payments. For example, a consumer might be charged 12 percent on purchases but 20 percent for cash advances. Under the old rules, if the consumer made a payment greater than the minimum required payment, most creditors would apply the payment to the purchase balance, the portion with the lower rate, thus extending the period that the consumer would be paying the higher rate. Under these circumstances, the consumer is effectively prevented from paying off the cash advance balance unless the purchase balance is first paid in full.  In an attempt to help consumers understand this practice and its implications, the Federal Reserve Board twice designed model disclosures that were intended to inform consumers about payment allocation. But extensive testing indicated that, when asked to review and interpret our best attempts at clear disclosures, many consumers did not demonstrate an understanding of payment allocation practices sufficient to make informed decisions. In light of the apparent inadequacy of disclosures alone in this case, and because the methods of payment allocation used by creditors were clearly structured to produce the maximum cost to the consumer, last year we put rules in place that will limit the discretion of creditors to allocate consumers' payments made above the minimum amount required. We banned so-called double-cycle billing--in which a bank calculates interest based not only on the current balance, but also on the prior month's balance--on similar grounds; we found from testing that the complexity of this billing method served only to reduce transparency to the consumer without producing any reasonable benefit. These actions were part of the most comprehensive change to credit card regulations ever adopted by the Board. Similar issues have arisen in the mortgage arena. Many of the poor underwriting practices in the subprime market were also potentially unfair and deceptive to consumers. For example, the failure to include an escrow account for homeowners' insurance and property taxes in many cases led borrowers to underestimate the costs of homeownership. In this case, allowing greater optionality--which we usually think of as a benefit--had the adverse effects of increasing complexity and reducing transparency. Restricting this practice was one of the new protections in the residential mortgage market that the Board established in a comprehensive set of rules released in July. Banning or limiting certain underwriting practices, which the new rules do for the entire mortgage market, also helps to address the incentive problems I discussed earlier. For institutions that we supervise, these incentive issues can also be addressed by requiring that lenders set up compensation plans for originators that induce behavior consistent with safety and soundness. Where does all this leave us? It seems clear that the difficulty of managing financial innovation in the period leading up to the crisis was underestimated, and not just in the case of consumer lending. For example, complexity and lack of transparency have been a problem for certain innovative products aimed at investors, such as some structured credit products.  ConclusionI don't think anyone wants to go back to the 1970s. Financial innovation has improved access to credit, reduced costs, and increased choice. We should not attempt to impose restrictions on credit providers so onerous that they prevent the development of new products and services in the future. That said, the recent experience has shown some ways in which financial innovation can misfire. Regulation should not prevent innovation, rather it should ensure that innovations are sufficiently transparent and understandable to allow consumer choice to drive good market outcomes. We should be wary of complexity whose principal effect is to make the product or service more difficult to understand by its intended audience. Other questions about proposed innovations should be raised: For instance, how will the innovative product or practice perform under stressed financial conditions? What effects will the innovation have on the ability and willingness of the lender to make loans that are well underwritten and serve the needs of the borrower? These questions about innovation are relevant for safety-and-soundness supervision as well as for consumer protection. In sum, the challenge faced by regulators is to strike the right balance: to strive for the highest standards of consumer protection without eliminating the beneficial effects of responsible innovation on consumer choice and access to credit. Our goal should be a financial system in which innovation leads to higher levels of economic welfare for people and communities at all income levels.  Footnotes 1. For a listing of these rules, see Dean F. Amel and Daniel G. Keane (1986), \"State Laws Affecting Commercial Bank Branching, Multibank Holding Company Expansion and Interstate Banking,\" Issues in Bank Regulation, vol. 10, no. 2 (Autumn), pp.30-40. Research indicates that non-interest expenses, wages, and loan losses all declined following the lifting of branching restrictions leading to lower loan prices. Also, the lifting of geographic restrictions lead to larger and more diversified banking institutions. See Randall S. Kroszner and Philip E. Strahan (forthcoming), \"Regulation and Deregulation of the U.S. Banking Industry: Causes, Consequences, and Implications for the Future,\" in Nancy Rose, ed., Economics of Regulation, NBER Conference Volume. Return to text 2. Board of Governors of the Federal Reserve System (2007), Report to the Congress on Credit Scoring and Its Effects on the Availability and Affordability of Credit, (Washington: Board of Governors, August). Return to text 3. Dagobert L. Brito and Peter R. Hartley (1995), \"Consumer Rationality and Credit Cards,\"  Journal of Political Economy, vol. 103 (April), pp. 400-33. Return to text 4. Board of Governors of the Federal Reserve (2006), Report to the Congress on Practices of the Consumer Credit Industry in Soliciting and Extending Credit and their Effects on Consumer Debt and Insolvency (Washington: Board of Governors, June). Return to text 5. See note 4, Report to the Congress on Practices of the Consumer Credit Industry, table 6; and Board of Governors of the Federal Reserve System (2007), 2007 Survey of Consumer Finances, Board of Governors. Return to text 6. See Chris Mayer and Karen Pence (2008), \"Subprime Mortgages: What, Where, and to Whom?\" Finance and Economics Discussion Series 2008-29 (Washington: Board of Governors of the Federal Reserve System, June); and Inside Mortgage Finance (2007), The 2007 Mortgage Market Statistical Annual vol. 1; The Primary Market (Bethesda, Md.: Inside Mortgage Finance Publications). Return to text 7. Lei Ding, Roberto Quercia, Wei Li, and Janneke Ratcliffe (2008), \"Risky Borrowers or Risky Mortgages: Disaggregating Effects Using Propensity Score Models,\"  Working Paper (Chapel Hill, N.C.: UNC Center for Community Capital). See also Elizabeth Laderman and Carolina Reid (2009), \"CRA Lending During the Subprime Meltdown (470 KB PDF),\" in Revisiting the CRA: Perspectives on the Future of the Community Reinvestment Act, pp. 115-33 (San Francisco: Federal Reserve Bank of San Francisco, February). Other studies do not find evidence of consistent harm from stemming from certain practices or products. See, for example, Morgan J. Rose (2008), \"Predatory Lending Practices and Subprime Foreclosures: Distinguishing Impacts by Loan Category,\"  Journal of Economics and Business, vol. 60 (January-February), pp. 13-32; and Christopher L. Foote, Kristopher Gerardi, Lorenz Goette, and Paul S. Willen (2008), \"Just the Facts: An Initial Analysis of Subprime's Role in the Housing Crisis,\"  Journal of Housing Economics, vol. 17 (December), pp. 291-305. Return to text 8. Mortgage Bankers Association (2009), National Delinquency Survey, MBA, March. Return to text 9. See, for instance, materials on the Consumer Information portion of the Federal Reserve's website. Return to text \n"
     ]
    }
   ],
   "source": [
    "print(fed.iloc[1][\"text\"])"
   ]
  },
  {
   "cell_type": "code",
   "execution_count": 25,
   "metadata": {},
   "outputs": [
    {
     "data": {
      "text/plain": [
       "0      1\n",
       "1      1\n",
       "2      0\n",
       "3      0\n",
       "4      0\n",
       "      ..\n",
       "734    1\n",
       "735    1\n",
       "736    0\n",
       "737    0\n",
       "738    1\n",
       "Name: text, Length: 739, dtype: int64"
      ]
     },
     "execution_count": 25,
     "metadata": {},
     "output_type": "execute_result"
    }
   ],
   "source": [
    "fed[\"text\"].apply(lambda x : x.count(\"Footnotes\"))"
   ]
  }
 ],
 "metadata": {
  "kernelspec": {
   "display_name": "nlp-env",
   "language": "python",
   "name": "python3"
  },
  "language_info": {
   "codemirror_mode": {
    "name": "ipython",
    "version": 3
   },
   "file_extension": ".py",
   "mimetype": "text/x-python",
   "name": "python",
   "nbconvert_exporter": "python",
   "pygments_lexer": "ipython3",
   "version": "3.9.13"
  },
  "orig_nbformat": 4
 },
 "nbformat": 4,
 "nbformat_minor": 2
}
