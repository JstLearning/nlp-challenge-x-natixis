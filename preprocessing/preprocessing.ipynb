{
 "cells": [
  {
   "attachments": {},
   "cell_type": "markdown",
   "metadata": {},
   "source": [
    "# Preprocessing data for the Data Challenge"
   ]
  },
  {
   "attachments": {},
   "cell_type": "markdown",
   "metadata": {},
   "source": []
  },
  {
   "cell_type": "code",
   "execution_count": 1,
   "metadata": {},
   "outputs": [],
   "source": [
    "import pandas as pd\n",
    "import numpy as np\n",
    "\n",
    "import matplotlib.pyplot as plt\n",
    "\n",
    "import torch\n",
    "import torch.nn as nn\n",
    "from torch.utils.data import DataLoader\n",
    "\n",
    "from sklearn.model_selection import train_test_split\n",
    "\n",
    "import time\n",
    "import re\n",
    "from langdetect import detect\n",
    "\n",
    "from collections import Counter\n",
    "\n",
    "import gc"
   ]
  },
  {
   "cell_type": "code",
   "execution_count": 2,
   "metadata": {},
   "outputs": [],
   "source": [
    "FILENAME = \"../data/train_series.csv\"\n",
    "FILENAME_ECB = \"../data/ecb_data.csv\"\n",
    "FILENAME_FED = \"../data/fed_data.csv\""
   ]
  },
  {
   "cell_type": "code",
   "execution_count": 3,
   "metadata": {},
   "outputs": [],
   "source": [
    "ecb = pd.read_csv(FILENAME_ECB, index_col=0)\n",
    "fed = pd.read_csv(FILENAME_FED, index_col=0)"
   ]
  },
  {
   "cell_type": "code",
   "execution_count": 4,
   "metadata": {},
   "outputs": [
    {
     "data": {
      "text/html": [
       "<div>\n",
       "<style scoped>\n",
       "    .dataframe tbody tr th:only-of-type {\n",
       "        vertical-align: middle;\n",
       "    }\n",
       "\n",
       "    .dataframe tbody tr th {\n",
       "        vertical-align: top;\n",
       "    }\n",
       "\n",
       "    .dataframe thead th {\n",
       "        text-align: right;\n",
       "    }\n",
       "</style>\n",
       "<table border=\"1\" class=\"dataframe\">\n",
       "  <thead>\n",
       "    <tr style=\"text-align: right;\">\n",
       "      <th></th>\n",
       "      <th>title</th>\n",
       "      <th>speaker</th>\n",
       "      <th>text</th>\n",
       "    </tr>\n",
       "  </thead>\n",
       "  <tbody>\n",
       "    <tr>\n",
       "      <th>0</th>\n",
       "      <td>Comments by Yves Mersch at Financial Services ...</td>\n",
       "      <td>Yves Mersch</td>\n",
       "      <td>Comments by Yves Mersch at Financial Service...</td>\n",
       "    </tr>\n",
       "    <tr>\n",
       "      <th>1</th>\n",
       "      <td>Securing sustained economic growth in the euro...</td>\n",
       "      <td>Vítor Constâncio</td>\n",
       "      <td>Securing sustained economic growth in the eu...</td>\n",
       "    </tr>\n",
       "    <tr>\n",
       "      <th>2</th>\n",
       "      <td>The role of monetary policy in addressing the ...</td>\n",
       "      <td>Mario Draghi</td>\n",
       "      <td>The role of monetary policy in addressing th...</td>\n",
       "    </tr>\n",
       "    <tr>\n",
       "      <th>3</th>\n",
       "      <td>The pandemic emergency: the three challenges f...</td>\n",
       "      <td>Philip R. Lane</td>\n",
       "      <td>SPEECH  The pandemic emergency: the three c...</td>\n",
       "    </tr>\n",
       "    <tr>\n",
       "      <th>4</th>\n",
       "      <td>Transmission channels of monetary policy in th...</td>\n",
       "      <td>Peter Praet</td>\n",
       "      <td>Transmission channels of monetary policy in ...</td>\n",
       "    </tr>\n",
       "  </tbody>\n",
       "</table>\n",
       "</div>"
      ],
      "text/plain": [
       "                                               title           speaker  \\\n",
       "0  Comments by Yves Mersch at Financial Services ...       Yves Mersch   \n",
       "1  Securing sustained economic growth in the euro...  Vítor Constâncio   \n",
       "2  The role of monetary policy in addressing the ...      Mario Draghi   \n",
       "3  The pandemic emergency: the three challenges f...    Philip R. Lane   \n",
       "4  Transmission channels of monetary policy in th...       Peter Praet   \n",
       "\n",
       "                                                text  \n",
       "0    Comments by Yves Mersch at Financial Service...  \n",
       "1    Securing sustained economic growth in the eu...  \n",
       "2    The role of monetary policy in addressing th...  \n",
       "3     SPEECH  The pandemic emergency: the three c...  \n",
       "4    Transmission channels of monetary policy in ...  "
      ]
     },
     "execution_count": 4,
     "metadata": {},
     "output_type": "execute_result"
    }
   ],
   "source": [
    "ecb.head()"
   ]
  },
  {
   "cell_type": "code",
   "execution_count": 5,
   "metadata": {},
   "outputs": [
    {
     "data": {
      "text/html": [
       "<div>\n",
       "<style scoped>\n",
       "    .dataframe tbody tr th:only-of-type {\n",
       "        vertical-align: middle;\n",
       "    }\n",
       "\n",
       "    .dataframe tbody tr th {\n",
       "        vertical-align: top;\n",
       "    }\n",
       "\n",
       "    .dataframe thead th {\n",
       "        text-align: right;\n",
       "    }\n",
       "</style>\n",
       "<table border=\"1\" class=\"dataframe\">\n",
       "  <thead>\n",
       "    <tr style=\"text-align: right;\">\n",
       "      <th></th>\n",
       "      <th>title</th>\n",
       "      <th>speaker</th>\n",
       "      <th>text</th>\n",
       "    </tr>\n",
       "  </thead>\n",
       "  <tbody>\n",
       "    <tr>\n",
       "      <th>0</th>\n",
       "      <td>The Importance of Economic Education and Finan...</td>\n",
       "      <td>Governor Frederic S. Mishkin</td>\n",
       "      <td>As ...</td>\n",
       "    </tr>\n",
       "    <tr>\n",
       "      <th>1</th>\n",
       "      <td>Financial Innovation and Consumer Protection</td>\n",
       "      <td>Chairman Ben S. Bernanke</td>\n",
       "      <td>The concept of financial innovation, it seems...</td>\n",
       "    </tr>\n",
       "    <tr>\n",
       "      <th>2</th>\n",
       "      <td>Implementing Basel II in the United States</td>\n",
       "      <td>Governor Randall S. Kroszner</td>\n",
       "      <td>Good afternoon. I would like to thank Standar...</td>\n",
       "    </tr>\n",
       "    <tr>\n",
       "      <th>3</th>\n",
       "      <td>An Assessment of the U.S. Economy</td>\n",
       "      <td>Vice Chair for Supervision Randal K. Quarles</td>\n",
       "      <td>Thank you for the opportunity to take part in...</td>\n",
       "    </tr>\n",
       "    <tr>\n",
       "      <th>4</th>\n",
       "      <td>Monetary Policy since the Onset of the Crisis</td>\n",
       "      <td>Chairman Ben S. Bernanke</td>\n",
       "      <td>When we convened in Jackson Hole in August 20...</td>\n",
       "    </tr>\n",
       "  </tbody>\n",
       "</table>\n",
       "</div>"
      ],
      "text/plain": [
       "                                               title  \\\n",
       "0  The Importance of Economic Education and Finan...   \n",
       "1       Financial Innovation and Consumer Protection   \n",
       "2         Implementing Basel II in the United States   \n",
       "3                  An Assessment of the U.S. Economy   \n",
       "4      Monetary Policy since the Onset of the Crisis   \n",
       "\n",
       "                                        speaker  \\\n",
       "0                  Governor Frederic S. Mishkin   \n",
       "1                      Chairman Ben S. Bernanke   \n",
       "2                  Governor Randall S. Kroszner   \n",
       "3  Vice Chair for Supervision Randal K. Quarles   \n",
       "4                      Chairman Ben S. Bernanke   \n",
       "\n",
       "                                                text  \n",
       "0                                             As ...  \n",
       "1   The concept of financial innovation, it seems...  \n",
       "2   Good afternoon. I would like to thank Standar...  \n",
       "3   Thank you for the opportunity to take part in...  \n",
       "4   When we convened in Jackson Hole in August 20...  "
      ]
     },
     "execution_count": 5,
     "metadata": {},
     "output_type": "execute_result"
    }
   ],
   "source": [
    "fed.head()"
   ]
  },
  {
   "attachments": {},
   "cell_type": "markdown",
   "metadata": {},
   "source": [
    "##### SUMMARIZE"
   ]
  },
  {
   "cell_type": "code",
   "execution_count": 6,
   "metadata": {},
   "outputs": [],
   "source": [
    "import gensim.downloader as api\n",
    "from gensim.summarization import summarize"
   ]
  },
  {
   "cell_type": "code",
   "execution_count": 110,
   "metadata": {},
   "outputs": [
    {
     "name": "stdout",
     "output_type": "stream",
     "text": [
      "Wandern in der NaturIm Urlaub fahren wir eine Woche zum Wandern in die Berge.\n",
      "Das Gras auf der Wiese ist Futter für die Tiere eines Bauern.\n",
      "Ich möchte dort gerne angeln.Nach dem Urlaub in den Bergen fliegt die ganze Familie noch ein paar Tage ans Meer.\n",
      "Am Meer ist ein anderes Klima als in der Stadt und die Luft ist sehr feucht.\n"
     ]
    }
   ],
   "source": [
    "text = (\n",
    "\n",
    "\"Wandern in der Natur\"\n",
    "\"Im Urlaub fahren wir eine Woche zum Wandern in die Berge. Dort ist die Luft besser als in der Stadt. Wir wandern zu einem See und wollen dort mit einem Boot fahren. Auf dem Wanderweg zum See gehen wir zuerst lange durch einen dunklen Wald. Im Wald sind viele Bäume und es riecht nach Erde. Weil wir nicht laut sind, sehen wir ein Reh und beobachten es. Wir kommen an einem großen Felsen vorbei. Auf dem Weg liegen viele Steine und wir brauchen gute Wanderschuhe, damit wir uns nicht verletzen.\"\n",
    "\n",
    "\"Nach dem Wald kommen wir auf Felder und Wiesen. Das Gras auf der Wiese ist Futter für die Tiere eines Bauern. Auch schöne Blumen wachsen dort und wir pflücken einen kleinen Blumenstrauß beim Heimweg. Zum See führt ein kleiner Bach. In dem Bach gibt es Fische. Ich möchte dort gerne angeln.\"\n",
    "\n",
    "\"Nach dem Urlaub in den Bergen fliegt die ganze Familie noch ein paar Tage ans Meer. Der Strand ist ganz flach und das Wasser ist nicht tief. Die Kinder spielen gerne im feinen Sand. Die Sonne ist sehr stark und man braucht Sonnencreme. Am Meer bläst immer Wind. Das ist bei der Hitze angenehm. Am Meer ist ein anderes Klima als in der Stadt und die Luft ist sehr feucht. Das Wetter ist fast immer gut und es gibt selten Regen.\" )\n",
    "print(summarize(text))"
   ]
  },
  {
   "cell_type": "code",
   "execution_count": 26,
   "metadata": {},
   "outputs": [
    {
     "name": "stdout",
     "output_type": "stream",
     "text": [
      "Thomas A. Anderson is a man living two lives. By day he is an average computer programmer and by night a hacker known as Neo. Neo has always questioned his reality, but the truth is far beyond his imagination. Neo finds himself targeted by the police when he is contacted by Morpheus, a legendary computer hacker branded a terrorist by the government. Morpheus awakens Neo to the real world, a ravaged wasteland where most of humanity have been captured by a race of machines that live off of the humans' body heat and electrochemical energy and who imprison their minds within an artificial reality known as the Matrix. As a rebel against the machines, Neo must return to the Matrix and confront the agents: super-powerful computer programs devoted to snuffing out Neo and the entire human rebellion. \n"
     ]
    }
   ],
   "source": [
    "text = (\n",
    "    \"Thomas A. Anderson is a man living two lives. By day he is an \"\n",
    "    \"average computer programmer and by night a hacker known as \"\n",
    "    \"Neo. Neo has always questioned his reality, but the truth is \"\n",
    "    \"far beyond his imagination. Neo finds himself targeted by the \"\n",
    "    \"police when he is contacted by Morpheus, a legendary computer \"\n",
    "    \"hacker branded a terrorist by the government. Morpheus awakens \"\n",
    "    \"Neo to the real world, a ravaged wasteland where most of \"\n",
    "    \"humanity have been captured by a race of machines that live \"\n",
    "    \"off of the humans' body heat and electrochemical energy and \"\n",
    "    \"who imprison their minds within an artificial reality known as \"\n",
    "    \"the Matrix. As a rebel against the machines, Neo must return to \"\n",
    "    \"the Matrix and confront the agents: super-powerful computer \"\n",
    "    \"programs devoted to snuffing out Neo and the entire human \"\n",
    "    \"rebellion. \"\n",
    ")\n",
    "print(text)"
   ]
  },
  {
   "cell_type": "code",
   "execution_count": 27,
   "metadata": {},
   "outputs": [
    {
     "name": "stdout",
     "output_type": "stream",
     "text": [
      "Morpheus awakens Neo to the real world, a ravaged wasteland where most of humanity have been captured by a race of machines that live off of the humans' body heat and electrochemical energy and who imprison their minds within an artificial reality known as the Matrix.\n"
     ]
    }
   ],
   "source": [
    "print(summarize(text))"
   ]
  },
  {
   "cell_type": "code",
   "execution_count": 28,
   "metadata": {},
   "outputs": [
    {
     "name": "stdout",
     "output_type": "stream",
     "text": [
      "[\"Morpheus awakens Neo to the real world, a ravaged wasteland where most of humanity have been captured by a race of machines that live off of the humans' body heat and electrochemical energy and who imprison their minds within an artificial reality known as the Matrix.\"]\n"
     ]
    }
   ],
   "source": [
    "print(summarize(text, split=True))"
   ]
  },
  {
   "cell_type": "code",
   "execution_count": 29,
   "metadata": {},
   "outputs": [
    {
     "name": "stdout",
     "output_type": "stream",
     "text": [
      "By day he is an average computer programmer and by night a hacker known as Neo. Neo has always questioned his reality, but the truth is far beyond his imagination.\n",
      "Morpheus awakens Neo to the real world, a ravaged wasteland where most of humanity have been captured by a race of machines that live off of the humans' body heat and electrochemical energy and who imprison their minds within an artificial reality known as the Matrix.\n",
      "As a rebel against the machines, Neo must return to the Matrix and confront the agents: super-powerful computer programs devoted to snuffing out Neo and the entire human rebellion.\n"
     ]
    }
   ],
   "source": [
    "print(summarize(text, ratio=0.5))"
   ]
  },
  {
   "cell_type": "code",
   "execution_count": 39,
   "metadata": {},
   "outputs": [
    {
     "data": {
      "text/plain": [
       "912"
      ]
     },
     "execution_count": 39,
     "metadata": {},
     "output_type": "execute_result"
    }
   ],
   "source": [
    "len(str.split(ecb[\"text\"][0]))"
   ]
  },
  {
   "cell_type": "code",
   "execution_count": 42,
   "metadata": {},
   "outputs": [
    {
     "data": {
      "text/plain": [
       "2583.0"
      ]
     },
     "execution_count": 42,
     "metadata": {},
     "output_type": "execute_result"
    }
   ],
   "source": [
    "ecb[\"text\"].apply(lambda x: len(str.split(str(x)))).median()"
   ]
  },
  {
   "cell_type": "code",
   "execution_count": 54,
   "metadata": {},
   "outputs": [
    {
     "data": {
      "text/plain": [
       "Int64Index([  40,  104,  146,  172,  220,  257,  275,  291,  332,  413,  497,\n",
       "             509,  528,  649,  695,  739,  747,  753,  788,  829,  832, 1025,\n",
       "            1058, 1280, 1383, 1412, 1467, 1493, 1594, 1595, 1618, 1697, 1763,\n",
       "            1765],\n",
       "           dtype='int64')"
      ]
     },
     "execution_count": 54,
     "metadata": {},
     "output_type": "execute_result"
    }
   ],
   "source": [
    "ecb[\"text\"][ecb[\"text\"].isna()].index"
   ]
  },
  {
   "cell_type": "code",
   "execution_count": 66,
   "metadata": {},
   "outputs": [],
   "source": [
    "oneSentenceTextsIndexes = []\n",
    "for i in range(ecb[\"text\"].shape[0]):\n",
    "    try:\n",
    "        summarize(ecb[\"text\"][i])\n",
    "    except:\n",
    "        oneSentenceTextsIndexes.append(i)"
   ]
  },
  {
   "cell_type": "code",
   "execution_count": null,
   "metadata": {},
   "outputs": [],
   "source": [
    "oneSentenceTextsIndexes"
   ]
  },
  {
   "cell_type": "code",
   "execution_count": 75,
   "metadata": {},
   "outputs": [],
   "source": [
    "oneSentenceTextsWithoutNA = set(oneSentenceTextsIndexes).difference(set(ecb[\"text\"][ecb[\"text\"].isna()].index))"
   ]
  },
  {
   "cell_type": "code",
   "execution_count": null,
   "metadata": {},
   "outputs": [],
   "source": [
    "ecb[\"text\"].iloc[list(oneSentenceTextsWithoutNA)].apply(lambda x: len(str.split(x)))"
   ]
  },
  {
   "cell_type": "code",
   "execution_count": 105,
   "metadata": {},
   "outputs": [],
   "source": [
    "newEcb = ecb.copy()\n",
    "newEcb[\"text\"].iloc[~newEcb.index.isin(oneSentenceTextsIndexes)] =\\\n",
    "        newEcb[\"text\"].iloc[~newEcb.index.isin(oneSentenceTextsIndexes)].apply(lambda x: summarize(x, \n",
    "                                                                                                   word_count=500))"
   ]
  },
  {
   "cell_type": "code",
   "execution_count": 106,
   "metadata": {},
   "outputs": [
    {
     "data": {
      "text/plain": [
       "count    1772.000000\n",
       "mean      480.100451\n",
       "std        95.562474\n",
       "min         0.000000\n",
       "25%       491.000000\n",
       "50%       500.000000\n",
       "75%       508.000000\n",
       "max       554.000000\n",
       "Name: text, dtype: float64"
      ]
     },
     "execution_count": 106,
     "metadata": {},
     "output_type": "execute_result"
    }
   ],
   "source": [
    "newEcb[\"text\"].apply(lambda x: len(str.split(str(x)))).describe()"
   ]
  },
  {
   "cell_type": "code",
   "execution_count": 116,
   "metadata": {},
   "outputs": [
    {
     "data": {
      "text/plain": [
       "'  Die Finanzmarktunion als Element einer stabilen Währungsunion?   Rede von Jörg Asmussen, Mitglied des Direktoriums der EZB, Handelsblatt Jahrestagung „Banken im Umbruch“, Frankfurt am Main, 4. September 2012 Sehr geehrte Damen und Herren,  Ein Satz in der Schlusserklärung des Euro-Gipfels vom 28. Juni dieses Jahres sorgte für Aufhorchen und viel Diskussionsstoff über den Sommer – ich zitiere: „ Sobald unter Einbeziehung der EZB ein wirksamer einheitlicher Aufsichts\\xadmechanismus für Banken des Euro-Währungs\\xadgebiets eingerichtet worden ist, hätte der ESM nach einem ordentlichen Beschluss die Möglich\\xadkeit, Banken direkt zu rekapitalisieren.“  Hier wurde der Anfang einer Finanzmarktunion beschlossen. Als Beitrag zu dieser Diskussion möchte ich im Folgenden gerne drei Aspekte aufgreifen:    Wo stehen wir bei der Finanzmarkt\\xadregulierung? Wie stellt sich aktuell die Lage an den Finanzmärkten dar?   Warum ist eine Finanzmarktunion not\\xadwendig geworden? Wie soll diese aus\\xadsehen?   Welche Rolle kann der EZB innerhalb der neuen Aufsichtsarchitektur zukommen, welche Bedingungen müssen erfüllt sein?    Wo stehen wir bei der Finanzmarkt\\xadregulierung? Wie ist die Lage an den Finanzmärkten? Seit 2008 haben sich die Staats- und Regie\\xadrungschefs der G20 wiederholt zu einem ge\\xadmeinsamen Vorgehen für mehr und bessere Re\\xadgulierung geeignet. Es herrschte Konsens über eine zentrale Lehre der Krise: dass alle syste\\xadmisch relevanten Institute, Märkte und Instru\\xadmente angemessen reguliert und beaufsichtigt werden sollten. Die Europäer verstärkten ihre Bemühungen, ein so genanntes „Single Rule\\xadbook“ zu erarbeiten, durch eine Vielzahl von Verordnungen und Richtlinien, über ein Dutzend seit Krisenbeginn. Dass deren Be\\xadnennung meist eine veritable Buchstabensuppe ist – CRD\\xa0IV, MiFID, EMIR, usw. ist ein Indiz, dass die Materie ist hochkomplex ist.  Die ersten drei G20-Gipfel der Staats- und Re\\xadgierungschefs in Washington, London und vor allen Pittsburgh haben in der Finanzmarkt\\xadregulierung weit überdurchschnittliche Ergeb\\xadnisse hervorgebracht, andere Gipfel haben in anderen Bereichen Erfolge erzielen können, zum Beispiel der Gipfel in Seoul bei der IWF-Reform. Inzwischen hat der G20-Prozess auch bezogen auf die Finanzmarktregulierung an Fahrt verloren. Wir müssen uns bemühen, den verlorengegangenen „drive“ zurückzugewinnen. Die Häufung von zumindest individuellem Fehl\\xadverhalten in großen Finanzinstitutionen zeigt, dass eine scharfe Regulierung notwendig ist, weil entweder interne Kontrollmechanismen oder die externe Aufsicht nicht funktioniert haben. Ich bin davon heute mehr überzeugt als je zuvor. Es gilt grundsätzlich in Rechtsstaaten die Un\\xadschuldsvermutung, aber wenn sich die Vorwürfe bewahrheiten sollten, werden die Auswirkungen der LIBOR- Manipulationen bei weitem noch nicht absehbar sein. Das Monitoring des Financial Stability Board (FSB) zeigt, dass viele nationale Gesetzgeber angesichts der Fülle neuer Finanzmarktgesetz\\xadgebung überlastet sind und in der Umsetzung zeitlich hinterherhinken. Auch die Europäische Union sieht sich mit der Herausforderung „glei\\xadche Regeln – ungleiche Umsetzung“ kon\\xadfrontiert. Trotz der großen Bemühungen der Europäischen Bankenbehörde (EBA) leidet der Ansatz des „Single Rulebooks“ unter einer un\\xadeinheitlichen Umsetzung. Die neue Gesetz\\xadgebung – beispielsweise die Richtlinie und Ver\\xadordnung zu verbesserten Eigenkapitalanforderungen – über\\xadlässt den nationalen Aufsichtsbehörden einen erheblichen Ermessensspielraum.  Zahlreiche der neuen Finanzmarktregelungen sind sehr komplex. Zu Recht kann man die Frage stellen, ob die hohe Komplexität der Re\\xadgulierung nicht zu Intransparenz und Unsicher\\xadheit bei Marktteilnehmern führt, und folglich in Bezug auf die Finanzmarktstabilität das Gegen\\xadteil vom dem erreicht, was erreicht werden sollte. Wären einfachere Regeln nicht die bessere Alternative? Dieser Frage ist zum Beispiel Andrew Haldane von der Bank of England in einen Research Paper nach\\xadgegangen, das er vor wenigen Tagen in Jackson Hole vorgestellt hat. Ich nutze im Folgenden kurz seine Erkenntnisse. Wenn man den Seitenumfang der Regulierung als Maßgabe für die Komplexität der Regelun\\xadgen nimmt, was sicher eine unzulässige Verein\\xadfachung ist, aber einen guten ersten Anhaltspunkt gibt, dann stellt es sich wie folgt dar: Basel 1 hatte 30 Seiten. Basel 2 schon 350 Seiten und Basel 3 hat 620 Seiten. Dazu kom\\xadmen tausende Seiten regionaler und/oder natio\\xadnaler Umsetzung. Haldane kommt mittels empirischer Analysen und nicht nur durch Seiten-Zählen zu dem Er\\xadgebnis, dass einfache Regeln nicht weniger effektiv seien als komplexe. Ich weiß natürlich, dass einfachere Regeln oft die so\\xadgenannte Einzelfallgerechtigkeit verletzen. Ich weiß natürlich auch, dass die Komplexität der Regeln oft einer erfolgreichen Lobbyarbeit ge\\xadschuldet ist, um für ein spezielles Geschäfts\\xadmodell eine passgenaue Lösung zu finden. Aber ich finde die Grundfrage von Andrew Haldane richtig, und werde weiter darüber nachdenken. Aktuell stellt sich die Lage an den Finanz\\xadmärkten wie folgt dar: Wir beobachten im Euroraum einen Prozess der Fragmentierung des gemeinsamen Finanzmarktes, es findet eine Renationalisierung statt. Beispiels\\xadweise ist der Anteil der grenzüberschreitenden Kredite auf den Geldmärkten zwischen Mitte 2011 und heute von 60 Prozent auf 40\\xa0Prozent gesunken. In mehreren Ländern haben die aus\\xadländischen Bankeinlagen das niedrigste Niveau seit Anfang 2008 erreicht. Banken nutzen zu\\xadnehmend inländische Sicherheiten beim Zugang zu EZB-Fazilitäten.  Der Kern dieses – bildlich gesprochen – Wiederaufbaus der Schlagbäume ist die starke finanzielle Verflechtung zwischen einzelnen Staaten und ihren Bankensystemen. Fehlendes Vertrauen gegenüber den Banken in den be\\xadtroffenen Mitgliedsstaaten führt außerdem zu einer starken Abhängigkeit einiger Banken\\xadsysteme von Zentralbankliquidität.  Diese Ab\\xadwärtsspirale hat entscheidend dazu beigetragen, dass sich die Lage auf den Finanzmärkten im Euroraum seit Mitte letzten Jahres noch einmal verschlechtert hat. Die Risikoprämien von Staatsanleihen spiegeln mittlerweile nicht nur das Insolvenzrisiko einzelner Staaten wider, sondern sogar ein Wechselkursrisiko, welches es in einer Währungsunion theoretisch nicht geben dürfte. Die Märkte preisen also ein Auseinanderbrechen des Euroraums ein.  Für eine Währungsunion sind solche systemi\\xadschen Zweifel nicht akzeptabel. Nur eine Wäh\\xadrung, an deren Bestand es keinen Zweifel gibt, ist eine stabile Währung. Denn diese Zweifel haben folgenschwere Auswirkungen für die ge\\xadmeinsame Geldpolitik: ein geldpolitisches Sig\\xadnal, wie es die EZB beispielsweise mit der Zins\\xadsenkung im Juli gesetzt hat, kommt unein\\xadheitlich oder zum Teil überhaupt nicht in der Realwirtschaft an. Die EZB hat gestern Daten veröffentlicht, die das eindrucksvoll zeigen: So zahlen kleine Unternehmen in Spanien für einen Kredit bis zu 1 Mio EUR und einer Laufzeit von mehr als einem und bis zu 5 Jahren derzeit 6,5% Zinsen, so viel wie noch nie seit 2008. In Italien sind es aktuell 6,24%, während der gleiche Unternehmenskredit in Deutschland für rund 4% zu haben ist und das bei gleichem Leitzins.  Der Leitzins, der eigentlich „leiten“ soll, tut dies nur noch eingeschränkt.   2. Warum ist eine Finanzmarktunion notwendig geworden? Wie soll diese aussehen? Trotz der Fragmentierung der europäischen Finanzmärkte, die wir jüngst beobachten und die ich gerade beschrieben habe, hat die Ent\\xadwicklung seit der Bankenkrise 2007/2008 in Europa vor allem eines gezeigt: der Banken\\xadsektor ist in Europa vielfach so eng mit der Staatsfinanzierung verwoben, dass Probleme in dem einen Bereich zu Ansteckungseffekten in dem jeweils anderen Bereich führen können, bis beide wanken und sich zum gesamteuropäischen Problem entwickeln können, das innerhalb eines Mitgliedsstaates nicht mehr zu lösen ist, weil die finanziellen Mittel fehlen und es strukturelle Schwächen gibt. Die Problemfälle sind Ihnen bekannt: In Irland sprang der Staat dem über\\xaddimensionierten Finanzsektor zur Seite und ge\\xadriet daraufhin selbst ins Straucheln; ähnliches erleben wir gerade in Zypern. In Griechenland haben wir die umgekehrte Situation vorge\\xadfunden. Marode Staatsfinanzen belasten auch die heimischen Bankbilanzen schwer, weil die Ab\\xadnehmer für griechische Staatsanleihen vor allem die griechischen Banken waren. In der Folge ist wiederum die Staatsfinanzierung erschwert, weil die heimischen Banken die Anleihen nicht mehr aufnehmen können. Spanien wurde in der Finanzmarktkrise vielfach gelobt, weil die Auf\\xadsicht dort erfolgreich den Flächenbrand durch überkomplexe, strukturierte Produkte verhindern konnte. Nicht toxische assets wurden zum Problem für spanische Banken, sondern das Platzen einer klassischen Immobilienblase und vielfach darin verstrickt waren spanische Spar\\xadkassen, deren Stützung jetzt die Regionen und den spanischen Zentralstaat schwer belastet. Neben dieser verhängnisvollen Verzahnung von Banken- und Staaten hat die Krise die allge\\xadmeine Frage aufgeworfen, welches Gewicht Überlegungen zur Finanzmarktstabilität in Europa haben, wenn der Aufseher Teil der nationalen Exekutive und damit in erster Linie gegenüber einem nati\\xadonalen Parlament und letztlich gegenüber dem nationalen Steuerzahler verantwortlich ist. Wir haben hier in den vergangenen Jahren sehen können, dass Partikularinteressen in Konflikt mit dem Interesse an Finanzstabilität in Europa geraten können. Wenn die Finanzmarktstabilität in ganz Europa gefährden ist, dann sollten wir eine gesamteuropäische Antwort hierauf finden, und diese Antwort lautet: wir sollten eine Finanz\\xadmarktunion schaffen. Das bringt mich zu der Frage: Wie sähe eine solche Finanzmarktunion aus? Die neue Archi\\xadtektur sollte am Ende des Prozesses folgende drei Säulen aufweisen:   Erstens, eine europäische Bankenaufsicht, die über ausreichende Instrumente und Kompetenzen verfügt. Sie muss eine ein\\xadheitliche Umsetzung des europäischen Regelwerks sicherstellen. Diese Banken\\xadaufsicht muss auch in der Lage sein, nicht lebensfähige Institute zu schließen und zur Abwicklung zu übergeben.   Zweitens, eine europäische Abwicklungsbe\\xadhörde und ein einheitliches Regelwerk zur Abwicklung instabiler systemrelevanter Banken. Diese Behörde muss im Notfall auf einen durch die Finanzindustrie finanzierten Fonds zurück\\xadgreifen können. Das verhindert dass natio\\xadnale Haushalte und Steuerzahler belastet werden.    Drittens sollte die Einlagensicherung auf eu\\xadropäischer Ebene organisiert oder zu\\xadmindest weiter harmonisiert werden.    Alle drei Elemente bedingen sich gegenseitig. Man stelle sich einen Hocker mit drei Beinen vor: Fehlt ein Bein, kippt der Hocker um. Die Bankenaufsicht kann nur effektiv und sinnvoll agieren, wenn sie auch über vollständige Infor\\xadmationen, z. B. zur Einlagensicherung verfügt und sie kann auch nur dann effektiv handeln, wenn sie beispielsweise die Abwicklung eines Instituts anordnen kann. Was nützt ein Brandmelder, wenn im Ernst\\xadfall keine Feuerwehr ausrücken kann, oder die Feuerwehr nicht weiß, was eigentlich brennt. Darüber hinaus sollte geprüft werden, die Zu\\xadständigkeit der Finanzmarktunion auf weitere Bereiche auszuweiten. Ich denke dabei insbe\\xadsondere an zentrale Marktinfrastrukturen wie zentrale Clearinghäuser (Central Counterparties – CCPs). Die Schaffung einer einheitlichen Banken\\xadaufsicht für den Euroraum ist eine unbedingte Voraussetzung für eine direkte Rekapitalisierung der Banken durch den Europäischen Stabilitäts\\xadmechanismus (ESM). Dieses Junktim zwischen Mittelverwendung und Kontrolle ist unverzicht\\xadbar.   3. Welche Rolle kommt der EZB innerhalb der neuen Aufsichtsarchitektur zu? Welche Bedingungen müssen erfüllt sein Doch welche Rolle kommt nun der EZB inner\\xadhalb der neuen Aufsichtsarchitektur zu? In einer Woche, am 12. September, wird die Europäische Kommission ihre Gesetzgebungs\\xadvorschläge für eine europäische Bankenaufsicht vorstellen. Einige Details des Vorschlags sind durch ein Interview von Kommissar Barnier in der Süd\\xaddeutschen Zeitung bereits bekannt geworden. Demnach soll die EZB eine wichtige Rolle innerhalb einer europäischen Bankenaufsicht übernehmen.  Die EZB hat zusammen mit den nationalen Zentralbanken bereits bekräftigt, dass sie bereit ist, als Aufsichtsbehörde Verantwortung zu übernehmen.  Das ist bei manchen auf Unverständnis gestoßen. Einige meinen, eine Zentralbank sollte sich grundsätzlich aus der Einzelinstitutsaufsicht heraushalten. Zu groß sei der Interessenkonflikt, zum Beispiel einen Geschäftspartner von geldpolitischen Operationen am Leben zu erhalten, obwohl eine Abwicklung notwendig wäre. Andere befürchten eine Machtkonzentra\\xadtion bei der EZB als europäischer Superbehörde. Wir sind uns dieser Befürchtungen sehr wohl bewusst. Deshalb wird die EZB Aufgaben bei der Aufsicht nur übernehmen, wenn bestimmte Bedingungen erfüllt sind:   Erstens muss das vorrangige Ziel der Preis\\xadstabilität unangetastet bleiben. Die Geld\\xadpolitik muss von der Bankenaufsicht nach außen und nach innen organisatorisch und auch personell getrennt werden. Mittel dazu sind chinesische Mauern und die Schaffung eines neuen Entscheidungsgremiums neben dem EZB-Rat, das für alle Aufsichts\\xadaufgaben zuständig ist. Fakt ist, dass schon heute 14 der 17 nationalen Zentralbanken des Euroraums Aufsichtsaufgaben haben.    Zweitens wird die EZB darauf achten, dass ihre Unabhängigkeit in keiner Weise beinträchtig wird. Gleichzeitig ist aber auch klar, dass Aufgaben der Bankenaufsicht der parlamentarischen und gerichtlichen Kon\\xadtrolle unterstehen müssen. Denn Banken\\xadaufsicht ist hoheitliches Handeln, durch das in Grundrechte der Betroffenen eingegrif\\xadfen werden kann. Wir stehen den not\\xadwendigen Rechenschaftspflichten einer europäischen Bankenaufsicht bei der EZB aufgeschlossen gegenüber. Dies gilt sowohl gegenüber dem europäischen Parlament also auch gegenüber dem Ministerrat der EU.    Drittens muss das Gesetz die EZB mit allen Instrumenten ausstatten, die notwendig sind, um die Aufgaben einer Banken\\xadaufsicht effektiv ausüben zu können. Es muss der EZB möglich sein, den reichen Erfahrungs\\xadschatz und das technische Knowhow der nationalen Zentralbanken zu nutzen. Denn klar ist, dass viele Aufsichts\\xadaufgaben auch morgen nur vor Ort ausge\\xadführt werden können. Gleichzeitig muss eine einheitliche Umsetzung der europäi\\xadschen Richtlinien sichergestellt werden. Von besonderer Bedeutung ist vor allem der direkte Zugang zu allen notwendigen Informationen über die beaufsichtigten In\\xadstitute, wie beispielsweise Prüfungsberichte über bankgeschäftliche Prüfungen oder Auswertungsberichte zu Jahresabschlüssen. Die EZB muss darüber hinaus über ausreichende Eingriffsrechte verfügen und, wie schon erwähnt, das Recht haben, nicht lebensfähige Banken notfalls zu schließen. Ohne diese Mindestausstattung wird die EZB aus meiner Sicht keine Verantwortung übernehmen, denn das Risiko für den Ruf der Institution wäre zu groß, das Reputationsrisiko liegt alleine bei uns.\\u2028Bis zur Umsetzung der Kommissionsvorschläge müssen neben diesen Aspekten eine ganze Reihe wichtiger Gestaltungsfragen geklärt werden.    Wie würde die Aufgabenteilung zwischen der EZB und den anderen europäischen Aufsichtsbehörden – insbesondere der Europäischen Bankenbehörde (EBA) – aus\\xadsehen? Denkbar wäre es aus meiner Sicht, dass die EBA weiterhin für die Weiterent\\xadwicklung des „Single Rulebook“ im Binnenmarkt der EU 27 zuständig ist.    Wird die europäische Bankenaufsicht nur die Banken der Eurozone oder der ganzen EU beaufsichtigen?\\u2028Eine funktionierende Finanzmarktunion ist vor allem ein An\\xadliegen der Währungsunion. Aus dieser Sicht wäre ein Fokus auf die Institute des Euroraums sinnvoll. Nicht-Euro-Staaten sollte es aber frei stehen, ihre Institute ebenfalls der europäischen Aufsicht zu unterstellen.   Wird es um Banken jeder Größenordnung gehen oder nur um die systemisch relevan\\xadten?\\u2028Aus meiner persönlichen Sicht ist es sinnvoll, zumindest anfangs die euro\\xadpäische Aufsicht auf die europaweit und national systemisch relevanten Institute zu begrenzen. Zum Jahres\\xadanfang 2013 eine Aufsicht über alle Banken des Euroraums zu organisieren, ist weder zielführend noch darstellbar. Wichtig ist, dass die europäische Aufsicht auch operati\\xadonal zu einer effizienten Aufsicht von An\\xadfang an in der Lage ist.   Wie sieht die Arbeitsteilung zwischen der EZB und den nationalen Behörden aus?\\u2028Bei der operativen Arbeitsteilung stehen wir vor einer Kernherausforderung. Zum einen muss die Expertise vor Ort maximal einge\\xadsetzt werden. Gleichzeitig muss aber auch ein einheitlicher Aufsichtsstandard im gan\\xadzen Euroraum gewährleistet ist – nicht zu\\xadletzt auch damit für die Banken selbst das System nicht noch weiter verkompliziert wird. Das könnte erreicht werden, wenn pro Institut ein gemischtes Aufsichtsteam aus nationalen und europäischen Experten ge\\xadbildet würde. Dieses Team könnte auch als einheitlicher Ansprechpartner gegenüber der Bank fungieren.\\u2028Die europäische Auf\\xadsicht müsste die Möglichkeit haben, die tagtägliche Aufsicht über kleinere Institute an die nationalen Behörden zurückzu\\xaddelegieren. Einzelne Fälle müsste sie aber ohne Weiteres wieder an sich ziehen kön\\xadnen.\\u2028Zwar muss der ESM möglichst bald in der Lage sein, Banken direkt zu rekapitalisieren. Es geht aber auch darum, die Dinge richtig zu machen und nicht unter Zeitdruck halbfertige Lösungen festzuschreiben. \\u2028Ich möchte auch daran erinnern, dass eine Finanzmarkunion alleine die Krise nicht lösen kann. Selbst eine optimal aufgestellte Finanz\\xadmarktunion könnte nicht dafür sorgen, dass der griechische Haushalt ins Gleichgewicht kommt oder sich die Wettbewerbsfähigkeit Portugals erhöht. Denn Gründe für die Krise sind auch in den Bereichen der gemeinsamen Haushalts\\xadpolitik und Wirtschaftspolitik zu suchen. \\u2028Europa muss sich jetzt entscheiden. Entweder wir vollenden die Integration des Euroraums, indem wir bei Finanzmarktpolitik, Haushalts\\xadpolitik, Wirtschaftspolitik und demokratischer Kontrolle Souveränität mit Europa teilen. Oder wir entscheiden uns für den anderen Weg, ein dezentralisiertes Europa. Das bedeutet dann aber auch, dass wir die großen wirtschaftlichen Ge\\xadwinne, die uns Währungsunion und Binnen\\xadmarkt gebracht haben, aufs Spiel setzen. \\u2028Um das zu vermeiden, sollten wir die Architek\\xadtur der Wirtschafts- und Währungsunion voll\\xadenden. Dazu sind neben der Finanzmarktunion noch drei weitere Bausteine unverzichtbar:     Eine Fiskalunion   Eine echte Wirtschaftsunion    Eine demokratisch legitimierte politische Union    Diese vier Bausteine gehören zusammen und bedingen einander. Fortschritte in nur einem der vier Bereiche werden nicht ausreichen, alle vier Aspekte sind für ein Funktionieren der Wirt\\xadschafts- und Währungsunion, sind für die Zu\\xadkunft eines stabilen Euros unverzichtbar.  Meine Antwort in dieser Situation ist eindeutig: Mehr Europa, ein besseres Europa. Aber nicht als Selbstzweck. Son\\xaddern als der Weg, der Europas Bürgern Wohl\\xadstand, Freiheit und Sicherheit in der globalisierten Welt des 21. Jahrhunderts sichert. Meine Damen und Herren,  Ihre Tagung steht unter dem Motto „Banken im Umbruch“. Auch die institutionelle Architektur der Eurozone ist derzeit „im Umbruch“. Damit dieser „Umbruch“ ein „Aufbruch“ wird, hin zu einer stabilen, prosperierenden und vertieften Währungsunion, brauchen wir eine breite Diskussion – auch hier und jetzt gleich mit Ihnen. Darauf freue ich mich. Vielen Dank für Ihre Aufmerksamkeit. ***  '"
      ]
     },
     "execution_count": 116,
     "metadata": {},
     "output_type": "execute_result"
    }
   ],
   "source": [
    "ecb[\"text\"].iloc[31]"
   ]
  },
  {
   "cell_type": "code",
   "execution_count": 109,
   "metadata": {},
   "outputs": [
    {
     "name": "stdout",
     "output_type": "stream",
     "text": [
      "The OECD referred to the present situation as a “self-reinforcing low growth trap” and the IMF”s Maurice Obstfeld stated “Without determined policy action to support economic activity over the short and longer terms, sub-par growth at recent levels risks perpetuating itself – through the negative economic and political forces it is unleashing.”.\n",
      "Prospects for the euro area economy Turning to recent euro area developments, the recovery is continuing its moderate but steady pace, supported mainly by the ECB’s expansionary policies, which have significantly improved financial conditions, reduced financial fragmentation and supported economic activity and inflation.\n",
      "One positive aspect is that our policies have contributed to a decrease in financial fragmentation and that the dispersion of GDP growth and inflation across euro area countries is at the lowest level since the beginning of monetary union in 1999.\n",
      "Indeed, with the five packages of measures we have adopted since June 2014, we have reduced the cost of capital, produced rebalancing effects in other asset markets, improved credit supply conditions and restored credit volume growth since the latter part of 2014, after two years of negative developments.\n",
      "As a consequence, bank lending rates to non-financial corporations (NFCs) and households are now at historical lows, and there has been a significant reduction in the fragmentation of lending rates across euro area countries as well as for large and small loans (see Figures 2 and 3).\n",
      "Contrary to some perceptions, our monetary policy has had a positive effect on the profitability of banks since 2014, by reducing their funding costs, by ensuring capital gains related to higher prices of financial assets affected by QE, by reducing impairment costs and by increasing credit volumes as a result of a strengthening recovery.\n",
      "This improvement is also evident from the latest bank lending surveys (BLS), which reveal a continued easing of credit supply standards on loans to firms which is largely driven by increasing competition among banks.\n",
      "This evidence is supported by the findings of model-based analysis carried out by ECB staff, which suggests that credit supply restrictions are no longer dampening loan growth to NFCs. Furthermore, according to the ECB survey on the access to finance of enterprises (SAFE), credit conditions are also improving for euro area small and medium-sized enterprises (SMEs), which constitute the backbone of the euro area economy and represent the vast majority of firms.\n",
      "This is in part due to the headwinds stemming from the global economy, the structural slowdown in world trade and the financial crisis legacies lingering in many euro area countries which continue to dampen economic activity.\n",
      "Nevertheless, the narrative of a continued yet moderate recovery is largely echoed in the latest (September 2016) ECB staff macroeconomic projections for euro area activity, which are almost unchanged compared to June 2016.\n",
      "The contribution of our measures to this projected increase in inflation, is significant, representing, on average, an impact on the inflation rate of about half a percentage point each year between 2016 and 2018.\n"
     ]
    }
   ],
   "source": [
    "print(newEcb[\"text\"].iloc[1])"
   ]
  },
  {
   "attachments": {},
   "cell_type": "markdown",
   "metadata": {},
   "source": [
    "## Treating NA"
   ]
  },
  {
   "cell_type": "code",
   "execution_count": 82,
   "metadata": {},
   "outputs": [
    {
     "data": {
      "text/plain": [
       "title       0\n",
       "speaker     1\n",
       "text       34\n",
       "dtype: int64"
      ]
     },
     "execution_count": 82,
     "metadata": {},
     "output_type": "execute_result"
    }
   ],
   "source": [
    "ecb.isna().sum()"
   ]
  },
  {
   "cell_type": "code",
   "execution_count": 83,
   "metadata": {},
   "outputs": [
    {
     "data": {
      "text/plain": [
       "title      0\n",
       "speaker    2\n",
       "text       0\n",
       "dtype: int64"
      ]
     },
     "execution_count": 83,
     "metadata": {},
     "output_type": "execute_result"
    }
   ],
   "source": [
    "fed.isna().sum()"
   ]
  },
  {
   "cell_type": "code",
   "execution_count": 84,
   "metadata": {},
   "outputs": [
    {
     "name": "stdout",
     "output_type": "stream",
     "text": [
      "  Domestic and cross-border spillovers  of unconventional monetary policies   Remarks by Benoît Cœuré, Member of the Executive Board of the ECB, at the at the SNB-IMF Conference \"Monetary Policy Challenges in a Changing World\",Zurich, 12 May 2015  ***   Summary   Discussion has recently emerged on the global financial market implications of diverging monetary policy cycles. Central banks in large advanced economies can free themselves from the global financial cycle and regain monetary independe\n",
      "...\n",
      "feguard financial stability. Macro-prudential instruments can be targeted more efficiently to those sectors and countries where systemic risks may be materialising [14]. Finally, we encourage national authorities to do whatever is in their power to place the euro area on a more dynamic growth path, thereby creating attractive investment projects that generate high, but fundamentally justified, returns. These are the conditions for unconventional monetary policies to bring economies back to a stable and sustainable growth path, both at home and abroad.      [1]I would like to thank Roland Beck, Fédéric Holm-Hadulla and other colleagues at the ECB for their contribution to the speech. I remain solely responsible for the opinions expressed herein.    [2]See Rey, H. (2013) “Dilemma not Trilemma: The Global Financial Cycle and Monetary Policy independence”, paper presented at the 25th Jackson Hole symposium, Wyoming, August 2013. Mundell (1963) outlined the hypothesis of the monetary trilemma as a policy trade-off between the choices of monetary autonomy, exchange rate stability, and financial openness. See Mundell, R. A.: “Capital Mobility and Stabilization Policy under Fixed and Flexible Exchange Rates”, The Canadian Journal of Economics and Political Science, Vol. 29, No. 4 (November, 1963) , pp. 475-485.    [3]See Aizenman, J., Chinn M. and Ito. H, (2015) “Monetary Policy Spillovers and the Trilemma in the New Normal: Periphery Country Sensitivity to Core Country Conditions”, NBER Working Paper No. 21128, April 2015.     [4]QE 1 which was implemented at the height of the financial crisis was followed by a sharp appreciation of the US dollar. Similarly, the euro appreciated after the announcement of outright monetary transactions (OMT). In both cases the main channel of transmission was a reduction of (global) risk aversion.    [5]See “Policy coordination in a multipolar world”, remarks by Benoît Cœuré, Member of the Executive Board of the ECB, at the 5th annual Cusco conference organised by the Central Reserve Bank of Peru and the Reinventing Bretton Woods Committee: \"70 years after Bretton Woods: Managing the interconnectedness of the world economy\". Cusco, 22 July 2014.    [6] See also Chen, Q., Filardo, A., He, D. and Zhu, F., “International Spillovers of Central Bank Balance Sheet Policies”, Working Papers, Bank for International Settlements, November 2011. It studies the macroeconomic effects of US QE on 17 advanced and emerging economies in the period from 2007 to 2013. The authors find that the estimated effects of US QE on the emerging economies – while quite diverse across countries – are in many cases larger than those in the advanced economies, including the United States. In the case of the ECB’s unconventional monetary policy, international spillovers are likely to be more limited, however – at least the empirical evidence available so far suggests that it did not lead to international portfolio rebalancing across regions and assets. This may, however, have changed after the launch of the PSPP. See also Fratzscher, M., Lo Duca, M. and Straub, R., “ECB Unconventional Monetary Policy Actions: Market Impact, international Spillovers and Transmission Channels”, paper presented at the 15th Jacques Polak Annual Research Conference hosted by the International Monetary Fund, 13 14 November, 2014; and Georgiadis, G. and Gräb, J., “Global Financial Market Impact of the Announcement of the ECB's Extended Asset Purchase Programme”, Working Papers, No 232, Federal Reserve Bank of Dallas Globalization and Monetary Policy Institute, March 2015.     [7]See in particular the seminal paper by Obstfeld, M., and K. Rogoff (2002), “Global implications of self-oriented national monetary rules,” Quarterly Journal of Economics, Vol. 117, No 2, pp. 503-35.    [8]See Engel, C. “International Coordination of Central Bank Policy”, NBER Working Paper 20952, February 2015. http://www.nber.org/papers/w20952.pdf.     [9]See Ostry, J.D. and Gosh, A.R. “Obstacles to International Policy Coordination, and How to Overcome Them, International Monetary Fund Staff Discussion Note, SDN 13/11, December 2013.    [10] Summers, L. (2014), “U.S. Economic Prospects: Secular Stagnation, Hysteresis, and the Zero Lower Bound”, Business Economics 49(2).    [11]See “Monetary policy in a fragmented world”, speech by Benoît Cœuré, at the 41st Economics Conference of the Oesterreichische Nationalbank, Vienna, 10 June 2013.    [12]Constellations of dynamic inefficiency imply, from a long-run perspective, that the real growth rate exceeds the real interest rate on physical capital.    [13] Tirole, J. ( 1985): “Asset Bubbles and Overlapping Generations” Econometrica, Vol. 53, No. 6 (Nov., 1985), pp. 1499-1528    [14]“Reinforcing financial stability in the euro area”, speech given by Vítor Constâncio, Vice-President of the ECB, at the OMFIF City Lecture, London, 8 May 2015.       SEE ALSO  Find out more about related content   Related information      \n"
     ]
    }
   ],
   "source": [
    "test_text = ecb.iloc[5][\"text\"]\n",
    "print(test_text[:500])\n",
    "print(\"...\")\n",
    "print(test_text[-5000:])"
   ]
  },
  {
   "cell_type": "code",
   "execution_count": 7,
   "metadata": {},
   "outputs": [],
   "source": [
    "def numbered_reference_removal(text):\n",
    "    # refs are typically in the form [n] in the text.\n",
    "    matches = re.findall(r'\\[[0-9]+?\\]', text)\n",
    "    counter = Counter(matches)\n",
    "    for match in matches:\n",
    "        if counter[match] != 2:\n",
    "            # print(f\"Didn't find a reference twice in the text, but {counter[match]} times. Cannot remove.\")\n",
    "            # print(text[:2000], '\\n ... \\n',text[-2000:])\n",
    "            # print()\n",
    "            return text\n",
    "    \n",
    "    assert len(matches)%2 == 0\n",
    "    if len(matches) == 0:\n",
    "        return text\n",
    "    N = len(matches)//2\n",
    "    is_ordered = True\n",
    "    n = 0\n",
    "    for s in matches:\n",
    "        is_ordered = (s == f'[{n%N+1}]')\n",
    "        if not is_ordered : \n",
    "            # print(f\"Not ordered, {str(matches)}\")\n",
    "            return text\n",
    "        n += 1\n",
    "    \n",
    "    # Remove all references after [1]\n",
    "    res = re.findall(\n",
    "        r'^.*?\\[1\\].+?\\[1\\]',\n",
    "        text\n",
    "    )\n",
    "    return res[0]"
   ]
  },
  {
   "cell_type": "code",
   "execution_count": 8,
   "metadata": {},
   "outputs": [],
   "source": [
    "def reference_removal_en(text):\n",
    "    res = re.sub(r'(?i)see also.*', '', text)\n",
    "    res = re.sub(r'References.*', '', res)\n",
    "    res = re.sub(\"\\[[0-9]+\\]\", \"\", res)\n",
    "    return res"
   ]
  },
  {
   "cell_type": "code",
   "execution_count": 9,
   "metadata": {},
   "outputs": [
    {
     "name": "stdout",
     "output_type": "stream",
     "text": [
      "  The role of monetary policy in addressing the crisis in the euro area   Speech by Mario Draghi, President of the ECB, at the “Room for discussion” of the Study Association SEFA and the Faculty of Economics and Business, Amsterdam,15 April 2013  Introduction There was a time, not too long ago, when central banking was considered to be a rather boring and unexciting occupation. In the era of the “Great Moderation”, mostly seen as the period between the mid-1980s and the beginning of the global f\n",
      "...\n",
      "et up to complement the national shock absorption capacity of euro area countries. The creation of the EFSF and more recently the ESM has addressed this last shortcoming. And in our joint work with the Presidents of the European Council, the European Commission and the Eurogroup, we have set out a vision and a process for building a genuine Economic and Monetary Union. This is designed to cover the other gaps in the institutional architecture that I previously referred to.  The genuine Economic and Monetary Union comprises four pillars: a banking union with a single supervisor; a fiscal union that can effectively prevent and correct unsustainable budgets; an economic union that can guarantee sufficient competitiveness to sustain high employment; and a political union that can deeply engage euro area citizens. Progress is underway in all these directions. As regards the banking union in particular, a first and important step has been made with the decision to create the Single Supervisory Mechanism (SSM), the responsibility for which has been assigned to the ECB in the last Ecofin. I am confident that the SSM’s euro area perspective will make a significant contribution to safeguarding financial stability in the monetary union. In this sense, it will also support the conduct of monetary policy, as a stable financial system is a prerequisite for the proper transmission of our policy signals. But I would like to stress the importance of quickly complementing the SSM with a Single Resolution Mechanism. This is necessary to guarantee timely and impartial decision-making, particularly in the cases where cross-border resolution is required. What’s more, a Single Resolution Mechanism is essential to ensure that the SSM’s supervisory decisions for resolution can be followed up with action, without reinforcing the vicious link between banks and sovereigns. Finally, a Single Resolution Mechanism will credibly pursue the least-cost resolution strategy from a euro area perspective, also taking into account cross-border spill-overs.   Conclusion When considering the challenges that euro area economies are still facing, it is important to remember the economic hardship that many of our fellow citizens in parts of the euro area are experiencing, and in particular the massive unemployment, especially among the youth.  But there are also reasons for confidence. Most of the elements needed to address the root causes of the crisis and to build a genuine Economic and Monetary Union have been set in motion. The ECB’s monetary policy will continue to make its contribution to this endeavour, in line with its mandate. The heavy task of implementing the important decisions already taken lies ahead. All parties involved in this comprehensive reform agenda must persevere. And we must all work with conviction and determination towards our shared vision. If we do so, I am confident that restoring stability and ensuring prosperity in the euro area are within our reach.      [1]\n",
      "-------------\n",
      "  The role of monetary policy in addressing the crisis in the euro area   Speech by Mario Draghi, President of the ECB, at the “Room for discussion” of the Study Association SEFA and the Faculty of Economics and Business, Amsterdam,15 April 2013  Introduction There was a time, not too long ago, when central banking was considered to be a rather boring and unexciting occupation. In the era of the “Great Moderation”, mostly seen as the period between the mid-1980s and the beginning of the global f\n",
      "...\n",
      "umber of European measures to fully complete the Single Market especially in the area of services and to allow for higher labour mobility within the euro area.  Since the crisis started considerable progress has been made in making structural reforms in euro area countries, particularly those under an EU/IMF programme. And the painful measures taken are starting to bear fruit.  In Greece, Ireland and Portugal current account balances have improved by more than 7 percentage points (relative to GDP) between 2008 and 2012. In Spain the current account has improved even more substantially.  Also, we have seen reductions in unit labour costs. Ireland has seen an 18 percentage point improvement relative to the euro area average. In Greece, Portugal and Spain the improvement has been about 10 percentage points. As I have recently stressed to the Euro Area Heads of State and Governments, narrowing the gap between wage and productivity growth is absolutely essential for improving competitiveness in euro area countries.   To conclusively address the root causes of the crisis these efforts need to be maintained and, in some countries, stepped up. In the meantime, however, what I referred to earlier as the symptoms of the crisis also need to be tackled. Fiscal positions need to be maintained on a sustainable path and balance sheet weaknesses in the banking sector need to be repaired. And let me be clear: undertaking structural reforms, budget consolidation and restoring bank balance sheet health is neither the responsibility nor the mandate of monetary policy. Monetary policy can only avert an abrupt deleveraging that would have been conducted in an environment of panic and fire sales. And this is what we have done in order to avoid deflationary downward spirals that would have prevented us from delivering on our mandate of preserving price stability in the euro area. Monetary policy can support the reform progress by safeguarding price stability and anchoring inflation expectations. But it cannot substitute for actions that other actors, including the private sector itself, must take.  Completing the euro area’s institutional architecture In addition to the role of misguided or imprudent national policies, the narrative of the crisis that I have just spelled out clearly points to some serious shortcomings in the institutional architecture of the euro area. To begin with, the only policy sphere where some form of supra-national surveillance was in place was fiscal policy. And even in this domain, the mechanisms that were envisaged to prevent and correct unsustainable fiscal performance by Member States proved to be lacking. No framework was foreseen for monitoring competitiveness and heterogeneity within the euro area and for enforcing corrective action when needed. What’s more, in interconnected financial systems an entirely national perspective on bank regulation and supervision turned out to be insufficient. Finally, no crisis management framework had been set up to complement the national shock absorption capacity of euro area countries. The creation of the EFSF and more recently the ESM has addressed this last shortcoming. And in our joint work with the Presidents of the European Council, the European Commission and the Eurogroup, we have set out a vision and a process for building a genuine Economic and Monetary Union. This is designed to cover the other gaps in the institutional architecture that I previously referred to.  The genuine Economic and Monetary Union comprises four pillars: a banking union with a single supervisor; a fiscal union that can effectively prevent and correct unsustainable budgets; an economic union that can guarantee sufficient competitiveness to sustain high employment; and a political union that can deeply engage euro area citizens. Progress is underway in all these directions. As regards the banking union in particular, a first and important step has been made with the decision to create the Single Supervisory Mechanism (SSM), the responsibility for which has been assigned to the ECB in the last Ecofin. I am confident that the SSM’s euro area perspective will make a significant contribution to safeguarding financial stability in the monetary union. In this sense, it will also support the conduct of monetary policy, as a stable financial system is a prerequisite for the proper transmission of our policy signals. But I would like to stress the importance of quickly complementing the SSM with a Single Resolution Mechanism. This is necessary to guarantee timely and impartial decision-making, particularly in the cases where cross-border resolution is required. What’s more, a Single Resolution Mechanism is essential to ensure that the SSM’s supervisory decisions for resolution can be followed up with action, without reinforcing the vicious link between banks and sovereigns. Finally, a Single Resolution Mechanism will credibly pursue the least-cost resolution strategy from a euro area perspective, also taking into account cross-border spill-overs.   Conclusion When considering the challenges that euro area economies are still facing, it is important to remember the economic hardship that many of our fellow citizens in parts of the euro area are experiencing, and in particular the massive unemployment, especially among the youth.  But there are also reasons for confidence. Most of the elements needed to address the root causes of the crisis and to build a genuine Economic and Monetary Union have been set in motion. The ECB’s monetary policy will continue to make its contribution to this endeavour, in line with its mandate. The heavy task of implementing the important decisions already taken lies ahead. All parties involved in this comprehensive reform agenda must persevere. And we must all work with conviction and determination towards our shared vision. If we do so, I am confident that restoring stability and ensuring prosperity in the euro area are within our reach.      \n",
      "====================\n",
      "   SPEECH  The pandemic emergency: the three challenges for the ECB   Speech by Philip R. Lane, Member of the Executive Board of the ECB, at the Jackson Hole Economic Policy Symposium, Federal Reserve Bank of Kansas City “Navigating the Decade Ahead: Implications for Monetary Policy” 27 August 2020 Today, I will discuss the monetary policy measures taken by the ECB in response to the pandemic shock, take stock of the progress to date and outline the main challenges that lie ahead.[1]  The pandem\n",
      "...\n",
      ". The strategy review will be an important focus for our work over the next year.    I am grateful to Ine Van Robays and Leopold von Thadden for their contributions to this speech. I discussed the ECB’s response to the pandemic crisis in more detail in a recent speech. See Lane, P.R. (2020), “The ECB’s monetary policy response to the pandemic: liquidity, stabilisation and supporting the recovery”, 24 June. Since the ECB was already an active purchaser of both sovereign and private-sector securities, the PEPP could be rolled out quite quickly. On 12 March, the ECB had already expanded the size of its long-established asset purchase programme (APP) with an additional EUR 120 billion allocated for the rest of 2020. The 18 March launch of the PEPP was in recognition that a temporary and flexible programme was better suited to respond to the exceptional nature of the pandemic shock, rather than just relying on a mechanical expansion of the APP. See also Lane, P.R. (2020), “The market stabilisation role of the pandemic emergency purchase programme”, The ECB Blog, 22 June. See also Lane, P.R. (2020), “Expanding the pandemic emergency purchase programme”, The ECB Blog, 5 June. Unconditional liquidity operations were also offered, in order to ensure a well-priced liquidity backstop for the banking system. This includes the pandemic emergency longer-term refinancing operations (PELTRO) programme that serves to support liquidity conditions in all segments of the euro area financial system and preserve the smooth functioning of money markets. Furthermore, at the international level, we provided euro liquidity facilities through a variety of agreements with central banks outside the euro area, while the existing network of swap lines with the other major central banks was also reactivated, which enabled euro area banks to obtain foreign-currency liquidity if needed. In addition, a number of supervisory measures offered temporary capital, liquidity and operational relief to banks, to ensure that banks could continue to fulfil their role in funding the real economy. Before the pandemic shock, sizeable policy accommodation was already in place with short-term yields at record low levels, forward guidance indicating that rates would be kept low or lower, net asset purchases under the APP restarting in autumn 2019, our continued reinvestment policy, and the third series of the TLTROs (TLTRO-III). See also footnotes 2 and 4. See also Lane, P.R. (2020), “The macroeconomic impact of the pandemic and the policy response”, The ECB Blog, 4 August. See also Haroutunian, S., Hauptmeier, S. and Leiner-Killinger, N. (2020), “The COVID-19 crisis and its implications for fiscal policies”, Economic Bulletin, Issue 4, ECB. See also footnote 6. For simplicity, this post-pandemic inflation path is represented here as a parallel shift, but it might well be that inflation would recover more slowly in the post-pandemic economy in the absence of additional monetary accommodation.    \n",
      "-------------\n",
      "   SPEECH  The pandemic emergency: the three challenges for the ECB   Speech by Philip R. Lane, Member of the Executive Board of the ECB, at the Jackson Hole Economic Policy Symposium, Federal Reserve Bank of Kansas City “Navigating the Decade Ahead: Implications for Monetary Policy” 27 August 2020 Today, I will discuss the monetary policy measures taken by the ECB in response to the pandemic shock, take stock of the progress to date and outline the main challenges that lie ahead.  The pandemic:\n",
      "...\n",
      "d inflation and have helped to limit tail risks around the baseline scenario. According to internal estimates, the package of measures is projected to increase output by around 1.3 percentage points and inflation by around 0.8 percentage points cumulatively between 2020 and 2022. These estimates are conservative, since these do not fully capture the benefits gained by avoiding the adverse feedback loops between the real economy and financial markets that would have emerged in the absence of a prompt and comprehensive policy response.  Reaching our inflation aim: a two-stage approach The pandemic crisis represents a significant negative shock to the inflation outlook, since the disinflationary pressures arising from greater economic slack are likely to outweigh any inflationary forces stemming from negative sectoral supply shocks.   Chart 6 The future inflation path    Source: ECB.Notes: “AD” (the blue line) represents the expected inflation path before the pandemic shock. The initial negative impact of the pandemic shock – in the absence of additional monetary policy accommodation – is captured by the downward shift in the expected path from “A” to “B”. The “BE” path (the yellow line) illustrates a transition path of inflation that is even lower than originally envisaged. By providing additional monetary policy accommodation, the central bank can aim towards the upper region of the “BCDE” zone, so that the adjustment is closer to the “BCD” path.    Chart 6 shows a stylised sketch of the choice facing the ECB in terms of the monetary stance. Before the onset of the pandemic, inflation was expected to rise gradually towards the inflation aim, represented by the “AD” path (the blue line). The initial negative impact of the pandemic shock – in the absence of additional monetary policy accommodation – is captured by the downward shift in the expected path (the drop from “A” to “B”).  One option would be to simply accept that convergence to the inflation aim will take more time and that inflation will be even lower than originally envisaged during the transition path, as illustrated by the “BE” path (the yellow line). However, this option is costly in terms of the implied higher path for real interest rates and the slower economic recovery that results. It is also risky, since a longer phase of even lower inflation might become entrenched and contribute to a downward drift in inflation expectations, which would make it even more difficult to deliver the inflation aim over the medium term. A substantial weight should be attached to these risks in the context of the euro area, in view of the already-low pre-pandemic inflation rate and the long interval of below-target inflation. It follows that, for the ECB to deliver on its mandate, the more effective and safer option is to aim towards the upper region of the “BCDE” zone by providing additional monetary stimulus, so that the adjustment is closer to the “BCD” path. This is the line of reasoning behind the design of the PEPP, with a temporary phase of additional asset purchases intended to restore momentum to inflation dynamics. Accordingly, the monetary policy challenge consists of two stages. The first stage is to counteract the negative shock to the expected inflation path caused by the pandemic: through an intense temporary phase of additional monetary accommodation, the PEPP (in combination with the other monetary policy instruments) is designed to accomplish this first-stage task. Once the negative shock has been sufficiently offset, the second stage is to ensure that the post-pandemic monetary policy stance is appropriately calibrated in order to ensure timely convergence to our medium-term inflation aim. To these ends, the ECB Governing Council stands ready to adjust all of its instruments, as appropriate. Especially in an environment of low inflation and low interest rates, monetary and fiscal policies have the potential to reinforce each other. In particular, in relation to the price stability mandate, the scale of the monetary policy adjustment required to neutralise the negative pandemic shock to inflation dynamics and sustain the subsequent convergence to the inflation aim depends on the extent of the fiscal support for the economic recovery. All euro area countries have taken significant fiscal measures in response to the pandemic crisis. Over the near-term and medium-term, national governments will need to continue supporting their economies to recover from the severe pandemic shock. The recently-agreed €750 billion EU recovery fund – the Next Generation EU initiative – puts in place a shared budgetary instrument that both complements and supports national fiscal actions. An ambitious, high-quality and coordinated fiscal stance is central to securing a strong recovery across the euro area and constitutes a vital complement to the support provided by monetary policy. Finally, the emerging lessons from the policy response to the pandemic shock will also feed into our monetary policy strategy review. The strategy review will be an important focus for our work over the next year.    I am grateful to Ine Van Robays and Leopold von Thadden for their contributions to this speech. I discussed the ECB’s response to the pandemic crisis in more detail in a recent speech. See Lane, P.R. (2020), “The ECB’s monetary policy response to the pandemic: liquidity, stabilisation and supporting the recovery”, 24 June. Since the ECB was already an active purchaser of both sovereign and private-sector securities, the PEPP could be rolled out quite quickly. On 12 March, the ECB had already expanded the size of its long-established asset purchase programme (APP) with an additional EUR 120 billion allocated for the rest of 2020. The 18 March launch of the PEPP was in recognition that a temporary and flexible programme was better suited to respond to the exceptional nature of the pandemic shock, rather than just relying on a mechanical expansion of the APP. \n",
      "====================\n",
      "  Transmission channels of monetary policy in the current environment   Speech by Peter Praet, Member of the Executive Board of the ECB,at the Financial Times Festival of Finance,London, 1 July 2016 Ladies and Gentlemen[1], Since the onset of the financial crisis in 2007/2008, the euro area, like many other economies, has been hit by a barrage of shocks with adverse macroeconomic fall-outs. The ECB, like many other major central banks, has responded to these shocks with forceful and often unprec\n",
      "...\n",
      "roeconomy would have fared in the absence of monetary policy support. We have undertaken such an exercise across the Eurosystem, and the analysis tells a clear story.  Using a large and varied suite of models, Eurosystem staff find that, relative to the counterfactual scenario, our measures (excluding the March 2016 decisions) have provided significant support to output and inflation. In the absence of our policy package inflation would have been negative in 2015. In 2016 it would have been at least half a percentage point lower than we forecast currently and around half a percentage point lower in 2017. The impact of the policy measures on euro area GDP is also sizeable (again excluding the March 2016 decisions). According to the Eurosystem staff assessment, our policy is contributing to raise euro area GDP by around 1.5% in the period 2015-18.  Conclusion Let me summarise. The ongoing recovery has shown signs of strengthening, also on the back of an accelerating pass-through of our monetary policy measures to the broader economy. This accelerating pass-through shows that monetary policy is working. And the ECB is determined to continue playing its pivotal role in consolidating the upswing in the economic cycle.  At the same time, the euro area continues to be exposed to a number of uncertainties. Some are external, including the still-fragile global recovery and the impact of the UK referendum. But some are also internal. Most important is the lack of clarity for firms and households over the future institutional architecture of EMU, which remains incomplete in core areas, especially banking union. Key to removing that uncertainty is a clear roadmap for completing monetary union, which lays out both the end-point for the reform process and the sequence of steps that will lead to it. Without a clear roadmap, there is a risk that this combination of economic and institutional uncertainty will hold back the recovery in the euro area. And it has the potential to undermine the effectiveness of monetary policy as firms and households become less willing to engage in inter-temporal substitution by exploiting the favourable interest rate environment to frontload consumption and investment decisions. It weakens the capacity of the banking sector to act as a bridge between present and future spending decisions by intermediating between savers and borrowers – an issue that requires close monitoring. Against this background, monetary policy cannot be the only remedy to our current economic challenges. Instead, a broader set of actors needs to step into the breach, adopting a common approach to support the economic recovery in a context of persistent headwinds and to create durable and resilient improvement in economic performance going forward. This requires a concerted effort in the fiscal and structural policy domain to support the ongoing cyclical upswing; and a common strategy to complete and improve the institutional set-up of monetary union.      [1]\n",
      "-------------\n",
      "  Transmission channels of monetary policy in the current environment   Speech by Peter Praet, Member of the Executive Board of the ECB,at the Financial Times Festival of Finance,London, 1 July 2016 Ladies and Gentlemen, Since the onset of the financial crisis in 2007/2008, the euro area, like many other economies, has been hit by a barrage of shocks with adverse macroeconomic fall-outs. The ECB, like many other major central banks, has responded to these shocks with forceful and often unprecede\n",
      "...\n",
      "wn by about 3 percentage points relative to disposable income since 2008. As interest earnings and interest payments have fallen by roughly the same amount, the disposable income of aggregate euro area households has been largely unaffected. But what we have seen is a redistribution of purchasing power among different types of households.  While this redistribution is an unintended side-effect of monetary policy, it is not neutral for the cyclical environment. Specifically, resources have moved from net savers with a low marginal propensity to consume to net borrowers with a high marginal propensity to consume, creating an overall positive impact on aggregate consumption. This boost to disposable income has not so far been offset by increases in household saving rates in the euro area. Also for euro area firms, the impact of lower interest payments has been significant on aggregate. Since 2008, net interest payments have come down by about 7 percentage points to just 2% of gross operating surplus today. This provides substantial support to firms’ profitability which is positive for future investment. Improved profitability expectations, coupled with low discount rates, have also supported a strong decline in corporate debt-to-equity ratios – measured by market metrics – driven by valuation effects in equity markets. This ‘asset price’ deleveraging should in principle feed through into a lower cost of equity for firms, giving further impetus to investment.  Monetary policy has also contributed to the recovery in a third way. As domestic demand in the euro area has rallied, the contribution of external demand to output has declined in tandem with the major slowdown in international trade. But the decline has been more muted than we would have predicted on the basis of historical records. Indeed, over the past 20 years, the growth rate of international trade has been lower than in 2015 only twice: in the aftermath of the dotcom bubble burst in the early 2000s, and again after the collapse of Lehman Brothers in 2009. Both episodes saw a contemporaneous sharp slowdown in euro area growth to a rate close to or below zero.  In 2015, however, the unexpected sharp drop in trade was not associated with a slowdown in the euro area economy. In fact, year-on-year growth even picked up throughout 2015, despite the slump in world imports, as euro area exporters, after a long spell of losses, were able to regain market shares in world demand. The divergence between the monetary policy path of the euro area and that of other major economies was one factor explaining this atypical resilience of euro area exports.  Still, the fact that these improvements have taken place in tandem with the economy receiving new shocks – such as the steep fall in oil prices in 2014 and 2015 – poses an identification problem. Put simply, how do we know that the recovery would not have happened anyway? Addressing such questions requires models which can provide indications of how the macroeconomy would have fared in the absence of monetary policy support. We have undertaken such an exercise across the Eurosystem, and the analysis tells a clear story.  Using a large and varied suite of models, Eurosystem staff find that, relative to the counterfactual scenario, our measures (excluding the March 2016 decisions) have provided significant support to output and inflation. In the absence of our policy package inflation would have been negative in 2015. In 2016 it would have been at least half a percentage point lower than we forecast currently and around half a percentage point lower in 2017. The impact of the policy measures on euro area GDP is also sizeable (again excluding the March 2016 decisions). According to the Eurosystem staff assessment, our policy is contributing to raise euro area GDP by around 1.5% in the period 2015-18.  Conclusion Let me summarise. The ongoing recovery has shown signs of strengthening, also on the back of an accelerating pass-through of our monetary policy measures to the broader economy. This accelerating pass-through shows that monetary policy is working. And the ECB is determined to continue playing its pivotal role in consolidating the upswing in the economic cycle.  At the same time, the euro area continues to be exposed to a number of uncertainties. Some are external, including the still-fragile global recovery and the impact of the UK referendum. But some are also internal. Most important is the lack of clarity for firms and households over the future institutional architecture of EMU, which remains incomplete in core areas, especially banking union. Key to removing that uncertainty is a clear roadmap for completing monetary union, which lays out both the end-point for the reform process and the sequence of steps that will lead to it. Without a clear roadmap, there is a risk that this combination of economic and institutional uncertainty will hold back the recovery in the euro area. And it has the potential to undermine the effectiveness of monetary policy as firms and households become less willing to engage in inter-temporal substitution by exploiting the favourable interest rate environment to frontload consumption and investment decisions. It weakens the capacity of the banking sector to act as a bridge between present and future spending decisions by intermediating between savers and borrowers – an issue that requires close monitoring. Against this background, monetary policy cannot be the only remedy to our current economic challenges. Instead, a broader set of actors needs to step into the breach, adopting a common approach to support the economic recovery in a context of persistent headwinds and to create durable and resilient improvement in economic performance going forward. This requires a concerted effort in the fiscal and structural policy domain to support the ongoing cyclical upswing; and a common strategy to complete and improve the institutional set-up of monetary union.      \n",
      "====================\n",
      "  Domestic and cross-border spillovers  of unconventional monetary policies   Remarks by Benoît Cœuré, Member of the Executive Board of the ECB, at the at the SNB-IMF Conference \"Monetary Policy Challenges in a Changing World\",Zurich, 12 May 2015  ***   Summary   Discussion has recently emerged on the global financial market implications of diverging monetary policy cycles. Central banks in large advanced economies can free themselves from the global financial cycle and regain monetary independe\n",
      "...\n",
      "s on their savings that investments in the productive sector are unable to generate.  In this case, we end up with a “rational bubble”, which – as you will have noticed – follows the dynamics prominently highlighted by Jean Tirole [13]. While unconventional monetary policy is not a necessary condition for this type of bubble to emerge, it may render it more likely – and more violent in the event of its materialising. So what are the consequences of such bubble?  In the short-term, it may indeed generate a temporary boost to the economy. And for a while this boost would be difficult to distinguish from the regular workings of asset purchase programmes, which actually embed asset price increases as a desired effect, which passes on the initial impulse to broader financing conditions via portfolio rebalancing.  But this boost would ultimately be very costly. Not only does it does it come with welfare-decreasing macroeconomic instability, but it also brings about an arbitrary redistribution of wealth that may, in the worst case, undermine social cohesion and trust that the central bank is acting within its narrow price stability mandate. And moreover, it can create financial stability risks elsewhere, generating negative spillovers from what should otherwise be a normal international adjustment process. Against this background, it would be wrong to treat bubbles as a welcome replacement therapy to a sustainable growth model. Instead, macroeconomic and structural policies have to set the necessary conditions so that investment in productive sectors becomes attractive again and investment in bubble-prone areas is discouraged, so that total factor productivity is increased and the natural rate of interest ultimately reverts to what is normal. These principles underlie our views on the right policy mix for the euro area. We take monetary policy decisions with a view to attaining our primary objective of price stability. Thereby, we establish a stable nominal anchor for the private sector, which in turn is a fundamental precondition for overall macroeconomic stability.  Without prejudice to this objective, we take financial stability risk seriously and monitor closely whether severe imbalances are emerging in the financial sector. In this context, we consider the financial stability risks related to our policy measures to be contained. Should risks emerge, macro-prudential policy is best suited to safeguard financial stability. Macro-prudential instruments can be targeted more efficiently to those sectors and countries where systemic risks may be materialising [14]. Finally, we encourage national authorities to do whatever is in their power to place the euro area on a more dynamic growth path, thereby creating attractive investment projects that generate high, but fundamentally justified, returns. These are the conditions for unconventional monetary policies to bring economies back to a stable and sustainable growth path, both at home and abroad.      [1]\n",
      "-------------\n",
      "  Domestic and cross-border spillovers  of unconventional monetary policies   Remarks by Benoît Cœuré, Member of the Executive Board of the ECB, at the at the SNB-IMF Conference \"Monetary Policy Challenges in a Changing World\",Zurich, 12 May 2015  ***   Summary   Discussion has recently emerged on the global financial market implications of diverging monetary policy cycles. Central banks in large advanced economies can free themselves from the global financial cycle and regain monetary independe\n",
      "...\n",
      "stic spillovers  Turning to domestic spillovers, another question that has frequently been raised after unconventional policies were launched is whether they are prone to create financial stability risks in general and asset price bubbles in particular. Some have even argued that asset price bubbles were necessary condition for economic recovery in the early 2000s.  So, are bubbles an unintended consequence of unconventional monetary policies that we should live with? First of all, monetary policy always has unintended consequences, no matter where it is pursued. By altering short-term interest rates, central banks affect the inter-temporal decisions of households. Inter-temporal redistribution is at the heart of monetary policy that is aimed at ensuring price stability, and it thus has effects on the income distribution of savers and spenders. But monetary policy also affects the distribution of income along the intra-temporal and spatial (cross-country) dimension. Changes in short-term interest rates affect consumption, savings and wealth in different ways, depending on the characteristics of individual households in different jurisdictions. But all these effects can be considered temporary, indirect and unintended, i.e. a side effect of a strategy that is aimed at ensuring price stability in the economy.   That said, it would be a logical fallacy to conclude that all domestic spillovers are acceptable. Bubbles are a case in point. Bubbles are a possible, but not an inevitable result of unconventional monetary policies. And if they are welcome at all, then only in a severely constrained, second-best world. But in this case, we should ask ourselves how we can overcome the constraints that prevent better policy outcomes, rather than settling for bubbles to temporarily mask the constraints. Let me elaborate. Facing the threat of a persistent low-growth and low-inflation environment and a binding floor on standard policy rates, many central banks have resorted to unconventional measures. These measures were aimed at further pushing down nominal interest rates along the maturity spectrum to track the secular decrease in the natural, \"Wicksellian\" real rate of interest. Thereby, they helped induce firms and households bring forward their investment and consumption spending in comparison with that in a no policy-change scenario and, ultimately, bring the natural rate back to more normal levels. I am convinced that there is no alternative for us than acting this way in order to deliver on our mandate. Yet, there is a danger associated with the temporary, yet potentially extended period where low interest rates are needed to stimulate investment and consumption. With real interest rates below potential growth, private agents may just borrow to purchase assets in limited or rigid supply (e.g. real estate property). In this dynamically inefficient  world with structurally weak growth prospects, this may actually become an attractive way for savers to generate returns on their savings that investments in the productive sector are unable to generate.  In this case, we end up with a “rational bubble”, which – as you will have noticed – follows the dynamics prominently highlighted by Jean Tirole . While unconventional monetary policy is not a necessary condition for this type of bubble to emerge, it may render it more likely – and more violent in the event of its materialising. So what are the consequences of such bubble?  In the short-term, it may indeed generate a temporary boost to the economy. And for a while this boost would be difficult to distinguish from the regular workings of asset purchase programmes, which actually embed asset price increases as a desired effect, which passes on the initial impulse to broader financing conditions via portfolio rebalancing.  But this boost would ultimately be very costly. Not only does it does it come with welfare-decreasing macroeconomic instability, but it also brings about an arbitrary redistribution of wealth that may, in the worst case, undermine social cohesion and trust that the central bank is acting within its narrow price stability mandate. And moreover, it can create financial stability risks elsewhere, generating negative spillovers from what should otherwise be a normal international adjustment process. Against this background, it would be wrong to treat bubbles as a welcome replacement therapy to a sustainable growth model. Instead, macroeconomic and structural policies have to set the necessary conditions so that investment in productive sectors becomes attractive again and investment in bubble-prone areas is discouraged, so that total factor productivity is increased and the natural rate of interest ultimately reverts to what is normal. These principles underlie our views on the right policy mix for the euro area. We take monetary policy decisions with a view to attaining our primary objective of price stability. Thereby, we establish a stable nominal anchor for the private sector, which in turn is a fundamental precondition for overall macroeconomic stability.  Without prejudice to this objective, we take financial stability risk seriously and monitor closely whether severe imbalances are emerging in the financial sector. In this context, we consider the financial stability risks related to our policy measures to be contained. Should risks emerge, macro-prudential policy is best suited to safeguard financial stability. Macro-prudential instruments can be targeted more efficiently to those sectors and countries where systemic risks may be materialising . Finally, we encourage national authorities to do whatever is in their power to place the euro area on a more dynamic growth path, thereby creating attractive investment projects that generate high, but fundamentally justified, returns. These are the conditions for unconventional monetary policies to bring economies back to a stable and sustainable growth path, both at home and abroad.      \n",
      "====================\n",
      "  The case for cooperation: cross-border CCP supervision and the role of central banks   Introductory remarks by Benoît Cœuré, Member of the Executive Board of the ECB, at a conference on CCP risk management organised by the Deutsche Bundesbank, the ECB and the Federal Reserve Bank of Chicago, Frankfurt am Main, 27 February 2019 It is with great pleasure that I welcome you to Frankfurt. I thank you all for coming, especially those who have travelled from far away.  I am delighted to open this co\n",
      "...\n",
      "of CCPs clearing in euro, and the capacity to assess how they would fare in times of market stress, including through stress testing.  A second is meaningful involvement in the supervisory process, to ascertain that CCPs’ compliance with prudential and operational requirements provides sufficient guarantees from our perspective as a central bank.  And third, we should be able to adopt requirements to address critical central bank concerns. For instance, it would be our prerogative to determine when CCPs should hold central bank accounts for deposit and settlement purposes, and to require targeted enhancements to CCP liquidity risk management when necessary in exceptional market environments.  Everyone should be clear that our ability to carry out our mandate and, where appropriate, to provide liquidity to CCPs, relies on enshrining these safeguards in our regulatory framework.  CCP default management can and should be enhanced Before concluding, let me say a quick word on today’s third topic, the complex challenges CCPs face in managing defaults.[10]  CPMI-IOSCO is currently working on default management auctions, which is very welcome as this area of CCP risk management could benefit from further convergence towards shared best practices.[11] The recent default at Nasdaq Clearing has certainly focused the minds of policymakers on this issue. There is much ground to cover for CCPs to converge towards best practices, from setting the right incentives for auction participants to properly calibrating their financial resources to cover concentrated positions in thin or illiquid markets. I am sure this workstream will yield valuable conclusions for both regulators and the industry. Conclusion In sum, today’s conference shows that we are continuing to ensure that CCPs steadily become more resilient and sophisticated in their role as systemic risk managers and so can truly manage any situation. At times, this requires imagination to understand the interaction of participant behaviours, complex portfolios and stress scenarios, which is a prerequisite for setting the right incentives. It also requires humility to understand the limitations of this exercise and the need for fall-back plans. Extreme and unexpected events do happen and the very purpose of CCPs is to act as a circuit-breaker during crises.  For CCPs to perform this role as adequately as possible, all relevant authorities, including central banks, need to pull on the same rope. Europe, with its deep financial interconnectedness and high risk of spillovers, requires a particularly close level of information-sharing and cooperative oversight – the prerequisite for the Eurosystem to provide liquidity to CCPs. The role of the central bank of issue thus needs to be acknowledged appropriately. On this note, I hope that I have been able to whet your appetite for a vigorous and fruitful exchange of views during today’s conference and leave you in the capable hands of the organisers. Thank you.     [1]\n",
      "-------------\n",
      "  The case for cooperation: cross-border CCP supervision and the role of central banks   Introductory remarks by Benoît Cœuré, Member of the Executive Board of the ECB, at a conference on CCP risk management organised by the Deutsche Bundesbank, the ECB and the Federal Reserve Bank of Chicago, Frankfurt am Main, 27 February 2019 It is with great pleasure that I welcome you to Frankfurt. I thank you all for coming, especially those who have travelled from far away.  I am delighted to open this co\n",
      "...\n",
      "fecting, or caused by, a CCP can have ripple effects through the euro repo market, which may affect the conduct of monetary policy. The ECB therefore has a clear and legitimate interest in preventing or mitigating such disruptions. Second, CCPs are financial market hubs connecting banks as well as other market infrastructures, including payment systems. As a result, large payment flows are settled on a daily basis between CCPs and their participants. Deficiencies in CCP financial risk management can transfer liquidity strains to banks, thereby affecting both their capacity to extend credit to firms and households and their reliance on the provision of central bank liquidity, not least as banks are key participants in large-value payment systems operated by central banks.  Moreover, given the growth of central clearing and the promotion of settlement in central bank money, cleared markets themselves increasingly rely on these payment systems. The smooth functioning of our payment systems, in turn, depends on the safe operation of clearing infrastructure and the mitigation of liquidity risk. Finally, central banks can act as a liquidity backstop or a lender of last resort. Such action could be needed if a banking default were coupled with severe market stress. In such a scenario, a CCP would certainly hold high-quality collateral, but it may be unable to generate cash in the market in the very short time it has to manage a default.  Given the systemic importance of CCPs and the scale of potential funding needs, it is essential that CCPs have sound liquidity self-insurance so that a liquidity shortage remains an extreme tail risk and the associated moral hazard is mitigated. In light of these considerations, which apply across all locations, the ECB has a clear interest in ensuring the safety and soundness of euro clearing. To this end, we need to have a clear legal competence that, importantly, should cover both EU and third-country CCPs.  Proposals to differentiate between EU and third-country CCPs would not only leave considerable pockets of euro clearing without appropriate ECB oversight, they would also raise concerns about market distortions or an unlevel playing field. For example, a responsible central bank cannot extend liquidity to any entity without having a minimum level of information and control over it. It would be rather strange if such differentiation were to make it more difficult for us to provide liquidity to EU than to third-country CCPs.  This does not mean that we would seek to substitute our judgement for that of EU or third-country CCP supervisors: their primary responsibility to guarantee the resilience of CCPs, and more broadly the stability of our financial system, cannot and should not be questioned.  But we need a set of safeguards so that our concerns are appropriately taken into account in the regulation and supervision of CCPs. I see three such safeguards:  The first is adequate information on the operation and risk management of CCPs clearing in euro, and the capacity to assess how they would fare in times of market stress, including through stress testing.  A second is meaningful involvement in the supervisory process, to ascertain that CCPs’ compliance with prudential and operational requirements provides sufficient guarantees from our perspective as a central bank.  And third, we should be able to adopt requirements to address critical central bank concerns. For instance, it would be our prerogative to determine when CCPs should hold central bank accounts for deposit and settlement purposes, and to require targeted enhancements to CCP liquidity risk management when necessary in exceptional market environments.  Everyone should be clear that our ability to carry out our mandate and, where appropriate, to provide liquidity to CCPs, relies on enshrining these safeguards in our regulatory framework.  CCP default management can and should be enhanced Before concluding, let me say a quick word on today’s third topic, the complex challenges CCPs face in managing defaults.  CPMI-IOSCO is currently working on default management auctions, which is very welcome as this area of CCP risk management could benefit from further convergence towards shared best practices. The recent default at Nasdaq Clearing has certainly focused the minds of policymakers on this issue. There is much ground to cover for CCPs to converge towards best practices, from setting the right incentives for auction participants to properly calibrating their financial resources to cover concentrated positions in thin or illiquid markets. I am sure this workstream will yield valuable conclusions for both regulators and the industry. Conclusion In sum, today’s conference shows that we are continuing to ensure that CCPs steadily become more resilient and sophisticated in their role as systemic risk managers and so can truly manage any situation. At times, this requires imagination to understand the interaction of participant behaviours, complex portfolios and stress scenarios, which is a prerequisite for setting the right incentives. It also requires humility to understand the limitations of this exercise and the need for fall-back plans. Extreme and unexpected events do happen and the very purpose of CCPs is to act as a circuit-breaker during crises.  For CCPs to perform this role as adequately as possible, all relevant authorities, including central banks, need to pull on the same rope. Europe, with its deep financial interconnectedness and high risk of spillovers, requires a particularly close level of information-sharing and cooperative oversight – the prerequisite for the Eurosystem to provide liquidity to CCPs. The role of the central bank of issue thus needs to be acknowledged appropriately. On this note, I hope that I have been able to whet your appetite for a vigorous and fruitful exchange of views during today’s conference and leave you in the capable hands of the organisers. Thank you.     \n",
      "====================\n",
      "  Translating a shared vision into a winning story   Closing Remarks at the T2S launch celebration by Yves Mersch, Member of the Executive Board of the ECB, Milan, 2 July 2015 We chose to call this T2S launch celebration “Translating a shared vision into a winning story”. Listening to the speakers for the past two hours I believe the name was just right. We have heard how the T2S Community transformed the shared vision of an integrated securities settlement landscape into a winning story, culmin\n",
      "...\n",
      " eye on it and see how the T2S logo will materialise. Just like the T2S project will materialise over the next two years as the remaining 17 markets migrate to the platform.  The migration of the four securities depositories from Greece, Malta, Romania and Switzerland to the T2S platform on 22 June was just the beginning. The Italian market will join on 31 August, followed by three more waves of CSDs in March and September 2016 and February 2017. At that time 21 national markets will unite in a single market for securities settlement, with enhanced liquidity and collateral management. To ensure the rollout of T2S progresses smoothly we continue to support the preparations of all the securities depositories yet to migrate, as well as the efforts of the national markets to comply with the harmonisation standards.  Once full migration is complete, T2S has the potential to become the single gateway between the European financial market and the rest of the world. It will offer great opportunities for both European and international investors and issuers. National issuance will become European issuance, as shown nicely by the jaunty securities characters in the video we saw earlier. T2S will lower settlement costs and expand horizons for all entities in the post-trade market, regardless of their size or country of origin. Thanks to T2S, all markets and entities, both small and large, will have equal access to an innovative technical platform as well as an integrated European market.  For many people, Europe means the euro. But T2S will not only settle in euro. T2S was designed as a multi-currency system. The Danish krone will be available for settlement in T2S as of 2018. Some of the other non-euro-area central banks have also expressed an interest in joining at a later stage, as soon as their markets are ready. I am confident that, following the successful launch, more markets and currencies will be interested in joining the platform, paving the way for T2S to embrace the diversity of Europe and become a truly pan-European platform.  Like the speakers in the panel discussion who shared their vision for the post-trade industry ten years from now, we should think about what happens next. The capital markets union, once established, will be a great step forward. But is more needed in the market infrastructure arena in order to progress on the journey towards an integrated financial market in Europe? One helping hand will be the synergy between TARGET2 on the cash side and T2S on the securities side, which certainly brings new opportunities. The objective should be to better meet the demands of the market and increase efficiency. Our journey continues. What I am sure of is that the story of T2S is successful because of each and every one of you. To celebrate this great achievement, I would like to invite you for a drink in the beautiful garden outside.  Thank you.     SEE ALSO  Find out more about related content   Payments & Markets TARGET2-Securities   \n",
      "-------------\n",
      "  Translating a shared vision into a winning story   Closing Remarks at the T2S launch celebration by Yves Mersch, Member of the Executive Board of the ECB, Milan, 2 July 2015 We chose to call this T2S launch celebration “Translating a shared vision into a winning story”. Listening to the speakers for the past two hours I believe the name was just right. We have heard how the T2S Community transformed the shared vision of an integrated securities settlement landscape into a winning story, culmin\n",
      "...\n",
      " one. There have been some bumps in the road, some twists and turns, but with the launch of T2S we have achieved a monumental milestone. We made the vision of a single securities settlement platform for Europe a reality.  I want to thank you all for your support, trust and commitment, which has enabled us to reach this first step towards an integrated, more efficient, and harmonised post-trade market in Europe. In particular, I would like to take this opportunity to thank the national communities, namely the national central banks, the securities depositories and their clients, for their involvement and cooperation. Moreover, I would like to thank the 4CB (composed of Banque de France, Deutsche Bundesbank, Banca d’Italia and Banco de España) for developing and now also running the T2S platform. Let me also acknowledge the hard work and dedication of the people at the ECB who coordinated the implementation of the project. In particular, I thank Jean-Michel Godeffroy, who steered the T2S ship through sometimes stormy waters for many years, and Marc Bayle, who brought the ship to a safe harbour on 22 June 2015. And a special thanks to Ms Tumpel-Gugerell, who was the ECB board member in charge during the project’s inception.  A popular saying is that “Two heads are better than one”. From the very beginning T2S has managed to unite the efforts of both the private and the public sector. T2S was not initiated by the market, but owing to its post-trade harmonisation agenda it has evolved into a market-driven initiative which is supported by the public sector.  In many ways it has been a unique project.  First of all, no one was forced to join the T2S Community. Many securities depositories chose to participate because they saw great potential in T2S in terms of cutting settlement costs, fostering competition and generating new business opportunities. But overall, T2S had the potential to bring about a more integrated financial market and thus to benefit all.  Second, the governance structure of the project is special as national central banks, securities depositories and market participants formed a partnership with one objective – to launch T2S successfully. It is this unique collaborative effort, mentioned by some of you tonight, that has ensured the success of the T2S project, a project of such size and scale that it has changed the industry completely.  Finally, the project is unparalleled in that it has led the industry to impose new rules and procedures on itself. And let’s be honest: this does not happen often. That is why many believe that the post-trade harmonisation agenda is the greatest benefit of T2S.  The launch of T2S is a great achievement. With T2S we have a big story, and I am confident that the story of its development will continue to be a winning one. Of course, there are many types of stories – some rooted in fantasy, some in fiction, and some in reality. The T2S story is a reality, and to symbolise this, a 3D printer is installed in the corridor that you will pass through several times tonight. I invite you to keep an eye on it and see how the T2S logo will materialise. Just like the T2S project will materialise over the next two years as the remaining 17 markets migrate to the platform.  The migration of the four securities depositories from Greece, Malta, Romania and Switzerland to the T2S platform on 22 June was just the beginning. The Italian market will join on 31 August, followed by three more waves of CSDs in March and September 2016 and February 2017. At that time 21 national markets will unite in a single market for securities settlement, with enhanced liquidity and collateral management. To ensure the rollout of T2S progresses smoothly we continue to support the preparations of all the securities depositories yet to migrate, as well as the efforts of the national markets to comply with the harmonisation standards.  Once full migration is complete, T2S has the potential to become the single gateway between the European financial market and the rest of the world. It will offer great opportunities for both European and international investors and issuers. National issuance will become European issuance, as shown nicely by the jaunty securities characters in the video we saw earlier. T2S will lower settlement costs and expand horizons for all entities in the post-trade market, regardless of their size or country of origin. Thanks to T2S, all markets and entities, both small and large, will have equal access to an innovative technical platform as well as an integrated European market.  For many people, Europe means the euro. But T2S will not only settle in euro. T2S was designed as a multi-currency system. The Danish krone will be available for settlement in T2S as of 2018. Some of the other non-euro-area central banks have also expressed an interest in joining at a later stage, as soon as their markets are ready. I am confident that, following the successful launch, more markets and currencies will be interested in joining the platform, paving the way for T2S to embrace the diversity of Europe and become a truly pan-European platform.  Like the speakers in the panel discussion who shared their vision for the post-trade industry ten years from now, we should think about what happens next. The capital markets union, once established, will be a great step forward. But is more needed in the market infrastructure arena in order to progress on the journey towards an integrated financial market in Europe? One helping hand will be the synergy between TARGET2 on the cash side and T2S on the securities side, which certainly brings new opportunities. The objective should be to better meet the demands of the market and increase efficiency. Our journey continues. What I am sure of is that the story of T2S is successful because of each and every one of you. To celebrate this great achievement, I would like to invite you for a drink in the beautiful garden outside.  Thank you.     \n",
      "====================\n",
      "  Systemic Risk   Clare Distinguished Lecture in Economics and Public Policyby Jean-Claude Trichet, President of the ECBorganised by the Clare College, University of CambridgeCambridge, 10 December 2009 Ladies and Gentlemen, I am delighted to have been invited by Clare College, Cambridge, to give this lecture in economics and public policy. One of the greatest challenges for economics and public policy at this time is to restore financial and economic stability, and to improve the future functio\n",
      "...\n",
      "art of the cycle and blocked channels of financial contagion. In short, it provided catastrophe insurance.  There is no doubt that macroeconomic policy-makers’ interventions have had a stabilising effect. Market compensation for risk has gradually returned to more normal levels. The free-fall of the economy has been halted and turned around. The financial crisis has not precipitated the extreme spiral of falling prices, rising debt burdens and chain bankruptcies that some economists had feared.  For what concerns monetary policy, conditions are now stable enough that we can start to withdraw some of the excess support that is now not needed to the same extent as it was in the past. [22]   Concluding remarks Let me draw to a close. An English proverb, echoed in many other languages, warns that sometimes, ‘you can’t see the wood for the trees’. Systemic risk is about seeing the wood, and not only the trees. Macro-prudential supervision, supposed to detect systemic risk and propose remedial action, has been devised because in a highly integrated and complex financial system, micro-prudential supervision alone can no longer guarantee financial stability. The main challenge in systemic risk analysis is therefore to integrate all relevant perspectives, including those of economists, supervisors, regulators, accountants, securitisation experts, rating experts, risk managers and many others to take a holistic view on the system, its dynamics and its interlinkages.  As we have seen, small things can make a big difference and seemingly self-contained initial events can lead to a system collapse. We therefore need a detailed understanding of each part of the financial system. At the same time, their complex interactions mean that we need to keep the big picture in sight, too. We must not allow the understandably narrow focus of detailed knowledge to hamper insight into the system as a whole. Like researchers on the climate and the natural environment, we need to combine the micro and macro perspectives. The academic research community can make a significant contribution in supporting policy-makers to meet these challenges. It can help to improve analytical frameworks for the early identification and assessment of systemic risks. And it can contribute to discussions on the further identification and optimal use of macro-prudential regulatory instruments.  Macro-prudential supervision is an important tool to contain systemic risks and thereby contribute to sustainable growth and prosperity. The proposed establishment of a European Systemic Risk Board next year is a very important initiative in this regard. Ensuring systemic stability will also alleviate undue pressures on monetary and fiscal policies to extend financial safety nets. The standard macroeconomic stabilisation policies can then focus more clearly on their primary objectives and thereby make their own best contribution to growth and well-being. Thank you very much for your kind attention.      [1]\n",
      "-------------\n",
      "  Systemic Risk   Clare Distinguished Lecture in Economics and Public Policyby Jean-Claude Trichet, President of the ECBorganised by the Clare College, University of CambridgeCambridge, 10 December 2009 Ladies and Gentlemen, I am delighted to have been invited by Clare College, Cambridge, to give this lecture in economics and public policy. One of the greatest challenges for economics and public policy at this time is to restore financial and economic stability, and to improve the future functio\n",
      "...\n",
      " for the last quarter of a century. Demand and real incomes have grown steeply, but steadily. Their steady course has instilled a wide sense of security in investors and savers.  The European stability culture can be seen as vindicated by the crisis.  However, macroeconomic stability has not been a sufficient condition for financial stability. It cannot eliminated systemic risk altogether. Macroeconomic authorities have therefore been frequently called on to provide remedial action, once booms have turned into busts. The aim of their action has been precisely to avoid the transformation of individual financial risks into systemic risk.  Ex post remedial action has often been activated as soon as the financial firestorm has threatened the stability of the economic system. But such action risks raising expectations that macroeconomic policy will always insure against tail risks, no matter how large. Expectations of this sort can contribute to an under-pricing of financial risk in subsequent phases of the financial cycles. They can encourage concentration of market positions in the financial scene.  At the same time, the instruments of counter-cyclical policy have been used so intensely – and more so from one financial cycle to the next – that authorities might have tested the extremes of their control procedures. I am borrowing here from dynamic control theory. Repeated attempts to fine tune a mechanical or electronic system after a shock sometimes leads to “instrument instability” that makes the system spiral out of manageable bounds.  Economic and financial systems, I suspect could have some structural similarities with physical systems, leading to the same kind of “instrument instability”.  Moral hazard and policy instrument instability pose questions to which we are not in a position to a firm answer at this point in time. I would like to see these questions studied and debated in eminent academic institutions like this. Turning to actual developments, as I mentioned already, we saw perhaps the most appalling manifestation of such a threat in the autumn of 2008. In the early phase of the present financial crisis, precautionary hoarding of liquidity brought to a complete seizure of many segments of the market for credit. At the same time, panic sales of assets made market liquidity disappear. Market liquidity is high when traders can easily find a price, and that price is very close to what every other trader pays for the same asset at the same time. In early October 2008 the market could simply not find a value for many of those securities that had been so highly priced only few weeks before.  To avoid a cascade of counterparty defaults, governments offered generous financial guarantees and injected fresh capital into the system. Central banks increased their lending to replace the withdrawal of private lending – in interbank transactions and, sometimes, in the broader market for capital. This concerted intervention very much attenuated the downward part of the cycle and blocked channels of financial contagion. In short, it provided catastrophe insurance.  There is no doubt that macroeconomic policy-makers’ interventions have had a stabilising effect. Market compensation for risk has gradually returned to more normal levels. The free-fall of the economy has been halted and turned around. The financial crisis has not precipitated the extreme spiral of falling prices, rising debt burdens and chain bankruptcies that some economists had feared.  For what concerns monetary policy, conditions are now stable enough that we can start to withdraw some of the excess support that is now not needed to the same extent as it was in the past.    Concluding remarks Let me draw to a close. An English proverb, echoed in many other languages, warns that sometimes, ‘you can’t see the wood for the trees’. Systemic risk is about seeing the wood, and not only the trees. Macro-prudential supervision, supposed to detect systemic risk and propose remedial action, has been devised because in a highly integrated and complex financial system, micro-prudential supervision alone can no longer guarantee financial stability. The main challenge in systemic risk analysis is therefore to integrate all relevant perspectives, including those of economists, supervisors, regulators, accountants, securitisation experts, rating experts, risk managers and many others to take a holistic view on the system, its dynamics and its interlinkages.  As we have seen, small things can make a big difference and seemingly self-contained initial events can lead to a system collapse. We therefore need a detailed understanding of each part of the financial system. At the same time, their complex interactions mean that we need to keep the big picture in sight, too. We must not allow the understandably narrow focus of detailed knowledge to hamper insight into the system as a whole. Like researchers on the climate and the natural environment, we need to combine the micro and macro perspectives. The academic research community can make a significant contribution in supporting policy-makers to meet these challenges. It can help to improve analytical frameworks for the early identification and assessment of systemic risks. And it can contribute to discussions on the further identification and optimal use of macro-prudential regulatory instruments.  Macro-prudential supervision is an important tool to contain systemic risks and thereby contribute to sustainable growth and prosperity. The proposed establishment of a European Systemic Risk Board next year is a very important initiative in this regard. Ensuring systemic stability will also alleviate undue pressures on monetary and fiscal policies to extend financial safety nets. The standard macroeconomic stabilisation policies can then focus more clearly on their primary objectives and thereby make their own best contribution to growth and well-being. Thank you very much for your kind attention.      \n",
      "====================\n",
      "  Working together for growth in Europe   Introductory remarks by Mario Draghi, President of the ECB,at Deutscher Bundestag, Berlin, 28 September 2016  Introduction Mr Chairman, Honourable Members of the Bundestag, Ladies and gentlemen, Thank you for your invitation. It is a pleasure to speak here in in the halls of the Committee on the Affairs of the European Union, where you bring the debate about European integration to the Bundestag, the heart of German democracy.  As President of the ECB, I\n",
      "...\n",
      "efore need more investment and structural reforms to lift growth and productivity. As Wolfgang Schäuble said in this house a couple of weeks ago when he presented the budget for 2017: we will only get out of this phase of low interest rates if we have more sustainable growth in Europe.   The need for decisive action at the national and European level This leads me to my final point: policy-makers across the euro area, need to seize the opportunity to deliver reforms. At the height of the crisis, all Member States and citizens showed an enormous commitment to keeping the euro area together when the critics were already talking about the euro’s demise. But we cannot stop here: we need to make sure not only that the euro survives, but that our Economic and Monetary Union thrives.  If we want to succeed, we will need to find common solutions for the problems that we all face. If we want to preserve the European social model, we will need to bring labour and product markets in line with the realities of the digital and globalised world of the 21st century. If we want savers to benefit from higher interest rates in the future, we will need to create investment opportunities to put these savings to a productive use. This is about raising productivity and employment.[6] This is about structural reforms that are a necessary complement to our monetary policy. And Member States have to do their part. I have highlighted this many times in the past.[7] In fact, I emphasise it every six weeks at the ECB’s press conference.  And where we face common supranational challenges, and currently there are several such challenges, there is no alternative to acting jointly as Europeans. Consider the transformative power of the deepening of the Single Market at the end of the 1980s. This opened up new opportunities and it continues to benefit European companies and individuals alike. Consider what can still be achieved with the Digital Single Market, the energy union and the capital markets union. Without a well-functioning Single Market, our firms would lose access to a market of 500 million consumers. Without a Single Market, we Europeans would have little global leverage to uphold our values, such as our respect for the right to privacy on the internet. Together we are immeasurably stronger.[8]   Conclusion Let me conclude. The ECB is vigorously counteracting risks to price stability using all necessary tools within its mandate. Our monetary policy has supported growth and employment and will eventually bring inflation back to our aim of below, but close to, 2%. Low interest rates today are necessary for a return to higher interest rates in the future. What we need now is to allow our measures to develop their full impact. And in order to reap the full benefits of our monetary policy measures, other policy areas must contribute much more decisively, both at the national and at the European level. Thank you for your attention. I look forward to your questions.      [1]\n",
      "-------------\n",
      "  Working together for growth in Europe   Introductory remarks by Mario Draghi, President of the ECB,at Deutscher Bundestag, Berlin, 28 September 2016  Introduction Mr Chairman, Honourable Members of the Bundestag, Ladies and gentlemen, Thank you for your invitation. It is a pleasure to speak here in in the halls of the Committee on the Affairs of the European Union, where you bring the debate about European integration to the Bundestag, the heart of German democracy.  As President of the ECB, I\n",
      "...\n",
      "2015 alone approximately EUR 28 billion on lower than expected interest payments. We should also consider the full effect of low interest rates on banks. Those who blame ECB policy for the mixed performance of certain German financial firms have been very vocal. But what has been forgotten is that many banks have been able to more than offset declining interest revenues with higher lending volumes, improved loan performance and lower interest expenses, all of which are beneficial to both the banks and their customers. The ECB’s monetary policy is not the main factor for the low profitability of banks. While some banks’ business models may indeed need to adapt to the current low interest rate environment, they also need to address their own structural issues, such as overcapacity, the stock of non-performing loans and the potential impact of technological innovation. Low profitability is closely linked to low operational efficiency. In Germany cost to income ratios are on average relatively high compared to other jurisdictions. Let us be clear, however, there is no one size fits all banking model and we have different types of banks that are successfully operating in Germany and in the euro area.  Of course, low interest rates for a long period might carry the risk of overvaluation in asset markets as a result of the search for yield. This is why we closely monitor potential risks to financial stability that might emanate for instance from local real estate markets. But at the moment we are not seeing any overheating in the euro area or the German economy as a whole. While we do observe a somewhat stronger increase in residential real estate prices, notably in large cities in Germany, such increases are not the reflection of a bubble, as lending is growing only moderately. Moreover, overall household debt-to-income levels are comparatively low and stable. Where signs of excessive risk-taking emerge, macroprudential measures at the national level should be the instrument of choice. They allow exuberant financial developments to be addressed in a more targeted way, while monetary policy contributes to the stability of the euro area as a whole. So far I have discussed the reasons for our measures and their effects. To summarise, our policies allow the recovery to take hold so that we will be able to raise interest rates again. After all, the interest earnings that the savers understandably crave need to be generated first in the real economy. In a stagnant economy there is little to be shared out. It should also be noted that the level to which real interest rates can eventually return when the economy strengthens is not determined by monetary policy. Instead, it depends on the economy’s long-term growth prospects. Productivity and demographics play a decisive role in this, and the development of these factors has not been favourable in Europe in recent years. This is a phenomenon we also see in Germany. For long-term interest rates to rise in the future we therefore need more investment and structural reforms to lift growth and productivity. As Wolfgang Schäuble said in this house a couple of weeks ago when he presented the budget for 2017: we will only get out of this phase of low interest rates if we have more sustainable growth in Europe.   The need for decisive action at the national and European level This leads me to my final point: policy-makers across the euro area, need to seize the opportunity to deliver reforms. At the height of the crisis, all Member States and citizens showed an enormous commitment to keeping the euro area together when the critics were already talking about the euro’s demise. But we cannot stop here: we need to make sure not only that the euro survives, but that our Economic and Monetary Union thrives.  If we want to succeed, we will need to find common solutions for the problems that we all face. If we want to preserve the European social model, we will need to bring labour and product markets in line with the realities of the digital and globalised world of the 21st century. If we want savers to benefit from higher interest rates in the future, we will need to create investment opportunities to put these savings to a productive use. This is about raising productivity and employment. This is about structural reforms that are a necessary complement to our monetary policy. And Member States have to do their part. I have highlighted this many times in the past. In fact, I emphasise it every six weeks at the ECB’s press conference.  And where we face common supranational challenges, and currently there are several such challenges, there is no alternative to acting jointly as Europeans. Consider the transformative power of the deepening of the Single Market at the end of the 1980s. This opened up new opportunities and it continues to benefit European companies and individuals alike. Consider what can still be achieved with the Digital Single Market, the energy union and the capital markets union. Without a well-functioning Single Market, our firms would lose access to a market of 500 million consumers. Without a Single Market, we Europeans would have little global leverage to uphold our values, such as our respect for the right to privacy on the internet. Together we are immeasurably stronger.   Conclusion Let me conclude. The ECB is vigorously counteracting risks to price stability using all necessary tools within its mandate. Our monetary policy has supported growth and employment and will eventually bring inflation back to our aim of below, but close to, 2%. Low interest rates today are necessary for a return to higher interest rates in the future. What we need now is to allow our measures to develop their full impact. And in order to reap the full benefits of our monetary policy measures, other policy areas must contribute much more decisively, both at the national and at the European level. Thank you for your attention. I look forward to your questions.      \n",
      "====================\n",
      "   SPEECH Frankfurt am Main (by video conference), 7 July 2020  Unleashing the euro’s untapped potential at global level   Introductory remarks by Fabio Panetta, Member of the Executive Board of the ECB, Meeting with Members of the European Parliament The introduction of the euro has undoubtedly been one of the most profound changes in the international monetary system since the collapse of the Bretton Woods system. Right from the start, the ECB has monitored developments in the international ro\n",
      "...\n",
      "stop facility to address pandemic-related euro liquidity needs outside the euro area. The Eurosystem repo facility for central banks (EUREP)[4] reflects the importance of the euro in global financial markets and will support the smooth transmission of our monetary policy. In particular, it will reduce risks related to sell-off episodes of euro-denominated assets and spillovers of market dysfunctions from other economies to the euro area, including through global confidence effects.  Looking beyond the immediate aftermath of the pandemic crisis, the acceleration of the digitalisation of money may have implications for the euro’s global role.  Thanks to the recent launch of the European Payments Initiative, Europe has stepped up its efforts in meeting the challenge to create a true European and modern payment solution that meets the needs of both people and businesses.[5] This is essential to ensure the autonomy of the European payments market, in the face of increasing dominance by foreign players.  The ECB will continue to monitor how new technologies change payment behaviours. Regardless of the choice of technology, the stability of money and payment systems should continue to rest on the firm foundations central banks provide. Maintaining the unit of account, guaranteeing the finality of payments, providing liquidity and conducting oversight remain essential public goods that are provided by central banks. They are paramount to maintaining trust in a currency and safeguarding monetary sovereignty. This is why the ECB intends to remain at the forefront of discussions concerning the nature of money in a digital world, including the exploration of the desirability and feasibility of establishing a central bank digital currency (CBDC). A CBDC would have domestic implications for the euro area in areas such as monetary policy, financial stability and payment systems, which would need to be thoroughly assessed. But, if the CBDC is allowed to be used outside the euro area, it is likely to have implications for the global monetary and financial system too. For instance, the euro’s international role could be strengthened if the CBDC represented an attractive payment vehicle or store of value for non-euro area residents. It could have implications for capital flows and the exchange rate of the euro, with potential knock-on effects on euro area and global economic developments. It could amplify the real and financial cross-border spillovers of domestic monetary policy shocks by creating a new channel for their propagation. The magnitude of such effects would depend on the design of the CBDC.  Conclusions Allow me to conclude.  The euro became an international currency at birth. How and whether this international status will evolve in the future remains in the hands of European policymakers. The European Parliament has a key role to play in delivering reforms that will further strengthen people’s confidence in the European project and in the euro.     [1]\n",
      "-------------\n",
      "   SPEECH Frankfurt am Main (by video conference), 7 July 2020  Unleashing the euro’s untapped potential at global level   Introductory remarks by Fabio Panetta, Member of the Executive Board of the ECB, Meeting with Members of the European Parliament The introduction of the euro has undoubtedly been one of the most profound changes in the international monetary system since the collapse of the Bretton Woods system. Right from the start, the ECB has monitored developments in the international ro\n",
      "...\n",
      "an international funding unit amplifies the cross-border effects of monetary policy impulses. Through spillback effects, the resulting impact on demand across the world may give monetary policy a wider, and possibly larger, domestic impact. This could be particularly true for an economy such as the euro area, which is more open to trade than other major economies.  Moreover, international currency status lowers exchange rate pass-through, which helps shield inflation from foreign shocks. It lowers external financing costs – the traditional “exorbitant privilege”. And finally, it can be argued that the traditional argument against a stronger international role for a given currency – that it increases the volatility of monetary aggregates – has declined in prominence.  All in all, changes in the global role of the euro may have consequences for the conduct of monetary policy, all of which must be understood and taken into account when designing the ECB’s actions. Unleashing the euro’s untapped global potential The euro’s global potential has not been fully realised, however. But the right policies could unleash it.  The ECB has repeatedly stressed that the international role of the euro is primarily supported by a deeper and more complete Economic and Monetary Union, including advancing the capital markets union, in the context of the pursuit of sound economic policies in the euro area. The COVID-19 pandemic underlines the urgency of these policies and the ECB supports the necessary reform efforts. Moreover, as I have also stressed recently, the euro’s international role will grow only if we can better share its benefits, or “privilege”.  It is for Europe to provide common instruments that generate safe assets for all Member States in times of crisis, thereby ensuring that necessary fiscal reactions do not cause further instability and fragmentation. The €750 billion recovery fund proposed by the European Commission is an excellent example. It will provide a forceful European fiscal response to the COVID-19 crisis and the foundation for a deep, common capital market backed by safe euro assets. Unfortunately, however, the recovery fund is both temporary in nature and relatively small in relation to the size of the European sovereign bond market. The ECB also plays its part. A global currency requires a central bank that acts as a credible backstop to safeguard liquidity conditions in the financial system. Over the past few months, the ECB has deployed forceful monetary policy measures to avoid fragmentation, dispel tail risks in financial markets and stabilise the euro area economy. Yet the pandemic crisis has also made clear that, in times of stress, managing a global currency also requires the ECB to play a prominent role at the international level. Shortly after the outbreak of the pandemic crisis, the ECB reactivated a number of swap and repo lines with major foreign central banks. On 25 June we went further still and established a new precautionary backstop facility to address pandemic-related euro liquidity needs outside the euro area. The Eurosystem repo facility for central banks (EUREP) reflects the importance of the euro in global financial markets and will support the smooth transmission of our monetary policy. In particular, it will reduce risks related to sell-off episodes of euro-denominated assets and spillovers of market dysfunctions from other economies to the euro area, including through global confidence effects.  Looking beyond the immediate aftermath of the pandemic crisis, the acceleration of the digitalisation of money may have implications for the euro’s global role.  Thanks to the recent launch of the European Payments Initiative, Europe has stepped up its efforts in meeting the challenge to create a true European and modern payment solution that meets the needs of both people and businesses. This is essential to ensure the autonomy of the European payments market, in the face of increasing dominance by foreign players.  The ECB will continue to monitor how new technologies change payment behaviours. Regardless of the choice of technology, the stability of money and payment systems should continue to rest on the firm foundations central banks provide. Maintaining the unit of account, guaranteeing the finality of payments, providing liquidity and conducting oversight remain essential public goods that are provided by central banks. They are paramount to maintaining trust in a currency and safeguarding monetary sovereignty. This is why the ECB intends to remain at the forefront of discussions concerning the nature of money in a digital world, including the exploration of the desirability and feasibility of establishing a central bank digital currency (CBDC). A CBDC would have domestic implications for the euro area in areas such as monetary policy, financial stability and payment systems, which would need to be thoroughly assessed. But, if the CBDC is allowed to be used outside the euro area, it is likely to have implications for the global monetary and financial system too. For instance, the euro’s international role could be strengthened if the CBDC represented an attractive payment vehicle or store of value for non-euro area residents. It could have implications for capital flows and the exchange rate of the euro, with potential knock-on effects on euro area and global economic developments. It could amplify the real and financial cross-border spillovers of domestic monetary policy shocks by creating a new channel for their propagation. The magnitude of such effects would depend on the design of the CBDC.  Conclusions Allow me to conclude.  The euro became an international currency at birth. How and whether this international status will evolve in the future remains in the hands of European policymakers. The European Parliament has a key role to play in delivering reforms that will further strengthen people’s confidence in the European project and in the euro.     \n",
      "====================\n",
      "  Presentation of the book entitled “L’acqua e la spugna” by Franco Bruni   Speech by Lorenzo Bini Smaghi, Member of the Executive Board of the ECBCenter for American StudiesRome, 24 June 2009 Above all, I should like to thank the Center for American Studies for inviting me to present this book by Franco Bruni; a book which is a real pleasure to present because it actually shows to be untrue what many have claimed recently, namely that the economists did not foresee the crisis and that they did \n",
      "...\n",
      "it its job to. This is the responsibility of the political authorities. Following the collapse of Lehman Brothers, this has become clear in Europe. Only the heads of state and government, in their meeting in Paris prompted by President Sarkozy, were able to commit public funds to avoid several banks going under. The programme aimed at supporting banks’ capital and at guaranteeing bonds was a government initiative, even if the ECB made a technical contribution. And this is exactly how it should be. If something can be said to have gone wrong, it was with the implementation of the measures, not with the decision itself. The ECB has repeated its invitation to financial institutions many times to make full use of the state measures for increasing capitalisation in the banking system. If this doesn’t happen, there is a risk that the retroactive effect of the current recession on banks’ accounts will cause the banks ultimately to reduce their financing of the real sector, thereby further exacerbating the economic crisis. Evidently, there is not enough incentive for bank shareholders and bank managers to make use of such instruments, the shareholders out of fear that their shares will drop in value, and the managers for fear of operational and pay structure constraints. This poses a problem in terms of coordinating behaviour, which has to be resolved by policy-makers. However, time constraints prevent us from exploring this matter any further today. I would like to conclude by looking to the future. I agree with Franco Bruni’s analysis and recommendations. This crisis affirms the need for fully independent central banks in which the appointment of Executive Board members is not linked to electoral cycles, and where such members have long-term mandates. It also confirms how important it is for price stability to be the primary objective of monetary policy. This experience has shown that having more objectives than this does not make the task any easier, neither in terms of preventing a crisis, nor resolving it. Given the objective of price stability, central banks should also aim to contribute to financial stability but they should also have instruments at their disposal to achieve this. Finally, whenever central banks are given specific powers, they are also expected – and rightly so – to exercise accountability. Franco Bruni is no exception, but in this regard he cannot be distinguished from a certain trend which erroneously considers the ECB to be less accountable than the Federal Reserve, particularly with regard to parliament. The appendix gives details about the methods of reporting to the respective parliaments, in terms of reporting, hearings and responses to questions posed by the parliament. It can be confirmed from this that the ECB reports with the same intensity and frequency as the US central bank. This does not mean that the quality of interaction cannot be improved, but this depends, to a large extent, on the European Parliament.      [1]\n",
      "-------------\n",
      "  Presentation of the book entitled “L’acqua e la spugna” by Franco Bruni   Speech by Lorenzo Bini Smaghi, Member of the Executive Board of the ECBCenter for American StudiesRome, 24 June 2009 Above all, I should like to thank the Center for American Studies for inviting me to present this book by Franco Bruni; a book which is a real pleasure to present because it actually shows to be untrue what many have claimed recently, namely that the economists did not foresee the crisis and that they did \n",
      "...\n",
      "example of the separation is precisely the one which occurred on 9 August 2007, when amid market tensions, it was decided both to maintain the rates unchanged and to intervene on a substantial scale to satisfy the banks’ demand for liquidity, with a €90 billion operation. And the same separation has been continued in all the months since then. That the decision to reduce interest rates in March to 1.5% was justified is, I believe, evident from the growth and inflation estimates published at that time. I remember the ECB staff projections were pointing to euro area GDP growth for 2009 and 2010 being equal to -2.7% and 0.0% and inflation of 0.5% and 1.1% respectively. Also taking into account the relevant horizon for monetary policy, between one and two years ahead, an interest rate of 2% seemed excessive, also considering the downside risks to growth that the ECB’s Governing Council had signalled and that they duly manifested themselves. Indeed, the projections were again revised in early June, and the cut in the official interest rate to 1% decided in May is consistent with that revision.  The objective of the decisions to supply liquidity to the banking system was not to “rescue the banks” but to ensure the continued functioning of the financial market, starting with its base, i.e. the money market. The ECB’s entire range of instruments, characterised by a wide corridor between the interest rate on the marginal lending facility and the rate on the deposit facility, weekly repurchase agreements, the acceptance of a large number of counterparties and a wide range of collateral, is based on the money market functioning. If the money market doesn’t work, the mechanism for transmitting monetary policy doesn’t work. The only solution remaining for a central bank at this point is to stand in for the market and perform the role of the banks, even by lending directly to the private sector. Maybe this solution is the most preferable? I don’t believe so. In my opinion, the functioning of the market is a statutory objective for a central bank. It should therefore intervene to guarantee the liquidity of the market. It should be remembered that every injection of liquidity is guaranteed by the collateral deposited by the counterparty banks. This means that banks’ assets are made liquid. It’s obvious that without such a liquidity intervention, the market would collapse, taking the banking system with it. This is always true for last-resort interventions whose objective is to keep a solvent but illiquid system alive. It is at the heart of the role of central banking, particularly in times of systemic crisis. There can be no doubt that the ECB had to take on this role and I believe it has done so in an appropriate way. However, the point is not to intervene to remedy problems of solvency resulting from wrong decisions regarding investment or resulting from insufficient capital. In this regard, a central bank is not in a position to deal with these problems, nor is it its job to. This is the responsibility of the political authorities. Following the collapse of Lehman Brothers, this has become clear in Europe. Only the heads of state and government, in their meeting in Paris prompted by President Sarkozy, were able to commit public funds to avoid several banks going under. The programme aimed at supporting banks’ capital and at guaranteeing bonds was a government initiative, even if the ECB made a technical contribution. And this is exactly how it should be. If something can be said to have gone wrong, it was with the implementation of the measures, not with the decision itself. The ECB has repeated its invitation to financial institutions many times to make full use of the state measures for increasing capitalisation in the banking system. If this doesn’t happen, there is a risk that the retroactive effect of the current recession on banks’ accounts will cause the banks ultimately to reduce their financing of the real sector, thereby further exacerbating the economic crisis. Evidently, there is not enough incentive for bank shareholders and bank managers to make use of such instruments, the shareholders out of fear that their shares will drop in value, and the managers for fear of operational and pay structure constraints. This poses a problem in terms of coordinating behaviour, which has to be resolved by policy-makers. However, time constraints prevent us from exploring this matter any further today. I would like to conclude by looking to the future. I agree with Franco Bruni’s analysis and recommendations. This crisis affirms the need for fully independent central banks in which the appointment of Executive Board members is not linked to electoral cycles, and where such members have long-term mandates. It also confirms how important it is for price stability to be the primary objective of monetary policy. This experience has shown that having more objectives than this does not make the task any easier, neither in terms of preventing a crisis, nor resolving it. Given the objective of price stability, central banks should also aim to contribute to financial stability but they should also have instruments at their disposal to achieve this. Finally, whenever central banks are given specific powers, they are also expected – and rightly so – to exercise accountability. Franco Bruni is no exception, but in this regard he cannot be distinguished from a certain trend which erroneously considers the ECB to be less accountable than the Federal Reserve, particularly with regard to parliament. The appendix gives details about the methods of reporting to the respective parliaments, in terms of reporting, hearings and responses to questions posed by the parliament. It can be confirmed from this that the ECB reports with the same intensity and frequency as the US central bank. This does not mean that the quality of interaction cannot be improved, but this depends, to a large extent, on the European Parliament.      \n",
      "====================\n"
     ]
    }
   ],
   "source": [
    "test_nb = 10\n",
    "counter = 0\n",
    "for text_ in ecb[\"text\"]:\n",
    "    if isinstance(text_, str):\n",
    "        text = numbered_reference_removal(text_)\n",
    "        text2 = reference_removal_en(text)\n",
    "        if text2 != text:\n",
    "            print(text[:500])\n",
    "            print(\"...\")\n",
    "            print(text[-3000:])\n",
    "            print(\"-------------\")\n",
    "            print(text2[:500])\n",
    "            print(\"...\")\n",
    "            print(text2[-6000:])\n",
    "            print(\"====================\")\n",
    "            counter += 1\n",
    "    if counter == 10:\n",
    "        break"
   ]
  },
  {
   "cell_type": "code",
   "execution_count": null,
   "metadata": {},
   "outputs": [],
   "source": []
  },
  {
   "attachments": {},
   "cell_type": "markdown",
   "metadata": {},
   "source": [
    "Sometimes, the title appears in the beginning of an ECB text. We can remove it using regular expressions."
   ]
  },
  {
   "cell_type": "code",
   "execution_count": 16,
   "metadata": {},
   "outputs": [],
   "source": [
    "# Before dealing with N/A because otherwise, this edit would just undo the other.\n",
    "# We can use this to remove the \"TRANSCRIPT\" and \"SPEECH\" tags.\n",
    "# We also notice that most of the time, the content is preceded by a date. It would be useful to make a date parser to remove the first chunk.\n",
    "\n",
    "def first_date_extractor(text):\n",
    "    if len(text) > 0:\n",
    "        res = re.sub('^(.*?)[1-9][0-9]* (?:Jan(?:uary)?|Feb(?:ruary)?|Mar(?:ch)?|'\n",
    "                     + 'Apr(?:il)?|May|Jun(?:e)?|Jul(?:y)?|Aug(?:ust)?|Sep(?:tember)?|Oct(?:ober)?|(Nov|Dec)(?:ember)?) (19|20)[0-9][0-9]',\n",
    "                     '', text)\n",
    "        return res\n",
    "\n",
    "def remove_title(x):\n",
    "    if not x[\"text\"] is None and isinstance(x[\"text\"], str):\n",
    "        res = re.sub(x[\"title\"], '', x[\"text\"]).strip()\n",
    "        return res\n",
    "    else:\n",
    "        return x[\"title\"]\n",
    "\n",
    "def website_remover(text):\n",
    "    # Remove websites\n",
    "    regex = \"((http|https)://)(www.)?\" \\\n",
    "        + \"[a-zA-Z0-9@:%._\\\\+~#?&//=]{2,256}\\\\.[a-z]\" \\\n",
    "        + \"{2,6}\\\\b([-a-zA-Z0-9@:%._\\\\+~#?&//=]*)\"\n",
    "    res = re.sub(regex, \"\", text).strip()\n",
    "    return res\n",
    "\n",
    "def tag_removal(text):\n",
    "    # Remove tags\n",
    "    res = re.sub('SPEECH', '', text)\n",
    "    res = re.sub('TRANSCRIPT', '', res)\n",
    "    res = re.sub(\"Introduction\", \"\", res)\n",
    "    res = re.sub(\"Summary\", \"\", res)\n",
    "    return res\n",
    "\n",
    "def summarizeLine(text, tolist=False):\n",
    "    try:\n",
    "        res = summarize(text, word_count=500)\n",
    "        if tolist:\n",
    "            res = res.split(\"\\n\")\n",
    "    except:\n",
    "        return text\n",
    "    return res\n",
    "\n",
    "def pipeline_en(x, tolist=False):\n",
    "    res = remove_title(x)\n",
    "    if res is None:\n",
    "        return res\n",
    "    res = numbered_reference_removal(res)\n",
    "    res = reference_removal_en(res)\n",
    "    res = tag_removal(res).strip()\n",
    "    res = first_date_extractor(res).strip()\n",
    "    res = summarizeLine(res, tolist)\n",
    "\n",
    "    # print(\"================================================\")\n",
    "    # print(res[:200])\n",
    "    # print(\"...\")\n",
    "    # print(res[-500:])\n",
    "    return res\n",
    "\n",
    "ecb[\"text_preprocessed\"] = ecb.apply(lambda x: pipeline_en(x, tolist=True), axis=1)"
   ]
  },
  {
   "cell_type": "code",
   "execution_count": 17,
   "metadata": {},
   "outputs": [
    {
     "data": {
      "text/plain": [
       "count    1772.000000\n",
       "mean      478.733634\n",
       "std        98.570976\n",
       "min         1.000000\n",
       "25%       491.000000\n",
       "50%       499.000000\n",
       "75%       507.000000\n",
       "max       583.000000\n",
       "Name: text_preprocessed, dtype: float64"
      ]
     },
     "execution_count": 17,
     "metadata": {},
     "output_type": "execute_result"
    }
   ],
   "source": [
    "ecb[\"text_preprocessed\"].apply(lambda x: len(str.split(str(x)))).describe()"
   ]
  },
  {
   "attachments": {},
   "cell_type": "markdown",
   "metadata": {},
   "source": [
    "What are the N/A entries for text? Do they also have no speaker or no title?"
   ]
  },
  {
   "cell_type": "code",
   "execution_count": 13,
   "metadata": {},
   "outputs": [
    {
     "data": {
      "text/html": [
       "<div>\n",
       "<style scoped>\n",
       "    .dataframe tbody tr th:only-of-type {\n",
       "        vertical-align: middle;\n",
       "    }\n",
       "\n",
       "    .dataframe tbody tr th {\n",
       "        vertical-align: top;\n",
       "    }\n",
       "\n",
       "    .dataframe thead th {\n",
       "        text-align: right;\n",
       "    }\n",
       "</style>\n",
       "<table border=\"1\" class=\"dataframe\">\n",
       "  <thead>\n",
       "    <tr style=\"text-align: right;\">\n",
       "      <th></th>\n",
       "      <th>title</th>\n",
       "      <th>speaker</th>\n",
       "      <th>text</th>\n",
       "      <th>text_preprocessed</th>\n",
       "    </tr>\n",
       "  </thead>\n",
       "  <tbody>\n",
       "    <tr>\n",
       "      <th>40</th>\n",
       "      <td>Die EZB, das Geld und die Wirtschaft: Von A wi...</td>\n",
       "      <td>Sabine Lautenschläger</td>\n",
       "      <td>NaN</td>\n",
       "      <td>Die EZB, das Geld und die Wirtschaft: Von A wi...</td>\n",
       "    </tr>\n",
       "    <tr>\n",
       "      <th>104</th>\n",
       "      <td>Economic situation and outlook</td>\n",
       "      <td>Peter Praet</td>\n",
       "      <td>NaN</td>\n",
       "      <td>Economic situation and outlook</td>\n",
       "    </tr>\n",
       "    <tr>\n",
       "      <th>146</th>\n",
       "      <td>Economic developments in the euro area</td>\n",
       "      <td>Peter Praet</td>\n",
       "      <td>NaN</td>\n",
       "      <td>Economic developments in the euro area</td>\n",
       "    </tr>\n",
       "    <tr>\n",
       "      <th>172</th>\n",
       "      <td>Unequal scars – distributional consequences of...</td>\n",
       "      <td>Isabel Schnabel</td>\n",
       "      <td>NaN</td>\n",
       "      <td>Unequal scars – distributional consequences of...</td>\n",
       "    </tr>\n",
       "    <tr>\n",
       "      <th>220</th>\n",
       "      <td>The economic outlook for the euro area</td>\n",
       "      <td>Philip R. Lane</td>\n",
       "      <td>NaN</td>\n",
       "      <td>The economic outlook for the euro area</td>\n",
       "    </tr>\n",
       "    <tr>\n",
       "      <th>257</th>\n",
       "      <td>Mehr Europa für eine stabile gemeinsame Währung</td>\n",
       "      <td>Isabel Schnabel</td>\n",
       "      <td>NaN</td>\n",
       "      <td>Mehr Europa für eine stabile gemeinsame Währung</td>\n",
       "    </tr>\n",
       "    <tr>\n",
       "      <th>275</th>\n",
       "      <td>Better Regulation“ im Finanzsektor - die Sicht...</td>\n",
       "      <td>Gertrude Tumpel-Gugerell</td>\n",
       "      <td>NaN</td>\n",
       "      <td>Better Regulation“ im Finanzsektor - die Sicht...</td>\n",
       "    </tr>\n",
       "    <tr>\n",
       "      <th>291</th>\n",
       "      <td>The ECB's monetary policy strategy review - IM...</td>\n",
       "      <td>Philip R. Lane</td>\n",
       "      <td>NaN</td>\n",
       "      <td>The ECB's monetary policy strategy review - IM...</td>\n",
       "    </tr>\n",
       "    <tr>\n",
       "      <th>332</th>\n",
       "      <td>Sources of risk and vulnerabilities for financ...</td>\n",
       "      <td>Luis de Guindos</td>\n",
       "      <td>NaN</td>\n",
       "      <td>Sources of risk and vulnerabilities for financ...</td>\n",
       "    </tr>\n",
       "    <tr>\n",
       "      <th>413</th>\n",
       "      <td>Policy Frameworks and Strategies for an Open E...</td>\n",
       "      <td>Philip R. Lane</td>\n",
       "      <td>NaN</td>\n",
       "      <td>Policy Frameworks and Strategies for an Open E...</td>\n",
       "    </tr>\n",
       "    <tr>\n",
       "      <th>497</th>\n",
       "      <td>The ECB's policy response to the COVID-19 pand...</td>\n",
       "      <td>Isabel Schnabel</td>\n",
       "      <td>NaN</td>\n",
       "      <td>The ECB's policy response to the COVID-19 pand...</td>\n",
       "    </tr>\n",
       "    <tr>\n",
       "      <th>509</th>\n",
       "      <td>Die neue geldpolitische Strategie der Europäis...</td>\n",
       "      <td>Isabel Schnabel</td>\n",
       "      <td>NaN</td>\n",
       "      <td>Die neue geldpolitische Strategie der Europäis...</td>\n",
       "    </tr>\n",
       "    <tr>\n",
       "      <th>528</th>\n",
       "      <td>Taking stock: The ECB strategy review and curr...</td>\n",
       "      <td>Philip R. Lane</td>\n",
       "      <td>NaN</td>\n",
       "      <td>Taking stock: The ECB strategy review and curr...</td>\n",
       "    </tr>\n",
       "    <tr>\n",
       "      <th>649</th>\n",
       "      <td>Climate change and monetary policy</td>\n",
       "      <td>Isabel Schnabel</td>\n",
       "      <td>NaN</td>\n",
       "      <td>Climate change and monetary policy</td>\n",
       "    </tr>\n",
       "    <tr>\n",
       "      <th>695</th>\n",
       "      <td>The future of the euro</td>\n",
       "      <td>Philip R. Lane</td>\n",
       "      <td>NaN</td>\n",
       "      <td>The future of the euro</td>\n",
       "    </tr>\n",
       "    <tr>\n",
       "      <th>739</th>\n",
       "      <td>International flows and the pandemic: evidence...</td>\n",
       "      <td>Philip R. Lane</td>\n",
       "      <td>NaN</td>\n",
       "      <td>International flows and the pandemic: evidence...</td>\n",
       "    </tr>\n",
       "    <tr>\n",
       "      <th>747</th>\n",
       "      <td>The ECB’s monetary policy during the coronavir...</td>\n",
       "      <td>Isabel Schnabel</td>\n",
       "      <td>NaN</td>\n",
       "      <td>The ECB’s monetary policy during the coronavir...</td>\n",
       "    </tr>\n",
       "    <tr>\n",
       "      <th>753</th>\n",
       "      <td>The Phillips Curve at the ECB</td>\n",
       "      <td>Philip R. Lane</td>\n",
       "      <td>NaN</td>\n",
       "      <td>The Phillips Curve at the ECB</td>\n",
       "    </tr>\n",
       "    <tr>\n",
       "      <th>788</th>\n",
       "      <td>The resilience of the euro</td>\n",
       "      <td>Philip R. Lane</td>\n",
       "      <td>NaN</td>\n",
       "      <td>The resilience of the euro</td>\n",
       "    </tr>\n",
       "    <tr>\n",
       "      <th>829</th>\n",
       "      <td>Die Geldpolitik der EZB in der Corona-Krise</td>\n",
       "      <td>Isabel Schnabel</td>\n",
       "      <td>NaN</td>\n",
       "      <td>Die Geldpolitik der EZB in der Corona-Krise</td>\n",
       "    </tr>\n",
       "    <tr>\n",
       "      <th>832</th>\n",
       "      <td>The ECB's policy response to the COVID-19 crisis</td>\n",
       "      <td>Isabel Schnabel</td>\n",
       "      <td>NaN</td>\n",
       "      <td>The ECB's policy response to the COVID-19 crisis</td>\n",
       "    </tr>\n",
       "    <tr>\n",
       "      <th>1025</th>\n",
       "      <td>IMF Policy dialogue: New policy frameworks for...</td>\n",
       "      <td>Philip R. Lane</td>\n",
       "      <td>NaN</td>\n",
       "      <td>IMF Policy dialogue: New policy frameworks for...</td>\n",
       "    </tr>\n",
       "    <tr>\n",
       "      <th>1058</th>\n",
       "      <td>The ECB strategy review</td>\n",
       "      <td>Philip R. Lane</td>\n",
       "      <td>NaN</td>\n",
       "      <td>The ECB strategy review</td>\n",
       "    </tr>\n",
       "    <tr>\n",
       "      <th>1280</th>\n",
       "      <td>Europe’s role in a changing global economy</td>\n",
       "      <td>Philip R. Lane</td>\n",
       "      <td>NaN</td>\n",
       "      <td>Europe’s role in a changing global economy</td>\n",
       "    </tr>\n",
       "    <tr>\n",
       "      <th>1383</th>\n",
       "      <td>The resilience of the euro</td>\n",
       "      <td>Philip R. Lane</td>\n",
       "      <td>NaN</td>\n",
       "      <td>The resilience of the euro</td>\n",
       "    </tr>\n",
       "    <tr>\n",
       "      <th>1412</th>\n",
       "      <td>Monetary and Macroprudential Policy Interactions</td>\n",
       "      <td>Peter Praet</td>\n",
       "      <td>NaN</td>\n",
       "      <td>Monetary and Macroprudential Policy Interactions</td>\n",
       "    </tr>\n",
       "    <tr>\n",
       "      <th>1467</th>\n",
       "      <td>Die Geldpolitik der EZB in der Corona-Krise</td>\n",
       "      <td>NaN</td>\n",
       "      <td>NaN</td>\n",
       "      <td>Die Geldpolitik der EZB in der Corona-Krise</td>\n",
       "    </tr>\n",
       "    <tr>\n",
       "      <th>1493</th>\n",
       "      <td>The euro area: a laboratory for international ...</td>\n",
       "      <td>Philip R. Lane</td>\n",
       "      <td>NaN</td>\n",
       "      <td>The euro area: a laboratory for international ...</td>\n",
       "    </tr>\n",
       "    <tr>\n",
       "      <th>1594</th>\n",
       "      <td>Data analysis and monetary policy during the p...</td>\n",
       "      <td>Philip R. Lane</td>\n",
       "      <td>NaN</td>\n",
       "      <td>Data analysis and monetary policy during the p...</td>\n",
       "    </tr>\n",
       "    <tr>\n",
       "      <th>1595</th>\n",
       "      <td>The euro area economic outlook and completion ...</td>\n",
       "      <td>Benoît Cœuré</td>\n",
       "      <td>NaN</td>\n",
       "      <td>The euro area economic outlook and completion ...</td>\n",
       "    </tr>\n",
       "    <tr>\n",
       "      <th>1618</th>\n",
       "      <td>The pandemic and ECB monetary policy</td>\n",
       "      <td>Philip R. Lane</td>\n",
       "      <td>NaN</td>\n",
       "      <td>The pandemic and ECB monetary policy</td>\n",
       "    </tr>\n",
       "    <tr>\n",
       "      <th>1697</th>\n",
       "      <td>The ECB’s policy response to the COVID-19 pand...</td>\n",
       "      <td>Isabel Schnabel</td>\n",
       "      <td>NaN</td>\n",
       "      <td>The ECB’s policy response to the COVID-19 pand...</td>\n",
       "    </tr>\n",
       "    <tr>\n",
       "      <th>1763</th>\n",
       "      <td>Understanding the pandemic emergency purchase ...</td>\n",
       "      <td>Philip R. Lane</td>\n",
       "      <td>NaN</td>\n",
       "      <td>Understanding the pandemic emergency purchase ...</td>\n",
       "    </tr>\n",
       "    <tr>\n",
       "      <th>1765</th>\n",
       "      <td>Die Geldpolitik der EZB in der Corona-Krise</td>\n",
       "      <td>Isabel Schnabel</td>\n",
       "      <td>NaN</td>\n",
       "      <td>Die Geldpolitik der EZB in der Corona-Krise</td>\n",
       "    </tr>\n",
       "  </tbody>\n",
       "</table>\n",
       "</div>"
      ],
      "text/plain": [
       "                                                  title  \\\n",
       "40    Die EZB, das Geld und die Wirtschaft: Von A wi...   \n",
       "104                      Economic situation and outlook   \n",
       "146              Economic developments in the euro area   \n",
       "172   Unequal scars – distributional consequences of...   \n",
       "220              The economic outlook for the euro area   \n",
       "257     Mehr Europa für eine stabile gemeinsame Währung   \n",
       "275   Better Regulation“ im Finanzsektor - die Sicht...   \n",
       "291   The ECB's monetary policy strategy review - IM...   \n",
       "332   Sources of risk and vulnerabilities for financ...   \n",
       "413   Policy Frameworks and Strategies for an Open E...   \n",
       "497   The ECB's policy response to the COVID-19 pand...   \n",
       "509   Die neue geldpolitische Strategie der Europäis...   \n",
       "528   Taking stock: The ECB strategy review and curr...   \n",
       "649                  Climate change and monetary policy   \n",
       "695                              The future of the euro   \n",
       "739   International flows and the pandemic: evidence...   \n",
       "747   The ECB’s monetary policy during the coronavir...   \n",
       "753                       The Phillips Curve at the ECB   \n",
       "788                          The resilience of the euro   \n",
       "829         Die Geldpolitik der EZB in der Corona-Krise   \n",
       "832    The ECB's policy response to the COVID-19 crisis   \n",
       "1025  IMF Policy dialogue: New policy frameworks for...   \n",
       "1058                            The ECB strategy review   \n",
       "1280         Europe’s role in a changing global economy   \n",
       "1383                         The resilience of the euro   \n",
       "1412   Monetary and Macroprudential Policy Interactions   \n",
       "1467        Die Geldpolitik der EZB in der Corona-Krise   \n",
       "1493  The euro area: a laboratory for international ...   \n",
       "1594  Data analysis and monetary policy during the p...   \n",
       "1595  The euro area economic outlook and completion ...   \n",
       "1618               The pandemic and ECB monetary policy   \n",
       "1697  The ECB’s policy response to the COVID-19 pand...   \n",
       "1763  Understanding the pandemic emergency purchase ...   \n",
       "1765        Die Geldpolitik der EZB in der Corona-Krise   \n",
       "\n",
       "                       speaker text  \\\n",
       "40       Sabine Lautenschläger  NaN   \n",
       "104                Peter Praet  NaN   \n",
       "146                Peter Praet  NaN   \n",
       "172            Isabel Schnabel  NaN   \n",
       "220             Philip R. Lane  NaN   \n",
       "257            Isabel Schnabel  NaN   \n",
       "275   Gertrude Tumpel-Gugerell  NaN   \n",
       "291             Philip R. Lane  NaN   \n",
       "332            Luis de Guindos  NaN   \n",
       "413             Philip R. Lane  NaN   \n",
       "497            Isabel Schnabel  NaN   \n",
       "509            Isabel Schnabel  NaN   \n",
       "528             Philip R. Lane  NaN   \n",
       "649            Isabel Schnabel  NaN   \n",
       "695             Philip R. Lane  NaN   \n",
       "739             Philip R. Lane  NaN   \n",
       "747            Isabel Schnabel  NaN   \n",
       "753             Philip R. Lane  NaN   \n",
       "788             Philip R. Lane  NaN   \n",
       "829            Isabel Schnabel  NaN   \n",
       "832            Isabel Schnabel  NaN   \n",
       "1025            Philip R. Lane  NaN   \n",
       "1058            Philip R. Lane  NaN   \n",
       "1280            Philip R. Lane  NaN   \n",
       "1383            Philip R. Lane  NaN   \n",
       "1412               Peter Praet  NaN   \n",
       "1467                       NaN  NaN   \n",
       "1493            Philip R. Lane  NaN   \n",
       "1594            Philip R. Lane  NaN   \n",
       "1595              Benoît Cœuré  NaN   \n",
       "1618            Philip R. Lane  NaN   \n",
       "1697           Isabel Schnabel  NaN   \n",
       "1763            Philip R. Lane  NaN   \n",
       "1765           Isabel Schnabel  NaN   \n",
       "\n",
       "                                      text_preprocessed  \n",
       "40    Die EZB, das Geld und die Wirtschaft: Von A wi...  \n",
       "104                      Economic situation and outlook  \n",
       "146              Economic developments in the euro area  \n",
       "172   Unequal scars – distributional consequences of...  \n",
       "220              The economic outlook for the euro area  \n",
       "257     Mehr Europa für eine stabile gemeinsame Währung  \n",
       "275   Better Regulation“ im Finanzsektor - die Sicht...  \n",
       "291   The ECB's monetary policy strategy review - IM...  \n",
       "332   Sources of risk and vulnerabilities for financ...  \n",
       "413   Policy Frameworks and Strategies for an Open E...  \n",
       "497   The ECB's policy response to the COVID-19 pand...  \n",
       "509   Die neue geldpolitische Strategie der Europäis...  \n",
       "528   Taking stock: The ECB strategy review and curr...  \n",
       "649                  Climate change and monetary policy  \n",
       "695                              The future of the euro  \n",
       "739   International flows and the pandemic: evidence...  \n",
       "747   The ECB’s monetary policy during the coronavir...  \n",
       "753                       The Phillips Curve at the ECB  \n",
       "788                          The resilience of the euro  \n",
       "829         Die Geldpolitik der EZB in der Corona-Krise  \n",
       "832    The ECB's policy response to the COVID-19 crisis  \n",
       "1025  IMF Policy dialogue: New policy frameworks for...  \n",
       "1058                            The ECB strategy review  \n",
       "1280         Europe’s role in a changing global economy  \n",
       "1383                         The resilience of the euro  \n",
       "1412   Monetary and Macroprudential Policy Interactions  \n",
       "1467        Die Geldpolitik der EZB in der Corona-Krise  \n",
       "1493  The euro area: a laboratory for international ...  \n",
       "1594  Data analysis and monetary policy during the p...  \n",
       "1595  The euro area economic outlook and completion ...  \n",
       "1618               The pandemic and ECB monetary policy  \n",
       "1697  The ECB’s policy response to the COVID-19 pand...  \n",
       "1763  Understanding the pandemic emergency purchase ...  \n",
       "1765        Die Geldpolitik der EZB in der Corona-Krise  "
      ]
     },
     "execution_count": 13,
     "metadata": {},
     "output_type": "execute_result"
    }
   ],
   "source": [
    "ecb[ecb.isna().any(axis=1)]"
   ]
  },
  {
   "cell_type": "code",
   "execution_count": 98,
   "metadata": {},
   "outputs": [
    {
     "data": {
      "text/plain": [
       "count     1772.000000\n",
       "mean      2838.625282\n",
       "std       1682.959967\n",
       "min          1.000000\n",
       "25%       1712.250000\n",
       "50%       2583.000000\n",
       "75%       3784.500000\n",
       "max      13282.000000\n",
       "Name: text, dtype: float64"
      ]
     },
     "execution_count": 98,
     "metadata": {},
     "output_type": "execute_result"
    }
   ],
   "source": [
    "ecb[\"text\"].apply(lambda x: len(str.split(str(x)))).describe()"
   ]
  },
  {
   "cell_type": "code",
   "execution_count": 14,
   "metadata": {},
   "outputs": [
    {
     "data": {
      "text/html": [
       "<div>\n",
       "<style scoped>\n",
       "    .dataframe tbody tr th:only-of-type {\n",
       "        vertical-align: middle;\n",
       "    }\n",
       "\n",
       "    .dataframe tbody tr th {\n",
       "        vertical-align: top;\n",
       "    }\n",
       "\n",
       "    .dataframe thead th {\n",
       "        text-align: right;\n",
       "    }\n",
       "</style>\n",
       "<table border=\"1\" class=\"dataframe\">\n",
       "  <thead>\n",
       "    <tr style=\"text-align: right;\">\n",
       "      <th></th>\n",
       "      <th>title</th>\n",
       "      <th>speaker</th>\n",
       "      <th>text</th>\n",
       "    </tr>\n",
       "  </thead>\n",
       "  <tbody>\n",
       "    <tr>\n",
       "      <th>461</th>\n",
       "      <td>Reflections on a Year of Crisis</td>\n",
       "      <td>NaN</td>\n",
       "      <td>Chairman Bernanke delivered the same remarks ...</td>\n",
       "    </tr>\n",
       "    <tr>\n",
       "      <th>494</th>\n",
       "      <td>Liquidity Provision by the Federal Reserve</td>\n",
       "      <td>NaN</td>\n",
       "      <td>Chairman Bernanke presented identical remarks...</td>\n",
       "    </tr>\n",
       "  </tbody>\n",
       "</table>\n",
       "</div>"
      ],
      "text/plain": [
       "                                           title speaker  \\\n",
       "461             Reflections on a Year of Crisis      NaN   \n",
       "494  Liquidity Provision by the Federal Reserve      NaN   \n",
       "\n",
       "                                                  text  \n",
       "461   Chairman Bernanke delivered the same remarks ...  \n",
       "494   Chairman Bernanke presented identical remarks...  "
      ]
     },
     "execution_count": 14,
     "metadata": {},
     "output_type": "execute_result"
    }
   ],
   "source": [
    "fed[fed.isna().any(axis=1)]"
   ]
  },
  {
   "attachments": {},
   "cell_type": "markdown",
   "metadata": {},
   "source": [
    "FED is okay. In ECB, if there is no text, there is at least a title, so we can still work with that."
   ]
  },
  {
   "attachments": {},
   "cell_type": "markdown",
   "metadata": {},
   "source": [
    "Let us view the speakers."
   ]
  },
  {
   "cell_type": "code",
   "execution_count": 15,
   "metadata": {},
   "outputs": [
    {
     "data": {
      "text/plain": [
       "Jean-Claude Trichet            216\n",
       "Benoît Cœuré                   191\n",
       "Mario Draghi                   186\n",
       "Yves Mersch                    161\n",
       "Peter Praet                    129\n",
       "Vítor Constâncio               126\n",
       "Lorenzo Bini Smaghi            105\n",
       "Gertrude Tumpel-Gugerell        99\n",
       "Sabine Lautenschläger           85\n",
       "José Manuel González-Páramo     84\n",
       "Jürgen Stark                    80\n",
       "Luis de Guindos                 57\n",
       "Jörg Asmussen                   51\n",
       "Lucas Papademos                 45\n",
       "Isabel Schnabel                 42\n",
       "Christine Lagarde               41\n",
       "Philip R. Lane                  40\n",
       "Fabio Panetta                   26\n",
       "Frank Elderson                   7\n",
       "Name: speaker, dtype: int64"
      ]
     },
     "execution_count": 15,
     "metadata": {},
     "output_type": "execute_result"
    }
   ],
   "source": [
    "ecb[\"speaker\"].value_counts()"
   ]
  },
  {
   "cell_type": "code",
   "execution_count": 16,
   "metadata": {},
   "outputs": [
    {
     "data": {
      "text/plain": [
       "Chairman Ben S. Bernanke                        145\n",
       "Governor Lael Brainard                           68\n",
       "Governor Daniel K. Tarullo                       54\n",
       "Governor Jerome H. Powell                        50\n",
       "Vice Chairman Stanley Fischer                    45\n",
       "Governor Elizabeth A. Duke                       44\n",
       "Chair Janet L. Yellen                            44\n",
       "Vice Chairman Donald L. Kohn                     41\n",
       "Vice Chair for Supervision Randal K. Quarles     39\n",
       "Governor Randall S. Kroszner                     36\n",
       "Chairman Jerome H. Powell                        32\n",
       "Governor Frederic S. Mishkin                     26\n",
       "Vice Chairman Richard H. Clarida                 26\n",
       "Vice Chair Janet L. Yellen                       22\n",
       "Governor Sarah Bloom Raskin                      17\n",
       "Governor Kevin Warsh                             16\n",
       "Governor Jeremy C. Stein                         16\n",
       "Governor Michelle W. Bowman                      13\n",
       "Governor Susan S. Bies                            3\n",
       "Name: speaker, dtype: int64"
      ]
     },
     "execution_count": 16,
     "metadata": {},
     "output_type": "execute_result"
    }
   ],
   "source": [
    "fed[\"speaker\"].value_counts()"
   ]
  },
  {
   "attachments": {},
   "cell_type": "markdown",
   "metadata": {},
   "source": []
  },
  {
   "cell_type": "code",
   "execution_count": null,
   "metadata": {},
   "outputs": [],
   "source": []
  },
  {
   "cell_type": "code",
   "execution_count": null,
   "metadata": {},
   "outputs": [],
   "source": []
  },
  {
   "attachments": {},
   "cell_type": "markdown",
   "metadata": {},
   "source": [
    "Let us view the text languages."
   ]
  },
  {
   "cell_type": "code",
   "execution_count": 17,
   "metadata": {},
   "outputs": [],
   "source": [
    "ecb[\"lang\"] = ecb[\"text_preprocessed\"].apply(lambda x : detect(x[:500]), )\n",
    "fed[\"lang\"] = fed[\"text\"].apply(lambda x : detect(x[:500]))"
   ]
  },
  {
   "cell_type": "code",
   "execution_count": 18,
   "metadata": {},
   "outputs": [
    {
     "data": {
      "text/plain": [
       "en    1646\n",
       "de      75\n",
       "fr      31\n",
       "es      16\n",
       "it       4\n",
       "Name: lang, dtype: int64"
      ]
     },
     "execution_count": 18,
     "metadata": {},
     "output_type": "execute_result"
    }
   ],
   "source": [
    "ecb[\"lang\"].value_counts()"
   ]
  },
  {
   "cell_type": "code",
   "execution_count": 19,
   "metadata": {},
   "outputs": [
    {
     "data": {
      "text/plain": [
       "en    739\n",
       "Name: lang, dtype: int64"
      ]
     },
     "execution_count": 19,
     "metadata": {},
     "output_type": "execute_result"
    }
   ],
   "source": [
    "fed[\"lang\"].value_counts()"
   ]
  },
  {
   "cell_type": "code",
   "execution_count": 28,
   "metadata": {},
   "outputs": [
    {
     "data": {
      "text/plain": [
       "2565448"
      ]
     },
     "execution_count": 28,
     "metadata": {},
     "output_type": "execute_result"
    }
   ],
   "source": [
    "ecb[ecb[\"lang\"] != \"en\"][\"text_preprocessed\"].str.len().sum(skipna=True)"
   ]
  },
  {
   "cell_type": "code",
   "execution_count": 21,
   "metadata": {},
   "outputs": [
    {
     "data": {
      "text/plain": [
       "'  Die Finanzmarktunion als Element einer stabilen Währungsunion?   Rede von Jörg Asmussen, Mitglied des Direktoriums der EZB, Handelsblatt Jahrestagung „Banken im Umbruch“, Frankfurt am Main, 4. September 2012 Sehr geehrte Damen und Herren,  Ein Satz in der Schlusserklärung des Euro-Gipfels vom 28. Juni dieses Jahres sorgte für Aufhorchen und viel Diskussionsstoff über den Sommer – ich zitiere: „ Sobald unter Einbeziehung der EZB ein wirksamer einheitlicher Aufsichts\\xadmechanismus für Banken des Euro-Währungs\\xadgebiets eingerichtet worden ist, hätte der ESM nach einem ordentlichen Beschluss die Möglich\\xadkeit, Banken direkt zu rekapitalisieren.“  Hier wurde der Anfang einer Finanzmarktunion beschlossen. Als Beitrag zu dieser Diskussion möchte ich im Folgenden gerne drei Aspekte aufgreifen:    Wo stehen wir bei der Finanzmarkt\\xadregulierung? Wie stellt sich aktuell die Lage an den Finanzmärkten dar?   Warum ist eine Finanzmarktunion not\\xadwendig geworden? Wie soll diese aus\\xadsehen?   Welche Rolle kann der EZB innerhalb der neuen Aufsichtsarchitektur zukommen, welche Bedingungen müssen erfüllt sein?    Wo stehen wir bei der Finanzmarkt\\xadregulierung? Wie ist die Lage an den Finanzmärkten? Seit 2008 haben sich die Staats- und Regie\\xadrungschefs der G20 wiederholt zu einem ge\\xadmeinsamen Vorgehen für mehr und bessere Re\\xadgulierung geeignet. Es herrschte Konsens über eine zentrale Lehre der Krise: dass alle syste\\xadmisch relevanten Institute, Märkte und Instru\\xadmente angemessen reguliert und beaufsichtigt werden sollten. Die Europäer verstärkten ihre Bemühungen, ein so genanntes „Single Rule\\xadbook“ zu erarbeiten, durch eine Vielzahl von Verordnungen und Richtlinien, über ein Dutzend seit Krisenbeginn. Dass deren Be\\xadnennung meist eine veritable Buchstabensuppe ist – CRD\\xa0IV, MiFID, EMIR, usw. ist ein Indiz, dass die Materie ist hochkomplex ist.  Die ersten drei G20-Gipfel der Staats- und Re\\xadgierungschefs in Washington, London und vor allen Pittsburgh haben in der Finanzmarkt\\xadregulierung weit überdurchschnittliche Ergeb\\xadnisse hervorgebracht, andere Gipfel haben in anderen Bereichen Erfolge erzielen können, zum Beispiel der Gipfel in Seoul bei der IWF-Reform. Inzwischen hat der G20-Prozess auch bezogen auf die Finanzmarktregulierung an Fahrt verloren. Wir müssen uns bemühen, den verlorengegangenen „drive“ zurückzugewinnen. Die Häufung von zumindest individuellem Fehl\\xadverhalten in großen Finanzinstitutionen zeigt, dass eine scharfe Regulierung notwendig ist, weil entweder interne Kontrollmechanismen oder die externe Aufsicht nicht funktioniert haben. Ich bin davon heute mehr überzeugt als je zuvor. Es gilt grundsätzlich in Rechtsstaaten die Un\\xadschuldsvermutung, aber wenn sich die Vorwürfe bewahrheiten sollten, werden die Auswirkungen der LIBOR- Manipulationen bei weitem noch nicht absehbar sein. Das Monitoring des Financial Stability Board (FSB) zeigt, dass viele nationale Gesetzgeber angesichts der Fülle neuer Finanzmarktgesetz\\xadgebung überlastet sind und in der Umsetzung zeitlich hinterherhinken. Auch die Europäische Union sieht sich mit der Herausforderung „glei\\xadche Regeln – ungleiche Umsetzung“ kon\\xadfrontiert. Trotz der großen Bemühungen der Europäischen Bankenbehörde (EBA) leidet der Ansatz des „Single Rulebooks“ unter einer un\\xadeinheitlichen Umsetzung. Die neue Gesetz\\xadgebung – beispielsweise die Richtlinie und Ver\\xadordnung zu verbesserten Eigenkapitalanforderungen – über\\xadlässt den nationalen Aufsichtsbehörden einen erheblichen Ermessensspielraum.  Zahlreiche der neuen Finanzmarktregelungen sind sehr komplex. Zu Recht kann man die Frage stellen, ob die hohe Komplexität der Re\\xadgulierung nicht zu Intransparenz und Unsicher\\xadheit bei Marktteilnehmern führt, und folglich in Bezug auf die Finanzmarktstabilität das Gegen\\xadteil vom dem erreicht, was erreicht werden sollte. Wären einfachere Regeln nicht die bessere Alternative? Dieser Frage ist zum Beispiel Andrew Haldane von der Bank of England in einen Research Paper nach\\xadgegangen, das er vor wenigen Tagen in Jackson Hole vorgestellt hat. Ich nutze im Folgenden kurz seine Erkenntnisse. Wenn man den Seitenumfang der Regulierung als Maßgabe für die Komplexität der Regelun\\xadgen nimmt, was sicher eine unzulässige Verein\\xadfachung ist, aber einen guten ersten Anhaltspunkt gibt, dann stellt es sich wie folgt dar: Basel 1 hatte 30 Seiten. Basel 2 schon 350 Seiten und Basel 3 hat 620 Seiten. Dazu kom\\xadmen tausende Seiten regionaler und/oder natio\\xadnaler Umsetzung. Haldane kommt mittels empirischer Analysen und nicht nur durch Seiten-Zählen zu dem Er\\xadgebnis, dass einfache Regeln nicht weniger effektiv seien als komplexe. Ich weiß natürlich, dass einfachere Regeln oft die so\\xadgenannte Einzelfallgerechtigkeit verletzen. Ich weiß natürlich auch, dass die Komplexität der Regeln oft einer erfolgreichen Lobbyarbeit ge\\xadschuldet ist, um für ein spezielles Geschäfts\\xadmodell eine passgenaue Lösung zu finden. Aber ich finde die Grundfrage von Andrew Haldane richtig, und werde weiter darüber nachdenken. Aktuell stellt sich die Lage an den Finanz\\xadmärkten wie folgt dar: Wir beobachten im Euroraum einen Prozess der Fragmentierung des gemeinsamen Finanzmarktes, es findet eine Renationalisierung statt. Beispiels\\xadweise ist der Anteil der grenzüberschreitenden Kredite auf den Geldmärkten zwischen Mitte 2011 und heute von 60 Prozent auf 40\\xa0Prozent gesunken. In mehreren Ländern haben die aus\\xadländischen Bankeinlagen das niedrigste Niveau seit Anfang 2008 erreicht. Banken nutzen zu\\xadnehmend inländische Sicherheiten beim Zugang zu EZB-Fazilitäten.  Der Kern dieses – bildlich gesprochen – Wiederaufbaus der Schlagbäume ist die starke finanzielle Verflechtung zwischen einzelnen Staaten und ihren Bankensystemen. Fehlendes Vertrauen gegenüber den Banken in den be\\xadtroffenen Mitgliedsstaaten führt außerdem zu einer starken Abhängigkeit einiger Banken\\xadsysteme von Zentralbankliquidität.  Diese Ab\\xadwärtsspirale hat entscheidend dazu beigetragen, dass sich die Lage auf den Finanzmärkten im Euroraum seit Mitte letzten Jahres noch einmal verschlechtert hat. Die Risikoprämien von Staatsanleihen spiegeln mittlerweile nicht nur das Insolvenzrisiko einzelner Staaten wider, sondern sogar ein Wechselkursrisiko, welches es in einer Währungsunion theoretisch nicht geben dürfte. Die Märkte preisen also ein Auseinanderbrechen des Euroraums ein.  Für eine Währungsunion sind solche systemi\\xadschen Zweifel nicht akzeptabel. Nur eine Wäh\\xadrung, an deren Bestand es keinen Zweifel gibt, ist eine stabile Währung. Denn diese Zweifel haben folgenschwere Auswirkungen für die ge\\xadmeinsame Geldpolitik: ein geldpolitisches Sig\\xadnal, wie es die EZB beispielsweise mit der Zins\\xadsenkung im Juli gesetzt hat, kommt unein\\xadheitlich oder zum Teil überhaupt nicht in der Realwirtschaft an. Die EZB hat gestern Daten veröffentlicht, die das eindrucksvoll zeigen: So zahlen kleine Unternehmen in Spanien für einen Kredit bis zu 1 Mio EUR und einer Laufzeit von mehr als einem und bis zu 5 Jahren derzeit 6,5% Zinsen, so viel wie noch nie seit 2008. In Italien sind es aktuell 6,24%, während der gleiche Unternehmenskredit in Deutschland für rund 4% zu haben ist und das bei gleichem Leitzins.  Der Leitzins, der eigentlich „leiten“ soll, tut dies nur noch eingeschränkt.   2. Warum ist eine Finanzmarktunion notwendig geworden? Wie soll diese aussehen? Trotz der Fragmentierung der europäischen Finanzmärkte, die wir jüngst beobachten und die ich gerade beschrieben habe, hat die Ent\\xadwicklung seit der Bankenkrise 2007/2008 in Europa vor allem eines gezeigt: der Banken\\xadsektor ist in Europa vielfach so eng mit der Staatsfinanzierung verwoben, dass Probleme in dem einen Bereich zu Ansteckungseffekten in dem jeweils anderen Bereich führen können, bis beide wanken und sich zum gesamteuropäischen Problem entwickeln können, das innerhalb eines Mitgliedsstaates nicht mehr zu lösen ist, weil die finanziellen Mittel fehlen und es strukturelle Schwächen gibt. Die Problemfälle sind Ihnen bekannt: In Irland sprang der Staat dem über\\xaddimensionierten Finanzsektor zur Seite und ge\\xadriet daraufhin selbst ins Straucheln; ähnliches erleben wir gerade in Zypern. In Griechenland haben wir die umgekehrte Situation vorge\\xadfunden. Marode Staatsfinanzen belasten auch die heimischen Bankbilanzen schwer, weil die Ab\\xadnehmer für griechische Staatsanleihen vor allem die griechischen Banken waren. In der Folge ist wiederum die Staatsfinanzierung erschwert, weil die heimischen Banken die Anleihen nicht mehr aufnehmen können. Spanien wurde in der Finanzmarktkrise vielfach gelobt, weil die Auf\\xadsicht dort erfolgreich den Flächenbrand durch überkomplexe, strukturierte Produkte verhindern konnte. Nicht toxische assets wurden zum Problem für spanische Banken, sondern das Platzen einer klassischen Immobilienblase und vielfach darin verstrickt waren spanische Spar\\xadkassen, deren Stützung jetzt die Regionen und den spanischen Zentralstaat schwer belastet. Neben dieser verhängnisvollen Verzahnung von Banken- und Staaten hat die Krise die allge\\xadmeine Frage aufgeworfen, welches Gewicht Überlegungen zur Finanzmarktstabilität in Europa haben, wenn der Aufseher Teil der nationalen Exekutive und damit in erster Linie gegenüber einem nati\\xadonalen Parlament und letztlich gegenüber dem nationalen Steuerzahler verantwortlich ist. Wir haben hier in den vergangenen Jahren sehen können, dass Partikularinteressen in Konflikt mit dem Interesse an Finanzstabilität in Europa geraten können. Wenn die Finanzmarktstabilität in ganz Europa gefährden ist, dann sollten wir eine gesamteuropäische Antwort hierauf finden, und diese Antwort lautet: wir sollten eine Finanz\\xadmarktunion schaffen. Das bringt mich zu der Frage: Wie sähe eine solche Finanzmarktunion aus? Die neue Archi\\xadtektur sollte am Ende des Prozesses folgende drei Säulen aufweisen:   Erstens, eine europäische Bankenaufsicht, die über ausreichende Instrumente und Kompetenzen verfügt. Sie muss eine ein\\xadheitliche Umsetzung des europäischen Regelwerks sicherstellen. Diese Banken\\xadaufsicht muss auch in der Lage sein, nicht lebensfähige Institute zu schließen und zur Abwicklung zu übergeben.   Zweitens, eine europäische Abwicklungsbe\\xadhörde und ein einheitliches Regelwerk zur Abwicklung instabiler systemrelevanter Banken. Diese Behörde muss im Notfall auf einen durch die Finanzindustrie finanzierten Fonds zurück\\xadgreifen können. Das verhindert dass natio\\xadnale Haushalte und Steuerzahler belastet werden.    Drittens sollte die Einlagensicherung auf eu\\xadropäischer Ebene organisiert oder zu\\xadmindest weiter harmonisiert werden.    Alle drei Elemente bedingen sich gegenseitig. Man stelle sich einen Hocker mit drei Beinen vor: Fehlt ein Bein, kippt der Hocker um. Die Bankenaufsicht kann nur effektiv und sinnvoll agieren, wenn sie auch über vollständige Infor\\xadmationen, z. B. zur Einlagensicherung verfügt und sie kann auch nur dann effektiv handeln, wenn sie beispielsweise die Abwicklung eines Instituts anordnen kann. Was nützt ein Brandmelder, wenn im Ernst\\xadfall keine Feuerwehr ausrücken kann, oder die Feuerwehr nicht weiß, was eigentlich brennt. Darüber hinaus sollte geprüft werden, die Zu\\xadständigkeit der Finanzmarktunion auf weitere Bereiche auszuweiten. Ich denke dabei insbe\\xadsondere an zentrale Marktinfrastrukturen wie zentrale Clearinghäuser (Central Counterparties – CCPs). Die Schaffung einer einheitlichen Banken\\xadaufsicht für den Euroraum ist eine unbedingte Voraussetzung für eine direkte Rekapitalisierung der Banken durch den Europäischen Stabilitäts\\xadmechanismus (ESM). Dieses Junktim zwischen Mittelverwendung und Kontrolle ist unverzicht\\xadbar.   3. Welche Rolle kommt der EZB innerhalb der neuen Aufsichtsarchitektur zu? Welche Bedingungen müssen erfüllt sein Doch welche Rolle kommt nun der EZB inner\\xadhalb der neuen Aufsichtsarchitektur zu? In einer Woche, am 12. September, wird die Europäische Kommission ihre Gesetzgebungs\\xadvorschläge für eine europäische Bankenaufsicht vorstellen. Einige Details des Vorschlags sind durch ein Interview von Kommissar Barnier in der Süd\\xaddeutschen Zeitung bereits bekannt geworden. Demnach soll die EZB eine wichtige Rolle innerhalb einer europäischen Bankenaufsicht übernehmen.  Die EZB hat zusammen mit den nationalen Zentralbanken bereits bekräftigt, dass sie bereit ist, als Aufsichtsbehörde Verantwortung zu übernehmen.  Das ist bei manchen auf Unverständnis gestoßen. Einige meinen, eine Zentralbank sollte sich grundsätzlich aus der Einzelinstitutsaufsicht heraushalten. Zu groß sei der Interessenkonflikt, zum Beispiel einen Geschäftspartner von geldpolitischen Operationen am Leben zu erhalten, obwohl eine Abwicklung notwendig wäre. Andere befürchten eine Machtkonzentra\\xadtion bei der EZB als europäischer Superbehörde. Wir sind uns dieser Befürchtungen sehr wohl bewusst. Deshalb wird die EZB Aufgaben bei der Aufsicht nur übernehmen, wenn bestimmte Bedingungen erfüllt sind:   Erstens muss das vorrangige Ziel der Preis\\xadstabilität unangetastet bleiben. Die Geld\\xadpolitik muss von der Bankenaufsicht nach außen und nach innen organisatorisch und auch personell getrennt werden. Mittel dazu sind chinesische Mauern und die Schaffung eines neuen Entscheidungsgremiums neben dem EZB-Rat, das für alle Aufsichts\\xadaufgaben zuständig ist. Fakt ist, dass schon heute 14 der 17 nationalen Zentralbanken des Euroraums Aufsichtsaufgaben haben.    Zweitens wird die EZB darauf achten, dass ihre Unabhängigkeit in keiner Weise beinträchtig wird. Gleichzeitig ist aber auch klar, dass Aufgaben der Bankenaufsicht der parlamentarischen und gerichtlichen Kon\\xadtrolle unterstehen müssen. Denn Banken\\xadaufsicht ist hoheitliches Handeln, durch das in Grundrechte der Betroffenen eingegrif\\xadfen werden kann. Wir stehen den not\\xadwendigen Rechenschaftspflichten einer europäischen Bankenaufsicht bei der EZB aufgeschlossen gegenüber. Dies gilt sowohl gegenüber dem europäischen Parlament also auch gegenüber dem Ministerrat der EU.    Drittens muss das Gesetz die EZB mit allen Instrumenten ausstatten, die notwendig sind, um die Aufgaben einer Banken\\xadaufsicht effektiv ausüben zu können. Es muss der EZB möglich sein, den reichen Erfahrungs\\xadschatz und das technische Knowhow der nationalen Zentralbanken zu nutzen. Denn klar ist, dass viele Aufsichts\\xadaufgaben auch morgen nur vor Ort ausge\\xadführt werden können. Gleichzeitig muss eine einheitliche Umsetzung der europäi\\xadschen Richtlinien sichergestellt werden. Von besonderer Bedeutung ist vor allem der direkte Zugang zu allen notwendigen Informationen über die beaufsichtigten In\\xadstitute, wie beispielsweise Prüfungsberichte über bankgeschäftliche Prüfungen oder Auswertungsberichte zu Jahresabschlüssen. Die EZB muss darüber hinaus über ausreichende Eingriffsrechte verfügen und, wie schon erwähnt, das Recht haben, nicht lebensfähige Banken notfalls zu schließen. Ohne diese Mindestausstattung wird die EZB aus meiner Sicht keine Verantwortung übernehmen, denn das Risiko für den Ruf der Institution wäre zu groß, das Reputationsrisiko liegt alleine bei uns.\\u2028Bis zur Umsetzung der Kommissionsvorschläge müssen neben diesen Aspekten eine ganze Reihe wichtiger Gestaltungsfragen geklärt werden.    Wie würde die Aufgabenteilung zwischen der EZB und den anderen europäischen Aufsichtsbehörden – insbesondere der Europäischen Bankenbehörde (EBA) – aus\\xadsehen? Denkbar wäre es aus meiner Sicht, dass die EBA weiterhin für die Weiterent\\xadwicklung des „Single Rulebook“ im Binnenmarkt der EU 27 zuständig ist.    Wird die europäische Bankenaufsicht nur die Banken der Eurozone oder der ganzen EU beaufsichtigen?\\u2028Eine funktionierende Finanzmarktunion ist vor allem ein An\\xadliegen der Währungsunion. Aus dieser Sicht wäre ein Fokus auf die Institute des Euroraums sinnvoll. Nicht-Euro-Staaten sollte es aber frei stehen, ihre Institute ebenfalls der europäischen Aufsicht zu unterstellen.   Wird es um Banken jeder Größenordnung gehen oder nur um die systemisch relevan\\xadten?\\u2028Aus meiner persönlichen Sicht ist es sinnvoll, zumindest anfangs die euro\\xadpäische Aufsicht auf die europaweit und national systemisch relevanten Institute zu begrenzen. Zum Jahres\\xadanfang 2013 eine Aufsicht über alle Banken des Euroraums zu organisieren, ist weder zielführend noch darstellbar. Wichtig ist, dass die europäische Aufsicht auch operati\\xadonal zu einer effizienten Aufsicht von An\\xadfang an in der Lage ist.   Wie sieht die Arbeitsteilung zwischen der EZB und den nationalen Behörden aus?\\u2028Bei der operativen Arbeitsteilung stehen wir vor einer Kernherausforderung. Zum einen muss die Expertise vor Ort maximal einge\\xadsetzt werden. Gleichzeitig muss aber auch ein einheitlicher Aufsichtsstandard im gan\\xadzen Euroraum gewährleistet ist – nicht zu\\xadletzt auch damit für die Banken selbst das System nicht noch weiter verkompliziert wird. Das könnte erreicht werden, wenn pro Institut ein gemischtes Aufsichtsteam aus nationalen und europäischen Experten ge\\xadbildet würde. Dieses Team könnte auch als einheitlicher Ansprechpartner gegenüber der Bank fungieren.\\u2028Die europäische Auf\\xadsicht müsste die Möglichkeit haben, die tagtägliche Aufsicht über kleinere Institute an die nationalen Behörden zurückzu\\xaddelegieren. Einzelne Fälle müsste sie aber ohne Weiteres wieder an sich ziehen kön\\xadnen.\\u2028Zwar muss der ESM möglichst bald in der Lage sein, Banken direkt zu rekapitalisieren. Es geht aber auch darum, die Dinge richtig zu machen und nicht unter Zeitdruck halbfertige Lösungen festzuschreiben. \\u2028Ich möchte auch daran erinnern, dass eine Finanzmarkunion alleine die Krise nicht lösen kann. Selbst eine optimal aufgestellte Finanz\\xadmarktunion könnte nicht dafür sorgen, dass der griechische Haushalt ins Gleichgewicht kommt oder sich die Wettbewerbsfähigkeit Portugals erhöht. Denn Gründe für die Krise sind auch in den Bereichen der gemeinsamen Haushalts\\xadpolitik und Wirtschaftspolitik zu suchen. \\u2028Europa muss sich jetzt entscheiden. Entweder wir vollenden die Integration des Euroraums, indem wir bei Finanzmarktpolitik, Haushalts\\xadpolitik, Wirtschaftspolitik und demokratischer Kontrolle Souveränität mit Europa teilen. Oder wir entscheiden uns für den anderen Weg, ein dezentralisiertes Europa. Das bedeutet dann aber auch, dass wir die großen wirtschaftlichen Ge\\xadwinne, die uns Währungsunion und Binnen\\xadmarkt gebracht haben, aufs Spiel setzen. \\u2028Um das zu vermeiden, sollten wir die Architek\\xadtur der Wirtschafts- und Währungsunion voll\\xadenden. Dazu sind neben der Finanzmarktunion noch drei weitere Bausteine unverzichtbar:     Eine Fiskalunion   Eine echte Wirtschaftsunion    Eine demokratisch legitimierte politische Union    Diese vier Bausteine gehören zusammen und bedingen einander. Fortschritte in nur einem der vier Bereiche werden nicht ausreichen, alle vier Aspekte sind für ein Funktionieren der Wirt\\xadschafts- und Währungsunion, sind für die Zu\\xadkunft eines stabilen Euros unverzichtbar.  Meine Antwort in dieser Situation ist eindeutig: Mehr Europa, ein besseres Europa. Aber nicht als Selbstzweck. Son\\xaddern als der Weg, der Europas Bürgern Wohl\\xadstand, Freiheit und Sicherheit in der globalisierten Welt des 21. Jahrhunderts sichert. Meine Damen und Herren,  Ihre Tagung steht unter dem Motto „Banken im Umbruch“. Auch die institutionelle Architektur der Eurozone ist derzeit „im Umbruch“. Damit dieser „Umbruch“ ein „Aufbruch“ wird, hin zu einer stabilen, prosperierenden und vertieften Währungsunion, brauchen wir eine breite Diskussion – auch hier und jetzt gleich mit Ihnen. Darauf freue ich mich. Vielen Dank für Ihre Aufmerksamkeit. ***  '"
      ]
     },
     "execution_count": 21,
     "metadata": {},
     "output_type": "execute_result"
    }
   ],
   "source": [
    "ecb.loc[31][\"text\"]"
   ]
  }
 ],
 "metadata": {
  "kernelspec": {
   "display_name": ".py3813NLP",
   "language": "python",
   "name": ".py3813nlp"
  },
  "language_info": {
   "codemirror_mode": {
    "name": "ipython",
    "version": 3
   },
   "file_extension": ".py",
   "mimetype": "text/x-python",
   "name": "python",
   "nbconvert_exporter": "python",
   "pygments_lexer": "ipython3",
   "version": "3.8.13"
  },
  "orig_nbformat": 4,
  "vscode": {
   "interpreter": {
    "hash": "0a4c350da27618d5732fc58ebcab8d2c0381c51b7361f332741f21e30512bbdd"
   }
  }
 },
 "nbformat": 4,
 "nbformat_minor": 2
}
