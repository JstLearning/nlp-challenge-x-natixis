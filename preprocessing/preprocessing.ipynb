{
 "cells": [
  {
   "attachments": {},
   "cell_type": "markdown",
   "metadata": {},
   "source": [
    "# Preprocessing data for the Data Challenge"
   ]
  },
  {
   "cell_type": "code",
   "execution_count": 4,
   "metadata": {},
   "outputs": [
    {
     "name": "stdout",
     "output_type": "stream",
     "text": [
      "Collecting langdetect\n",
      "  Downloading langdetect-1.0.9.tar.gz (981 kB)\n",
      "\u001b[2K     \u001b[90m━━━━━━━━━━━━━━━━━━━━━━━━━━━━━━━━━━━━━━\u001b[0m \u001b[32m981.5/981.5 kB\u001b[0m \u001b[31m10.0 MB/s\u001b[0m eta \u001b[36m0:00:00\u001b[0ma \u001b[36m0:00:01\u001b[0m\n",
      "\u001b[?25h  Preparing metadata (setup.py) ... \u001b[?25ldone\n",
      "\u001b[?25hRequirement already satisfied: six in /opt/anaconda3/lib/python3.9/site-packages (from langdetect) (1.16.0)\n",
      "Building wheels for collected packages: langdetect\n",
      "  Building wheel for langdetect (setup.py) ... \u001b[?25ldone\n",
      "\u001b[?25h  Created wheel for langdetect: filename=langdetect-1.0.9-py3-none-any.whl size=993225 sha256=e23d095184074a7fc2df5fcffcc4247c9b14007ec456d793d29b29f0e8bb12cf\n",
      "  Stored in directory: /Users/solenedebuysere/Library/Caches/pip/wheels/6a/67/f8/9cf1a8ff87e0b37f738769df49cc142a655489a6d27b68089f\n",
      "Successfully built langdetect\n",
      "Installing collected packages: langdetect\n",
      "Successfully installed langdetect-1.0.9\n"
     ]
    }
   ],
   "source": [
    "!pip install langdetect"
   ]
  },
  {
   "cell_type": "code",
   "execution_count": 5,
   "metadata": {},
   "outputs": [],
   "source": [
    "import pandas as pd\n",
    "import numpy as np\n",
    "\n",
    "import matplotlib.pyplot as plt\n",
    "\n",
    "import torch\n",
    "import torch.nn as nn\n",
    "from torch.utils.data import DataLoader\n",
    "\n",
    "from sklearn.model_selection import train_test_split\n",
    "\n",
    "import time\n",
    "import re\n",
    "from langdetect import detect\n",
    "\n",
    "from collections import Counter\n",
    "\n",
    "import gc"
   ]
  },
  {
   "cell_type": "code",
   "execution_count": 6,
   "metadata": {},
   "outputs": [],
   "source": [
    "FILENAME = \"../data/train_series.csv\"\n",
    "FILENAME_ECB = \"../data/ecb_data.csv\"\n",
    "FILENAME_FED = \"../data/fed_data.csv\""
   ]
  },
  {
   "cell_type": "code",
   "execution_count": 7,
   "metadata": {},
   "outputs": [],
   "source": [
    "ecb = pd.read_csv(FILENAME_ECB, index_col=0)\n",
    "fed = pd.read_csv(FILENAME_FED, index_col=0)"
   ]
  },
  {
   "cell_type": "code",
   "execution_count": 8,
   "metadata": {},
   "outputs": [
    {
     "data": {
      "text/html": [
       "<div>\n",
       "<style scoped>\n",
       "    .dataframe tbody tr th:only-of-type {\n",
       "        vertical-align: middle;\n",
       "    }\n",
       "\n",
       "    .dataframe tbody tr th {\n",
       "        vertical-align: top;\n",
       "    }\n",
       "\n",
       "    .dataframe thead th {\n",
       "        text-align: right;\n",
       "    }\n",
       "</style>\n",
       "<table border=\"1\" class=\"dataframe\">\n",
       "  <thead>\n",
       "    <tr style=\"text-align: right;\">\n",
       "      <th></th>\n",
       "      <th>title</th>\n",
       "      <th>speaker</th>\n",
       "      <th>text</th>\n",
       "    </tr>\n",
       "  </thead>\n",
       "  <tbody>\n",
       "    <tr>\n",
       "      <th>0</th>\n",
       "      <td>Comments by Yves Mersch at Financial Services ...</td>\n",
       "      <td>Yves Mersch</td>\n",
       "      <td>Comments by Yves Mersch at Financial Service...</td>\n",
       "    </tr>\n",
       "    <tr>\n",
       "      <th>1</th>\n",
       "      <td>Securing sustained economic growth in the euro...</td>\n",
       "      <td>Vítor Constâncio</td>\n",
       "      <td>Securing sustained economic growth in the eu...</td>\n",
       "    </tr>\n",
       "    <tr>\n",
       "      <th>2</th>\n",
       "      <td>The role of monetary policy in addressing the ...</td>\n",
       "      <td>Mario Draghi</td>\n",
       "      <td>The role of monetary policy in addressing th...</td>\n",
       "    </tr>\n",
       "    <tr>\n",
       "      <th>3</th>\n",
       "      <td>The pandemic emergency: the three challenges f...</td>\n",
       "      <td>Philip R. Lane</td>\n",
       "      <td>SPEECH  The pandemic emergency: the three c...</td>\n",
       "    </tr>\n",
       "    <tr>\n",
       "      <th>4</th>\n",
       "      <td>Transmission channels of monetary policy in th...</td>\n",
       "      <td>Peter Praet</td>\n",
       "      <td>Transmission channels of monetary policy in ...</td>\n",
       "    </tr>\n",
       "  </tbody>\n",
       "</table>\n",
       "</div>"
      ],
      "text/plain": [
       "                                               title           speaker  \\\n",
       "0  Comments by Yves Mersch at Financial Services ...       Yves Mersch   \n",
       "1  Securing sustained economic growth in the euro...  Vítor Constâncio   \n",
       "2  The role of monetary policy in addressing the ...      Mario Draghi   \n",
       "3  The pandemic emergency: the three challenges f...    Philip R. Lane   \n",
       "4  Transmission channels of monetary policy in th...       Peter Praet   \n",
       "\n",
       "                                                text  \n",
       "0    Comments by Yves Mersch at Financial Service...  \n",
       "1    Securing sustained economic growth in the eu...  \n",
       "2    The role of monetary policy in addressing th...  \n",
       "3     SPEECH  The pandemic emergency: the three c...  \n",
       "4    Transmission channels of monetary policy in ...  "
      ]
     },
     "execution_count": 8,
     "metadata": {},
     "output_type": "execute_result"
    }
   ],
   "source": [
    "ecb.head()"
   ]
  },
  {
   "cell_type": "code",
   "execution_count": 9,
   "metadata": {},
   "outputs": [
    {
     "data": {
      "text/html": [
       "<div>\n",
       "<style scoped>\n",
       "    .dataframe tbody tr th:only-of-type {\n",
       "        vertical-align: middle;\n",
       "    }\n",
       "\n",
       "    .dataframe tbody tr th {\n",
       "        vertical-align: top;\n",
       "    }\n",
       "\n",
       "    .dataframe thead th {\n",
       "        text-align: right;\n",
       "    }\n",
       "</style>\n",
       "<table border=\"1\" class=\"dataframe\">\n",
       "  <thead>\n",
       "    <tr style=\"text-align: right;\">\n",
       "      <th></th>\n",
       "      <th>title</th>\n",
       "      <th>speaker</th>\n",
       "      <th>text</th>\n",
       "    </tr>\n",
       "  </thead>\n",
       "  <tbody>\n",
       "    <tr>\n",
       "      <th>0</th>\n",
       "      <td>The Importance of Economic Education and Finan...</td>\n",
       "      <td>Governor Frederic S. Mishkin</td>\n",
       "      <td>As ...</td>\n",
       "    </tr>\n",
       "    <tr>\n",
       "      <th>1</th>\n",
       "      <td>Financial Innovation and Consumer Protection</td>\n",
       "      <td>Chairman Ben S. Bernanke</td>\n",
       "      <td>The concept of financial innovation, it seems...</td>\n",
       "    </tr>\n",
       "    <tr>\n",
       "      <th>2</th>\n",
       "      <td>Implementing Basel II in the United States</td>\n",
       "      <td>Governor Randall S. Kroszner</td>\n",
       "      <td>Good afternoon. I would like to thank Standar...</td>\n",
       "    </tr>\n",
       "    <tr>\n",
       "      <th>3</th>\n",
       "      <td>An Assessment of the U.S. Economy</td>\n",
       "      <td>Vice Chair for Supervision Randal K. Quarles</td>\n",
       "      <td>Thank you for the opportunity to take part in...</td>\n",
       "    </tr>\n",
       "    <tr>\n",
       "      <th>4</th>\n",
       "      <td>Monetary Policy since the Onset of the Crisis</td>\n",
       "      <td>Chairman Ben S. Bernanke</td>\n",
       "      <td>When we convened in Jackson Hole in August 20...</td>\n",
       "    </tr>\n",
       "  </tbody>\n",
       "</table>\n",
       "</div>"
      ],
      "text/plain": [
       "                                               title  \\\n",
       "0  The Importance of Economic Education and Finan...   \n",
       "1       Financial Innovation and Consumer Protection   \n",
       "2         Implementing Basel II in the United States   \n",
       "3                  An Assessment of the U.S. Economy   \n",
       "4      Monetary Policy since the Onset of the Crisis   \n",
       "\n",
       "                                        speaker  \\\n",
       "0                  Governor Frederic S. Mishkin   \n",
       "1                      Chairman Ben S. Bernanke   \n",
       "2                  Governor Randall S. Kroszner   \n",
       "3  Vice Chair for Supervision Randal K. Quarles   \n",
       "4                      Chairman Ben S. Bernanke   \n",
       "\n",
       "                                                text  \n",
       "0                                             As ...  \n",
       "1   The concept of financial innovation, it seems...  \n",
       "2   Good afternoon. I would like to thank Standar...  \n",
       "3   Thank you for the opportunity to take part in...  \n",
       "4   When we convened in Jackson Hole in August 20...  "
      ]
     },
     "execution_count": 9,
     "metadata": {},
     "output_type": "execute_result"
    }
   ],
   "source": [
    "fed.head()"
   ]
  },
  {
   "attachments": {},
   "cell_type": "markdown",
   "metadata": {},
   "source": [
    "##### SUMMARIZE"
   ]
  },
  {
   "cell_type": "code",
   "execution_count": 6,
   "metadata": {},
   "outputs": [],
   "source": [
    "import gensim.downloader as api\n",
    "from gensim.summarization import summarize"
   ]
  },
  {
   "cell_type": "code",
   "execution_count": 7,
   "metadata": {},
   "outputs": [
    {
     "data": {
      "text/plain": [
       "''"
      ]
     },
     "execution_count": 7,
     "metadata": {},
     "output_type": "execute_result"
    }
   ],
   "source": [
    "text = (\n",
    "\"\")\n",
    "summarize(text)"
   ]
  },
  {
   "cell_type": "code",
   "execution_count": 8,
   "metadata": {},
   "outputs": [
    {
     "name": "stdout",
     "output_type": "stream",
     "text": [
      "Thomas A. Anderson is a man living two lives. By day he is an average computer programmer and by night a hacker known as Neo. Neo has always questioned his reality, but the truth is far beyond his imagination. Neo finds himself targeted by the police when he is contacted by Morpheus, a legendary computer hacker branded a terrorist by the government. Morpheus awakens Neo to the real world, a ravaged wasteland where most of humanity have been captured by a race of machines that live off of the humans' body heat and electrochemical energy and who imprison their minds within an artificial reality known as the Matrix. As a rebel against the machines, Neo must return to the Matrix and confront the agents: super-powerful computer programs devoted to snuffing out Neo and the entire human rebellion. \n",
      "137\n"
     ]
    }
   ],
   "source": [
    "text = (\n",
    "    \"Thomas A. Anderson is a man living two lives. By day he is an \"\n",
    "    \"average computer programmer and by night a hacker known as \"\n",
    "    \"Neo. Neo has always questioned his reality, but the truth is \"\n",
    "    \"far beyond his imagination. Neo finds himself targeted by the \"\n",
    "    \"police when he is contacted by Morpheus, a legendary computer \"\n",
    "    \"hacker branded a terrorist by the government. Morpheus awakens \"\n",
    "    \"Neo to the real world, a ravaged wasteland where most of \"\n",
    "    \"humanity have been captured by a race of machines that live \"\n",
    "    \"off of the humans' body heat and electrochemical energy and \"\n",
    "    \"who imprison their minds within an artificial reality known as \"\n",
    "    \"the Matrix. As a rebel against the machines, Neo must return to \"\n",
    "    \"the Matrix and confront the agents: super-powerful computer \"\n",
    "    \"programs devoted to snuffing out Neo and the entire human \"\n",
    "    \"rebellion. \"\n",
    ")\n",
    "print(text)\n",
    "print(len(text.split()))"
   ]
  },
  {
   "cell_type": "code",
   "execution_count": 9,
   "metadata": {},
   "outputs": [
    {
     "name": "stdout",
     "output_type": "stream",
     "text": [
      "46\n"
     ]
    }
   ],
   "source": [
    "shortText = summarize(text, ratio=0.3)\n",
    "print(len(shortText.split()))"
   ]
  },
  {
   "cell_type": "code",
   "execution_count": 10,
   "metadata": {},
   "outputs": [
    {
     "name": "stdout",
     "output_type": "stream",
     "text": [
      "[\"Morpheus awakens Neo to the real world, a ravaged wasteland where most of humanity have been captured by a race of machines that live off of the humans' body heat and electrochemical energy and who imprison their minds within an artificial reality known as the Matrix.\"]\n"
     ]
    }
   ],
   "source": [
    "print(summarize(text, split=True))"
   ]
  },
  {
   "cell_type": "code",
   "execution_count": 11,
   "metadata": {},
   "outputs": [
    {
     "name": "stdout",
     "output_type": "stream",
     "text": [
      "By day he is an average computer programmer and by night a hacker known as Neo. Neo has always questioned his reality, but the truth is far beyond his imagination.\n",
      "Morpheus awakens Neo to the real world, a ravaged wasteland where most of humanity have been captured by a race of machines that live off of the humans' body heat and electrochemical energy and who imprison their minds within an artificial reality known as the Matrix.\n",
      "As a rebel against the machines, Neo must return to the Matrix and confront the agents: super-powerful computer programs devoted to snuffing out Neo and the entire human rebellion.\n"
     ]
    }
   ],
   "source": [
    "print(summarize(text, ratio=0.5))"
   ]
  },
  {
   "cell_type": "code",
   "execution_count": 12,
   "metadata": {},
   "outputs": [
    {
     "data": {
      "text/plain": [
       "912"
      ]
     },
     "execution_count": 12,
     "metadata": {},
     "output_type": "execute_result"
    }
   ],
   "source": [
    "len(str.split(ecb[\"text\"][0]))"
   ]
  },
  {
   "cell_type": "code",
   "execution_count": 13,
   "metadata": {},
   "outputs": [
    {
     "name": "stdout",
     "output_type": "stream",
     "text": [
      "2583.0\n",
      "3444.0\n"
     ]
    }
   ],
   "source": [
    "print(ecb[\"text\"].apply(lambda x: len(str.split(str(x)))).median())\n",
    "print(fed[\"text\"].apply(lambda x: len(str.split(str(x)))).median())"
   ]
  },
  {
   "cell_type": "code",
   "execution_count": 14,
   "metadata": {},
   "outputs": [
    {
     "name": "stdout",
     "output_type": "stream",
     "text": [
      "[40, 104, 146, 172, 220, 257, 275, 291, 332, 413, 497, 509, 528, 649, 695, 739, 747, 753, 788, 829, 832, 1025, 1058, 1280, 1383, 1412, 1467, 1493, 1594, 1595, 1618, 1697, 1763, 1765]\n",
      "[]\n"
     ]
    }
   ],
   "source": [
    "print(ecb[\"text\"][ecb[\"text\"].isna()].index.tolist())\n",
    "print(fed[\"text\"][fed[\"text\"].isna()].index.tolist())"
   ]
  },
  {
   "attachments": {},
   "cell_type": "markdown",
   "metadata": {},
   "source": [
    "##### More complex text summarization"
   ]
  },
  {
   "cell_type": "code",
   "execution_count": 15,
   "metadata": {},
   "outputs": [
    {
     "name": "stdout",
     "output_type": "stream",
     "text": [
      "My Wonderful FamilyI live in a house near the mountains. I have two brothers and one sister, and I was born last. My father teaches mathematics, and my mother is a nurse at a big hospital. My brothers are very smart and work hard in school. My sister is a nervous girl, but she is very kind. My grandmother also lives with us. She came from Italy when I was two years old. She has grown old, but she is still very strong. She cooks the best food!My family is very important to me. We do lots of things together. My brothers and I like to go on long walks in the mountains. My sister likes to cook with my grandmother. On the weekends we all play board games together. We laugh and always have a good time. I love my family very much.\n"
     ]
    }
   ],
   "source": [
    "text = \"My Wonderful Family\\\n",
    "I live in a house near the mountains. I have two brothers and one sister, and I was born last. My father teaches mathematics, and my mother is a nurse at a big hospital. My brothers are very smart and work hard in school. My sister is a nervous girl, but she is very kind. My grandmother also lives with us. She came from Italy when I was two years old. She has grown old, but she is still very strong. She cooks the best food!\\\n",
    "\\\n",
    "My family is very important to me. We do lots of things together. My brothers and I like to go on long walks in the mountains. My sister likes to cook with my grandmother. On the weekends we all play board games together. We laugh and always have a good time. I love my family very much.\"\n",
    "print(text)"
   ]
  },
  {
   "cell_type": "code",
   "execution_count": 16,
   "metadata": {},
   "outputs": [
    {
     "name": "stdout",
     "output_type": "stream",
     "text": [
      "Thomas A. Anderson is a man living two lives. By day he is an average computer programmer and by night a hacker known as Neo. Neo has always questioned his reality, but the truth is far beyond his imagination. Neo finds himself targeted by the police when he is contacted by Morpheus, a legendary computer hacker branded a terrorist by the government. Morpheus awakens Neo to the real world, a ravaged wasteland where most of humanity have been captured by a race of machines that live off of the humans' body heat and electrochemical energy and who imprison their minds within an artificial reality known as the Matrix. As a rebel against the machines, Neo must return to the Matrix and confront the agents: super-powerful computer programs devoted to snuffing out Neo and the entire human rebellion. \n"
     ]
    }
   ],
   "source": [
    "text = (\n",
    "    \"Thomas A. Anderson is a man living two lives. By day he is an \"\n",
    "    \"average computer programmer and by night a hacker known as \"\n",
    "    \"Neo. Neo has always questioned his reality, but the truth is \"\n",
    "    \"far beyond his imagination. Neo finds himself targeted by the \"\n",
    "    \"police when he is contacted by Morpheus, a legendary computer \"\n",
    "    \"hacker branded a terrorist by the government. Morpheus awakens \"\n",
    "    \"Neo to the real world, a ravaged wasteland where most of \"\n",
    "    \"humanity have been captured by a race of machines that live \"\n",
    "    \"off of the humans' body heat and electrochemical energy and \"\n",
    "    \"who imprison their minds within an artificial reality known as \"\n",
    "    \"the Matrix. As a rebel against the machines, Neo must return to \"\n",
    "    \"the Matrix and confront the agents: super-powerful computer \"\n",
    "    \"programs devoted to snuffing out Neo and the entire human \"\n",
    "    \"rebellion. \"\n",
    ")\n",
    "print(text)"
   ]
  },
  {
   "cell_type": "code",
   "execution_count": 17,
   "metadata": {},
   "outputs": [
    {
     "name": "stdout",
     "output_type": "stream",
     "text": [
      "  Comments by Yves Mersch at Financial Services summit   Comments by Yves Mersch, Member of the Executive Board of the ECB, Cumberland Lodge Financial Services Summit, 10 November 2016  Introduction   Sustainable economic growth in the real economy depends on the soundness of financial services and their providers;  This simple truth has been amply evidenced by the collapse of credit during the financial crisis and the subsequent recession. One important type of financial intermediary are central counterparties (CCPs);  Second, the financial ecosystem is – like the rest of the world - experiencing rapid change due to technical innovation;  I would like to give a clear signal that innovation should be embraced as the improvement of financial services can boost the real economy; but I also would like to give a warning that a certain level of caution is needed when technological innovations are applied to financial markets in order to avoid any negative consequences.   (i) Central counterparties   CCPs are systemically relevant. They have been in the focus of regulators and central banks since the financial crisis.  The growth in central clearing makes CCPs nodes for risk in the system. This is why we have carried out considerable work at international level to promote that they operate in a safe and resilient manner.   In 2012 global standard setting bodies (CPMI-IOSCO) adopted key risk mitigation requirements – the Principles for Financial Market Infrastructures – which raised the bar worldwide for CCP supervision. A global CCP work plan has recently been launched to further strengthen the resilience, recovery planning and resolution of CCPs, which will lead to further guidance being released in the near future.   Under EU law, each CCP is overseen by a college of supervisors, involving all authorities that have a relevant interest in its prudent risk management. The colleges act as forums for information-sharing, ensuring a high level of transparency in the way CCPs operate, which can prove especially valuable in the event of a crisis.   Brexit creates uncertainty, and raises doubts as to the future of this framework   The prospect of the UK’s exit from the EU creates uncertainty regarding the future of the supervision of non-euro area CCPs that clear significant amounts of euro currency.  We do not know what the future relationship between the EU and the UK will be, and I do not wish to speculate on this matter.  We cannot be complacent with regard to the regulatory, supervisory and oversight framework for financial market infrastructures. While it has been considerably enhanced and strengthened since 2008, its continued development should be ensured when necessary.  We are ready to explore all options within our mandate to ensure we can continue to fulfil our responsibilities under the Treaty, i.e. promoting the smooth operation of payment systems and ensuring the effective transmission of monetary policy, for which the stability of the centrally-cleared repo segment of euro money markets is crucial.   (ii) Technical innovation   Let me now turn to the second point. How the financial ecosystem is experiencing rapid change due to technical innovation.   The Eurosystem is responsible for operating two of the systems that form the backbone of financial markets in Europe, namely TARGET2, the real-time gross settlement system for the euro, and TARGET2-Securities (T2S), a service for the integrated settlement in central bank money of securities transactions. The smooth operation of these services is crucial for maintaining confidence in the euro and to support monetary policy operations. Furthermore, it plays a central role in ensuring the stability of the European financial system and in boosting economic activity.  The Eurosystem market infrastructure is designed to meet the highest levels of safety and efficiency. Efficiency covers multiple dimensions: of course it means low costs for institutions that use the infrastructure, but it also implies the opportunity for them to benefit from a range of functionalities that bring added value to the services offered along the value chain.  The Eurosystem is continuously looking for ways to improve the efficiency and lower the costs of its market infrastructure. It also considers how best to respond and take advantage of technical innovation and meet new user needs, while staying ahead of evolving risks such as cyber risk. In this regard there is also a need to assess if technical innovation can create opportunities to improve financial services.  Nevertheless, a certain level of caution is needed when technological innovations are applied to financial markets. For innovations to be used in the financial system an essential requirement is that they are proven safe in order to avoid any negative consequences. Consequently, if and when innovations are proven to enhance the provisions of financial services without harming safety, they should be explored.    ECB working as a catalyst for market integration   As a public authority the ECB will keep a watchful eye on technical innovations and assess their possible impact on financial markets. We do this work together with standard setting bodies.  The first condition is that innovations are proven to be safe before they find their way into the market.  Second, it is equally important to ensure that innovations are adopted to increase efficiency instead of becoming a hurdle to financial integration and efficiency. In its catalyst function, the ECB uses its position as “honest broker” to facilitate the harmonisation of standards among market participants and the interaction of the industry with other public authorities.  The ECB stands ready to work together with all interested parties in its catalyst capacity to move towards interoperability of any developed services.   Thank you.  \n",
      "912\n"
     ]
    }
   ],
   "source": [
    "text = ecb[\"text\"].iloc[0]\n",
    "print(text)\n",
    "print(len(text.split()))"
   ]
  },
  {
   "cell_type": "code",
   "execution_count": 18,
   "metadata": {},
   "outputs": [
    {
     "name": "stdout",
     "output_type": "stream",
     "text": [
      "One important type of financial intermediary are central counterparties (CCPs);  Second, the financial ecosystem is – like the rest of the world - experiencing rapid change due to technical innovation;  I would like to give a clear signal that innovation should be embraced as the improvement of financial services can boost the real economy; but I also would like to give a warning that a certain level of caution is needed when technological innovations are applied to financial markets in order to avoid any negative consequences.\n",
      "In 2012 global standard setting bodies (CPMI-IOSCO) adopted key risk mitigation requirements – the Principles for Financial Market Infrastructures – which raised the bar worldwide for CCP supervision.\n",
      "We are ready to explore all options within our mandate to ensure we can continue to fulfil our responsibilities under the Treaty, i.e. promoting the smooth operation of payment systems and ensuring the effective transmission of monetary policy, for which the stability of the centrally-cleared repo segment of euro money markets is crucial.\n",
      "The Eurosystem is responsible for operating two of the systems that form the backbone of financial markets in Europe, namely TARGET2, the real-time gross settlement system for the euro, and TARGET2-Securities (T2S), a service for the integrated settlement in central bank money of securities transactions.\n",
      "In this regard there is also a need to assess if technical innovation can create opportunities to improve financial services.\n",
      "Nevertheless, a certain level of caution is needed when technological innovations are applied to financial markets.\n",
      "ECB working as a catalyst for market integration   As a public authority the ECB will keep a watchful eye on technical innovations and assess their possible impact on financial markets.\n",
      "278\n"
     ]
    }
   ],
   "source": [
    "textt = summarize(text)\n",
    "print(textt)\n",
    "print(len(textt.split()))"
   ]
  },
  {
   "attachments": {},
   "cell_type": "markdown",
   "metadata": {},
   "source": [
    "##### Creation of ECB and FED summarization csv column"
   ]
  },
  {
   "cell_type": "code",
   "execution_count": null,
   "metadata": {},
   "outputs": [],
   "source": []
  },
  {
   "attachments": {},
   "cell_type": "markdown",
   "metadata": {},
   "source": [
    "## Treating NA"
   ]
  },
  {
   "cell_type": "code",
   "execution_count": 19,
   "metadata": {},
   "outputs": [
    {
     "data": {
      "text/plain": [
       "title       0\n",
       "speaker     1\n",
       "text       34\n",
       "dtype: int64"
      ]
     },
     "execution_count": 19,
     "metadata": {},
     "output_type": "execute_result"
    }
   ],
   "source": [
    "ecb.isna().sum()"
   ]
  },
  {
   "cell_type": "code",
   "execution_count": 20,
   "metadata": {},
   "outputs": [
    {
     "data": {
      "text/plain": [
       "title      0\n",
       "speaker    2\n",
       "text       0\n",
       "dtype: int64"
      ]
     },
     "execution_count": 20,
     "metadata": {},
     "output_type": "execute_result"
    }
   ],
   "source": [
    "fed.isna().sum()"
   ]
  },
  {
   "cell_type": "code",
   "execution_count": 21,
   "metadata": {},
   "outputs": [
    {
     "name": "stdout",
     "output_type": "stream",
     "text": [
      "  Domestic and cross-border spillovers  of unconventional monetary policies   Remarks by Benoît Cœuré, Member of the Executive Board of the ECB, at the at the SNB-IMF Conference \"Monetary Policy Challenges in a Changing World\",Zurich, 12 May 2015  ***   Summary   Discussion has recently emerged on the global financial market implications of diverging monetary policy cycles. Central banks in large advanced economies can free themselves from the global financial cycle and regain monetary independe\n",
      "...\n",
      "feguard financial stability. Macro-prudential instruments can be targeted more efficiently to those sectors and countries where systemic risks may be materialising [14]. Finally, we encourage national authorities to do whatever is in their power to place the euro area on a more dynamic growth path, thereby creating attractive investment projects that generate high, but fundamentally justified, returns. These are the conditions for unconventional monetary policies to bring economies back to a stable and sustainable growth path, both at home and abroad.      [1]I would like to thank Roland Beck, Fédéric Holm-Hadulla and other colleagues at the ECB for their contribution to the speech. I remain solely responsible for the opinions expressed herein.    [2]See Rey, H. (2013) “Dilemma not Trilemma: The Global Financial Cycle and Monetary Policy independence”, paper presented at the 25th Jackson Hole symposium, Wyoming, August 2013. Mundell (1963) outlined the hypothesis of the monetary trilemma as a policy trade-off between the choices of monetary autonomy, exchange rate stability, and financial openness. See Mundell, R. A.: “Capital Mobility and Stabilization Policy under Fixed and Flexible Exchange Rates”, The Canadian Journal of Economics and Political Science, Vol. 29, No. 4 (November, 1963) , pp. 475-485.    [3]See Aizenman, J., Chinn M. and Ito. H, (2015) “Monetary Policy Spillovers and the Trilemma in the New Normal: Periphery Country Sensitivity to Core Country Conditions”, NBER Working Paper No. 21128, April 2015.     [4]QE 1 which was implemented at the height of the financial crisis was followed by a sharp appreciation of the US dollar. Similarly, the euro appreciated after the announcement of outright monetary transactions (OMT). In both cases the main channel of transmission was a reduction of (global) risk aversion.    [5]See “Policy coordination in a multipolar world”, remarks by Benoît Cœuré, Member of the Executive Board of the ECB, at the 5th annual Cusco conference organised by the Central Reserve Bank of Peru and the Reinventing Bretton Woods Committee: \"70 years after Bretton Woods: Managing the interconnectedness of the world economy\". Cusco, 22 July 2014.    [6] See also Chen, Q., Filardo, A., He, D. and Zhu, F., “International Spillovers of Central Bank Balance Sheet Policies”, Working Papers, Bank for International Settlements, November 2011. It studies the macroeconomic effects of US QE on 17 advanced and emerging economies in the period from 2007 to 2013. The authors find that the estimated effects of US QE on the emerging economies – while quite diverse across countries – are in many cases larger than those in the advanced economies, including the United States. In the case of the ECB’s unconventional monetary policy, international spillovers are likely to be more limited, however – at least the empirical evidence available so far suggests that it did not lead to international portfolio rebalancing across regions and assets. This may, however, have changed after the launch of the PSPP. See also Fratzscher, M., Lo Duca, M. and Straub, R., “ECB Unconventional Monetary Policy Actions: Market Impact, international Spillovers and Transmission Channels”, paper presented at the 15th Jacques Polak Annual Research Conference hosted by the International Monetary Fund, 13 14 November, 2014; and Georgiadis, G. and Gräb, J., “Global Financial Market Impact of the Announcement of the ECB's Extended Asset Purchase Programme”, Working Papers, No 232, Federal Reserve Bank of Dallas Globalization and Monetary Policy Institute, March 2015.     [7]See in particular the seminal paper by Obstfeld, M., and K. Rogoff (2002), “Global implications of self-oriented national monetary rules,” Quarterly Journal of Economics, Vol. 117, No 2, pp. 503-35.    [8]See Engel, C. “International Coordination of Central Bank Policy”, NBER Working Paper 20952, February 2015. http://www.nber.org/papers/w20952.pdf.     [9]See Ostry, J.D. and Gosh, A.R. “Obstacles to International Policy Coordination, and How to Overcome Them, International Monetary Fund Staff Discussion Note, SDN 13/11, December 2013.    [10] Summers, L. (2014), “U.S. Economic Prospects: Secular Stagnation, Hysteresis, and the Zero Lower Bound”, Business Economics 49(2).    [11]See “Monetary policy in a fragmented world”, speech by Benoît Cœuré, at the 41st Economics Conference of the Oesterreichische Nationalbank, Vienna, 10 June 2013.    [12]Constellations of dynamic inefficiency imply, from a long-run perspective, that the real growth rate exceeds the real interest rate on physical capital.    [13] Tirole, J. ( 1985): “Asset Bubbles and Overlapping Generations” Econometrica, Vol. 53, No. 6 (Nov., 1985), pp. 1499-1528    [14]“Reinforcing financial stability in the euro area”, speech given by Vítor Constâncio, Vice-President of the ECB, at the OMFIF City Lecture, London, 8 May 2015.       SEE ALSO  Find out more about related content   Related information      \n"
     ]
    }
   ],
   "source": [
    "test_text = ecb.iloc[5][\"text\"]\n",
    "print(test_text[:500])\n",
    "print(\"...\")\n",
    "print(test_text[-5000:])"
   ]
  },
  {
   "cell_type": "code",
   "execution_count": 7,
   "metadata": {},
   "outputs": [],
   "source": [
    "def numbered_reference_removal(text):\n",
    "    # refs are typically in the form [n] in the text.\n",
    "    matches = re.findall(r'\\[[0-9]+?\\]', text)\n",
    "    counter = Counter(matches)\n",
    "    for match in matches:\n",
    "        if counter[match] != 2:\n",
    "            # print(f\"Didn't find a reference twice in the text, but {counter[match]} times. Cannot remove.\")\n",
    "            # print(text[:2000], '\\n ... \\n',text[-2000:])\n",
    "            # print()\n",
    "            return text\n",
    "    \n",
    "    assert len(matches)%2 == 0\n",
    "    if len(matches) == 0:\n",
    "        return text\n",
    "    N = len(matches)//2\n",
    "    is_ordered = True\n",
    "    n = 0\n",
    "    for s in matches:\n",
    "        is_ordered = (s == f'[{n%N+1}]')\n",
    "        if not is_ordered : \n",
    "            # print(f\"Not ordered, {str(matches)}\")\n",
    "            return text\n",
    "        n += 1\n",
    "    \n",
    "    # Remove all references after [1]\n",
    "    res = re.findall(\n",
    "        r'^.*?\\[1\\].+?\\[1\\]',\n",
    "        text\n",
    "    )\n",
    "    return res[0]"
   ]
  },
  {
   "cell_type": "code",
   "execution_count": 8,
   "metadata": {},
   "outputs": [],
   "source": [
    "def reference_removal_en(text):\n",
    "    res = re.sub(r'(?i)see also.*', '', text)\n",
    "    res = re.sub(r'References.*', '', res)\n",
    "    res = re.sub(\"\\[[0-9]+\\]\", \"\", res)\n",
    "    return res"
   ]
  },
  {
   "cell_type": "code",
   "execution_count": 9,
   "metadata": {},
   "outputs": [
    {
     "name": "stdout",
     "output_type": "stream",
     "text": [
      "  The role of monetary policy in addressing the crisis in the euro area   Speech by Mario Draghi, President of the ECB, at the “Room for discussion” of the Study Association SEFA and the Faculty of Economics and Business, Amsterdam,15 April 2013  Introduction There was a time, not too long ago, when central banking was considered to be a rather boring and unexciting occupation. In the era of the “Great Moderation”, mostly seen as the period between the mid-1980s and the beginning of the global f\n",
      "...\n",
      "et up to complement the national shock absorption capacity of euro area countries. The creation of the EFSF and more recently the ESM has addressed this last shortcoming. And in our joint work with the Presidents of the European Council, the European Commission and the Eurogroup, we have set out a vision and a process for building a genuine Economic and Monetary Union. This is designed to cover the other gaps in the institutional architecture that I previously referred to.  The genuine Economic and Monetary Union comprises four pillars: a banking union with a single supervisor; a fiscal union that can effectively prevent and correct unsustainable budgets; an economic union that can guarantee sufficient competitiveness to sustain high employment; and a political union that can deeply engage euro area citizens. Progress is underway in all these directions. As regards the banking union in particular, a first and important step has been made with the decision to create the Single Supervisory Mechanism (SSM), the responsibility for which has been assigned to the ECB in the last Ecofin. I am confident that the SSM’s euro area perspective will make a significant contribution to safeguarding financial stability in the monetary union. In this sense, it will also support the conduct of monetary policy, as a stable financial system is a prerequisite for the proper transmission of our policy signals. But I would like to stress the importance of quickly complementing the SSM with a Single Resolution Mechanism. This is necessary to guarantee timely and impartial decision-making, particularly in the cases where cross-border resolution is required. What’s more, a Single Resolution Mechanism is essential to ensure that the SSM’s supervisory decisions for resolution can be followed up with action, without reinforcing the vicious link between banks and sovereigns. Finally, a Single Resolution Mechanism will credibly pursue the least-cost resolution strategy from a euro area perspective, also taking into account cross-border spill-overs.   Conclusion When considering the challenges that euro area economies are still facing, it is important to remember the economic hardship that many of our fellow citizens in parts of the euro area are experiencing, and in particular the massive unemployment, especially among the youth.  But there are also reasons for confidence. Most of the elements needed to address the root causes of the crisis and to build a genuine Economic and Monetary Union have been set in motion. The ECB’s monetary policy will continue to make its contribution to this endeavour, in line with its mandate. The heavy task of implementing the important decisions already taken lies ahead. All parties involved in this comprehensive reform agenda must persevere. And we must all work with conviction and determination towards our shared vision. If we do so, I am confident that restoring stability and ensuring prosperity in the euro area are within our reach.      [1]\n",
      "-------------\n",
      "  The role of monetary policy in addressing the crisis in the euro area   Speech by Mario Draghi, President of the ECB, at the “Room for discussion” of the Study Association SEFA and the Faculty of Economics and Business, Amsterdam,15 April 2013  Introduction There was a time, not too long ago, when central banking was considered to be a rather boring and unexciting occupation. In the era of the “Great Moderation”, mostly seen as the period between the mid-1980s and the beginning of the global f\n",
      "...\n",
      "umber of European measures to fully complete the Single Market especially in the area of services and to allow for higher labour mobility within the euro area.  Since the crisis started considerable progress has been made in making structural reforms in euro area countries, particularly those under an EU/IMF programme. And the painful measures taken are starting to bear fruit.  In Greece, Ireland and Portugal current account balances have improved by more than 7 percentage points (relative to GDP) between 2008 and 2012. In Spain the current account has improved even more substantially.  Also, we have seen reductions in unit labour costs. Ireland has seen an 18 percentage point improvement relative to the euro area average. In Greece, Portugal and Spain the improvement has been about 10 percentage points. As I have recently stressed to the Euro Area Heads of State and Governments, narrowing the gap between wage and productivity growth is absolutely essential for improving competitiveness in euro area countries.   To conclusively address the root causes of the crisis these efforts need to be maintained and, in some countries, stepped up. In the meantime, however, what I referred to earlier as the symptoms of the crisis also need to be tackled. Fiscal positions need to be maintained on a sustainable path and balance sheet weaknesses in the banking sector need to be repaired. And let me be clear: undertaking structural reforms, budget consolidation and restoring bank balance sheet health is neither the responsibility nor the mandate of monetary policy. Monetary policy can only avert an abrupt deleveraging that would have been conducted in an environment of panic and fire sales. And this is what we have done in order to avoid deflationary downward spirals that would have prevented us from delivering on our mandate of preserving price stability in the euro area. Monetary policy can support the reform progress by safeguarding price stability and anchoring inflation expectations. But it cannot substitute for actions that other actors, including the private sector itself, must take.  Completing the euro area’s institutional architecture In addition to the role of misguided or imprudent national policies, the narrative of the crisis that I have just spelled out clearly points to some serious shortcomings in the institutional architecture of the euro area. To begin with, the only policy sphere where some form of supra-national surveillance was in place was fiscal policy. And even in this domain, the mechanisms that were envisaged to prevent and correct unsustainable fiscal performance by Member States proved to be lacking. No framework was foreseen for monitoring competitiveness and heterogeneity within the euro area and for enforcing corrective action when needed. What’s more, in interconnected financial systems an entirely national perspective on bank regulation and supervision turned out to be insufficient. Finally, no crisis management framework had been set up to complement the national shock absorption capacity of euro area countries. The creation of the EFSF and more recently the ESM has addressed this last shortcoming. And in our joint work with the Presidents of the European Council, the European Commission and the Eurogroup, we have set out a vision and a process for building a genuine Economic and Monetary Union. This is designed to cover the other gaps in the institutional architecture that I previously referred to.  The genuine Economic and Monetary Union comprises four pillars: a banking union with a single supervisor; a fiscal union that can effectively prevent and correct unsustainable budgets; an economic union that can guarantee sufficient competitiveness to sustain high employment; and a political union that can deeply engage euro area citizens. Progress is underway in all these directions. As regards the banking union in particular, a first and important step has been made with the decision to create the Single Supervisory Mechanism (SSM), the responsibility for which has been assigned to the ECB in the last Ecofin. I am confident that the SSM’s euro area perspective will make a significant contribution to safeguarding financial stability in the monetary union. In this sense, it will also support the conduct of monetary policy, as a stable financial system is a prerequisite for the proper transmission of our policy signals. But I would like to stress the importance of quickly complementing the SSM with a Single Resolution Mechanism. This is necessary to guarantee timely and impartial decision-making, particularly in the cases where cross-border resolution is required. What’s more, a Single Resolution Mechanism is essential to ensure that the SSM’s supervisory decisions for resolution can be followed up with action, without reinforcing the vicious link between banks and sovereigns. Finally, a Single Resolution Mechanism will credibly pursue the least-cost resolution strategy from a euro area perspective, also taking into account cross-border spill-overs.   Conclusion When considering the challenges that euro area economies are still facing, it is important to remember the economic hardship that many of our fellow citizens in parts of the euro area are experiencing, and in particular the massive unemployment, especially among the youth.  But there are also reasons for confidence. Most of the elements needed to address the root causes of the crisis and to build a genuine Economic and Monetary Union have been set in motion. The ECB’s monetary policy will continue to make its contribution to this endeavour, in line with its mandate. The heavy task of implementing the important decisions already taken lies ahead. All parties involved in this comprehensive reform agenda must persevere. And we must all work with conviction and determination towards our shared vision. If we do so, I am confident that restoring stability and ensuring prosperity in the euro area are within our reach.      \n",
      "====================\n",
      "   SPEECH  The pandemic emergency: the three challenges for the ECB   Speech by Philip R. Lane, Member of the Executive Board of the ECB, at the Jackson Hole Economic Policy Symposium, Federal Reserve Bank of Kansas City “Navigating the Decade Ahead: Implications for Monetary Policy” 27 August 2020 Today, I will discuss the monetary policy measures taken by the ECB in response to the pandemic shock, take stock of the progress to date and outline the main challenges that lie ahead.[1]  The pandem\n",
      "...\n",
      ". The strategy review will be an important focus for our work over the next year.    I am grateful to Ine Van Robays and Leopold von Thadden for their contributions to this speech. I discussed the ECB’s response to the pandemic crisis in more detail in a recent speech. See Lane, P.R. (2020), “The ECB’s monetary policy response to the pandemic: liquidity, stabilisation and supporting the recovery”, 24 June. Since the ECB was already an active purchaser of both sovereign and private-sector securities, the PEPP could be rolled out quite quickly. On 12 March, the ECB had already expanded the size of its long-established asset purchase programme (APP) with an additional EUR 120 billion allocated for the rest of 2020. The 18 March launch of the PEPP was in recognition that a temporary and flexible programme was better suited to respond to the exceptional nature of the pandemic shock, rather than just relying on a mechanical expansion of the APP. See also Lane, P.R. (2020), “The market stabilisation role of the pandemic emergency purchase programme”, The ECB Blog, 22 June. See also Lane, P.R. (2020), “Expanding the pandemic emergency purchase programme”, The ECB Blog, 5 June. Unconditional liquidity operations were also offered, in order to ensure a well-priced liquidity backstop for the banking system. This includes the pandemic emergency longer-term refinancing operations (PELTRO) programme that serves to support liquidity conditions in all segments of the euro area financial system and preserve the smooth functioning of money markets. Furthermore, at the international level, we provided euro liquidity facilities through a variety of agreements with central banks outside the euro area, while the existing network of swap lines with the other major central banks was also reactivated, which enabled euro area banks to obtain foreign-currency liquidity if needed. In addition, a number of supervisory measures offered temporary capital, liquidity and operational relief to banks, to ensure that banks could continue to fulfil their role in funding the real economy. Before the pandemic shock, sizeable policy accommodation was already in place with short-term yields at record low levels, forward guidance indicating that rates would be kept low or lower, net asset purchases under the APP restarting in autumn 2019, our continued reinvestment policy, and the third series of the TLTROs (TLTRO-III). See also footnotes 2 and 4. See also Lane, P.R. (2020), “The macroeconomic impact of the pandemic and the policy response”, The ECB Blog, 4 August. See also Haroutunian, S., Hauptmeier, S. and Leiner-Killinger, N. (2020), “The COVID-19 crisis and its implications for fiscal policies”, Economic Bulletin, Issue 4, ECB. See also footnote 6. For simplicity, this post-pandemic inflation path is represented here as a parallel shift, but it might well be that inflation would recover more slowly in the post-pandemic economy in the absence of additional monetary accommodation.    \n",
      "-------------\n",
      "   SPEECH  The pandemic emergency: the three challenges for the ECB   Speech by Philip R. Lane, Member of the Executive Board of the ECB, at the Jackson Hole Economic Policy Symposium, Federal Reserve Bank of Kansas City “Navigating the Decade Ahead: Implications for Monetary Policy” 27 August 2020 Today, I will discuss the monetary policy measures taken by the ECB in response to the pandemic shock, take stock of the progress to date and outline the main challenges that lie ahead.  The pandemic:\n",
      "...\n",
      "d inflation and have helped to limit tail risks around the baseline scenario. According to internal estimates, the package of measures is projected to increase output by around 1.3 percentage points and inflation by around 0.8 percentage points cumulatively between 2020 and 2022. These estimates are conservative, since these do not fully capture the benefits gained by avoiding the adverse feedback loops between the real economy and financial markets that would have emerged in the absence of a prompt and comprehensive policy response.  Reaching our inflation aim: a two-stage approach The pandemic crisis represents a significant negative shock to the inflation outlook, since the disinflationary pressures arising from greater economic slack are likely to outweigh any inflationary forces stemming from negative sectoral supply shocks.   Chart 6 The future inflation path    Source: ECB.Notes: “AD” (the blue line) represents the expected inflation path before the pandemic shock. The initial negative impact of the pandemic shock – in the absence of additional monetary policy accommodation – is captured by the downward shift in the expected path from “A” to “B”. The “BE” path (the yellow line) illustrates a transition path of inflation that is even lower than originally envisaged. By providing additional monetary policy accommodation, the central bank can aim towards the upper region of the “BCDE” zone, so that the adjustment is closer to the “BCD” path.    Chart 6 shows a stylised sketch of the choice facing the ECB in terms of the monetary stance. Before the onset of the pandemic, inflation was expected to rise gradually towards the inflation aim, represented by the “AD” path (the blue line). The initial negative impact of the pandemic shock – in the absence of additional monetary policy accommodation – is captured by the downward shift in the expected path (the drop from “A” to “B”).  One option would be to simply accept that convergence to the inflation aim will take more time and that inflation will be even lower than originally envisaged during the transition path, as illustrated by the “BE” path (the yellow line). However, this option is costly in terms of the implied higher path for real interest rates and the slower economic recovery that results. It is also risky, since a longer phase of even lower inflation might become entrenched and contribute to a downward drift in inflation expectations, which would make it even more difficult to deliver the inflation aim over the medium term. A substantial weight should be attached to these risks in the context of the euro area, in view of the already-low pre-pandemic inflation rate and the long interval of below-target inflation. It follows that, for the ECB to deliver on its mandate, the more effective and safer option is to aim towards the upper region of the “BCDE” zone by providing additional monetary stimulus, so that the adjustment is closer to the “BCD” path. This is the line of reasoning behind the design of the PEPP, with a temporary phase of additional asset purchases intended to restore momentum to inflation dynamics. Accordingly, the monetary policy challenge consists of two stages. The first stage is to counteract the negative shock to the expected inflation path caused by the pandemic: through an intense temporary phase of additional monetary accommodation, the PEPP (in combination with the other monetary policy instruments) is designed to accomplish this first-stage task. Once the negative shock has been sufficiently offset, the second stage is to ensure that the post-pandemic monetary policy stance is appropriately calibrated in order to ensure timely convergence to our medium-term inflation aim. To these ends, the ECB Governing Council stands ready to adjust all of its instruments, as appropriate. Especially in an environment of low inflation and low interest rates, monetary and fiscal policies have the potential to reinforce each other. In particular, in relation to the price stability mandate, the scale of the monetary policy adjustment required to neutralise the negative pandemic shock to inflation dynamics and sustain the subsequent convergence to the inflation aim depends on the extent of the fiscal support for the economic recovery. All euro area countries have taken significant fiscal measures in response to the pandemic crisis. Over the near-term and medium-term, national governments will need to continue supporting their economies to recover from the severe pandemic shock. The recently-agreed €750 billion EU recovery fund – the Next Generation EU initiative – puts in place a shared budgetary instrument that both complements and supports national fiscal actions. An ambitious, high-quality and coordinated fiscal stance is central to securing a strong recovery across the euro area and constitutes a vital complement to the support provided by monetary policy. Finally, the emerging lessons from the policy response to the pandemic shock will also feed into our monetary policy strategy review. The strategy review will be an important focus for our work over the next year.    I am grateful to Ine Van Robays and Leopold von Thadden for their contributions to this speech. I discussed the ECB’s response to the pandemic crisis in more detail in a recent speech. See Lane, P.R. (2020), “The ECB’s monetary policy response to the pandemic: liquidity, stabilisation and supporting the recovery”, 24 June. Since the ECB was already an active purchaser of both sovereign and private-sector securities, the PEPP could be rolled out quite quickly. On 12 March, the ECB had already expanded the size of its long-established asset purchase programme (APP) with an additional EUR 120 billion allocated for the rest of 2020. The 18 March launch of the PEPP was in recognition that a temporary and flexible programme was better suited to respond to the exceptional nature of the pandemic shock, rather than just relying on a mechanical expansion of the APP. \n",
      "====================\n",
      "  Transmission channels of monetary policy in the current environment   Speech by Peter Praet, Member of the Executive Board of the ECB,at the Financial Times Festival of Finance,London, 1 July 2016 Ladies and Gentlemen[1], Since the onset of the financial crisis in 2007/2008, the euro area, like many other economies, has been hit by a barrage of shocks with adverse macroeconomic fall-outs. The ECB, like many other major central banks, has responded to these shocks with forceful and often unprec\n",
      "...\n",
      "roeconomy would have fared in the absence of monetary policy support. We have undertaken such an exercise across the Eurosystem, and the analysis tells a clear story.  Using a large and varied suite of models, Eurosystem staff find that, relative to the counterfactual scenario, our measures (excluding the March 2016 decisions) have provided significant support to output and inflation. In the absence of our policy package inflation would have been negative in 2015. In 2016 it would have been at least half a percentage point lower than we forecast currently and around half a percentage point lower in 2017. The impact of the policy measures on euro area GDP is also sizeable (again excluding the March 2016 decisions). According to the Eurosystem staff assessment, our policy is contributing to raise euro area GDP by around 1.5% in the period 2015-18.  Conclusion Let me summarise. The ongoing recovery has shown signs of strengthening, also on the back of an accelerating pass-through of our monetary policy measures to the broader economy. This accelerating pass-through shows that monetary policy is working. And the ECB is determined to continue playing its pivotal role in consolidating the upswing in the economic cycle.  At the same time, the euro area continues to be exposed to a number of uncertainties. Some are external, including the still-fragile global recovery and the impact of the UK referendum. But some are also internal. Most important is the lack of clarity for firms and households over the future institutional architecture of EMU, which remains incomplete in core areas, especially banking union. Key to removing that uncertainty is a clear roadmap for completing monetary union, which lays out both the end-point for the reform process and the sequence of steps that will lead to it. Without a clear roadmap, there is a risk that this combination of economic and institutional uncertainty will hold back the recovery in the euro area. And it has the potential to undermine the effectiveness of monetary policy as firms and households become less willing to engage in inter-temporal substitution by exploiting the favourable interest rate environment to frontload consumption and investment decisions. It weakens the capacity of the banking sector to act as a bridge between present and future spending decisions by intermediating between savers and borrowers – an issue that requires close monitoring. Against this background, monetary policy cannot be the only remedy to our current economic challenges. Instead, a broader set of actors needs to step into the breach, adopting a common approach to support the economic recovery in a context of persistent headwinds and to create durable and resilient improvement in economic performance going forward. This requires a concerted effort in the fiscal and structural policy domain to support the ongoing cyclical upswing; and a common strategy to complete and improve the institutional set-up of monetary union.      [1]\n",
      "-------------\n",
      "  Transmission channels of monetary policy in the current environment   Speech by Peter Praet, Member of the Executive Board of the ECB,at the Financial Times Festival of Finance,London, 1 July 2016 Ladies and Gentlemen, Since the onset of the financial crisis in 2007/2008, the euro area, like many other economies, has been hit by a barrage of shocks with adverse macroeconomic fall-outs. The ECB, like many other major central banks, has responded to these shocks with forceful and often unprecede\n",
      "...\n",
      "wn by about 3 percentage points relative to disposable income since 2008. As interest earnings and interest payments have fallen by roughly the same amount, the disposable income of aggregate euro area households has been largely unaffected. But what we have seen is a redistribution of purchasing power among different types of households.  While this redistribution is an unintended side-effect of monetary policy, it is not neutral for the cyclical environment. Specifically, resources have moved from net savers with a low marginal propensity to consume to net borrowers with a high marginal propensity to consume, creating an overall positive impact on aggregate consumption. This boost to disposable income has not so far been offset by increases in household saving rates in the euro area. Also for euro area firms, the impact of lower interest payments has been significant on aggregate. Since 2008, net interest payments have come down by about 7 percentage points to just 2% of gross operating surplus today. This provides substantial support to firms’ profitability which is positive for future investment. Improved profitability expectations, coupled with low discount rates, have also supported a strong decline in corporate debt-to-equity ratios – measured by market metrics – driven by valuation effects in equity markets. This ‘asset price’ deleveraging should in principle feed through into a lower cost of equity for firms, giving further impetus to investment.  Monetary policy has also contributed to the recovery in a third way. As domestic demand in the euro area has rallied, the contribution of external demand to output has declined in tandem with the major slowdown in international trade. But the decline has been more muted than we would have predicted on the basis of historical records. Indeed, over the past 20 years, the growth rate of international trade has been lower than in 2015 only twice: in the aftermath of the dotcom bubble burst in the early 2000s, and again after the collapse of Lehman Brothers in 2009. Both episodes saw a contemporaneous sharp slowdown in euro area growth to a rate close to or below zero.  In 2015, however, the unexpected sharp drop in trade was not associated with a slowdown in the euro area economy. In fact, year-on-year growth even picked up throughout 2015, despite the slump in world imports, as euro area exporters, after a long spell of losses, were able to regain market shares in world demand. The divergence between the monetary policy path of the euro area and that of other major economies was one factor explaining this atypical resilience of euro area exports.  Still, the fact that these improvements have taken place in tandem with the economy receiving new shocks – such as the steep fall in oil prices in 2014 and 2015 – poses an identification problem. Put simply, how do we know that the recovery would not have happened anyway? Addressing such questions requires models which can provide indications of how the macroeconomy would have fared in the absence of monetary policy support. We have undertaken such an exercise across the Eurosystem, and the analysis tells a clear story.  Using a large and varied suite of models, Eurosystem staff find that, relative to the counterfactual scenario, our measures (excluding the March 2016 decisions) have provided significant support to output and inflation. In the absence of our policy package inflation would have been negative in 2015. In 2016 it would have been at least half a percentage point lower than we forecast currently and around half a percentage point lower in 2017. The impact of the policy measures on euro area GDP is also sizeable (again excluding the March 2016 decisions). According to the Eurosystem staff assessment, our policy is contributing to raise euro area GDP by around 1.5% in the period 2015-18.  Conclusion Let me summarise. The ongoing recovery has shown signs of strengthening, also on the back of an accelerating pass-through of our monetary policy measures to the broader economy. This accelerating pass-through shows that monetary policy is working. And the ECB is determined to continue playing its pivotal role in consolidating the upswing in the economic cycle.  At the same time, the euro area continues to be exposed to a number of uncertainties. Some are external, including the still-fragile global recovery and the impact of the UK referendum. But some are also internal. Most important is the lack of clarity for firms and households over the future institutional architecture of EMU, which remains incomplete in core areas, especially banking union. Key to removing that uncertainty is a clear roadmap for completing monetary union, which lays out both the end-point for the reform process and the sequence of steps that will lead to it. Without a clear roadmap, there is a risk that this combination of economic and institutional uncertainty will hold back the recovery in the euro area. And it has the potential to undermine the effectiveness of monetary policy as firms and households become less willing to engage in inter-temporal substitution by exploiting the favourable interest rate environment to frontload consumption and investment decisions. It weakens the capacity of the banking sector to act as a bridge between present and future spending decisions by intermediating between savers and borrowers – an issue that requires close monitoring. Against this background, monetary policy cannot be the only remedy to our current economic challenges. Instead, a broader set of actors needs to step into the breach, adopting a common approach to support the economic recovery in a context of persistent headwinds and to create durable and resilient improvement in economic performance going forward. This requires a concerted effort in the fiscal and structural policy domain to support the ongoing cyclical upswing; and a common strategy to complete and improve the institutional set-up of monetary union.      \n",
      "====================\n",
      "  Domestic and cross-border spillovers  of unconventional monetary policies   Remarks by Benoît Cœuré, Member of the Executive Board of the ECB, at the at the SNB-IMF Conference \"Monetary Policy Challenges in a Changing World\",Zurich, 12 May 2015  ***   Summary   Discussion has recently emerged on the global financial market implications of diverging monetary policy cycles. Central banks in large advanced economies can free themselves from the global financial cycle and regain monetary independe\n",
      "...\n",
      "s on their savings that investments in the productive sector are unable to generate.  In this case, we end up with a “rational bubble”, which – as you will have noticed – follows the dynamics prominently highlighted by Jean Tirole [13]. While unconventional monetary policy is not a necessary condition for this type of bubble to emerge, it may render it more likely – and more violent in the event of its materialising. So what are the consequences of such bubble?  In the short-term, it may indeed generate a temporary boost to the economy. And for a while this boost would be difficult to distinguish from the regular workings of asset purchase programmes, which actually embed asset price increases as a desired effect, which passes on the initial impulse to broader financing conditions via portfolio rebalancing.  But this boost would ultimately be very costly. Not only does it does it come with welfare-decreasing macroeconomic instability, but it also brings about an arbitrary redistribution of wealth that may, in the worst case, undermine social cohesion and trust that the central bank is acting within its narrow price stability mandate. And moreover, it can create financial stability risks elsewhere, generating negative spillovers from what should otherwise be a normal international adjustment process. Against this background, it would be wrong to treat bubbles as a welcome replacement therapy to a sustainable growth model. Instead, macroeconomic and structural policies have to set the necessary conditions so that investment in productive sectors becomes attractive again and investment in bubble-prone areas is discouraged, so that total factor productivity is increased and the natural rate of interest ultimately reverts to what is normal. These principles underlie our views on the right policy mix for the euro area. We take monetary policy decisions with a view to attaining our primary objective of price stability. Thereby, we establish a stable nominal anchor for the private sector, which in turn is a fundamental precondition for overall macroeconomic stability.  Without prejudice to this objective, we take financial stability risk seriously and monitor closely whether severe imbalances are emerging in the financial sector. In this context, we consider the financial stability risks related to our policy measures to be contained. Should risks emerge, macro-prudential policy is best suited to safeguard financial stability. Macro-prudential instruments can be targeted more efficiently to those sectors and countries where systemic risks may be materialising [14]. Finally, we encourage national authorities to do whatever is in their power to place the euro area on a more dynamic growth path, thereby creating attractive investment projects that generate high, but fundamentally justified, returns. These are the conditions for unconventional monetary policies to bring economies back to a stable and sustainable growth path, both at home and abroad.      [1]\n",
      "-------------\n",
      "  Domestic and cross-border spillovers  of unconventional monetary policies   Remarks by Benoît Cœuré, Member of the Executive Board of the ECB, at the at the SNB-IMF Conference \"Monetary Policy Challenges in a Changing World\",Zurich, 12 May 2015  ***   Summary   Discussion has recently emerged on the global financial market implications of diverging monetary policy cycles. Central banks in large advanced economies can free themselves from the global financial cycle and regain monetary independe\n",
      "...\n",
      "stic spillovers  Turning to domestic spillovers, another question that has frequently been raised after unconventional policies were launched is whether they are prone to create financial stability risks in general and asset price bubbles in particular. Some have even argued that asset price bubbles were necessary condition for economic recovery in the early 2000s.  So, are bubbles an unintended consequence of unconventional monetary policies that we should live with? First of all, monetary policy always has unintended consequences, no matter where it is pursued. By altering short-term interest rates, central banks affect the inter-temporal decisions of households. Inter-temporal redistribution is at the heart of monetary policy that is aimed at ensuring price stability, and it thus has effects on the income distribution of savers and spenders. But monetary policy also affects the distribution of income along the intra-temporal and spatial (cross-country) dimension. Changes in short-term interest rates affect consumption, savings and wealth in different ways, depending on the characteristics of individual households in different jurisdictions. But all these effects can be considered temporary, indirect and unintended, i.e. a side effect of a strategy that is aimed at ensuring price stability in the economy.   That said, it would be a logical fallacy to conclude that all domestic spillovers are acceptable. Bubbles are a case in point. Bubbles are a possible, but not an inevitable result of unconventional monetary policies. And if they are welcome at all, then only in a severely constrained, second-best world. But in this case, we should ask ourselves how we can overcome the constraints that prevent better policy outcomes, rather than settling for bubbles to temporarily mask the constraints. Let me elaborate. Facing the threat of a persistent low-growth and low-inflation environment and a binding floor on standard policy rates, many central banks have resorted to unconventional measures. These measures were aimed at further pushing down nominal interest rates along the maturity spectrum to track the secular decrease in the natural, \"Wicksellian\" real rate of interest. Thereby, they helped induce firms and households bring forward their investment and consumption spending in comparison with that in a no policy-change scenario and, ultimately, bring the natural rate back to more normal levels. I am convinced that there is no alternative for us than acting this way in order to deliver on our mandate. Yet, there is a danger associated with the temporary, yet potentially extended period where low interest rates are needed to stimulate investment and consumption. With real interest rates below potential growth, private agents may just borrow to purchase assets in limited or rigid supply (e.g. real estate property). In this dynamically inefficient  world with structurally weak growth prospects, this may actually become an attractive way for savers to generate returns on their savings that investments in the productive sector are unable to generate.  In this case, we end up with a “rational bubble”, which – as you will have noticed – follows the dynamics prominently highlighted by Jean Tirole . While unconventional monetary policy is not a necessary condition for this type of bubble to emerge, it may render it more likely – and more violent in the event of its materialising. So what are the consequences of such bubble?  In the short-term, it may indeed generate a temporary boost to the economy. And for a while this boost would be difficult to distinguish from the regular workings of asset purchase programmes, which actually embed asset price increases as a desired effect, which passes on the initial impulse to broader financing conditions via portfolio rebalancing.  But this boost would ultimately be very costly. Not only does it does it come with welfare-decreasing macroeconomic instability, but it also brings about an arbitrary redistribution of wealth that may, in the worst case, undermine social cohesion and trust that the central bank is acting within its narrow price stability mandate. And moreover, it can create financial stability risks elsewhere, generating negative spillovers from what should otherwise be a normal international adjustment process. Against this background, it would be wrong to treat bubbles as a welcome replacement therapy to a sustainable growth model. Instead, macroeconomic and structural policies have to set the necessary conditions so that investment in productive sectors becomes attractive again and investment in bubble-prone areas is discouraged, so that total factor productivity is increased and the natural rate of interest ultimately reverts to what is normal. These principles underlie our views on the right policy mix for the euro area. We take monetary policy decisions with a view to attaining our primary objective of price stability. Thereby, we establish a stable nominal anchor for the private sector, which in turn is a fundamental precondition for overall macroeconomic stability.  Without prejudice to this objective, we take financial stability risk seriously and monitor closely whether severe imbalances are emerging in the financial sector. In this context, we consider the financial stability risks related to our policy measures to be contained. Should risks emerge, macro-prudential policy is best suited to safeguard financial stability. Macro-prudential instruments can be targeted more efficiently to those sectors and countries where systemic risks may be materialising . Finally, we encourage national authorities to do whatever is in their power to place the euro area on a more dynamic growth path, thereby creating attractive investment projects that generate high, but fundamentally justified, returns. These are the conditions for unconventional monetary policies to bring economies back to a stable and sustainable growth path, both at home and abroad.      \n",
      "====================\n",
      "  The case for cooperation: cross-border CCP supervision and the role of central banks   Introductory remarks by Benoît Cœuré, Member of the Executive Board of the ECB, at a conference on CCP risk management organised by the Deutsche Bundesbank, the ECB and the Federal Reserve Bank of Chicago, Frankfurt am Main, 27 February 2019 It is with great pleasure that I welcome you to Frankfurt. I thank you all for coming, especially those who have travelled from far away.  I am delighted to open this co\n",
      "...\n",
      "of CCPs clearing in euro, and the capacity to assess how they would fare in times of market stress, including through stress testing.  A second is meaningful involvement in the supervisory process, to ascertain that CCPs’ compliance with prudential and operational requirements provides sufficient guarantees from our perspective as a central bank.  And third, we should be able to adopt requirements to address critical central bank concerns. For instance, it would be our prerogative to determine when CCPs should hold central bank accounts for deposit and settlement purposes, and to require targeted enhancements to CCP liquidity risk management when necessary in exceptional market environments.  Everyone should be clear that our ability to carry out our mandate and, where appropriate, to provide liquidity to CCPs, relies on enshrining these safeguards in our regulatory framework.  CCP default management can and should be enhanced Before concluding, let me say a quick word on today’s third topic, the complex challenges CCPs face in managing defaults.[10]  CPMI-IOSCO is currently working on default management auctions, which is very welcome as this area of CCP risk management could benefit from further convergence towards shared best practices.[11] The recent default at Nasdaq Clearing has certainly focused the minds of policymakers on this issue. There is much ground to cover for CCPs to converge towards best practices, from setting the right incentives for auction participants to properly calibrating their financial resources to cover concentrated positions in thin or illiquid markets. I am sure this workstream will yield valuable conclusions for both regulators and the industry. Conclusion In sum, today’s conference shows that we are continuing to ensure that CCPs steadily become more resilient and sophisticated in their role as systemic risk managers and so can truly manage any situation. At times, this requires imagination to understand the interaction of participant behaviours, complex portfolios and stress scenarios, which is a prerequisite for setting the right incentives. It also requires humility to understand the limitations of this exercise and the need for fall-back plans. Extreme and unexpected events do happen and the very purpose of CCPs is to act as a circuit-breaker during crises.  For CCPs to perform this role as adequately as possible, all relevant authorities, including central banks, need to pull on the same rope. Europe, with its deep financial interconnectedness and high risk of spillovers, requires a particularly close level of information-sharing and cooperative oversight – the prerequisite for the Eurosystem to provide liquidity to CCPs. The role of the central bank of issue thus needs to be acknowledged appropriately. On this note, I hope that I have been able to whet your appetite for a vigorous and fruitful exchange of views during today’s conference and leave you in the capable hands of the organisers. Thank you.     [1]\n",
      "-------------\n",
      "  The case for cooperation: cross-border CCP supervision and the role of central banks   Introductory remarks by Benoît Cœuré, Member of the Executive Board of the ECB, at a conference on CCP risk management organised by the Deutsche Bundesbank, the ECB and the Federal Reserve Bank of Chicago, Frankfurt am Main, 27 February 2019 It is with great pleasure that I welcome you to Frankfurt. I thank you all for coming, especially those who have travelled from far away.  I am delighted to open this co\n",
      "...\n",
      "fecting, or caused by, a CCP can have ripple effects through the euro repo market, which may affect the conduct of monetary policy. The ECB therefore has a clear and legitimate interest in preventing or mitigating such disruptions. Second, CCPs are financial market hubs connecting banks as well as other market infrastructures, including payment systems. As a result, large payment flows are settled on a daily basis between CCPs and their participants. Deficiencies in CCP financial risk management can transfer liquidity strains to banks, thereby affecting both their capacity to extend credit to firms and households and their reliance on the provision of central bank liquidity, not least as banks are key participants in large-value payment systems operated by central banks.  Moreover, given the growth of central clearing and the promotion of settlement in central bank money, cleared markets themselves increasingly rely on these payment systems. The smooth functioning of our payment systems, in turn, depends on the safe operation of clearing infrastructure and the mitigation of liquidity risk. Finally, central banks can act as a liquidity backstop or a lender of last resort. Such action could be needed if a banking default were coupled with severe market stress. In such a scenario, a CCP would certainly hold high-quality collateral, but it may be unable to generate cash in the market in the very short time it has to manage a default.  Given the systemic importance of CCPs and the scale of potential funding needs, it is essential that CCPs have sound liquidity self-insurance so that a liquidity shortage remains an extreme tail risk and the associated moral hazard is mitigated. In light of these considerations, which apply across all locations, the ECB has a clear interest in ensuring the safety and soundness of euro clearing. To this end, we need to have a clear legal competence that, importantly, should cover both EU and third-country CCPs.  Proposals to differentiate between EU and third-country CCPs would not only leave considerable pockets of euro clearing without appropriate ECB oversight, they would also raise concerns about market distortions or an unlevel playing field. For example, a responsible central bank cannot extend liquidity to any entity without having a minimum level of information and control over it. It would be rather strange if such differentiation were to make it more difficult for us to provide liquidity to EU than to third-country CCPs.  This does not mean that we would seek to substitute our judgement for that of EU or third-country CCP supervisors: their primary responsibility to guarantee the resilience of CCPs, and more broadly the stability of our financial system, cannot and should not be questioned.  But we need a set of safeguards so that our concerns are appropriately taken into account in the regulation and supervision of CCPs. I see three such safeguards:  The first is adequate information on the operation and risk management of CCPs clearing in euro, and the capacity to assess how they would fare in times of market stress, including through stress testing.  A second is meaningful involvement in the supervisory process, to ascertain that CCPs’ compliance with prudential and operational requirements provides sufficient guarantees from our perspective as a central bank.  And third, we should be able to adopt requirements to address critical central bank concerns. For instance, it would be our prerogative to determine when CCPs should hold central bank accounts for deposit and settlement purposes, and to require targeted enhancements to CCP liquidity risk management when necessary in exceptional market environments.  Everyone should be clear that our ability to carry out our mandate and, where appropriate, to provide liquidity to CCPs, relies on enshrining these safeguards in our regulatory framework.  CCP default management can and should be enhanced Before concluding, let me say a quick word on today’s third topic, the complex challenges CCPs face in managing defaults.  CPMI-IOSCO is currently working on default management auctions, which is very welcome as this area of CCP risk management could benefit from further convergence towards shared best practices. The recent default at Nasdaq Clearing has certainly focused the minds of policymakers on this issue. There is much ground to cover for CCPs to converge towards best practices, from setting the right incentives for auction participants to properly calibrating their financial resources to cover concentrated positions in thin or illiquid markets. I am sure this workstream will yield valuable conclusions for both regulators and the industry. Conclusion In sum, today’s conference shows that we are continuing to ensure that CCPs steadily become more resilient and sophisticated in their role as systemic risk managers and so can truly manage any situation. At times, this requires imagination to understand the interaction of participant behaviours, complex portfolios and stress scenarios, which is a prerequisite for setting the right incentives. It also requires humility to understand the limitations of this exercise and the need for fall-back plans. Extreme and unexpected events do happen and the very purpose of CCPs is to act as a circuit-breaker during crises.  For CCPs to perform this role as adequately as possible, all relevant authorities, including central banks, need to pull on the same rope. Europe, with its deep financial interconnectedness and high risk of spillovers, requires a particularly close level of information-sharing and cooperative oversight – the prerequisite for the Eurosystem to provide liquidity to CCPs. The role of the central bank of issue thus needs to be acknowledged appropriately. On this note, I hope that I have been able to whet your appetite for a vigorous and fruitful exchange of views during today’s conference and leave you in the capable hands of the organisers. Thank you.     \n",
      "====================\n",
      "  Translating a shared vision into a winning story   Closing Remarks at the T2S launch celebration by Yves Mersch, Member of the Executive Board of the ECB, Milan, 2 July 2015 We chose to call this T2S launch celebration “Translating a shared vision into a winning story”. Listening to the speakers for the past two hours I believe the name was just right. We have heard how the T2S Community transformed the shared vision of an integrated securities settlement landscape into a winning story, culmin\n",
      "...\n",
      " eye on it and see how the T2S logo will materialise. Just like the T2S project will materialise over the next two years as the remaining 17 markets migrate to the platform.  The migration of the four securities depositories from Greece, Malta, Romania and Switzerland to the T2S platform on 22 June was just the beginning. The Italian market will join on 31 August, followed by three more waves of CSDs in March and September 2016 and February 2017. At that time 21 national markets will unite in a single market for securities settlement, with enhanced liquidity and collateral management. To ensure the rollout of T2S progresses smoothly we continue to support the preparations of all the securities depositories yet to migrate, as well as the efforts of the national markets to comply with the harmonisation standards.  Once full migration is complete, T2S has the potential to become the single gateway between the European financial market and the rest of the world. It will offer great opportunities for both European and international investors and issuers. National issuance will become European issuance, as shown nicely by the jaunty securities characters in the video we saw earlier. T2S will lower settlement costs and expand horizons for all entities in the post-trade market, regardless of their size or country of origin. Thanks to T2S, all markets and entities, both small and large, will have equal access to an innovative technical platform as well as an integrated European market.  For many people, Europe means the euro. But T2S will not only settle in euro. T2S was designed as a multi-currency system. The Danish krone will be available for settlement in T2S as of 2018. Some of the other non-euro-area central banks have also expressed an interest in joining at a later stage, as soon as their markets are ready. I am confident that, following the successful launch, more markets and currencies will be interested in joining the platform, paving the way for T2S to embrace the diversity of Europe and become a truly pan-European platform.  Like the speakers in the panel discussion who shared their vision for the post-trade industry ten years from now, we should think about what happens next. The capital markets union, once established, will be a great step forward. But is more needed in the market infrastructure arena in order to progress on the journey towards an integrated financial market in Europe? One helping hand will be the synergy between TARGET2 on the cash side and T2S on the securities side, which certainly brings new opportunities. The objective should be to better meet the demands of the market and increase efficiency. Our journey continues. What I am sure of is that the story of T2S is successful because of each and every one of you. To celebrate this great achievement, I would like to invite you for a drink in the beautiful garden outside.  Thank you.     SEE ALSO  Find out more about related content   Payments & Markets TARGET2-Securities   \n",
      "-------------\n",
      "  Translating a shared vision into a winning story   Closing Remarks at the T2S launch celebration by Yves Mersch, Member of the Executive Board of the ECB, Milan, 2 July 2015 We chose to call this T2S launch celebration “Translating a shared vision into a winning story”. Listening to the speakers for the past two hours I believe the name was just right. We have heard how the T2S Community transformed the shared vision of an integrated securities settlement landscape into a winning story, culmin\n",
      "...\n",
      " one. There have been some bumps in the road, some twists and turns, but with the launch of T2S we have achieved a monumental milestone. We made the vision of a single securities settlement platform for Europe a reality.  I want to thank you all for your support, trust and commitment, which has enabled us to reach this first step towards an integrated, more efficient, and harmonised post-trade market in Europe. In particular, I would like to take this opportunity to thank the national communities, namely the national central banks, the securities depositories and their clients, for their involvement and cooperation. Moreover, I would like to thank the 4CB (composed of Banque de France, Deutsche Bundesbank, Banca d’Italia and Banco de España) for developing and now also running the T2S platform. Let me also acknowledge the hard work and dedication of the people at the ECB who coordinated the implementation of the project. In particular, I thank Jean-Michel Godeffroy, who steered the T2S ship through sometimes stormy waters for many years, and Marc Bayle, who brought the ship to a safe harbour on 22 June 2015. And a special thanks to Ms Tumpel-Gugerell, who was the ECB board member in charge during the project’s inception.  A popular saying is that “Two heads are better than one”. From the very beginning T2S has managed to unite the efforts of both the private and the public sector. T2S was not initiated by the market, but owing to its post-trade harmonisation agenda it has evolved into a market-driven initiative which is supported by the public sector.  In many ways it has been a unique project.  First of all, no one was forced to join the T2S Community. Many securities depositories chose to participate because they saw great potential in T2S in terms of cutting settlement costs, fostering competition and generating new business opportunities. But overall, T2S had the potential to bring about a more integrated financial market and thus to benefit all.  Second, the governance structure of the project is special as national central banks, securities depositories and market participants formed a partnership with one objective – to launch T2S successfully. It is this unique collaborative effort, mentioned by some of you tonight, that has ensured the success of the T2S project, a project of such size and scale that it has changed the industry completely.  Finally, the project is unparalleled in that it has led the industry to impose new rules and procedures on itself. And let’s be honest: this does not happen often. That is why many believe that the post-trade harmonisation agenda is the greatest benefit of T2S.  The launch of T2S is a great achievement. With T2S we have a big story, and I am confident that the story of its development will continue to be a winning one. Of course, there are many types of stories – some rooted in fantasy, some in fiction, and some in reality. The T2S story is a reality, and to symbolise this, a 3D printer is installed in the corridor that you will pass through several times tonight. I invite you to keep an eye on it and see how the T2S logo will materialise. Just like the T2S project will materialise over the next two years as the remaining 17 markets migrate to the platform.  The migration of the four securities depositories from Greece, Malta, Romania and Switzerland to the T2S platform on 22 June was just the beginning. The Italian market will join on 31 August, followed by three more waves of CSDs in March and September 2016 and February 2017. At that time 21 national markets will unite in a single market for securities settlement, with enhanced liquidity and collateral management. To ensure the rollout of T2S progresses smoothly we continue to support the preparations of all the securities depositories yet to migrate, as well as the efforts of the national markets to comply with the harmonisation standards.  Once full migration is complete, T2S has the potential to become the single gateway between the European financial market and the rest of the world. It will offer great opportunities for both European and international investors and issuers. National issuance will become European issuance, as shown nicely by the jaunty securities characters in the video we saw earlier. T2S will lower settlement costs and expand horizons for all entities in the post-trade market, regardless of their size or country of origin. Thanks to T2S, all markets and entities, both small and large, will have equal access to an innovative technical platform as well as an integrated European market.  For many people, Europe means the euro. But T2S will not only settle in euro. T2S was designed as a multi-currency system. The Danish krone will be available for settlement in T2S as of 2018. Some of the other non-euro-area central banks have also expressed an interest in joining at a later stage, as soon as their markets are ready. I am confident that, following the successful launch, more markets and currencies will be interested in joining the platform, paving the way for T2S to embrace the diversity of Europe and become a truly pan-European platform.  Like the speakers in the panel discussion who shared their vision for the post-trade industry ten years from now, we should think about what happens next. The capital markets union, once established, will be a great step forward. But is more needed in the market infrastructure arena in order to progress on the journey towards an integrated financial market in Europe? One helping hand will be the synergy between TARGET2 on the cash side and T2S on the securities side, which certainly brings new opportunities. The objective should be to better meet the demands of the market and increase efficiency. Our journey continues. What I am sure of is that the story of T2S is successful because of each and every one of you. To celebrate this great achievement, I would like to invite you for a drink in the beautiful garden outside.  Thank you.     \n",
      "====================\n",
      "  Systemic Risk   Clare Distinguished Lecture in Economics and Public Policyby Jean-Claude Trichet, President of the ECBorganised by the Clare College, University of CambridgeCambridge, 10 December 2009 Ladies and Gentlemen, I am delighted to have been invited by Clare College, Cambridge, to give this lecture in economics and public policy. One of the greatest challenges for economics and public policy at this time is to restore financial and economic stability, and to improve the future functio\n",
      "...\n",
      "art of the cycle and blocked channels of financial contagion. In short, it provided catastrophe insurance.  There is no doubt that macroeconomic policy-makers’ interventions have had a stabilising effect. Market compensation for risk has gradually returned to more normal levels. The free-fall of the economy has been halted and turned around. The financial crisis has not precipitated the extreme spiral of falling prices, rising debt burdens and chain bankruptcies that some economists had feared.  For what concerns monetary policy, conditions are now stable enough that we can start to withdraw some of the excess support that is now not needed to the same extent as it was in the past. [22]   Concluding remarks Let me draw to a close. An English proverb, echoed in many other languages, warns that sometimes, ‘you can’t see the wood for the trees’. Systemic risk is about seeing the wood, and not only the trees. Macro-prudential supervision, supposed to detect systemic risk and propose remedial action, has been devised because in a highly integrated and complex financial system, micro-prudential supervision alone can no longer guarantee financial stability. The main challenge in systemic risk analysis is therefore to integrate all relevant perspectives, including those of economists, supervisors, regulators, accountants, securitisation experts, rating experts, risk managers and many others to take a holistic view on the system, its dynamics and its interlinkages.  As we have seen, small things can make a big difference and seemingly self-contained initial events can lead to a system collapse. We therefore need a detailed understanding of each part of the financial system. At the same time, their complex interactions mean that we need to keep the big picture in sight, too. We must not allow the understandably narrow focus of detailed knowledge to hamper insight into the system as a whole. Like researchers on the climate and the natural environment, we need to combine the micro and macro perspectives. The academic research community can make a significant contribution in supporting policy-makers to meet these challenges. It can help to improve analytical frameworks for the early identification and assessment of systemic risks. And it can contribute to discussions on the further identification and optimal use of macro-prudential regulatory instruments.  Macro-prudential supervision is an important tool to contain systemic risks and thereby contribute to sustainable growth and prosperity. The proposed establishment of a European Systemic Risk Board next year is a very important initiative in this regard. Ensuring systemic stability will also alleviate undue pressures on monetary and fiscal policies to extend financial safety nets. The standard macroeconomic stabilisation policies can then focus more clearly on their primary objectives and thereby make their own best contribution to growth and well-being. Thank you very much for your kind attention.      [1]\n",
      "-------------\n",
      "  Systemic Risk   Clare Distinguished Lecture in Economics and Public Policyby Jean-Claude Trichet, President of the ECBorganised by the Clare College, University of CambridgeCambridge, 10 December 2009 Ladies and Gentlemen, I am delighted to have been invited by Clare College, Cambridge, to give this lecture in economics and public policy. One of the greatest challenges for economics and public policy at this time is to restore financial and economic stability, and to improve the future functio\n",
      "...\n",
      " for the last quarter of a century. Demand and real incomes have grown steeply, but steadily. Their steady course has instilled a wide sense of security in investors and savers.  The European stability culture can be seen as vindicated by the crisis.  However, macroeconomic stability has not been a sufficient condition for financial stability. It cannot eliminated systemic risk altogether. Macroeconomic authorities have therefore been frequently called on to provide remedial action, once booms have turned into busts. The aim of their action has been precisely to avoid the transformation of individual financial risks into systemic risk.  Ex post remedial action has often been activated as soon as the financial firestorm has threatened the stability of the economic system. But such action risks raising expectations that macroeconomic policy will always insure against tail risks, no matter how large. Expectations of this sort can contribute to an under-pricing of financial risk in subsequent phases of the financial cycles. They can encourage concentration of market positions in the financial scene.  At the same time, the instruments of counter-cyclical policy have been used so intensely – and more so from one financial cycle to the next – that authorities might have tested the extremes of their control procedures. I am borrowing here from dynamic control theory. Repeated attempts to fine tune a mechanical or electronic system after a shock sometimes leads to “instrument instability” that makes the system spiral out of manageable bounds.  Economic and financial systems, I suspect could have some structural similarities with physical systems, leading to the same kind of “instrument instability”.  Moral hazard and policy instrument instability pose questions to which we are not in a position to a firm answer at this point in time. I would like to see these questions studied and debated in eminent academic institutions like this. Turning to actual developments, as I mentioned already, we saw perhaps the most appalling manifestation of such a threat in the autumn of 2008. In the early phase of the present financial crisis, precautionary hoarding of liquidity brought to a complete seizure of many segments of the market for credit. At the same time, panic sales of assets made market liquidity disappear. Market liquidity is high when traders can easily find a price, and that price is very close to what every other trader pays for the same asset at the same time. In early October 2008 the market could simply not find a value for many of those securities that had been so highly priced only few weeks before.  To avoid a cascade of counterparty defaults, governments offered generous financial guarantees and injected fresh capital into the system. Central banks increased their lending to replace the withdrawal of private lending – in interbank transactions and, sometimes, in the broader market for capital. This concerted intervention very much attenuated the downward part of the cycle and blocked channels of financial contagion. In short, it provided catastrophe insurance.  There is no doubt that macroeconomic policy-makers’ interventions have had a stabilising effect. Market compensation for risk has gradually returned to more normal levels. The free-fall of the economy has been halted and turned around. The financial crisis has not precipitated the extreme spiral of falling prices, rising debt burdens and chain bankruptcies that some economists had feared.  For what concerns monetary policy, conditions are now stable enough that we can start to withdraw some of the excess support that is now not needed to the same extent as it was in the past.    Concluding remarks Let me draw to a close. An English proverb, echoed in many other languages, warns that sometimes, ‘you can’t see the wood for the trees’. Systemic risk is about seeing the wood, and not only the trees. Macro-prudential supervision, supposed to detect systemic risk and propose remedial action, has been devised because in a highly integrated and complex financial system, micro-prudential supervision alone can no longer guarantee financial stability. The main challenge in systemic risk analysis is therefore to integrate all relevant perspectives, including those of economists, supervisors, regulators, accountants, securitisation experts, rating experts, risk managers and many others to take a holistic view on the system, its dynamics and its interlinkages.  As we have seen, small things can make a big difference and seemingly self-contained initial events can lead to a system collapse. We therefore need a detailed understanding of each part of the financial system. At the same time, their complex interactions mean that we need to keep the big picture in sight, too. We must not allow the understandably narrow focus of detailed knowledge to hamper insight into the system as a whole. Like researchers on the climate and the natural environment, we need to combine the micro and macro perspectives. The academic research community can make a significant contribution in supporting policy-makers to meet these challenges. It can help to improve analytical frameworks for the early identification and assessment of systemic risks. And it can contribute to discussions on the further identification and optimal use of macro-prudential regulatory instruments.  Macro-prudential supervision is an important tool to contain systemic risks and thereby contribute to sustainable growth and prosperity. The proposed establishment of a European Systemic Risk Board next year is a very important initiative in this regard. Ensuring systemic stability will also alleviate undue pressures on monetary and fiscal policies to extend financial safety nets. The standard macroeconomic stabilisation policies can then focus more clearly on their primary objectives and thereby make their own best contribution to growth and well-being. Thank you very much for your kind attention.      \n",
      "====================\n",
      "  Working together for growth in Europe   Introductory remarks by Mario Draghi, President of the ECB,at Deutscher Bundestag, Berlin, 28 September 2016  Introduction Mr Chairman, Honourable Members of the Bundestag, Ladies and gentlemen, Thank you for your invitation. It is a pleasure to speak here in in the halls of the Committee on the Affairs of the European Union, where you bring the debate about European integration to the Bundestag, the heart of German democracy.  As President of the ECB, I\n",
      "...\n",
      "efore need more investment and structural reforms to lift growth and productivity. As Wolfgang Schäuble said in this house a couple of weeks ago when he presented the budget for 2017: we will only get out of this phase of low interest rates if we have more sustainable growth in Europe.   The need for decisive action at the national and European level This leads me to my final point: policy-makers across the euro area, need to seize the opportunity to deliver reforms. At the height of the crisis, all Member States and citizens showed an enormous commitment to keeping the euro area together when the critics were already talking about the euro’s demise. But we cannot stop here: we need to make sure not only that the euro survives, but that our Economic and Monetary Union thrives.  If we want to succeed, we will need to find common solutions for the problems that we all face. If we want to preserve the European social model, we will need to bring labour and product markets in line with the realities of the digital and globalised world of the 21st century. If we want savers to benefit from higher interest rates in the future, we will need to create investment opportunities to put these savings to a productive use. This is about raising productivity and employment.[6] This is about structural reforms that are a necessary complement to our monetary policy. And Member States have to do their part. I have highlighted this many times in the past.[7] In fact, I emphasise it every six weeks at the ECB’s press conference.  And where we face common supranational challenges, and currently there are several such challenges, there is no alternative to acting jointly as Europeans. Consider the transformative power of the deepening of the Single Market at the end of the 1980s. This opened up new opportunities and it continues to benefit European companies and individuals alike. Consider what can still be achieved with the Digital Single Market, the energy union and the capital markets union. Without a well-functioning Single Market, our firms would lose access to a market of 500 million consumers. Without a Single Market, we Europeans would have little global leverage to uphold our values, such as our respect for the right to privacy on the internet. Together we are immeasurably stronger.[8]   Conclusion Let me conclude. The ECB is vigorously counteracting risks to price stability using all necessary tools within its mandate. Our monetary policy has supported growth and employment and will eventually bring inflation back to our aim of below, but close to, 2%. Low interest rates today are necessary for a return to higher interest rates in the future. What we need now is to allow our measures to develop their full impact. And in order to reap the full benefits of our monetary policy measures, other policy areas must contribute much more decisively, both at the national and at the European level. Thank you for your attention. I look forward to your questions.      [1]\n",
      "-------------\n",
      "  Working together for growth in Europe   Introductory remarks by Mario Draghi, President of the ECB,at Deutscher Bundestag, Berlin, 28 September 2016  Introduction Mr Chairman, Honourable Members of the Bundestag, Ladies and gentlemen, Thank you for your invitation. It is a pleasure to speak here in in the halls of the Committee on the Affairs of the European Union, where you bring the debate about European integration to the Bundestag, the heart of German democracy.  As President of the ECB, I\n",
      "...\n",
      "2015 alone approximately EUR 28 billion on lower than expected interest payments. We should also consider the full effect of low interest rates on banks. Those who blame ECB policy for the mixed performance of certain German financial firms have been very vocal. But what has been forgotten is that many banks have been able to more than offset declining interest revenues with higher lending volumes, improved loan performance and lower interest expenses, all of which are beneficial to both the banks and their customers. The ECB’s monetary policy is not the main factor for the low profitability of banks. While some banks’ business models may indeed need to adapt to the current low interest rate environment, they also need to address their own structural issues, such as overcapacity, the stock of non-performing loans and the potential impact of technological innovation. Low profitability is closely linked to low operational efficiency. In Germany cost to income ratios are on average relatively high compared to other jurisdictions. Let us be clear, however, there is no one size fits all banking model and we have different types of banks that are successfully operating in Germany and in the euro area.  Of course, low interest rates for a long period might carry the risk of overvaluation in asset markets as a result of the search for yield. This is why we closely monitor potential risks to financial stability that might emanate for instance from local real estate markets. But at the moment we are not seeing any overheating in the euro area or the German economy as a whole. While we do observe a somewhat stronger increase in residential real estate prices, notably in large cities in Germany, such increases are not the reflection of a bubble, as lending is growing only moderately. Moreover, overall household debt-to-income levels are comparatively low and stable. Where signs of excessive risk-taking emerge, macroprudential measures at the national level should be the instrument of choice. They allow exuberant financial developments to be addressed in a more targeted way, while monetary policy contributes to the stability of the euro area as a whole. So far I have discussed the reasons for our measures and their effects. To summarise, our policies allow the recovery to take hold so that we will be able to raise interest rates again. After all, the interest earnings that the savers understandably crave need to be generated first in the real economy. In a stagnant economy there is little to be shared out. It should also be noted that the level to which real interest rates can eventually return when the economy strengthens is not determined by monetary policy. Instead, it depends on the economy’s long-term growth prospects. Productivity and demographics play a decisive role in this, and the development of these factors has not been favourable in Europe in recent years. This is a phenomenon we also see in Germany. For long-term interest rates to rise in the future we therefore need more investment and structural reforms to lift growth and productivity. As Wolfgang Schäuble said in this house a couple of weeks ago when he presented the budget for 2017: we will only get out of this phase of low interest rates if we have more sustainable growth in Europe.   The need for decisive action at the national and European level This leads me to my final point: policy-makers across the euro area, need to seize the opportunity to deliver reforms. At the height of the crisis, all Member States and citizens showed an enormous commitment to keeping the euro area together when the critics were already talking about the euro’s demise. But we cannot stop here: we need to make sure not only that the euro survives, but that our Economic and Monetary Union thrives.  If we want to succeed, we will need to find common solutions for the problems that we all face. If we want to preserve the European social model, we will need to bring labour and product markets in line with the realities of the digital and globalised world of the 21st century. If we want savers to benefit from higher interest rates in the future, we will need to create investment opportunities to put these savings to a productive use. This is about raising productivity and employment. This is about structural reforms that are a necessary complement to our monetary policy. And Member States have to do their part. I have highlighted this many times in the past. In fact, I emphasise it every six weeks at the ECB’s press conference.  And where we face common supranational challenges, and currently there are several such challenges, there is no alternative to acting jointly as Europeans. Consider the transformative power of the deepening of the Single Market at the end of the 1980s. This opened up new opportunities and it continues to benefit European companies and individuals alike. Consider what can still be achieved with the Digital Single Market, the energy union and the capital markets union. Without a well-functioning Single Market, our firms would lose access to a market of 500 million consumers. Without a Single Market, we Europeans would have little global leverage to uphold our values, such as our respect for the right to privacy on the internet. Together we are immeasurably stronger.   Conclusion Let me conclude. The ECB is vigorously counteracting risks to price stability using all necessary tools within its mandate. Our monetary policy has supported growth and employment and will eventually bring inflation back to our aim of below, but close to, 2%. Low interest rates today are necessary for a return to higher interest rates in the future. What we need now is to allow our measures to develop their full impact. And in order to reap the full benefits of our monetary policy measures, other policy areas must contribute much more decisively, both at the national and at the European level. Thank you for your attention. I look forward to your questions.      \n",
      "====================\n",
      "   SPEECH Frankfurt am Main (by video conference), 7 July 2020  Unleashing the euro’s untapped potential at global level   Introductory remarks by Fabio Panetta, Member of the Executive Board of the ECB, Meeting with Members of the European Parliament The introduction of the euro has undoubtedly been one of the most profound changes in the international monetary system since the collapse of the Bretton Woods system. Right from the start, the ECB has monitored developments in the international ro\n",
      "...\n",
      "stop facility to address pandemic-related euro liquidity needs outside the euro area. The Eurosystem repo facility for central banks (EUREP)[4] reflects the importance of the euro in global financial markets and will support the smooth transmission of our monetary policy. In particular, it will reduce risks related to sell-off episodes of euro-denominated assets and spillovers of market dysfunctions from other economies to the euro area, including through global confidence effects.  Looking beyond the immediate aftermath of the pandemic crisis, the acceleration of the digitalisation of money may have implications for the euro’s global role.  Thanks to the recent launch of the European Payments Initiative, Europe has stepped up its efforts in meeting the challenge to create a true European and modern payment solution that meets the needs of both people and businesses.[5] This is essential to ensure the autonomy of the European payments market, in the face of increasing dominance by foreign players.  The ECB will continue to monitor how new technologies change payment behaviours. Regardless of the choice of technology, the stability of money and payment systems should continue to rest on the firm foundations central banks provide. Maintaining the unit of account, guaranteeing the finality of payments, providing liquidity and conducting oversight remain essential public goods that are provided by central banks. They are paramount to maintaining trust in a currency and safeguarding monetary sovereignty. This is why the ECB intends to remain at the forefront of discussions concerning the nature of money in a digital world, including the exploration of the desirability and feasibility of establishing a central bank digital currency (CBDC). A CBDC would have domestic implications for the euro area in areas such as monetary policy, financial stability and payment systems, which would need to be thoroughly assessed. But, if the CBDC is allowed to be used outside the euro area, it is likely to have implications for the global monetary and financial system too. For instance, the euro’s international role could be strengthened if the CBDC represented an attractive payment vehicle or store of value for non-euro area residents. It could have implications for capital flows and the exchange rate of the euro, with potential knock-on effects on euro area and global economic developments. It could amplify the real and financial cross-border spillovers of domestic monetary policy shocks by creating a new channel for their propagation. The magnitude of such effects would depend on the design of the CBDC.  Conclusions Allow me to conclude.  The euro became an international currency at birth. How and whether this international status will evolve in the future remains in the hands of European policymakers. The European Parliament has a key role to play in delivering reforms that will further strengthen people’s confidence in the European project and in the euro.     [1]\n",
      "-------------\n",
      "   SPEECH Frankfurt am Main (by video conference), 7 July 2020  Unleashing the euro’s untapped potential at global level   Introductory remarks by Fabio Panetta, Member of the Executive Board of the ECB, Meeting with Members of the European Parliament The introduction of the euro has undoubtedly been one of the most profound changes in the international monetary system since the collapse of the Bretton Woods system. Right from the start, the ECB has monitored developments in the international ro\n",
      "...\n",
      "an international funding unit amplifies the cross-border effects of monetary policy impulses. Through spillback effects, the resulting impact on demand across the world may give monetary policy a wider, and possibly larger, domestic impact. This could be particularly true for an economy such as the euro area, which is more open to trade than other major economies.  Moreover, international currency status lowers exchange rate pass-through, which helps shield inflation from foreign shocks. It lowers external financing costs – the traditional “exorbitant privilege”. And finally, it can be argued that the traditional argument against a stronger international role for a given currency – that it increases the volatility of monetary aggregates – has declined in prominence.  All in all, changes in the global role of the euro may have consequences for the conduct of monetary policy, all of which must be understood and taken into account when designing the ECB’s actions. Unleashing the euro’s untapped global potential The euro’s global potential has not been fully realised, however. But the right policies could unleash it.  The ECB has repeatedly stressed that the international role of the euro is primarily supported by a deeper and more complete Economic and Monetary Union, including advancing the capital markets union, in the context of the pursuit of sound economic policies in the euro area. The COVID-19 pandemic underlines the urgency of these policies and the ECB supports the necessary reform efforts. Moreover, as I have also stressed recently, the euro’s international role will grow only if we can better share its benefits, or “privilege”.  It is for Europe to provide common instruments that generate safe assets for all Member States in times of crisis, thereby ensuring that necessary fiscal reactions do not cause further instability and fragmentation. The €750 billion recovery fund proposed by the European Commission is an excellent example. It will provide a forceful European fiscal response to the COVID-19 crisis and the foundation for a deep, common capital market backed by safe euro assets. Unfortunately, however, the recovery fund is both temporary in nature and relatively small in relation to the size of the European sovereign bond market. The ECB also plays its part. A global currency requires a central bank that acts as a credible backstop to safeguard liquidity conditions in the financial system. Over the past few months, the ECB has deployed forceful monetary policy measures to avoid fragmentation, dispel tail risks in financial markets and stabilise the euro area economy. Yet the pandemic crisis has also made clear that, in times of stress, managing a global currency also requires the ECB to play a prominent role at the international level. Shortly after the outbreak of the pandemic crisis, the ECB reactivated a number of swap and repo lines with major foreign central banks. On 25 June we went further still and established a new precautionary backstop facility to address pandemic-related euro liquidity needs outside the euro area. The Eurosystem repo facility for central banks (EUREP) reflects the importance of the euro in global financial markets and will support the smooth transmission of our monetary policy. In particular, it will reduce risks related to sell-off episodes of euro-denominated assets and spillovers of market dysfunctions from other economies to the euro area, including through global confidence effects.  Looking beyond the immediate aftermath of the pandemic crisis, the acceleration of the digitalisation of money may have implications for the euro’s global role.  Thanks to the recent launch of the European Payments Initiative, Europe has stepped up its efforts in meeting the challenge to create a true European and modern payment solution that meets the needs of both people and businesses. This is essential to ensure the autonomy of the European payments market, in the face of increasing dominance by foreign players.  The ECB will continue to monitor how new technologies change payment behaviours. Regardless of the choice of technology, the stability of money and payment systems should continue to rest on the firm foundations central banks provide. Maintaining the unit of account, guaranteeing the finality of payments, providing liquidity and conducting oversight remain essential public goods that are provided by central banks. They are paramount to maintaining trust in a currency and safeguarding monetary sovereignty. This is why the ECB intends to remain at the forefront of discussions concerning the nature of money in a digital world, including the exploration of the desirability and feasibility of establishing a central bank digital currency (CBDC). A CBDC would have domestic implications for the euro area in areas such as monetary policy, financial stability and payment systems, which would need to be thoroughly assessed. But, if the CBDC is allowed to be used outside the euro area, it is likely to have implications for the global monetary and financial system too. For instance, the euro’s international role could be strengthened if the CBDC represented an attractive payment vehicle or store of value for non-euro area residents. It could have implications for capital flows and the exchange rate of the euro, with potential knock-on effects on euro area and global economic developments. It could amplify the real and financial cross-border spillovers of domestic monetary policy shocks by creating a new channel for their propagation. The magnitude of such effects would depend on the design of the CBDC.  Conclusions Allow me to conclude.  The euro became an international currency at birth. How and whether this international status will evolve in the future remains in the hands of European policymakers. The European Parliament has a key role to play in delivering reforms that will further strengthen people’s confidence in the European project and in the euro.     \n",
      "====================\n",
      "  Presentation of the book entitled “L’acqua e la spugna” by Franco Bruni   Speech by Lorenzo Bini Smaghi, Member of the Executive Board of the ECBCenter for American StudiesRome, 24 June 2009 Above all, I should like to thank the Center for American Studies for inviting me to present this book by Franco Bruni; a book which is a real pleasure to present because it actually shows to be untrue what many have claimed recently, namely that the economists did not foresee the crisis and that they did \n",
      "...\n",
      "it its job to. This is the responsibility of the political authorities. Following the collapse of Lehman Brothers, this has become clear in Europe. Only the heads of state and government, in their meeting in Paris prompted by President Sarkozy, were able to commit public funds to avoid several banks going under. The programme aimed at supporting banks’ capital and at guaranteeing bonds was a government initiative, even if the ECB made a technical contribution. And this is exactly how it should be. If something can be said to have gone wrong, it was with the implementation of the measures, not with the decision itself. The ECB has repeated its invitation to financial institutions many times to make full use of the state measures for increasing capitalisation in the banking system. If this doesn’t happen, there is a risk that the retroactive effect of the current recession on banks’ accounts will cause the banks ultimately to reduce their financing of the real sector, thereby further exacerbating the economic crisis. Evidently, there is not enough incentive for bank shareholders and bank managers to make use of such instruments, the shareholders out of fear that their shares will drop in value, and the managers for fear of operational and pay structure constraints. This poses a problem in terms of coordinating behaviour, which has to be resolved by policy-makers. However, time constraints prevent us from exploring this matter any further today. I would like to conclude by looking to the future. I agree with Franco Bruni’s analysis and recommendations. This crisis affirms the need for fully independent central banks in which the appointment of Executive Board members is not linked to electoral cycles, and where such members have long-term mandates. It also confirms how important it is for price stability to be the primary objective of monetary policy. This experience has shown that having more objectives than this does not make the task any easier, neither in terms of preventing a crisis, nor resolving it. Given the objective of price stability, central banks should also aim to contribute to financial stability but they should also have instruments at their disposal to achieve this. Finally, whenever central banks are given specific powers, they are also expected – and rightly so – to exercise accountability. Franco Bruni is no exception, but in this regard he cannot be distinguished from a certain trend which erroneously considers the ECB to be less accountable than the Federal Reserve, particularly with regard to parliament. The appendix gives details about the methods of reporting to the respective parliaments, in terms of reporting, hearings and responses to questions posed by the parliament. It can be confirmed from this that the ECB reports with the same intensity and frequency as the US central bank. This does not mean that the quality of interaction cannot be improved, but this depends, to a large extent, on the European Parliament.      [1]\n",
      "-------------\n",
      "  Presentation of the book entitled “L’acqua e la spugna” by Franco Bruni   Speech by Lorenzo Bini Smaghi, Member of the Executive Board of the ECBCenter for American StudiesRome, 24 June 2009 Above all, I should like to thank the Center for American Studies for inviting me to present this book by Franco Bruni; a book which is a real pleasure to present because it actually shows to be untrue what many have claimed recently, namely that the economists did not foresee the crisis and that they did \n",
      "...\n",
      "example of the separation is precisely the one which occurred on 9 August 2007, when amid market tensions, it was decided both to maintain the rates unchanged and to intervene on a substantial scale to satisfy the banks’ demand for liquidity, with a €90 billion operation. And the same separation has been continued in all the months since then. That the decision to reduce interest rates in March to 1.5% was justified is, I believe, evident from the growth and inflation estimates published at that time. I remember the ECB staff projections were pointing to euro area GDP growth for 2009 and 2010 being equal to -2.7% and 0.0% and inflation of 0.5% and 1.1% respectively. Also taking into account the relevant horizon for monetary policy, between one and two years ahead, an interest rate of 2% seemed excessive, also considering the downside risks to growth that the ECB’s Governing Council had signalled and that they duly manifested themselves. Indeed, the projections were again revised in early June, and the cut in the official interest rate to 1% decided in May is consistent with that revision.  The objective of the decisions to supply liquidity to the banking system was not to “rescue the banks” but to ensure the continued functioning of the financial market, starting with its base, i.e. the money market. The ECB’s entire range of instruments, characterised by a wide corridor between the interest rate on the marginal lending facility and the rate on the deposit facility, weekly repurchase agreements, the acceptance of a large number of counterparties and a wide range of collateral, is based on the money market functioning. If the money market doesn’t work, the mechanism for transmitting monetary policy doesn’t work. The only solution remaining for a central bank at this point is to stand in for the market and perform the role of the banks, even by lending directly to the private sector. Maybe this solution is the most preferable? I don’t believe so. In my opinion, the functioning of the market is a statutory objective for a central bank. It should therefore intervene to guarantee the liquidity of the market. It should be remembered that every injection of liquidity is guaranteed by the collateral deposited by the counterparty banks. This means that banks’ assets are made liquid. It’s obvious that without such a liquidity intervention, the market would collapse, taking the banking system with it. This is always true for last-resort interventions whose objective is to keep a solvent but illiquid system alive. It is at the heart of the role of central banking, particularly in times of systemic crisis. There can be no doubt that the ECB had to take on this role and I believe it has done so in an appropriate way. However, the point is not to intervene to remedy problems of solvency resulting from wrong decisions regarding investment or resulting from insufficient capital. In this regard, a central bank is not in a position to deal with these problems, nor is it its job to. This is the responsibility of the political authorities. Following the collapse of Lehman Brothers, this has become clear in Europe. Only the heads of state and government, in their meeting in Paris prompted by President Sarkozy, were able to commit public funds to avoid several banks going under. The programme aimed at supporting banks’ capital and at guaranteeing bonds was a government initiative, even if the ECB made a technical contribution. And this is exactly how it should be. If something can be said to have gone wrong, it was with the implementation of the measures, not with the decision itself. The ECB has repeated its invitation to financial institutions many times to make full use of the state measures for increasing capitalisation in the banking system. If this doesn’t happen, there is a risk that the retroactive effect of the current recession on banks’ accounts will cause the banks ultimately to reduce their financing of the real sector, thereby further exacerbating the economic crisis. Evidently, there is not enough incentive for bank shareholders and bank managers to make use of such instruments, the shareholders out of fear that their shares will drop in value, and the managers for fear of operational and pay structure constraints. This poses a problem in terms of coordinating behaviour, which has to be resolved by policy-makers. However, time constraints prevent us from exploring this matter any further today. I would like to conclude by looking to the future. I agree with Franco Bruni’s analysis and recommendations. This crisis affirms the need for fully independent central banks in which the appointment of Executive Board members is not linked to electoral cycles, and where such members have long-term mandates. It also confirms how important it is for price stability to be the primary objective of monetary policy. This experience has shown that having more objectives than this does not make the task any easier, neither in terms of preventing a crisis, nor resolving it. Given the objective of price stability, central banks should also aim to contribute to financial stability but they should also have instruments at their disposal to achieve this. Finally, whenever central banks are given specific powers, they are also expected – and rightly so – to exercise accountability. Franco Bruni is no exception, but in this regard he cannot be distinguished from a certain trend which erroneously considers the ECB to be less accountable than the Federal Reserve, particularly with regard to parliament. The appendix gives details about the methods of reporting to the respective parliaments, in terms of reporting, hearings and responses to questions posed by the parliament. It can be confirmed from this that the ECB reports with the same intensity and frequency as the US central bank. This does not mean that the quality of interaction cannot be improved, but this depends, to a large extent, on the European Parliament.      \n",
      "====================\n"
     ]
    }
   ],
   "source": [
    "test_nb = 10\n",
    "counter = 0\n",
    "for text_ in ecb[\"text\"]:\n",
    "    if isinstance(text_, str):\n",
    "        text = numbered_reference_removal(text_)\n",
    "        text2 = reference_removal_en(text)\n",
    "        if text2 != text:\n",
    "            print(text[:500])\n",
    "            print(\"...\")\n",
    "            print(text[-3000:])\n",
    "            print(\"-------------\")\n",
    "            print(text2[:500])\n",
    "            print(\"...\")\n",
    "            print(text2[-6000:])\n",
    "            print(\"====================\")\n",
    "            counter += 1\n",
    "    if counter == 10:\n",
    "        break"
   ]
  },
  {
   "attachments": {},
   "cell_type": "markdown",
   "metadata": {},
   "source": [
    "Sometimes, the title appears in the beginning of an ECB text. We can remove it using regular expressions."
   ]
  },
  {
   "cell_type": "code",
   "execution_count": 23,
   "metadata": {},
   "outputs": [],
   "source": [
    "device = torch.device(\"cuda:0\" if torch.cuda.is_available() else \"cpu\")"
   ]
  },
  {
   "cell_type": "code",
   "execution_count": 24,
   "metadata": {},
   "outputs": [],
   "source": [
    "from transformers import pipeline\n",
    "## realSummarizer, not a shortener like summarize from gensim\n",
    "realSummarizer = pipeline(\"summarization\", model=\"philschmid/bart-large-cnn-samsum\", device=device)"
   ]
  },
  {
   "cell_type": "code",
   "execution_count": 26,
   "metadata": {},
   "outputs": [
    {
     "data": {
      "text/plain": [
       "device(type='cuda', index=0)"
      ]
     },
     "execution_count": 26,
     "metadata": {},
     "output_type": "execute_result"
    }
   ],
   "source": [
    "realSummarizer.device"
   ]
  },
  {
   "cell_type": "code",
   "execution_count": 25,
   "metadata": {},
   "outputs": [
    {
     "data": {
      "text/plain": [
       "[{'summary_text': \"Thomas A. Anderson is an average computer programmer and a hacker known as Neo. Neo finds himself targeted by the police when he is contacted by Morpheus, a legendary computer hacker branded a terrorist by the government. Morpheus awakens Neo to the real world, a ravaged wasteland where most of humanity have been captured by a race of machines that live off of the humans' body heat and electrochemical energy. Neo must return to the Matrix and confront the agents dedicated to snuffing out the human rebellion.\"}]"
      ]
     },
     "execution_count": 25,
     "metadata": {},
     "output_type": "execute_result"
    }
   ],
   "source": [
    "realSummarizer(text)"
   ]
  },
  {
   "cell_type": "code",
   "execution_count": 18,
   "metadata": {},
   "outputs": [],
   "source": [
    "# Before dealing with N/A because otherwise, this edit would just undo the other.\n",
    "# We can use this to remove the \"TRANSCRIPT\" and \"SPEECH\" tags.\n",
    "# We also notice that most of the time, the content is preceded by a date. It would be useful to make a date parser to remove the first chunk.\n",
    "\n",
    "def first_date_extractor(text):\n",
    "    if len(text) > 0:\n",
    "        res = re.sub('^(.*?)[1-9][0-9]* (?:Jan(?:uary)?|Feb(?:ruary)?|Mar(?:ch)?|'\n",
    "                     + 'Apr(?:il)?|May|Jun(?:e)?|Jul(?:y)?|Aug(?:ust)?|Sep(?:tember)?|Oct(?:ober)?|(Nov|Dec)(?:ember)?) (19|20)[0-9][0-9]',\n",
    "                     '', text)\n",
    "        return res\n",
    "\n",
    "def remove_title(x):\n",
    "    if not x[\"text\"] is None and isinstance(x[\"text\"], str):\n",
    "        res = re.sub(x[\"title\"], '', x[\"text\"]).strip()\n",
    "        return res\n",
    "    else:\n",
    "        return x[\"title\"]\n",
    "\n",
    "def website_remover(text):\n",
    "    # Remove websites\n",
    "    regex = \"((http|https)://)(www.)?\" \\\n",
    "        + \"[a-zA-Z0-9@:%._\\\\+~#?&//=]{2,256}\\\\.[a-z]\" \\\n",
    "        + \"{2,6}\\\\b([-a-zA-Z0-9@:%._\\\\+~#?&//=]*)\"\n",
    "    res = re.sub(regex, \"\", text).strip()\n",
    "    return res\n",
    "\n",
    "def tag_removal(text):\n",
    "    # Remove tags\n",
    "    res = re.sub('SPEECH', '', text)\n",
    "    res = re.sub('TRANSCRIPT', '', res)\n",
    "    res = re.sub(\"Introduction\", \"\", res)\n",
    "    res = re.sub(\"Summary\", \"\", res)\n",
    "    return res\n",
    "\n",
    "def summarizeLine(text, tolist=False):\n",
    "    # Set approx 800 words when using the shortened text (func summarize of gensim)\n",
    "    # as 800 corresponds to approx 1000 tokens which is minimum for the real summarizing model (hugging face bert)\n",
    "    # This process come after a some preprocessing, so there are no NaN\n",
    "    try:\n",
    "        length_text = len(text.split())\n",
    "        if length_text <= 800:\n",
    "            return text\n",
    "        \n",
    "        factorOfSplit = 800/length_text\n",
    "        res = summarize(text, ratio=factorOfSplit)\n",
    "        res = ' '.join(res.split()[:850]) #trunc if the last sentence is really too big\n",
    "        res = realSummarizer(' '.join(res.split()), max_length=511, min_length=510)\n",
    "        res = res[0][\"summary_text\"]\n",
    "        if tolist:\n",
    "            res = res.split(\".\") #as the bart summarization separates sentences using dots (.)\n",
    "    except: #if one sentence in text, summarize does not work as it selects only n most important sentences\n",
    "        return text\n",
    "    return res\n",
    "\n",
    "def pipeline_en(x, tolist=False):\n",
    "    res = remove_title(x)\n",
    "    if res is None:\n",
    "        return res\n",
    "    res = numbered_reference_removal(res)\n",
    "    res = reference_removal_en(res)\n",
    "    res = tag_removal(res).strip()\n",
    "    res = first_date_extractor(res).strip()\n",
    "    # res = summarizeLine(res, tolist)\n",
    "\n",
    "    # print(\"================================================\")\n",
    "    # print(res[:200])\n",
    "    # print(\"...\")\n",
    "    # print(res[-500:])\n",
    "    return res\n",
    "\n",
    "ecb[\"text_preprocessed\"] = ecb.apply(lambda x: pipeline_en(x, tolist=False), axis=1)"
   ]
  },
  {
   "cell_type": "code",
   "execution_count": 19,
   "metadata": {},
   "outputs": [
    {
     "data": {
      "text/plain": [
       "count       3.000000\n",
       "mean     2072.333333\n",
       "std      1122.806454\n",
       "min       883.000000\n",
       "25%      1551.500000\n",
       "50%      2220.000000\n",
       "75%      2667.000000\n",
       "max      3114.000000\n",
       "Name: text_preprocessed, dtype: float64"
      ]
     },
     "execution_count": 19,
     "metadata": {},
     "output_type": "execute_result"
    }
   ],
   "source": [
    "ecb[\"text_preprocessed\"].iloc[:3].apply(lambda x: len(x.split())).describe()"
   ]
  },
  {
   "cell_type": "code",
   "execution_count": 27,
   "metadata": {},
   "outputs": [],
   "source": [
    "ecb[\"text_preprocessed\"].iloc[:3] = ecb[\"text_preprocessed\"].iloc[:3].apply(lambda x: summarizeLine(x))"
   ]
  },
  {
   "cell_type": "code",
   "execution_count": 47,
   "metadata": {},
   "outputs": [
    {
     "data": {
      "text/plain": [
       "369     Les décisions de la BCE depuis la crise : un t...\n",
       "600     Presentation of the ECB Annual Report 2019 to ...\n",
       "687     Presentation slides It is a great pleasure to ...\n",
       "700     This is the full text of a speech delivered in...\n",
       "1398    Presentation slides I open this conference on ...\n",
       "Name: text_preprocessed, dtype: object"
      ]
     },
     "execution_count": 47,
     "metadata": {},
     "output_type": "execute_result"
    }
   ],
   "source": [
    "ecb[\"text_preprocessed\"][ecb[\"text_preprocessed\"].str.contains(\"Presentation\")]"
   ]
  },
  {
   "cell_type": "code",
   "execution_count": 30,
   "metadata": {},
   "outputs": [
    {
     "name": "stderr",
     "output_type": "stream",
     "text": [
      "Token indices sequence length is longer than the specified maximum sequence length for this model (3774 > 1024). Running this sequence through the model will result in indexing errors\n"
     ]
    },
    {
     "ename": "RuntimeError",
     "evalue": "CUDA error: device-side assert triggered\nCUDA kernel errors might be asynchronously reported at some other API call,so the stacktrace below might be incorrect.\nFor debugging consider passing CUDA_LAUNCH_BLOCKING=1.",
     "output_type": "error",
     "traceback": [
      "\u001b[1;31m---------------------------------------------------------------------------\u001b[0m",
      "\u001b[1;31mRuntimeError\u001b[0m                              Traceback (most recent call last)",
      "Cell \u001b[1;32mIn[30], line 1\u001b[0m\n\u001b[1;32m----> 1\u001b[0m realSummarizer(\u001b[39mlist\u001b[39;49m(ecb[\u001b[39m\"\u001b[39;49m\u001b[39mtext_preprocessed\u001b[39;49m\u001b[39m\"\u001b[39;49m]\u001b[39m.\u001b[39;49miloc[\u001b[39m4\u001b[39;49m:\u001b[39m7\u001b[39;49m]))\n",
      "File \u001b[1;32mc:\\Users\\huuta\\anaconda3\\envs\\nlp-env\\lib\\site-packages\\transformers\\pipelines\\text2text_generation.py:235\u001b[0m, in \u001b[0;36mSummarizationPipeline.__call__\u001b[1;34m(self, *args, **kwargs)\u001b[0m\n\u001b[0;32m    211\u001b[0m \u001b[39mdef\u001b[39;00m \u001b[39m__call__\u001b[39m(\u001b[39mself\u001b[39m, \u001b[39m*\u001b[39margs, \u001b[39m*\u001b[39m\u001b[39m*\u001b[39mkwargs):\n\u001b[0;32m    212\u001b[0m \u001b[39m    \u001b[39m\u001b[39mr\u001b[39m\u001b[39m\"\"\"\u001b[39;00m\n\u001b[0;32m    213\u001b[0m \u001b[39m    Summarize the text(s) given as inputs.\u001b[39;00m\n\u001b[0;32m    214\u001b[0m \n\u001b[1;32m   (...)\u001b[0m\n\u001b[0;32m    233\u001b[0m \u001b[39m          ids of the summary.\u001b[39;00m\n\u001b[0;32m    234\u001b[0m \u001b[39m    \"\"\"\u001b[39;00m\n\u001b[1;32m--> 235\u001b[0m     \u001b[39mreturn\u001b[39;00m \u001b[39msuper\u001b[39m()\u001b[39m.\u001b[39m\u001b[39m__call__\u001b[39m(\u001b[39m*\u001b[39margs, \u001b[39m*\u001b[39m\u001b[39m*\u001b[39mkwargs)\n",
      "File \u001b[1;32mc:\\Users\\huuta\\anaconda3\\envs\\nlp-env\\lib\\site-packages\\transformers\\pipelines\\text2text_generation.py:137\u001b[0m, in \u001b[0;36mText2TextGenerationPipeline.__call__\u001b[1;34m(self, *args, **kwargs)\u001b[0m\n\u001b[0;32m    108\u001b[0m \u001b[39mdef\u001b[39;00m \u001b[39m__call__\u001b[39m(\u001b[39mself\u001b[39m, \u001b[39m*\u001b[39margs, \u001b[39m*\u001b[39m\u001b[39m*\u001b[39mkwargs):\n\u001b[0;32m    109\u001b[0m \u001b[39m    \u001b[39m\u001b[39mr\u001b[39m\u001b[39m\"\"\"\u001b[39;00m\n\u001b[0;32m    110\u001b[0m \u001b[39m    Generate the output text(s) using text(s) given as inputs.\u001b[39;00m\n\u001b[0;32m    111\u001b[0m \n\u001b[1;32m   (...)\u001b[0m\n\u001b[0;32m    134\u001b[0m \u001b[39m          ids of the generated text.\u001b[39;00m\n\u001b[0;32m    135\u001b[0m \u001b[39m    \"\"\"\u001b[39;00m\n\u001b[1;32m--> 137\u001b[0m     result \u001b[39m=\u001b[39m \u001b[39msuper\u001b[39m()\u001b[39m.\u001b[39m\u001b[39m__call__\u001b[39m(\u001b[39m*\u001b[39margs, \u001b[39m*\u001b[39m\u001b[39m*\u001b[39mkwargs)\n\u001b[0;32m    138\u001b[0m     \u001b[39mif\u001b[39;00m (\n\u001b[0;32m    139\u001b[0m         \u001b[39misinstance\u001b[39m(args[\u001b[39m0\u001b[39m], \u001b[39mlist\u001b[39m)\n\u001b[0;32m    140\u001b[0m         \u001b[39mand\u001b[39;00m \u001b[39mall\u001b[39m(\u001b[39misinstance\u001b[39m(el, \u001b[39mstr\u001b[39m) \u001b[39mfor\u001b[39;00m el \u001b[39min\u001b[39;00m args[\u001b[39m0\u001b[39m])\n\u001b[0;32m    141\u001b[0m         \u001b[39mand\u001b[39;00m \u001b[39mall\u001b[39m(\u001b[39mlen\u001b[39m(res) \u001b[39m==\u001b[39m \u001b[39m1\u001b[39m \u001b[39mfor\u001b[39;00m res \u001b[39min\u001b[39;00m result)\n\u001b[0;32m    142\u001b[0m     ):\n\u001b[0;32m    143\u001b[0m         \u001b[39mreturn\u001b[39;00m [res[\u001b[39m0\u001b[39m] \u001b[39mfor\u001b[39;00m res \u001b[39min\u001b[39;00m result]\n",
      "File \u001b[1;32mc:\\Users\\huuta\\anaconda3\\envs\\nlp-env\\lib\\site-packages\\transformers\\pipelines\\base.py:1056\u001b[0m, in \u001b[0;36mPipeline.__call__\u001b[1;34m(self, inputs, num_workers, batch_size, *args, **kwargs)\u001b[0m\n\u001b[0;32m   1052\u001b[0m \u001b[39mif\u001b[39;00m can_use_iterator:\n\u001b[0;32m   1053\u001b[0m     final_iterator \u001b[39m=\u001b[39m \u001b[39mself\u001b[39m\u001b[39m.\u001b[39mget_iterator(\n\u001b[0;32m   1054\u001b[0m         inputs, num_workers, batch_size, preprocess_params, forward_params, postprocess_params\n\u001b[0;32m   1055\u001b[0m     )\n\u001b[1;32m-> 1056\u001b[0m     outputs \u001b[39m=\u001b[39m [output \u001b[39mfor\u001b[39;00m output \u001b[39min\u001b[39;00m final_iterator]\n\u001b[0;32m   1057\u001b[0m     \u001b[39mreturn\u001b[39;00m outputs\n\u001b[0;32m   1058\u001b[0m \u001b[39melse\u001b[39;00m:\n",
      "File \u001b[1;32mc:\\Users\\huuta\\anaconda3\\envs\\nlp-env\\lib\\site-packages\\transformers\\pipelines\\base.py:1056\u001b[0m, in \u001b[0;36m<listcomp>\u001b[1;34m(.0)\u001b[0m\n\u001b[0;32m   1052\u001b[0m \u001b[39mif\u001b[39;00m can_use_iterator:\n\u001b[0;32m   1053\u001b[0m     final_iterator \u001b[39m=\u001b[39m \u001b[39mself\u001b[39m\u001b[39m.\u001b[39mget_iterator(\n\u001b[0;32m   1054\u001b[0m         inputs, num_workers, batch_size, preprocess_params, forward_params, postprocess_params\n\u001b[0;32m   1055\u001b[0m     )\n\u001b[1;32m-> 1056\u001b[0m     outputs \u001b[39m=\u001b[39m [output \u001b[39mfor\u001b[39;00m output \u001b[39min\u001b[39;00m final_iterator]\n\u001b[0;32m   1057\u001b[0m     \u001b[39mreturn\u001b[39;00m outputs\n\u001b[0;32m   1058\u001b[0m \u001b[39melse\u001b[39;00m:\n",
      "File \u001b[1;32mc:\\Users\\huuta\\anaconda3\\envs\\nlp-env\\lib\\site-packages\\transformers\\pipelines\\pt_utils.py:111\u001b[0m, in \u001b[0;36mPipelineIterator.__next__\u001b[1;34m(self)\u001b[0m\n\u001b[0;32m    108\u001b[0m     \u001b[39mreturn\u001b[39;00m \u001b[39mself\u001b[39m\u001b[39m.\u001b[39mloader_batch_item()\n\u001b[0;32m    110\u001b[0m \u001b[39m# We're out of items within a batch\u001b[39;00m\n\u001b[1;32m--> 111\u001b[0m item \u001b[39m=\u001b[39m \u001b[39mnext\u001b[39;49m(\u001b[39mself\u001b[39;49m\u001b[39m.\u001b[39;49miterator)\n\u001b[0;32m    112\u001b[0m processed \u001b[39m=\u001b[39m \u001b[39mself\u001b[39m\u001b[39m.\u001b[39minfer(item, \u001b[39m*\u001b[39m\u001b[39m*\u001b[39m\u001b[39mself\u001b[39m\u001b[39m.\u001b[39mparams)\n\u001b[0;32m    113\u001b[0m \u001b[39m# We now have a batch of \"inferred things\".\u001b[39;00m\n",
      "File \u001b[1;32mc:\\Users\\huuta\\anaconda3\\envs\\nlp-env\\lib\\site-packages\\transformers\\pipelines\\pt_utils.py:112\u001b[0m, in \u001b[0;36mPipelineIterator.__next__\u001b[1;34m(self)\u001b[0m\n\u001b[0;32m    110\u001b[0m \u001b[39m# We're out of items within a batch\u001b[39;00m\n\u001b[0;32m    111\u001b[0m item \u001b[39m=\u001b[39m \u001b[39mnext\u001b[39m(\u001b[39mself\u001b[39m\u001b[39m.\u001b[39miterator)\n\u001b[1;32m--> 112\u001b[0m processed \u001b[39m=\u001b[39m \u001b[39mself\u001b[39m\u001b[39m.\u001b[39minfer(item, \u001b[39m*\u001b[39m\u001b[39m*\u001b[39m\u001b[39mself\u001b[39m\u001b[39m.\u001b[39mparams)\n\u001b[0;32m    113\u001b[0m \u001b[39m# We now have a batch of \"inferred things\".\u001b[39;00m\n\u001b[0;32m    114\u001b[0m \u001b[39mif\u001b[39;00m \u001b[39mself\u001b[39m\u001b[39m.\u001b[39mloader_batch_size \u001b[39mis\u001b[39;00m \u001b[39mnot\u001b[39;00m \u001b[39mNone\u001b[39;00m:\n\u001b[0;32m    115\u001b[0m     \u001b[39m# Try to infer the size of the batch\u001b[39;00m\n",
      "File \u001b[1;32mc:\\Users\\huuta\\anaconda3\\envs\\nlp-env\\lib\\site-packages\\transformers\\pipelines\\base.py:983\u001b[0m, in \u001b[0;36mPipeline.forward\u001b[1;34m(self, model_inputs, **forward_params)\u001b[0m\n\u001b[0;32m    981\u001b[0m     \u001b[39mwith\u001b[39;00m inference_context():\n\u001b[0;32m    982\u001b[0m         model_inputs \u001b[39m=\u001b[39m \u001b[39mself\u001b[39m\u001b[39m.\u001b[39m_ensure_tensor_on_device(model_inputs, device\u001b[39m=\u001b[39m\u001b[39mself\u001b[39m\u001b[39m.\u001b[39mdevice)\n\u001b[1;32m--> 983\u001b[0m         model_outputs \u001b[39m=\u001b[39m \u001b[39mself\u001b[39m\u001b[39m.\u001b[39m_forward(model_inputs, \u001b[39m*\u001b[39m\u001b[39m*\u001b[39mforward_params)\n\u001b[0;32m    984\u001b[0m         model_outputs \u001b[39m=\u001b[39m \u001b[39mself\u001b[39m\u001b[39m.\u001b[39m_ensure_tensor_on_device(model_outputs, device\u001b[39m=\u001b[39mtorch\u001b[39m.\u001b[39mdevice(\u001b[39m\"\u001b[39m\u001b[39mcpu\u001b[39m\u001b[39m\"\u001b[39m))\n\u001b[0;32m    985\u001b[0m \u001b[39melse\u001b[39;00m:\n",
      "File \u001b[1;32mc:\\Users\\huuta\\anaconda3\\envs\\nlp-env\\lib\\site-packages\\transformers\\pipelines\\text2text_generation.py:159\u001b[0m, in \u001b[0;36mText2TextGenerationPipeline._forward\u001b[1;34m(self, model_inputs, **generate_kwargs)\u001b[0m\n\u001b[0;32m    157\u001b[0m generate_kwargs[\u001b[39m\"\u001b[39m\u001b[39mmax_length\u001b[39m\u001b[39m\"\u001b[39m] \u001b[39m=\u001b[39m generate_kwargs\u001b[39m.\u001b[39mget(\u001b[39m\"\u001b[39m\u001b[39mmax_length\u001b[39m\u001b[39m\"\u001b[39m, \u001b[39mself\u001b[39m\u001b[39m.\u001b[39mmodel\u001b[39m.\u001b[39mconfig\u001b[39m.\u001b[39mmax_length)\n\u001b[0;32m    158\u001b[0m \u001b[39mself\u001b[39m\u001b[39m.\u001b[39mcheck_inputs(input_length, generate_kwargs[\u001b[39m\"\u001b[39m\u001b[39mmin_length\u001b[39m\u001b[39m\"\u001b[39m], generate_kwargs[\u001b[39m\"\u001b[39m\u001b[39mmax_length\u001b[39m\u001b[39m\"\u001b[39m])\n\u001b[1;32m--> 159\u001b[0m output_ids \u001b[39m=\u001b[39m \u001b[39mself\u001b[39m\u001b[39m.\u001b[39mmodel\u001b[39m.\u001b[39mgenerate(\u001b[39m*\u001b[39m\u001b[39m*\u001b[39mmodel_inputs, \u001b[39m*\u001b[39m\u001b[39m*\u001b[39mgenerate_kwargs)\n\u001b[0;32m    160\u001b[0m out_b \u001b[39m=\u001b[39m output_ids\u001b[39m.\u001b[39mshape[\u001b[39m0\u001b[39m]\n\u001b[0;32m    161\u001b[0m \u001b[39mif\u001b[39;00m \u001b[39mself\u001b[39m\u001b[39m.\u001b[39mframework \u001b[39m==\u001b[39m \u001b[39m\"\u001b[39m\u001b[39mpt\u001b[39m\u001b[39m\"\u001b[39m:\n",
      "File \u001b[1;32mc:\\Users\\huuta\\anaconda3\\envs\\nlp-env\\lib\\site-packages\\torch\\autograd\\grad_mode.py:27\u001b[0m, in \u001b[0;36m_DecoratorContextManager.__call__.<locals>.decorate_context\u001b[1;34m(*args, **kwargs)\u001b[0m\n\u001b[0;32m     24\u001b[0m \u001b[39m@functools\u001b[39m\u001b[39m.\u001b[39mwraps(func)\n\u001b[0;32m     25\u001b[0m \u001b[39mdef\u001b[39;00m \u001b[39mdecorate_context\u001b[39m(\u001b[39m*\u001b[39margs, \u001b[39m*\u001b[39m\u001b[39m*\u001b[39mkwargs):\n\u001b[0;32m     26\u001b[0m     \u001b[39mwith\u001b[39;00m \u001b[39mself\u001b[39m\u001b[39m.\u001b[39mclone():\n\u001b[1;32m---> 27\u001b[0m         \u001b[39mreturn\u001b[39;00m func(\u001b[39m*\u001b[39margs, \u001b[39m*\u001b[39m\u001b[39m*\u001b[39mkwargs)\n",
      "File \u001b[1;32mc:\\Users\\huuta\\anaconda3\\envs\\nlp-env\\lib\\site-packages\\transformers\\generation_utils.py:1182\u001b[0m, in \u001b[0;36mGenerationMixin.generate\u001b[1;34m(self, inputs, max_length, min_length, do_sample, early_stopping, num_beams, temperature, top_k, top_p, typical_p, repetition_penalty, bad_words_ids, force_words_ids, bos_token_id, pad_token_id, eos_token_id, length_penalty, no_repeat_ngram_size, encoder_no_repeat_ngram_size, num_return_sequences, max_time, max_new_tokens, decoder_start_token_id, use_cache, num_beam_groups, diversity_penalty, prefix_allowed_tokens_fn, logits_processor, renormalize_logits, stopping_criteria, constraints, output_attentions, output_hidden_states, output_scores, return_dict_in_generate, forced_bos_token_id, forced_eos_token_id, remove_invalid_values, synced_gpus, exponential_decay_length_penalty, **model_kwargs)\u001b[0m\n\u001b[0;32m   1175\u001b[0m     model_kwargs[\u001b[39m\"\u001b[39m\u001b[39mattention_mask\u001b[39m\u001b[39m\"\u001b[39m] \u001b[39m=\u001b[39m \u001b[39mself\u001b[39m\u001b[39m.\u001b[39m_prepare_attention_mask_for_generation(\n\u001b[0;32m   1176\u001b[0m         inputs_tensor, pad_token_id, eos_token_id\n\u001b[0;32m   1177\u001b[0m     )\n\u001b[0;32m   1179\u001b[0m \u001b[39mif\u001b[39;00m \u001b[39mself\u001b[39m\u001b[39m.\u001b[39mconfig\u001b[39m.\u001b[39mis_encoder_decoder \u001b[39mand\u001b[39;00m \u001b[39m\"\u001b[39m\u001b[39mencoder_outputs\u001b[39m\u001b[39m\"\u001b[39m \u001b[39mnot\u001b[39;00m \u001b[39min\u001b[39;00m model_kwargs:\n\u001b[0;32m   1180\u001b[0m     \u001b[39m# if model is encoder decoder encoder_outputs are created\u001b[39;00m\n\u001b[0;32m   1181\u001b[0m     \u001b[39m# and added to `model_kwargs`\u001b[39;00m\n\u001b[1;32m-> 1182\u001b[0m     model_kwargs \u001b[39m=\u001b[39m \u001b[39mself\u001b[39;49m\u001b[39m.\u001b[39;49m_prepare_encoder_decoder_kwargs_for_generation(\n\u001b[0;32m   1183\u001b[0m         inputs_tensor, model_kwargs, model_input_name\n\u001b[0;32m   1184\u001b[0m     )\n\u001b[0;32m   1186\u001b[0m \u001b[39m# 4. Prepare `input_ids` which will be used for auto-regressive generation\u001b[39;00m\n\u001b[0;32m   1187\u001b[0m \u001b[39mif\u001b[39;00m \u001b[39mself\u001b[39m\u001b[39m.\u001b[39mconfig\u001b[39m.\u001b[39mis_encoder_decoder:\n",
      "File \u001b[1;32mc:\\Users\\huuta\\anaconda3\\envs\\nlp-env\\lib\\site-packages\\transformers\\generation_utils.py:525\u001b[0m, in \u001b[0;36mGenerationMixin._prepare_encoder_decoder_kwargs_for_generation\u001b[1;34m(self, inputs_tensor, model_kwargs, model_input_name)\u001b[0m\n\u001b[0;32m    523\u001b[0m encoder_kwargs[\u001b[39m\"\u001b[39m\u001b[39mreturn_dict\u001b[39m\u001b[39m\"\u001b[39m] \u001b[39m=\u001b[39m \u001b[39mTrue\u001b[39;00m\n\u001b[0;32m    524\u001b[0m encoder_kwargs[model_input_name] \u001b[39m=\u001b[39m inputs_tensor\n\u001b[1;32m--> 525\u001b[0m model_kwargs[\u001b[39m\"\u001b[39m\u001b[39mencoder_outputs\u001b[39m\u001b[39m\"\u001b[39m]: ModelOutput \u001b[39m=\u001b[39m encoder(\u001b[39m*\u001b[39m\u001b[39m*\u001b[39mencoder_kwargs)\n\u001b[0;32m    527\u001b[0m \u001b[39mreturn\u001b[39;00m model_kwargs\n",
      "File \u001b[1;32mc:\\Users\\huuta\\anaconda3\\envs\\nlp-env\\lib\\site-packages\\torch\\nn\\modules\\module.py:1194\u001b[0m, in \u001b[0;36mModule._call_impl\u001b[1;34m(self, *input, **kwargs)\u001b[0m\n\u001b[0;32m   1190\u001b[0m \u001b[39m# If we don't have any hooks, we want to skip the rest of the logic in\u001b[39;00m\n\u001b[0;32m   1191\u001b[0m \u001b[39m# this function, and just call forward.\u001b[39;00m\n\u001b[0;32m   1192\u001b[0m \u001b[39mif\u001b[39;00m \u001b[39mnot\u001b[39;00m (\u001b[39mself\u001b[39m\u001b[39m.\u001b[39m_backward_hooks \u001b[39mor\u001b[39;00m \u001b[39mself\u001b[39m\u001b[39m.\u001b[39m_forward_hooks \u001b[39mor\u001b[39;00m \u001b[39mself\u001b[39m\u001b[39m.\u001b[39m_forward_pre_hooks \u001b[39mor\u001b[39;00m _global_backward_hooks\n\u001b[0;32m   1193\u001b[0m         \u001b[39mor\u001b[39;00m _global_forward_hooks \u001b[39mor\u001b[39;00m _global_forward_pre_hooks):\n\u001b[1;32m-> 1194\u001b[0m     \u001b[39mreturn\u001b[39;00m forward_call(\u001b[39m*\u001b[39m\u001b[39minput\u001b[39m, \u001b[39m*\u001b[39m\u001b[39m*\u001b[39mkwargs)\n\u001b[0;32m   1195\u001b[0m \u001b[39m# Do not call functions when jit is used\u001b[39;00m\n\u001b[0;32m   1196\u001b[0m full_backward_hooks, non_full_backward_hooks \u001b[39m=\u001b[39m [], []\n",
      "File \u001b[1;32mc:\\Users\\huuta\\anaconda3\\envs\\nlp-env\\lib\\site-packages\\transformers\\models\\bart\\modeling_bart.py:846\u001b[0m, in \u001b[0;36mBartEncoder.forward\u001b[1;34m(self, input_ids, attention_mask, head_mask, inputs_embeds, output_attentions, output_hidden_states, return_dict)\u001b[0m\n\u001b[0;32m    839\u001b[0m         layer_outputs \u001b[39m=\u001b[39m torch\u001b[39m.\u001b[39mutils\u001b[39m.\u001b[39mcheckpoint\u001b[39m.\u001b[39mcheckpoint(\n\u001b[0;32m    840\u001b[0m             create_custom_forward(encoder_layer),\n\u001b[0;32m    841\u001b[0m             hidden_states,\n\u001b[0;32m    842\u001b[0m             attention_mask,\n\u001b[0;32m    843\u001b[0m             (head_mask[idx] \u001b[39mif\u001b[39;00m head_mask \u001b[39mis\u001b[39;00m \u001b[39mnot\u001b[39;00m \u001b[39mNone\u001b[39;00m \u001b[39melse\u001b[39;00m \u001b[39mNone\u001b[39;00m),\n\u001b[0;32m    844\u001b[0m         )\n\u001b[0;32m    845\u001b[0m     \u001b[39melse\u001b[39;00m:\n\u001b[1;32m--> 846\u001b[0m         layer_outputs \u001b[39m=\u001b[39m encoder_layer(\n\u001b[0;32m    847\u001b[0m             hidden_states,\n\u001b[0;32m    848\u001b[0m             attention_mask,\n\u001b[0;32m    849\u001b[0m             layer_head_mask\u001b[39m=\u001b[39;49m(head_mask[idx] \u001b[39mif\u001b[39;49;00m head_mask \u001b[39mis\u001b[39;49;00m \u001b[39mnot\u001b[39;49;00m \u001b[39mNone\u001b[39;49;00m \u001b[39melse\u001b[39;49;00m \u001b[39mNone\u001b[39;49;00m),\n\u001b[0;32m    850\u001b[0m             output_attentions\u001b[39m=\u001b[39;49moutput_attentions,\n\u001b[0;32m    851\u001b[0m         )\n\u001b[0;32m    853\u001b[0m     hidden_states \u001b[39m=\u001b[39m layer_outputs[\u001b[39m0\u001b[39m]\n\u001b[0;32m    855\u001b[0m \u001b[39mif\u001b[39;00m output_attentions:\n",
      "File \u001b[1;32mc:\\Users\\huuta\\anaconda3\\envs\\nlp-env\\lib\\site-packages\\torch\\nn\\modules\\module.py:1194\u001b[0m, in \u001b[0;36mModule._call_impl\u001b[1;34m(self, *input, **kwargs)\u001b[0m\n\u001b[0;32m   1190\u001b[0m \u001b[39m# If we don't have any hooks, we want to skip the rest of the logic in\u001b[39;00m\n\u001b[0;32m   1191\u001b[0m \u001b[39m# this function, and just call forward.\u001b[39;00m\n\u001b[0;32m   1192\u001b[0m \u001b[39mif\u001b[39;00m \u001b[39mnot\u001b[39;00m (\u001b[39mself\u001b[39m\u001b[39m.\u001b[39m_backward_hooks \u001b[39mor\u001b[39;00m \u001b[39mself\u001b[39m\u001b[39m.\u001b[39m_forward_hooks \u001b[39mor\u001b[39;00m \u001b[39mself\u001b[39m\u001b[39m.\u001b[39m_forward_pre_hooks \u001b[39mor\u001b[39;00m _global_backward_hooks\n\u001b[0;32m   1193\u001b[0m         \u001b[39mor\u001b[39;00m _global_forward_hooks \u001b[39mor\u001b[39;00m _global_forward_pre_hooks):\n\u001b[1;32m-> 1194\u001b[0m     \u001b[39mreturn\u001b[39;00m forward_call(\u001b[39m*\u001b[39m\u001b[39minput\u001b[39m, \u001b[39m*\u001b[39m\u001b[39m*\u001b[39mkwargs)\n\u001b[0;32m   1195\u001b[0m \u001b[39m# Do not call functions when jit is used\u001b[39;00m\n\u001b[0;32m   1196\u001b[0m full_backward_hooks, non_full_backward_hooks \u001b[39m=\u001b[39m [], []\n",
      "File \u001b[1;32mc:\\Users\\huuta\\anaconda3\\envs\\nlp-env\\lib\\site-packages\\transformers\\models\\bart\\modeling_bart.py:323\u001b[0m, in \u001b[0;36mBartEncoderLayer.forward\u001b[1;34m(self, hidden_states, attention_mask, layer_head_mask, output_attentions)\u001b[0m\n\u001b[0;32m    311\u001b[0m \u001b[39m\u001b[39m\u001b[39m\"\"\"\u001b[39;00m\n\u001b[0;32m    312\u001b[0m \u001b[39mArgs:\u001b[39;00m\n\u001b[0;32m    313\u001b[0m \u001b[39m    hidden_states (`torch.FloatTensor`): input to the layer of shape `(seq_len, batch, embed_dim)`\u001b[39;00m\n\u001b[1;32m   (...)\u001b[0m\n\u001b[0;32m    320\u001b[0m \u001b[39m        returned tensors for more detail.\u001b[39;00m\n\u001b[0;32m    321\u001b[0m \u001b[39m\"\"\"\u001b[39;00m\n\u001b[0;32m    322\u001b[0m residual \u001b[39m=\u001b[39m hidden_states\n\u001b[1;32m--> 323\u001b[0m hidden_states, attn_weights, _ \u001b[39m=\u001b[39m \u001b[39mself\u001b[39;49m\u001b[39m.\u001b[39;49mself_attn(\n\u001b[0;32m    324\u001b[0m     hidden_states\u001b[39m=\u001b[39;49mhidden_states,\n\u001b[0;32m    325\u001b[0m     attention_mask\u001b[39m=\u001b[39;49mattention_mask,\n\u001b[0;32m    326\u001b[0m     layer_head_mask\u001b[39m=\u001b[39;49mlayer_head_mask,\n\u001b[0;32m    327\u001b[0m     output_attentions\u001b[39m=\u001b[39;49moutput_attentions,\n\u001b[0;32m    328\u001b[0m )\n\u001b[0;32m    329\u001b[0m hidden_states \u001b[39m=\u001b[39m nn\u001b[39m.\u001b[39mfunctional\u001b[39m.\u001b[39mdropout(hidden_states, p\u001b[39m=\u001b[39m\u001b[39mself\u001b[39m\u001b[39m.\u001b[39mdropout, training\u001b[39m=\u001b[39m\u001b[39mself\u001b[39m\u001b[39m.\u001b[39mtraining)\n\u001b[0;32m    330\u001b[0m hidden_states \u001b[39m=\u001b[39m residual \u001b[39m+\u001b[39m hidden_states\n",
      "File \u001b[1;32mc:\\Users\\huuta\\anaconda3\\envs\\nlp-env\\lib\\site-packages\\torch\\nn\\modules\\module.py:1194\u001b[0m, in \u001b[0;36mModule._call_impl\u001b[1;34m(self, *input, **kwargs)\u001b[0m\n\u001b[0;32m   1190\u001b[0m \u001b[39m# If we don't have any hooks, we want to skip the rest of the logic in\u001b[39;00m\n\u001b[0;32m   1191\u001b[0m \u001b[39m# this function, and just call forward.\u001b[39;00m\n\u001b[0;32m   1192\u001b[0m \u001b[39mif\u001b[39;00m \u001b[39mnot\u001b[39;00m (\u001b[39mself\u001b[39m\u001b[39m.\u001b[39m_backward_hooks \u001b[39mor\u001b[39;00m \u001b[39mself\u001b[39m\u001b[39m.\u001b[39m_forward_hooks \u001b[39mor\u001b[39;00m \u001b[39mself\u001b[39m\u001b[39m.\u001b[39m_forward_pre_hooks \u001b[39mor\u001b[39;00m _global_backward_hooks\n\u001b[0;32m   1193\u001b[0m         \u001b[39mor\u001b[39;00m _global_forward_hooks \u001b[39mor\u001b[39;00m _global_forward_pre_hooks):\n\u001b[1;32m-> 1194\u001b[0m     \u001b[39mreturn\u001b[39;00m forward_call(\u001b[39m*\u001b[39m\u001b[39minput\u001b[39m, \u001b[39m*\u001b[39m\u001b[39m*\u001b[39mkwargs)\n\u001b[0;32m   1195\u001b[0m \u001b[39m# Do not call functions when jit is used\u001b[39;00m\n\u001b[0;32m   1196\u001b[0m full_backward_hooks, non_full_backward_hooks \u001b[39m=\u001b[39m [], []\n",
      "File \u001b[1;32mc:\\Users\\huuta\\anaconda3\\envs\\nlp-env\\lib\\site-packages\\transformers\\models\\bart\\modeling_bart.py:241\u001b[0m, in \u001b[0;36mBartAttention.forward\u001b[1;34m(self, hidden_states, key_value_states, past_key_value, attention_mask, layer_head_mask, output_attentions)\u001b[0m\n\u001b[0;32m    237\u001b[0m     \u001b[39mif\u001b[39;00m attention_mask\u001b[39m.\u001b[39msize() \u001b[39m!=\u001b[39m (bsz, \u001b[39m1\u001b[39m, tgt_len, src_len):\n\u001b[0;32m    238\u001b[0m         \u001b[39mraise\u001b[39;00m \u001b[39mValueError\u001b[39;00m(\n\u001b[0;32m    239\u001b[0m             \u001b[39mf\u001b[39m\u001b[39m\"\u001b[39m\u001b[39mAttention mask should be of size \u001b[39m\u001b[39m{\u001b[39;00m(bsz,\u001b[39m \u001b[39m\u001b[39m1\u001b[39m,\u001b[39m \u001b[39mtgt_len,\u001b[39m \u001b[39msrc_len)\u001b[39m}\u001b[39;00m\u001b[39m, but is \u001b[39m\u001b[39m{\u001b[39;00mattention_mask\u001b[39m.\u001b[39msize()\u001b[39m}\u001b[39;00m\u001b[39m\"\u001b[39m\n\u001b[0;32m    240\u001b[0m         )\n\u001b[1;32m--> 241\u001b[0m     attn_weights \u001b[39m=\u001b[39m attn_weights\u001b[39m.\u001b[39;49mview(bsz, \u001b[39mself\u001b[39;49m\u001b[39m.\u001b[39;49mnum_heads, tgt_len, src_len) \u001b[39m+\u001b[39;49m attention_mask\n\u001b[0;32m    242\u001b[0m     attn_weights \u001b[39m=\u001b[39m attn_weights\u001b[39m.\u001b[39mview(bsz \u001b[39m*\u001b[39m \u001b[39mself\u001b[39m\u001b[39m.\u001b[39mnum_heads, tgt_len, src_len)\n\u001b[0;32m    244\u001b[0m attn_weights \u001b[39m=\u001b[39m nn\u001b[39m.\u001b[39mfunctional\u001b[39m.\u001b[39msoftmax(attn_weights, dim\u001b[39m=\u001b[39m\u001b[39m-\u001b[39m\u001b[39m1\u001b[39m)\n",
      "\u001b[1;31mRuntimeError\u001b[0m: CUDA error: device-side assert triggered\nCUDA kernel errors might be asynchronously reported at some other API call,so the stacktrace below might be incorrect.\nFor debugging consider passing CUDA_LAUNCH_BLOCKING=1."
     ]
    }
   ],
   "source": [
    "realSummarizer(list(ecb[\"text_preprocessed\"].iloc[4:7]))"
   ]
  },
  {
   "cell_type": "code",
   "execution_count": 119,
   "metadata": {},
   "outputs": [
    {
     "data": {
      "text/plain": [
       "410"
      ]
     },
     "execution_count": 119,
     "metadata": {},
     "output_type": "execute_result"
    }
   ],
   "source": [
    "len(ecb[\"text_preprocessed\"].iloc[2].split())"
   ]
  },
  {
   "cell_type": "code",
   "execution_count": 16,
   "metadata": {},
   "outputs": [
    {
     "data": {
      "text/plain": [
       "count       3.000000\n",
       "mean     2072.333333\n",
       "std      1122.806454\n",
       "min       883.000000\n",
       "25%      1551.500000\n",
       "50%      2220.000000\n",
       "75%      2667.000000\n",
       "max      3114.000000\n",
       "Name: text_preprocessed, dtype: float64"
      ]
     },
     "execution_count": 16,
     "metadata": {},
     "output_type": "execute_result"
    }
   ],
   "source": [
    "ecb[\"text_preprocessed\"].iloc[:3].apply(lambda x: len(x.split())).describe()"
   ]
  },
  {
   "cell_type": "code",
   "execution_count": 137,
   "metadata": {},
   "outputs": [
    {
     "data": {
      "text/plain": [
       "\"The ECB is working as a catalyst for market integration. Central counterparties (CCPs) are systemically relevant. They have been in the focus of regulators and central banks since the financial crisis. The Eurosystem is responsible for operating TARGET2, the real-time gross settlement system for the euro, and T Target2-Securities, a service for the integrated settlement in central bank money of securities transactions. The smooth operation of these services is crucial for maintaining confidence in the euro and to support monetary policy operations. The ECB will keep a watchful eye on technical innovations and assess their possible impact on financial markets. The first condition is that innovations are proven to be safe before they find their way into the market. Second, it is equally important to ensure that innovations increase efficiency instead of a hurdle to increase efficiency and efficiency. ECB stands ready to work together with all interested parties in its catalyst towards the move towards interoperability of services developed by the Eurosystem. The European Central Bank is ready to explore all options within its mandate to ensure it can continue to fulfil its responsibilities under the Treaty, i.e. promoting the smooth operation. of payment systems and ensuring the effective transmission of monetary policy, for which the stability of the centrally-cleared repo segment of euro money markets is crucial. It also considers how best to respond and take advantage of technical innovation and meet new user needs, while staying ahead of evolving risks such as cyber risk. The EU law provides for a college of supervisors, involving all authorities that have a relevant interest in the prudent risk management of CCPs. The colleges act as forums for information-sharing, ensuring a high level of transparency in the way CCPs operate. ECB considers how to improve the efficiency and lower costs of its market infrastructure. It considers if technical innovation can create opportunities to improve financial services, but it also needs to be careful about the risks associated with its use.  in order to avoid any negative consequences of technological innovations in financial markets, as it is essential for them to be proven safe and proven safe in order for their use to be used in the financial system. It is also necessary to assess if they can be used to enhance the provisions of financial services without harming safety, and if they bring added value to the services offered along the value chain. It's also important to keep an eye on the development of the regulatory, supervisory and oversight framework for financial market infrastructures, which has been enhanced and strengthened since 2008, and it should be ensured when necessary. \""
      ]
     },
     "execution_count": 137,
     "metadata": {},
     "output_type": "execute_result"
    }
   ],
   "source": [
    "ecb[\"text_preprocessed\"].iloc[0]"
   ]
  },
  {
   "attachments": {},
   "cell_type": "markdown",
   "metadata": {},
   "source": [
    "Testing summarization function"
   ]
  },
  {
   "cell_type": "code",
   "execution_count": 20,
   "metadata": {},
   "outputs": [
    {
     "name": "stdout",
     "output_type": "stream",
     "text": [
      "Thomas A. Anderson is a man living two lives. By day he is an average computer programmer and by night a hacker known as Neo. Neo has always questioned his reality, but the truth is far beyond his imagination. Neo finds himself targeted by the police when he is contacted by Morpheus, a legendary computer hacker branded a terrorist by the government. Morpheus awakens Neo to the real world, a ravaged wasteland where most of humanity have been captured by a race of machines that live off of the humans' body heat and electrochemical energy and who imprison their minds within an artificial reality known as the Matrix. As a rebel against the machines, Neo must return to the Matrix and confront the agents: super-powerful computer programs devoted to snuffing out Neo and the entire human rebellion. \n"
     ]
    }
   ],
   "source": [
    "text = (\n",
    "    \"Thomas A. Anderson is a man living two lives. By day he is an \"\n",
    "    \"average computer programmer and by night a hacker known as \"\n",
    "    \"Neo. Neo has always questioned his reality, but the truth is \"\n",
    "    \"far beyond his imagination. Neo finds himself targeted by the \"\n",
    "    \"police when he is contacted by Morpheus, a legendary computer \"\n",
    "    \"hacker branded a terrorist by the government. Morpheus awakens \"\n",
    "    \"Neo to the real world, a ravaged wasteland where most of \"\n",
    "    \"humanity have been captured by a race of machines that live \"\n",
    "    \"off of the humans' body heat and electrochemical energy and \"\n",
    "    \"who imprison their minds within an artificial reality known as \"\n",
    "    \"the Matrix. As a rebel against the machines, Neo must return to \"\n",
    "    \"the Matrix and confront the agents: super-powerful computer \"\n",
    "    \"programs devoted to snuffing out Neo and the entire human \"\n",
    "    \"rebellion. \"\n",
    ")\n",
    "print(text)"
   ]
  },
  {
   "cell_type": "code",
   "execution_count": 13,
   "metadata": {},
   "outputs": [
    {
     "data": {
      "text/plain": [
       "'Sustainable economic growth in the real economy depends on the soundness of financial services and their providers;  This simple truth has been amply evidenced by the collapse of credit during the financial crisis and the subsequent recession. One important type of financial intermediary are central counterparties (CCPs);  Second, the financial ecosystem is – like the rest of the world - experiencing rapid change due to technical innovation;  I would like to give a clear signal that innovation should be embraced as the improvement of financial services can boost the real economy; but I also would like to give a warning that a certain level of caution is needed when technological innovations are applied to financial markets in order to avoid any negative consequences.   (i) Central counterparties   CCPs are systemically relevant. They have been in the focus of regulators and central banks since the financial crisis.  The growth in central clearing makes CCPs nodes for risk in the system. This is why we have carried out considerable work at international level to promote that they operate in a safe and resilient manner.   In 2012 global standard setting bodies (CPMI-IOSCO) adopted key risk mitigation requirements – the Principles for Financial Market Infrastructures – which raised the bar worldwide for CCP supervision. A global CCP work plan has recently been launched to further strengthen the resilience, recovery planning and resolution of CCPs, which will lead to further guidance being released in the near future.   Under EU law, each CCP is overseen by a college of supervisors, involving all authorities that have a relevant interest in its prudent risk management. The colleges act as forums for information-sharing, ensuring a high level of transparency in the way CCPs operate, which can prove especially valuable in the event of a crisis.   Brexit creates uncertainty, and raises doubts as to the future of this framework   The prospect of the UK’s exit from the EU creates uncertainty regarding the future of the supervision of non-euro area CCPs that clear significant amounts of euro currency.  We do not know what the future relationship between the EU and the UK will be, and I do not wish to speculate on this matter.  We cannot be complacent with regard to the regulatory, supervisory and oversight framework for financial market infrastructures. While it has been considerably enhanced and strengthened since 2008, its continued development should be ensured when necessary.  We are ready to explore all options within our mandate to ensure we can continue to fulfil our responsibilities under the Treaty, i.e. promoting the smooth operation of payment systems and ensuring the effective transmission of monetary policy, for which the stability of the centrally-cleared repo segment of euro money markets is crucial.   (ii) Technical innovation   Let me now turn to the second point. How the financial ecosystem is experiencing rapid change due to technical innovation.   The Eurosystem is responsible for operating two of the systems that form the backbone of financial markets in Europe, namely TARGET2, the real-time gross settlement system for the euro, and TARGET2-Securities (T2S), a service for the integrated settlement in central bank money of securities transactions. The smooth operation of these services is crucial for maintaining confidence in the euro and to support monetary policy operations. Furthermore, it plays a central role in ensuring the stability of the European financial system and in boosting economic activity.  The Eurosystem market infrastructure is designed to meet the highest levels of safety and efficiency. Efficiency covers multiple dimensions: of course it means low costs for institutions that use the infrastructure, but it also implies the opportunity for them to benefit from a range of functionalities that bring added value to the services offered along the value chain.  The Eurosystem is continuously looking for ways to improve the efficiency and lower the costs of its market infrastructure. It also considers how best to respond and take advantage of technical innovation and meet new user needs, while staying ahead of evolving risks such as cyber risk. In this regard there is also a need to assess if technical innovation can create opportunities to improve financial services.  Nevertheless, a certain level of caution is needed when technological innovations are applied to financial markets. For innovations to be used in the financial system an essential requirement is that they are proven safe in order to avoid any negative consequences. Consequently, if and when innovations are proven to enhance the provisions of financial services without harming safety, they should be explored.    ECB working as a catalyst for market integration   As a public authority the ECB will keep a watchful eye on technical innovations and assess their possible impact on financial markets. We do this work together with standard setting bodies.  The first condition is that innovations are proven to be safe before they find their way into the market.  Second, it is equally important to ensure that innovations are adopted to increase efficiency instead of becoming a hurdle to financial integration and efficiency. In its catalyst function, the ECB uses its position as “honest broker” to facilitate the harmonisation of standards among market participants and the interaction of the industry with other public authorities.  The ECB stands ready to work together with all interested parties in its catalyst capacity to move towards interoperability of any developed services.   Thank you.'"
      ]
     },
     "execution_count": 13,
     "metadata": {},
     "output_type": "execute_result"
    }
   ],
   "source": [
    "ecb[\"text_preprocessed\"].iloc[0]"
   ]
  },
  {
   "cell_type": "code",
   "execution_count": 71,
   "metadata": {},
   "outputs": [
    {
     "data": {
      "text/plain": [
       "\"By day he is an average computer programmer and by night a hacker known as Neo. Neo has always questioned his reality, but the truth is far beyond his imagination.\\nMorpheus awakens Neo to the real world, a ravaged wasteland where most of humanity have been captured by a race of machines that live off of the humans' body heat and electrochemical energy and who imprison their minds within an artificial reality known as the Matrix.\\nAs a rebel against the machines, Neo must return to the Matrix and confront the agents: super-powerful computer programs devoted to snuffing out Neo and the entire human rebellion.\""
      ]
     },
     "execution_count": 71,
     "metadata": {},
     "output_type": "execute_result"
    }
   ],
   "source": [
    "summarize(text, 0.5)"
   ]
  },
  {
   "cell_type": "code",
   "execution_count": 19,
   "metadata": {},
   "outputs": [
    {
     "data": {
      "text/plain": [
       "337"
      ]
     },
     "execution_count": 19,
     "metadata": {},
     "output_type": "execute_result"
    }
   ],
   "source": [
    "np.argmax(ecb[\"text_preprocessed\"].apply(lambda x: len(x.split())))"
   ]
  },
  {
   "cell_type": "code",
   "execution_count": 65,
   "metadata": {},
   "outputs": [
    {
     "data": {
      "text/plain": [
       "80"
      ]
     },
     "execution_count": 65,
     "metadata": {},
     "output_type": "execute_result"
    }
   ],
   "source": [
    "np.argmin(ecb[\"text_preprocessed\"].apply(lambda x: len(x.split())))"
   ]
  },
  {
   "cell_type": "code",
   "execution_count": 67,
   "metadata": {},
   "outputs": [
    {
     "name": "stdout",
     "output_type": "stream",
     "text": [
      "Slides from the presentation\n"
     ]
    }
   ],
   "source": [
    "print(ecb[\"text_preprocessed\"].iloc[80])"
   ]
  },
  {
   "cell_type": "code",
   "execution_count": 66,
   "metadata": {},
   "outputs": [
    {
     "name": "stdout",
     "output_type": "stream",
     "text": [
      "5673\n",
      "28\n",
      "78174\n"
     ]
    }
   ],
   "source": [
    "print(len(ecb[\"text_preprocessed\"].iloc[0]))\n",
    "print(len(ecb[\"text_preprocessed\"].iloc[80]))\n",
    "print(len(ecb[\"text_preprocessed\"].iloc[337]))"
   ]
  },
  {
   "cell_type": "code",
   "execution_count": 52,
   "metadata": {},
   "outputs": [
    {
     "name": "stdout",
     "output_type": "stream",
     "text": [
      "883\n",
      "13232\n",
      "0.9060022650056625\n",
      "803\n"
     ]
    }
   ],
   "source": [
    "print(len(ecb[\"text_preprocessed\"].iloc[0].split()))\n",
    "print(len(ecb[\"text_preprocessed\"].iloc[337].split()))\n",
    "ratioo = (800)/(len(ecb[\"text_preprocessed\"].iloc[0].split()))\n",
    "print(ratioo)\n",
    "print(len( summarize(ecb[\"text_preprocessed\"].iloc[0], ratio=ratioo).split() ))"
   ]
  },
  {
   "cell_type": "code",
   "execution_count": 57,
   "metadata": {},
   "outputs": [
    {
     "data": {
      "text/plain": [
       "'Jump to the transcript of the questions and answers Mr Chairman, Honourable Members of the ECON committee, Ladies and Gentlemen, I am happy to be back to this committee for my first regular hearing at the European Parliament in the year 2015. A lot has happened since we last met in November last year. With Lithuania, the euro welcomed its 19th member. On 22 January we announced our intention to extend our asset purchase programmes to buying public sector securities; we started the purchases on March 9. We also moved to a new building which we officially inaugurated last week; we unveiled our new 20 euro banknote; and in a milestone towards even greater transparency of our decision-making procedures, we published on 19 February for the first time the accounts of a monetary policy meeting of the Governing Council of the ECB. I know this has always been a topic very dear to your committee. In the remainder of my remarks, I will explain some important aspects of the extended asset purchase programme and present a first assessment of its effects. I will then, as the coordinators have asked me to do, elaborate on the link between price stability and financial stability and will speak briefly about the macroprudential tools the ECB has now at its disposal. Economic outlook and monetary policy The most recent data and survey evidence show that growth is gaining momentum. The basis for the economic recovery in the euro area has clearly strengthened. This is due to in particular the fall in oil prices, the gradual firming of external demand, easy financing conditions driven by our accomodative monetary policy, and the depreciation of the euro. These more positive developments are also reflected in the recent ECB staff projections. Compared with the projections from December, the outlook for 2015 and 2016 has been visibly revised upwards by 0.5 and 0.4 pp., respectively. We expect inflation in the euro area to remain very low or negative in the months ahead, because the recent fall in oil prices will continue to influence the figures until later in the year. However, inflation rates are expected to start increasing gradually towards the end of the year. They will be supported by aggregate demand, by the impact of the lower euro exchange rate and by the recovery of oil prices from their current troughs in the years ahead. The latest ECB staff projections foresee average inflation at 0.0% in 2015, rising to 1.5% in 2016 and 1.8% in 2017. A key factor for a full recovery of the euro area economy and ensuring that inflation does not remain too low for too long will be the extra stimulus that the Governing Council decided to introduce in January under the ECB’s expanded asset purchase program. This decision was premised on two considerations. First, the momentum supporting the economic recovery was viewed as too weak and fragile to give us sufficient confidence that inflation would return to levels closer to 2% over a policy relevant medium-term horizon. Second, the expansive potential of the monetary policy measures that had been decided between June and October was seen as uncertain. This was because they were largely dependent on banks’ own decision to borrow Eurosystem funds and lend them on to their customers. The cumulative uptake under the first two targeted long-term refinancing operations stood at around €212.4 billion. Therefore, the monetary impulse had to be reinforced and needed to be quantitatively more predictable and controllable to put the economy and the outlook for price stability on a firmer footing. On 9 March, we started purchasing public-sector securities as part of our expanded asset purchase programme, which also comprises interventions in the ABS and covered bond markets. Overall, our asset purchases will amount to €60 billion per month. The pace of purchases so far puts the overall program on track to reach a total of €60 billion in March. At this point in time we see no signs that there will not be enough bonds for us to purchase. Feedback from market participants so far suggests that implementation has been very smooth and that market liquidity remains ample. Our interventions have accelerated a trend that had been evident since some time. A steady process of re-integration across financial markets and jurisdictions had been under way since the summer of 2012. What is new today, however, is that lower interest rates in capital markets are increasingly being transmitted through the entire financial intermediation chain. Lower funding costs for banks have started to influence the cost of borrowing for households and companies. As bank lending rates are being reduced, new investment projects – previously considered unprofitable – become attractive. In the short-run, this should sustain the demand for credit and investment. Indeed, the banks covered in our Bank Lending Survey confirm that the easing of lending conditions is progressing hand-in-hand with a resurgent demand for credit to finance business investment. In the longer-term perspective, this will increase potential output. We intend to carry out our purchases at least until end-September 2016, and in any case until we see a sustained adjustment in the path of inflation which is consistent with our aim of achieving inflation rates below, but close to, 2% over the medium term. The Governing Council will take a holistic perspective when assessing the path of inflation. It will evaluate the likelihood for inflation not only to converge to levels that are closer to 2%, but also to stabilize around those levels with sufficient confidence thereafter. When doing this assessment, the Governing Council will follow its monetary policy strategy and concentrate on inflation trends, looking through any surprise in measured inflation (in either direction) if judged to be transient and with no implications for the medium term outlook for price stability. The positive results of our new purchase programme should not distract other stakeholders from delivering their contribution to put the economy back on track. Fiscal policies should support economic growth, while ensuring debt sustainability. A full and consistent implementation of the Stability and Growth Pact is key for confidence in our fiscal framework. Moreover, structural reforms should be implemented promptly and with determination. The combination of improved economic structures and sound fiscal policies indeed has the potential to make our monetary policy more effective by encouraging economic actors to take advantage of improved financing conditions and increase investment. Price stability and financial stability Let me now turn, as suggested by the ECON coordinators, to the interaction between price stability and financial stability. Price stability is, as you know, the primary objective of the ECB and the Eurosystem. And achieving price stability is a necessary condition for financial stability. Clearly, unstable inflation developments can distort a wide variety of macroeconomic and financial fluctuations, to the extent that these distortions become harmful for the economy. For example, unstable inflation developments could complicate pricing of assets and blur the signals from relative asset price adjustments with detrimental effects on resource allocation. However, price stability is not a sufficient condition of financial stability. The last crisis proved that financial stability can be at risk even at times when price stability is achieved. And monetary policy decisions also affect expectations and a wide range of asset prices. Our monetary policy measures are necessary to achieve our primary objective of maintaining price stability. But we are nevertheless aware that they may have unintended side effects on the financial system. For example, asset prices may increase to levels that are not justified by fundamentals, while periods of low yields and volatility may invite excessive risk taking by financial investors. In turn, such developments can act as an amplifying mechanism for any eventual financial instability. At the same time, financial stability is a precondition for the efficient conduct of monetary policy. To be successful in delivering price stability, monetary policy relies on the effectiveness of the monetary transmission mechanism. In this context, a stable and non-fragmented financial system is important for the smooth transmission of monetary policy signals. We are monitoring closely any potential risks to euro area financial stability, including those from excessive risk taking. Currently these risks are contained. And should they emerge, macro-prudential policy would be best suited to address them. Recently, indeed some national authorities in the euro area have decided to implement such measures that go in the direction of preventing financial stability risks from emerging at national level. Regarding macro-prudential oversight of banks in the euro area, this is shared between national authorities and the ECB. The ECB may top-up specific national macro-prudential measures if it considers these insufficient to mitigate systemic risks. The ECB and the national authorities have at their disposal macro-prudential instruments for the banking sector, as provided in the Capital Requirements Directive and Regulation (CRD IV/CRR). These include capital buffers, such as the countercyclical capital buffer, systemic risk buffer and capital surcharges for systemic institutions. Additional measures may also be used to improve banks capital and liquidity position, limit their large exposures or increase capital requirements for certain asset classes, such as interbank and real estate exposures. To make the most effective use of these instruments and strengthen the stability of the financial system, the ECB and national authorities regularly exchange information on macro-prudential policies. Processes for formal notifications to the ECB by national authorities regarding intended measures have already been activated. Overall, the ECB will help to identify potential financial stability risks and foster a coordinated stance for macro-prudential policies among euro area Member States. Conclusion Let me conclude by saying that I have always very much valued the exchange with your house both as an exercise of our accountability obligations and as a source of inspiration. I am therefore very much looking forward to our debate and hope that we will now have time to discuss some of the matters for which time was too short at the plenary debate. Thank you for your attention. * * * Questions and answers Gualtieri: Thank you, President Draghi for your intervention, and also for having addressed the point we asked on price stability and financial stability, indeed underlining the importance of the role of macro-prudential instruments in this regard. Now we can start with the question and answer slot and the first speaker is EPP Co-ordinator Mr Burkhard Balz. Balz: Thank you very much, President Draghi. Thank you for coming to the Committee this afternoon. My first question, as you might imagine, is going to be about Greece. The Commission is assuming that the financial situation of the country as of 8th April in a few days’ time will be critical. The initial timetable was that the Greek government, by the end of April, would have a catalogue of measures in order to avoid insolvency and now in a few days’ time Greece will be presenting its reform plan. I would like to hear from you how you evaluate the current situation. What can we expect from Greece in terms of the urgency it being borne in mind that other parliaments only gave their agreement because there was the prospect of a reform plan? Then what do you see as the role of the ECB as one of the so-called institutions against the backdrop that the Greek government is asking for more liquidity to be made available to Greek banks? Given the time pressure, will it be possible to get a [inaudible] between creditors and the Greek authorities? And then thirdly, very briefly, could I just say what about the low levels of inflation and combating that in the Eurozone. As you said, the ECB has embarked on a security purchasing programme. Is it sticking by its policy of low inflation rates given that so many things have been reduced to the point where borrowers may be unsettled by that? Are we going to see us going back to the previous policy pursued by the ECB? Thank you. Draghi: Thank you. On Greece, I think what is needed is to put in place a process, first and foremost, a process that restores the policy dialogue between the Greek government and the three institutions, so that it could yield what we call a credible perspective for a successful conclusion of the review under the existing arrangements which means there is a programme, some of these measures of this programme are agreed, others are not agreed. Which measures are going to be agreed has to be specified. Which measures are not to be agreed and how they are going to be replaced also has to be specified and so that’s how the policy dialogue begins again. My understanding is that there are discussions to this extent taking place at this very moment and I am confident that these discussions, with goodwill on all sides, will produce the outcome of restoring this credible perspective for a successful conclusion of the review process. The role of the ECB is like the other institutions. The ECB actually acts in liaison with the Commission according to the mandate that was given to the ECB in the two-pack and ESM legislation. The ECB acts in liaison with the Commission. Your other question is about the inflation rate and price stability. We believe that the recovery in inflation in our projections, - as I mentioned, it is going to be zero this year, 1.5% next year, 1.7% the year thereafter - is conditional on the full implementation of our expanded asset purchase programme. As inflation is predicated to go back to the level close but below 2%, and as recovery will firm up, so will interest rates naturally follow. We are certainly aware of the situation that savers in the euro area have to bear with because of the low interest rates and we are certainly, as I have just said in the introductory statement, we certainly are aware of the potential financial stability risks that a protracted situation of low interest rates might entail. On the other hand, we have a mandate and the mandate of the ECB and the credibility of the ECB is predicated exactly on reaching this objective. So, I am pretty confident that as it has happened on other occasions with the policies of the ECB, after a stage of criticisms there will be a stage of I wouldn’t call it praise because that would be too much, but at least I would say willingful acceptance. Thank you. Hopefully, yes. Gualtieri: Thank you. Next speaker for the S&D Group Jakob von Weizsacker. Von Weizsacker: Yes, Thank you, Chair, President Draghi. I should like to follow up on Greece. Last week you received perhaps more public attention than central bankers in general and even you are used to immediately in Frankfurt itself and to some extent this is a reflection of the fact that in difficult times central bank decisions can be to an unusual extent of a political nature. And that may be particularly true in areas where your mandate isn’t so clear as it is when it comes to inflation. I mean there your mandate is very clear and I find your policy very convincing. I want to ask you about emergency liquidity assistance and the difficult decision in the current environment: is the Greek banking sector experiencing liquidity troubles, or is it really a problem of solvency of that sector? And, of course, the implications, while it is a technical question, the implications are hugely political. And similarly, the question to what extent one would allow the Greek banking sector to maintain, or even increase its exposure to their sovereign, the Greek government, again is a technical but highly political question. So, I would have two questions for you. The first is how are you going to, in this environment where you have a lot of discretion but very difficult decisions to make, how are you going to navigate the technical as well as the political problems, first? And secondly, the question of what can member states do to perhaps complement your actions on QE? You very clearly made the point that member states should take fiscal action, growth-enhancing reforms. What are the complementary actions for member states? These would be my two questions. Draghi: Thank you. On the first question: The ECB, as one of the three institutions, has been acting according to the mandate as specified in current legislation, namely, the two-pack and the ESM legislation. I was saying before, the ECB acts in liaison, so it doesn’t have a prominent part in the negotiations in the sense that the Commission is being asked to consult the ECB on several issues. At the same time, as you rightly observe, the ECB is on the other side when funding comes into question. But, again, the thing that I want to stress is that the ECB is a rule-based institution. We are not creating rules for Greece as well as with anybody else. We are simply observing existing rules. So, we lifted the waiver, for example. At that point, you know the Greek bonds are below a threshold of collateral so that we can’t accept normally according to the rule, we couldn’t accept Greek bonds as collateral. However, we had this waiver in place at the time when the conditions were such that a successful review of the current programme was likely, that a disbursement was to come very shortly thereafter and so it would have been a technical period where there would be no disbursements and, at the same time, we all knew that disbursements were to come. That’s why we had the waiver. And then later on in February of this year we had to lift the waiver because those conditions were not there. There was an interesting piece of I would say memory here that I would like to give to you and it’s the press release on August 5th, 2012 when the waiver was actually instated. [ European Commission - Greece: Statement by European Commission, ECB & IMF] “Staff teams from the European Commission, the ECB, and International Monetary Fund concluded today a visit to Greece to discuss with the new authorities the economic policies needed to restore growth and competitiveness, secure a sustainable fiscal position, and underpin confidence in the financial system in line with the objectives of the economic adjustment programme that is being supported by the three institutions. The discussions on the implementation of the programme were productive and there was overall agreement on the need to strengthen policy efforts to achieve its objectives. The Greek authorities are committed to proceeding with the termination in their work over the next month and the EC, ECB, IMF staff teams expect to return to Athens in early September to continue the discussions.” Such press statement would have been unthinkable in February and that’s why we had to lift the waiver. But, having said that, we are ready to reinstate the waiver as soon as the conditions for a successful conclusion of the review of the programme under existing arrangements are there. At the same time, the provision of ELA has to take account of the existing legislation that forbids monetary financing. So, ELA is supplied, but there are limitations to the extent that the banks can use this ELA for purchasing T-bills. In other words, ELA is meant to support the Greek banking system and, in order to do so and preserve the liquidity conditions of the Greek banks, they are forbidden from buying T-bills. So, that this additional liquidity is against the depositors. Now, your second question is about the structural reforms, is about which additional policies are needed to give full effectiveness to our monetary policy and there, as I said in the initial statement and I never would say made a mystery of, I think that our monetary policy can actually be fully complemented by the member states undertaking structural reforms and each member state has its own agenda. Here I beg to differ with those who say QE has reduced the incentive of member states to undertake structural reforms because it keeps the interest rate so low that member states will have no interest, or no incentive to do so. Rather the opposite. QE complemented by structural reforms would produce a dividend, an additional benefit for the countries that are able to do so. Lower interest rates make investment projects that were previously unattractive attractive and this is the key benefit, of course. Investment projects will produce into actual investments only if the environment is business friendly, is favourable to investment. That’s why the structural reforms become an important component of the final positive outcomes that our monetary policy will produce. Gualtieri: Thank you. Next speaker for the ECR Group our Vice Chair Sander Loones. Loones: Thank you very much, President. I’m going to be speaking in Dutch. After the more technical questions can I put a political question? On the 23rd of February Mr Dijsselbloem came to visit here in the ECON Committee and he said only Britain has discussed Greece leaving the Eurozone. In other words, no one else is preparing for Grexit. In the Manager Magazin, the German magazine, there was an interview with Fernando Gonzalez who is the chief analyst in the ECB and he says he is working on three models for Grexit. My question is not whether we’re going to see Grexit or not. My question is simply yes or no, is it right and proper for the ECB to be elaborating, to be developing those scenarios and, also, would the Eurozone survive a Grexit? Now, as well as Greece there was mention made of QE. Now, of course, with responsibility for monetary policy in the Eurozone your main job is maintaining price stability and you are independent. There is no arguments about that. On the other side, your actions must stay within the ambit of the Treaty. Now, if you look at QE and what it really is, then QE is being used to purchase government securities. Now, is this not explicitly prohibited by the Treaty? Now, a second question about QE. It is clear that taxpayers in one country are guaranteeing the debts in another country and that’s a form, if you like, of Eurobonds. My question is very simple. Is that monetary policy or is that a policy instrument which should be debated with the parliament and decided with the parliament? Thank you. Draghi: Thank you. On Greece, again, the ECB employs risk managers to manage risk so, they constantly analyse a range of scenarios. That’s a normal practice at the ECB. I will not comment on numbers that have come out in newspapers or magazines recently and I will actually say it again, that Greece and its international partners should now focus on setting the conditions for a successful conclusion of the review. That’s the most important part and the government of Greece should commit to fully honour its debt obligations to all its creditors and to premise all future policies on this commitment. The second question, you’re actually asking whether QE is a monetary policy instrument or not. We obviously are convinced it is a monetary policy instrument. We buy sovereign debt on the secondary market exactly as the Treaty and the provisions of Article 123 foresee. This issue has been, I would say, marginally dealt with also in the opinion of the lawyer - I think it’s called the General Lawyer - of the European Court of Justice and it was found compliant regarding OMT, - admittedly not QE - , and it is found compliant with Article 123. So, we continue basically to assess the purchases of sovereign debt on the secondary market as being a tool of monetary policy. Thank you. Gualtieri: Thank you. Indeed, the Treaty is very clear, that is primary market that is forbidden. Next speaker is Cora van Nieuwenhuizen. No, Sylvia Goulard. Goulard: Thank you, Chair. Thank you, President for being here this afternoon. My question is political in nature. I would like to begin by thanking you for what you do and the way you consider the medium and long-term in the throes of a crisis at a time when most governments are focusing on the short-term. You recently delivered a remarkable speech for the Süddeutsche Zeitung in Frankfurt. You stressed how important it would be to take a step forward to go beyond rules that are not always respected and move towards institutions that could ensure compliance with the decisions taken and be accountable. That brings a question to mind that may surprise you. Are you going to stick with the four Presidents exercise? That may lead to different ideas, or you will win them over and we would be quite happy if you could do so. In any case, the risk here is the independence of the ECB. If you were caught up in an exercise where the other institutions do not want to take things that far, we’re already mired in difficulties. We have had a four Presidents report which led to a very good summary from Mr Van Rompuy. The Heads of State and Government were quick to shelf that in 2012. Do you think the exercise might prove to be successful and if not, would it not be better for you to retain your freedom of expression which we very much appreciate? Draghi: Thank you. I think I love my freedom of expression too very much and so far I’m quite confident I will be able to retain it through time and through obstacles. But let me just say a couple of things. One is that the 2012 four Presidents report actually marked progress that was not only in words but also in substance because after all, with that report came the banking union, came the single resolution mechanism. It was a quantum progress, a quantum leap in 2012. I would say it was not only words. As far as the next President report, I have to simply say that we are working on it. We are with the other institutions. It would be premature for me to prejudge any conclusion. But the point of fact is that it is becoming clearer and clearer that we should retain, collectively I’m saying, we should retain the ability of thinking at two levels. One is the short-term and the second one is the long-term level. In the short-term we have to acknowledge that the political feasibility of some of our ideas is not there, or it’s very limited. But this shouldn’t be a reason for not being able to think in long-term, not being able to say things that you know are essential for making our monetary union a more perfect union. At the present time, our monetary union is imperfect. It doesn’t take much to acknowledge this. Coming from the crisis it’s fragile and it’s fragile because it’s incomplete and there is no question that to make it complete we need further steps on the economic union and on the fiscal union. Whether these steps are going to be tomorrow or sometime in the future, that’s where the political feasibility comes in. That’s my view at least. We shouldn’t give up our capacity to think in the long-term because of the constraint of short-term political feasibility. Thank you. Gualtieri: Thank you. I think a good lesson of the first four president exercise was that it marked progress in an area where community matters and co-decision applied, namely in the executive financial sector and banking union. Next speaker for the GUE Group, Marisa Matias. Matias: Thank you very much Chair. Thank you Mr Draghi for coming to address us today. As you’ve said, much has changed since the last time you visited us. That is certainly true. Now, you talked about the new ECB building in Frankfurt, but you don’t talk about the cost of that building. It’s easier to talk about other peoples’ excessive spending than your own perhaps. But let us get back to what we’ve already been discussing. Now, we’re talking about instruments that have been set up to allegedly stimulate growth in investment. But, when it comes to Greece, regardless of the terms that we use, what the ECB has done really is to drag Greece down. So, I have a question. Now, you’ve been blackmailing, I think, and are you aware of how this type of blackmail that has been led by the ECB has endangered monetary policy? I mean, I know that this of course is rather fragmented, of course, but the ECB’s monetary policy really is helping some and suffocating others and that’s what is happening to Greece and thank you for being so clear. You say that the ECB has a group of experts and that they have looked into the possibility of Greece exiting the Eurozone because it’s unsustainable to have it in the Eurozone if they, of course, are to follow along the course that has already been taken. So I would like your comments on that. Thank you for already bringing it up. Now, you talk about financial stability, but it’s becoming more and more difficult to understand what that means. Our economies are all going in different directions and there are countries on the periphery of the Eurozone such as Portugal and we are time and again faced with humiliation. I mean we’re talking about what the Portuguese government says. There are coffers that are being filled to try to pay off debt, but the people are facing ever-greater inequality. So, for you, what does financial stability actually mean? Draghi: Let me disagree with you about almost about everything you said. First of all, are we blackmailing Greece? Well, it’s a bit rich when you look at the exposure that we have with Greece. The ECB has EUR104b of exposure to Greece. This is equal to 65% of Greek GDP and it’s the highest exposure in the Eurozone. So, what sort of blackmail is this? It’s up to you to judge. We haven’t created any rule for Greece. I did say this before. Rules were in place and have been applied. The waiver rule, the threshold rule, they’ve all been applied. Simply, they were in place. There will be time, and I’m still confident because you mentioned that we talk about the exit of Greece and we don’t talk about that. There will be time when we will be able to reinstate the waiver. We will be able to do QE to Greece, but several conditions have to be satisfied and they are not there yet, but we are confident they will be if this process of policy dialogue is being reconstructed. So, finally, let me say that Portugal has actually reached the stage where it can actually fully reap the benefits of the policies that have been undertaken in the past few years. It has reconstructed financial stability. It has market access. It can finance itself and you can see that unemployment is going down in Portugal and fastly. So, it’s one of the countries that it’s becoming a witness to the recovery of the euro area. Thank you. Matias: Yes, as we still have a few seconds, yes, Mr Draghi, unemployment is being reduced in the same amount of the velocity of the people who have to leave the country, which has been more than 300,000 people. That’s why unemployment is going lower, not because we have less unemployment. Gualtieri: Do you want to replicate? Draghi: No. I would confirm that Portugal is actually reaping the benefits of the policies it has undertaken and I think still faces some significant challenges that have to be coped with. But, frankly, it’s a country where the trough has passed. Thank you. Gualtieri: Thank you. Now for the Greens, Philippe Lamberts. Lamberts: Mr Draghi, just as an aside, I would refrain from declaring success until you have examined the distributional effects of policies because indeed not everyone is seeing the recovery the way you seem to indicate. But I would like to pursue on the vein of Jakob von Weizsacker on the rules-based system and the discretion because indeed if the ECB operation were just a rules-based system, we could replace you with a computer and I’m not sure that we are at that point and I’m not sure it would be desirable. So, in your role and the Board of the ECB has quite a lot of discretion. Jakob already started on that, but I will continue. So, different members of the ECB Board and Council of Governors have commented that the T-bill ceiling and also the ELA ceiling are fixed with a view of sticking to the rule of no monetary financing of the Greek government. But one might ask one’s self why then the number of EUR15b for the T-bill ceiling has been selected? Why not EUR5b, or EUR25b? And, in the same way, why is it so that the Irish promissory notes back in time were accepted or at least not refused as collateral well, in a similar then, the treatment of the T-bill ceiling in Greece? Also, you mentioned the decision when the waiver was granted to Greece, but actually it was a point in time when there was still no agreement on the programme. I mean there was an agreement in sight, but we did not have an agreement in place which is not exactly the same thing and this is again where I sense that discretion is being used in deciding whether or not to reinstate or to withdraw the waiver. And so, what I would like to ask you as well, what are these criteria that guide your discretion and, as a corollary to my question, what are the conditions that need to be fulfilled by Greece and its creditors for uplifting the T-bill ceiling which is, of course, a crucial question at the moment? Thank you. Draghi: Thank you. Just first, the EUR15b ceiling is not an ECB ceiling. It’s the programme ceiling. It was set up by the Eurogroup members. It was not an ECB decision. Second, you are absolutely right, the assessment of a success, or the likelihood of a successful conclusion, so, it’s not the assessment of the conclusion. It’s the assessment of the likelihood of a successful conclusion is not at each point in time. It’s a dynamic assessment. Often, exactly to be forewarning towards the country concerned. Often we’ve given this dynamic assessment. The conditions for such a positive dynamic assessment were in place in 2012 as this press statement clearly shows. They were not in place in February. The communication by the government through its most prominent ministers was a communication based on two words - default and insolvency. It was a communication that basically was, if taken at face value, would weaken immediately the Greek banks, would lower the collateral. The more this communication creates volatility, the more the collateral will be affected, the more Greek banks will be weakened, the more difficult it would be for us to continue providing ELA. Incidentally, speaking again about the ECB stance, the exposure of the ECB is now, as I said, EUR104b to Greece. It was EUR50b in December. So, it has more than doubled since then. So, all this doesn’t necessarily speak in the sense of having the ECB blackmailing Greece or anything like that. Thank you. Gualtieri: Thank you. Now for the FDD Group, Marco Zanni. Zanni: Thank you very much, Chairman. Can I focus on quantitative easing, in particular the new estimates for growth in the outlook for the Eurozone done by the ECB? It seems to me that these estimates, these forecasts, on the effects of monetary policy at the ECB are a little bit self-referential. The ECB, for example, as you have said, President, has provided new forecasts for the future of the Eurozone. They are positive, but it does assume the beneficial effects of quantitative easing, of QE. But the Central Bank is also saying that QE and other instruments will have an impact on future developments with regard to the expectations regarding inflation in the Eurozone. Is that not, therefore, slightly misleading to base your outlook, base this optimism on reasoning which is really rather self-referential? Then secondly, with inflation estimates, at a recent press conference and recent speeches you have been expressing optimism about the future inflation expectations. But there again, that optimism is based on certain indicators. For example, the five-year expectation for the inflation rate which has demonstrated not to be itself, not to be entirely opportune when it comes to getting that estimate of future inflation rates right. Should you not use other indicators which are more consistent with the time frame in terms of producing monetary policy effects? And, also, have a track record when it comes to the five-year outlook, perhaps two years/two years forward inflation rate which currently demonstrates how inflation expectations are not entirely in line with the statutory duties of the ECB. Now, another aspect of QE. Could you say a word with regard to these monetary operations? Is this simply to create profits for the private banking sectors, or is it in order to put budgets on a sounder basis? I think that what we really need here is full transparency on those operations. Thank you very much. Draghi: There is no circularity in the reasoning. It’s pretty one directional reasoning. It basically says that an expansionary monetary policy will raise inflation expectations in the medium-term. That’s it. When inflation expectations go up with zero nominal rates, real rates go down. When real rates go down, investments and the economic activity improves. That’s the reasoning. It’s not circular. [It’s something] which was actually what didn’t happen in the months before the QE decision and exactly the opposite happened. At some point in time inflation expectations did worsen so that real rates actually have gone up and this was equivalent to an unwanted tightening of monetary policy. The decrease in inflation expectations, the medium-term inflation expectations that took place between November and December was equivalent in terms of tightening to the last decreases in nominal rates that we had undertaken. In other words, it nullified our more expansionary monetary policy decisions when we decided to lower nominal rates before. So, that’s how it works. With QE, we see now that inflation expectations… You pick up an indicator, whatever you want, but it has to be medium-term, inflation expectations have actually improved. But it’s going to take time. It’s going to take time. The improvement is slow, gradual. It can go backward and back up again because we had low inflation for such a long time that there is an inborn inertia in these indicators and, in fact, all our projections are medium-term projections. So, as I said, we need a sustained, I think I used the word sustained, adjustment in the inflation path. We will not be taking decisions for temporary blips in inflation rates and we will not take decisions based on figures at each point in time and our projections are conditional on the full implementation of this programme. I would say so far what we see in the markets is on the positive side. I should say also that there are good reasons for forecasting that inflation expectations will move back towards 2% but below 2%. As I said, one is, of course, our monetary policy decision. The second is the changes in the exchange rate. We should not disregard this factor. The third is a somewhat underlying projection that oil prices will recover towards the end of the horizon. But, as I said, the fulfilment of this forecast is based on the full implementation of our programme which foresees purchase of EUR60b a month until September 2016, at least. On transparency, the second question you asked, I frankly don’t understand the question. Gualtieri: Thank you. Next speaker Bernard Monot. Monot: Thank you very much, Mr President. I’ve got two questions. Having used all your cartridges, monetary policy is really non-conventional with TLTROs and I bring up member state debt. This is obviously a lax policy for the ECB destroying the value of the Euro as a paper currency and that is reflected in the stock exchanges, but not in the productive economy. On the 9th March last, super-nationally you launched QE with the EUR1.400b which has got to last at least 18 months. That’s a last chance salon thing and it doesn’t respect the Tinbergen principles set out in the provisions of the Treaty, not using monetary policy for purposes other than price stability, 127(a), not financing states via the Eurosystem and not using monetary policy for exchange policy purposes 219. In addition, it will not have escaped anyone’s attention that QE decentralises things to the national central banks which really re-nationalises it and that I think confirms what the Front National is saying in France and technically speaking, this is the end of the euro as a single currency and that’s led to a big depreciation of the value vis-à-vis the dollar. Sooner or later the ECB will have to envisage the end of the single currency. Why not simply project that into the continuation in terms of national currencies? Now, with QE and the quality of the assets, some of that is ABS and CDOs (collateralised debt obligations) and other things. Now, those securities, it was basically everything except gold and that would have been the only valid asset. Now, across the Eurozone you have bloated the ECB’s balance sheet and the Eurosystem with junk securities. It is very difficult to get out of that quite apart from, as it were, printing money. If you look at the moonwalk of Mrs Yellen for the Fed. Now looking at the base rate, have you looked at the financial consequences of exiting from the programme and really who are you going to sell these junk securities to at the end of the programme? Thank you very much. Draghi: Well, first of all, let me say that our monetary policy is gradually finding its way to the real economy. It’s taken time, but we are seeing that this is happening now. So, it’s not only limited in its impact to the financial markets, as it actually was in 2012 after the August decision of OMT. Certainly the financial markets regained confidence and this was extremely important, of course, and the confidence in the euro was strengthened. At the same time it has taken a long time before these impulses translated themselves into the real economy and now this is happening. We are seeing this through a variety of indicators. The lending rates by the banking system have gone down. Credit is still subdued but is increasing. Financial flows to SMEs are also still subdued, but they are increasing. So, as I said, we shouldn’t be excessively optimistic, but we are certainly more optimistic, more confident than we were three, four, five months ago. Second, on the mandate, you raised this issue. By the way, your point is a little contradictory because on one hand you say that we are renationalising monetary policies. On the one hand you are saying that we are financing member countries. So, you’ve got to decide which one. My view is that we pursue the price stability rule and mandate and we stick with our mandate and we have no fiscal policy in mind. I think all our legal analysis seems to confirm that we are fully in the right. Third point about the exchange rate. You were saying that this policy is geared to the exchange rate. Nothing could be further from the truth. The exchange rate reflects the different position that countries have with respect to their business cycle and the monetary policies are on a different cycle themselves. So, our monetary policy will stay accommodative for the foreseeable future and other jurisdictions’ monetary policies are expected to become tighter and tighter because the recovery is stronger in these jurisdictions than it is in our case. Fourth point ABS. I think you should read Fitch, the rating agency, Fitch report about the type of ABS that we are buying. They are considered absolutely safe, absolutely safe. From this view, they are neither rotten nor assets that will have any problem in selling back. Why not gold? Well, the answer is obvious. ABS are meant to supply finance into the real economy. It’s not clear that buying gold actually produces immediately the same effect. Thank you. Gualtieri: Thank you. Now for the EPP Group, Fulvio Martusciello. Martusciello: Thank you, Chairman. President Draghi, you talked about structural reforms saying they should be pursued tenaciously over the period. Now, with timely determination there was a letter co-signed by you to the Italian government spelling out the reforms which our government was to undertake if we wish to be in line with the economic policy requested wished by the Central Bank. Now, the other day, the central bank again had things to say about Italy and our policy saying that it should be reducing its debt and reiterated the need to pursue structural reforms. Now, do you not think the time has come to put in writing the reforms which are expected of Italy as you did in 2011 so that everything is black and white and, therefore, the government will not be able to get out of those requirements? There are reforms in the so-called Jobs Act with reforms to the labour market which have now been undertaken. Should it not be stricter managed vis-à-vis a government which has often demonstrated its intention to wiggle out of its obligations? Thank you. Draghi: Thank you. Each country has a list of reforms that are the most suited for that country’s economic environment, but they, by and large, they all fall within three categories. The first and the foremost is the implementation of the single market. Let’s not forget that to have a common currency produces economies of scale, benefits coming from the economies of scale of having a much larger market only if the single market is being implemented. There, the benefits of having one currency and having one market would adapt and they would produce additional benefit. The second point falls into the category of creating a business friendly environment where to start a new business becomes easier, where taxation is by and large lower. So, this brings together with the so-called growth friendly fiscal consolidation. It’s something we’ve discussed on other occasions together here, namely, lower taxes and lower current expenditure. It means that basically there are less barriers to entry in each industry and it’s a series of measures that would make investment less difficult than it is today. The third category is labour markets and here again we have countries like Spain, we have countries like Italy where progress on the labour market reform had been undertaken. So, that’s how things stand. Right now, frankly, we don’t plan to send any letter to anybody. Thank you. Gualtieri: Thank you. Now for the S&D Group, Pervenche Beres. Beres: Thank you. President, when you launched the QE quantitative easing programme we were all aware that this was in the spirit of doing all within your power to ensure that the Eurozone could continue to function. This afternoon you have said a lot about structural reform. But when talking about structural reform, is there not an unasked question, the whole issue of demand and support in all the member states? So, quite apart from difficult structural reforms in the different member states, how much [inaudible] would you set by economic recovery and growth and perhaps a change in some of the strategic lines to find a European level? In other words, something that is described as austerity in some of the member states. And I have another question on your contribution to the four Presidents report. This afternoon you said that the rules count. The rules are important. But you recently also said that in addition to rules, we also need to look at the strength of the institutions. Now, looking at the way things work, I would argue that the rules are insufficient, don’t work, or are no longer sufficient, so we need to look at the way the institutions work. So, with that in mind and without giving too much away, how do you feel that the ECB could contribute on that score to the four Presidents report? Draghi: Thank you. On the first question, our QE, if successful, will raise medium-term inflation expectations and, therefore, lower real interest rates and, therefore, contribute to price stability and the recovery of the euro area. The more this has been complemented by both fiscal and structural reforms, the stronger will be the effect. On the structural reform side I’ve already made comments what is needed for the euro area. On the fiscal policy, it wouldn’t come as a surprise to you if I say that what is needed is growth-friendly fiscal consolidation, namely a fiscal consolidation that reaches both outcomes, namely debt sustainability on one hand, but also support to the recovery on the other. What I’m suggesting is more work on the composition of the expenditure in the national budgets. Give a close look to capital expenditure versus current expenditure. Give a close look to the level of current expenditure and the level of taxation. And we know by now what sort of expenditure is more growth-producing and what sort of expenditure is less growth-producing. We know that certain types of taxation is not growth-producing and other types are and that certain levels are. I always say that this part of the world has the highest taxation in the world. It would be very difficult to find any other part of the world with this level of taxation. On the second point, yes, indeed, I made a distinction between rules-based integration, or convergence, and institution-based convergence. My sense is that if we acknowledge the fact that our union is imperfect and is fragile, and if we accept the fact that we have to move forward and make it stronger and more perfect, we also should ask the question which of the two methods for convergence has been the more successful. We have examples of both. In the monetary policy area, before the euro, we were, in a sense, a rule-based monetary policy system. We had ERM, various versions of ERM, and they all collapsed and in the end we moved to an institution-based system where our leaders created the ECB, created the one currency, created the banking union and a single supervisor and a single resolution mechanism. On the one hand, we had another example which is the fiscal example where we have the stability and growth part and that’s an example of convergence in the fiscal area that is based on rules, not on institutions. Well, I think I could ask you which one of the two has been the more successful. A move forward in the fiscal area, perhaps even in the economic area, would require a Treaty change and so until we have that, the rules have to be in place. Respect of the rules is also important because it creates that reciprocal trust that could be the basis for the next step which is the creation of new institutions. That’s a possibility. But so far, certainly the experience in the fiscal area has not been as successful as been the experience in the monetary policy area. That’s why I said before we should be able to ask these long-term questions without losing sight of what is politically feasible or not. These are two different plains, but we have to keep alive certainly the long-term reflection. Thank you. Gualtieri: Thank you. Next speaker for the EPP Romana Tomc. Tomc: Thank you, President Draghi. The ECB monetary policy is just one of the mechanisms designed to foster economic growth. Economic growth is not an end in itself, however. Likewise, inflation, interest rates, they are merely indicators to measure success. The overall aim at all times must be to improve peoples’ living conditions. The measures you adopt must first filter through to companies, then to people otherwise it is money down the drain. The member states themselves are responsible for a structural reform, I would agree there. I also agree that the ECB must stick within the framework for its endeavours. Now, what type of reforms are necessary would you think and how can we ensure that the member states don’t just make promises without actually honouring their commitments and seeing through reform to the extent required? How can the ECB do its bit to ensure that the common policy to improve the living conditions in Europe is successful? Thank you. Draghi: Indeed, the undertaking of structural reforms would complement the implementation of our expansionary monetary policy and would certainly have a multiplicative effect on growth and on the recovery. The question you are asking, and as you said, perhaps the previous question I got on this point, is up to which point should the ECB indicate which are the necessary reforms and, basically, the ECB has always maintained a point of giving a certain indication. But then beyond a certain point, this is a completely national agenda and the ECB has a mandate to indicate which reforms are important because the lack of them could be an obstacle to achieving price stability. For example, in a situation where you have to raise inflation expectation towards the medium-term of 2% you want to have an accommodative monetary policy. At the same time you know that the more structural reforms are being undertaken, the more this monetary policy will be transmitted to the real economy. But the responsibility, the final responsibility, of undertaking these reforms lies entirely with the national governments. And, on the other side of the spectrum you have lots of people who are actually criticising the ECB for going beyond, for suggesting too much. So, it’s very much a very delicate balancing act the one we have to undertake at each point in time which is basically saying that they are needed. Also saying in which categories they fall. Also say sometimes giving even a little more precise indications, but never beyond the point where we forget that the responsibility for these structural reforms is entirely national. Thank you. Gualtieri: Thank you. Anyway, the well-established position of this parliament and this committee is that are country-specific recommendations are and have to be issued by the Commission and not by the Council and nobody ever presented amendments saying that it should be the ECB issuing country-specific recommendations. So, far, yet. So, next speaker is for the S&D Group Alessia Mosca. Mosca: Thank you very much, Chairman. President Draghi, can I thank you first of all for the importance you’ve attached to this exchange with the European Parliament. We are very attached to that and we feel the full weight of the responsibility which falls to us at a time when there is no sign of euro scepticism waning across Europe and we are able to put to you questions which may go beyond the mandate of the European Central Bank. But I think if we have anything in common, it’s our shared concern to change public perceptions in this area because otherwise action is very difficult to launch. Now, in that spirit, many colleagues have raised the need for the policy by the ECB and all of the institution’s policies to impact on the real economy. Now, my question is this. We have to focus on the timetable. Clearly, we do have to look for results, benefits, in the short-term and if you have changes of government, elections in individual member states, clearly, that could have the effect of radicalising certain positions and medium-term forecasts in fiscal policy, for example, can be affected by the fact that there is that much less political will in the medium-term. This I think is an unfortunate extra difficulty to have to contend with at a time when we’ve got the Capital Markets Union work going on, the EFSI going on, and all of these policies working together may lead into a change of mind in public perceptions when it comes to what the European institutions are about. Perhaps that will be able to persuade them things are moving. Draghi: The ECB strongly and warmly welcomes both developments - the launching of a Capital Market Union and the launching of the investment strategy by the European Commission. On the first point, the first point is important because there is one lesson we learned from the crisis, that the financial system, that is predominantly based on banks, is fragile. If banks are impaired, then the monetary policy, no matter how accommodative it could be, is not transmitted to the real economy and so, from this viewpoint, if the Capital Market Union can create a broader and better functioning capital markets, this is highly welcome. From this viewpoint also, we welcome the securitisation initiatives that fall under this umbrella and the bottom line of this is to be able to assure to the ones who are not at the present able to issue on the capital markets to assure credit flows that would go separately from the banking lending channel, namely, the SMEs. The SMEs that are in a sense the basis of the euro area economy must borrow from the banks. They don’t have the possibility of issuing on capital markets because capital markets are designed for large corporations predominantly. Now, of course, to make the Capital Market Union reality, substantive significant work has to take place trying to harmonise legislation across different member countries. For example, the bankruptcy legislation has to be harmonised. The foreclosure legislation has to be harmonised so that we can have a European or a euro area mortgage market. So, several initiatives have to be undertaken and we certainly welcome the main line of work that falls under this initiative. On the second point too we welcome the initiative of the Commission of launching this investment strategy. We’ve said several times that it’s absolutely essential that governments of member states participate to this initiative and, of course, the speed is of the essence because the European economy and the euro area economy needs such a launch, such an effort to relaunch investment. Both public and private investment are now at historical lows and it’s quite clear that higher levels of investment are an essential ingredient to make what looks now as a cyclical recovery into a structural recovery, namely, a recovery that can be sustained through time. Thank you. Gualtieri: Thank you and we are committed to have a quick conclusion of the negotiation. We welcome also your assessment replying to Mr Fernandez’ question, eligibility of the EIB [inaudible] bonds for the asset purchase programme. Next speaker for the EPP Tom Vandenkendelaere. Vandenkendelaere: Thank you, Mr President for pronouncing my name right. Thank you, President Draghi for being with us today. The first question I have for you, well, actually I have two questions. It is often argued by those against QE that it would have a negative impact on the incentives for governments to pursue structural reforms. I’m convinced, however, that it can in fact assist governments in carrying out through the necessary economic reforms and budget consolidation efforts. Not being an economist I would be grateful if you could once again clarify why you consider that structural reforms and budget consolidation alone are insufficient to address the economic problems faced by the Eurozone enabling us to create a business friendly environment as you called it? That’s my question. Why a policy mix, including QE, is the most sensible thing to do today? My second question is the following. Something relating to your introductory remarks. Observers have expressed their concerns over the fact that the ECB in its ambition to buy up to EUR60b per month will run into trouble in the short-term as not enough assets would be available. You stated not to share this concern. Can you elaborate further on this, please? Draghi: On the first point, well, first of all, we thought a lot about whether there is a relationship between the level of market interest rates and the incentives that governments have to undertake reforms. There is a relationship, but it’s very dubious and it really depends on which reforms we talk about. For example, do you really think that high level of interest rates in the markets would prove an incentive for a government to reform its educational system, or its judiciary, or its electoral system, or its constitution, or its labour market? If we look at labour market reforms, they’ve taken place by and large when interest rates had already gone down very much. But, at the same time, there may be a relation between the budget size of a government and the interest rates. So, we have to distinguish. It’s not as clear-cut as we often hear as an argument. One could also, by the way, have the opposite argument that to the extent that structural reforms are being undertaken, they actually increase the expansionary effect of monetary policies, the one I just hinted at before. So, the relationship can go either way. It’s not as clear-cut, as I said. Then the question is but aren’t they enough, aren’t structural reforms and growth friendly fiscal consolidation enough for the recovery? Well, you know, this would be true if our problems were only structural. But, in fact, they are not only structural. They are both cyclical and structural. So, from this viewpoint, lower real rates are important to relaunch private investment. They have the expansionary effects of monetary policy propagated to the real economy through a variety of channels and that’s why we deemed that our expansionary monetary policy is needed to bring back inflation towards our objective of being close but below 2% over the medium-term. The second point is about whether we will find enough assets. You know, I find this observation quite interesting because if there is one market that is big, it’s the market for sovereign debt, certainly in this part of the world. We’ve spent a good number of the last few years saying that it was simply too big, that it should go down, and now we are worried about not being able to find enough assets. Also, we should consider that there are two broad categories of debtholders - the euro area resident debtholders and the non-euro area residents. In other words, the rest of the world. And while it might become – it might become - difficult to find bonds in one category, certainly there isn’t any shortage that we can foresee in the rest of the world. So far, as I said, any market feedback seems to show that we have no difficulties. Thank you. Gualtieri: Thank you. For the S&D Group Jonas Fernandez. Fernandez: Thank you very much. Thank you Chair. Now President Draghi, your statement on the Finance Day in 2015 on the need for greater institutional convergence and a greater degree of sharing sovereignty within the framework of institutions in the EU has coincided with the news that the European Central Bank has obtained a profit of almost EUR300m since the beginning of the crisis. Now, according to the statute of the ECB, these profits, once what has to be put into reserves is taken off, and that’s 20% according to Article 33(a), the rest has to be shared out between the shareholders of the ECB which are, of course, national central banks and they should distribute that back to member states. Now, according to Article 41 of the ECB Statute and 129.3 of the Treaty on the Functioning of the European Union, this Article 33(1)(a) that sets out the percentage of profits that has to go to the reserves can be reformed on the initiative of the ECB through an ordinary legislative procedure. This opens the door to using these profits in a different way. So, in order to improve the consistency of monetary policies, as you’ve talked about this afternoon and at other occasions, the ECB could take up a legislative initiative and try to share out part of those profits and, for example, funnel them into the budget. Now, taking into account the need to improve the consistency of the monetary framework, the monetary union, all this should fall within the ECB powers under the current Treaties. But, you have rejected, or would you reject launching any initiative of this kind that could improve the coherence of our monetary policy? Would you reject that? Thank you. Draghi: Your question is both interesting and difficult. My impression is that it’s not up to the ECB to take such a legislative initiative, but it’s up to the member countries that may decide that the profit rather than going through the national budgets be directed somewhere else, for example, the community budget. It’s up to them in a sense and frankly, we are pure actors which execute a legislative mandate here rather than taking an initiative that would affect national budgets. So, it’s up to the member countries to start this process if they so wish. There would be a change in the statute, there would be a change in the Treaty as well. But, the point, the basic point is this. It’s up to the member countries to take this initiative. Fernandez: Sorry, but article 41 of the ECB Statute, so Article 40.1 establishes that the ECB can take an initiative in this matter. So, the question is whether you would reject out of hand doing so. Draghi: As I said, your question is too difficult for me at the present time. I wouldn’t be able to answer at this point. I will have to check and let you know about. So I will convey the answer in writing if it is possible at some later stage. . Gualtieri: Actually, it’s a recommendation on the proposal that the ECB can issue. Next speaker Werner Langen for the EPP. Langen: Thank you, President. I would also be keen to get the figures for the current term of the ECB broken down according to shareholders. A couple of questions from me. Firstly, you said the monetary fiscal union has not been completed but you didn’t say which steps should be given priority. In your opinion, we would be interested to hear from you on that score. Second question, risk of inflation in some member states. A lot has been said about this. You justified the statements. In some markets, for example, the real estate market, are there not initial signs of overheating? Would that not affect inflation and monetary policy? Third point. Last year the euro fell sharply against major international currencies. What knock-on consequences would that have for international economic relations and in particular, threshold countries, developing countries? We were recently in Southeast Asia, visited a number of countries there, heard concerns about the euro/dollar ratio or exchange rate and how quickly it had changed in such a short space of time. So, could you say something on that please? Thank you. Draghi: On the first question, we have two types of convergence that we have to work on to strengthen our union. One is the, say, economic convergence and the other one is the institutional convergence. The economic convergence is important because we are not yet one country. Each country has to be able to stand on its own feet. To this extent, it has to become competitive, stay competitive, and to that extent, countries have to converge economically through the structural reforms to the best practices. The second convergence is the institutional convergence which I hinted at before and that concerns both the economic and the fiscal side. When I refer to economic institutional convergence what one may have in mind here is that the process of structural reforms could become more European-centred rather than being exclusively national-centred. We’ve made quite a progress in making our budgetary process more European-centred through a set of rules. One may well think about making the same process applicable to the structural reforms, to the economic convergence. Finally, the institutional convergence is towards a greater convergence on the fiscal side. That is not a medium-term, a short-term proposition. It should be based on a variety of steps, but it should become easier in the end if there is economic convergence in place. The fear, of course, that naturally citizens have here is to find themselves in a position where there will be permanent creditors and permanent debtors, that someone will have to pay for someone else all the time. Now, we are not yet there. This happens in the one country setup, in the United States. But we are not a union like the United States. We are different countries. That’s why I always insist in saying the countries should be able to stand on their own feet because this union was not created to have permanent debtors and permanent creditors. Your second question. You hinted at two dangers here that our monetary policy might entail. The first danger is financial stability. The second danger is sudden movements in the exchange rate that could create problems to other countries. First, let me state once again that we have a mandate and our mandate asks us to reach price stability as an objective, defined as I did before of having an inflation rate close but below 2% in the medium-term. At the same time, we are alert to the possibility of financial stability risks and the answer is that so far we don’t see these risks in the real estate market. We certainly monitor all these risks and the answer to these risks, however, should be found in the proper macro-prudential instruments, not in changing the monetary policy stance which is based on reaching our objective of price stability in fulfilling our mandate. The same thing, the same consideration could be applied to the concerns expressed by many emerging market countries about potential volatility in the exchange rate. We, all of us, by the way, it’s not only the ECB, the Federal Reserve, the Bank of England, Bank of Japan, run their monetary policy according to their mandates which are national mandates. They are not global mandates. So, even though we consult each other very frequently, we exchange views and information with all the partners in monetary policy making at global level, we have to take our decisions according to our national mandates which do not foresee other jurisdictions in the application of the mandate. Thank you. Gualtieri: Thank you. Next speaker Neena Gill. Gill: Thank you, Chair, President. On the initial impact of QE you were quite optimistic. Interest rates, as you said, are extremely low in the EU. Mortgage markets are attracting new borrowers. However, what do you expect the impact will be at the end of September 2016? Is there a possibility, depending on the situation then in September 2016, you may have to extend QE? Really following on from the point that my colleague Mr Langen made, what impact do you foresee on the European economy given the changes in the US? Whether tone of the Federal Reserve seems to be becoming more and more moderate and possibly anticipating an increase in the interest rates in the coming months. Will this trend risk breaking our investments in the EU and I’m referring to the mortgages and the SMEs again? The second point I wanted to raise was on the CMU [Capital Markets Union]. You did say earlier that speed is of the essence. I’m quite concerned that the Commission is proposing this by 2019. The CMU, as you said, it will be complementary to banking finance and SME financing via securitisation. But what I want to ask you is will it be beneficial to let’s say an SME in Spain or Portugal as to the German SMEs given the different profiles they have and how do we avoid creating new bubbles in the future? Draghi: On your first question, you know, the purchases are intended to be carried out until end September 2016 and will in any case be conducted until we see a sustained adjustment in the path of inflation which is consistent with our aim of achieving inflation rates below but close to 2% over the medium-term which means that we are not going to change our policy because of an observation at each point in time, or because of changes that are not sustained through time. These are the requirements. So, we continue and our projections are conditional on the full implementation of our programme at this point in time. So, there should be a sustained adjustment in the path of inflation which means that it will be the path of inflation, not its value at any point in time, and a consistent steady move of inflation, not a reversible blip in either direction that will speak for a change in our strategy. Now, the second question, sorry, can you repeat the second question? Gill: It’s really around the CMU. That you were saying that speed is of essence and the Capital Markets Union and the Commission is proposing 2019 and concern how do we avoid creating new bubbles and the difference in profiles between say an SME in Germany and one in Spain, let’s say, and different profiles they have. Draghi: We’re really monitoring any risk to financial stability at the present time. We are aware that very low interest rates carry this risk with themselves. So, we are certainly alert to that. But, as I said before, the response to these risks should come from the use of macro-prudential instruments, not from the change in our monetary policy stance which is geared to reaching our price stability objective. But, I just want to reassure that we monitor financial stability risks. Now, we also have to say that our financial system, our banking and financial system is more resilient than it was a few years ago. The recent gyrations of both the exchange rate but also the changes in some specific bond market conditions on other occasions and other times years ago would have produced some sort of wave of instability, but now they seem to have been absorbed pretty well by the financial markets. The Capital Markets Union is a development which we welcome very much. It will further strengthen our financial market union. It will make it less dependent on the banking system only. In principle, it should make the SMEs structure of our industry closer to financial markets, making them more able to get credit when needed. Gualtieri: Thank you. Now last speaker Siegfried Muresan, EPP Group. Muresan: Thank you. Thank you, Chairman. The last questions are of course always the most difficult ones as everything was already asked by colleagues. But, President Draghi, my first question is do you, for the time being, foresee a risk of a bond market bubble? I very well remember your statements from the end of last year, October and November where you did not see that risk. The question is would you still keep your statement from last year or would you say circumstances change? Do you see bond prices still reflecting economic reality, or rather having lost touch with reality and do you see enough bonds by the banks ensuring companies and pension funds on the market for you to purchase? My second question is linked to the timing of quantitative easing and, of course, arguably quantitative easing is most effective when financial markets are in turmoil. There the question for you, do you feel that quantitative easing starts at the right moment in time? Should it have started earlier in order for its positive effect to be maximised? And the question is has the economic governance of the Eurozone prevented you from moving to that measure earlier? My last very short question is did we understand you right in answering earlier the question on the end of quantitative easing? Did we understand you right that if the path of inflation will not be in line with the objective of the ECB that you foresee the continuation of quantitative easing beyond September 2016, that you can imagine that? Thank you very much. Draghi: Thank you. The answer to the third question is yes indeed. The answer to your second question, in April 2014 last year in the course of a speech [ Monetary policy communication in turbulent times] I presented three contingencies that would make the ECB act. One was an unwanted tightening of money market. The second one was in succeeding order of importance and also time wise. The second contingency was an impairment in the bank lending channel that would translate itself into an impairment of our transmission mechanism of the monetary policy. The third was a medium-term worsening of the inflation expectations horizon. At that time we had already acted to cope with the first contingency. We would act shortly thereafter to cope with the second contingency through the decision of the TLTROs which is targeting the banking system so that this could actually produce more lending to the real economy through the beginning of purchases of the ABS and the covered bond programme exactly with the same goal of trying to channel financing towards the real economy. And we have taken these decisions. By the way, these decisions had produced considerable effects at the price level in a sense that both ABS spreads and lending rates to the real economy had gone down considerably as an effect of these two decisions. But, size wise they were not enough so that by the beginning of August we see that medium-term inflation expectations start edging down and that’s when we had the Jackson Hole speech [ Unemployment in the euro area, 22 August 2014] and that’s when we started basically with the QE in mind. Therefore, thereafter, we moved along that path. So, it was because of this timing, not so much because of the, as you kindly called, structure of our institutional environment. On the first question is there a bond market bubble, we see that there are different liquidity conditions for different types of bond markets, distinguishing between corporate bond and government bonds. We don’t see an especially illiquid situation for the government bonds and we are confident, as I said before, that in a smooth execution of our expanded asset purchase programme. Thank you. Gualtieri: Thank you very much to President Draghi. You want to add. Yes, of course. Draghi: Just one thing. I have realised that I have not answered one question which I can answer in the ESRB session on the solvency of Greek banks that was asked by Mr Von Weizsacker some time ago. I’ve just realised that I didn’t answer that question, but we can rightly address it during the ESRB session because after all it’s an ESRB topic as well.'"
      ]
     },
     "execution_count": 57,
     "metadata": {},
     "output_type": "execute_result"
    }
   ],
   "source": [
    "' '.join(ecb[\"text_preprocessed\"].iloc[337].split())"
   ]
  },
  {
   "cell_type": "code",
   "execution_count": 12,
   "metadata": {},
   "outputs": [
    {
     "name": "stdout",
     "output_type": "stream",
     "text": [
      "  Domestic and cross-border spillovers  of unconventional monetary policies   Remarks by Benoît Cœuré, Member of the Executive Board of the ECB, at the at the SNB-IMF Conference \"Monetary Policy Challenges in a Changing World\",Zurich, 12 May 2015  ***   Summary   Discussion has recently emerged on the global financial market implications of diverging monetary policy cycles. Central banks in large advanced economies can free themselves from the global financial cycle and regain monetary independe\n",
      "...\n",
      "efficiency imply, from a long-run perspective, that the real growth rate exceeds the real interest rate on physical capital.    [13] Tirole, J. ( 1985): “Asset Bubbles and Overlapping Generations” Econometrica, Vol. 53, No. 6 (Nov., 1985), pp. 1499-1528    [14]“Reinforcing financial stability in the euro area”, speech given by Vítor Constâncio, Vice-President of the ECB, at the OMFIF City Lecture, London, 8 May 2015.       SEE ALSO  Find out more about related content   Related information      \n"
     ]
    }
   ],
   "source": [
    "test_text = ecb.iloc[5][\"text\"]\n",
    "print(test_text[:500])\n",
    "print(\"...\")\n",
    "print(test_text[-500:])"
   ]
  },
  {
   "cell_type": "code",
   "execution_count": 13,
   "metadata": {},
   "outputs": [
    {
     "name": "stdout",
     "output_type": "stream",
     "text": [
      "['The ECB is working as a catalyst for market integration', ' Central counterparties (CCPs) are systemically relevant', ' They have been in the focus of regulators and central banks since the financial crisis', ' The Eurosystem is responsible for operating TARGET2, the real-time gross settlement system for the euro, and T Target2-Securities, a service for the integrated settlement in central bank money of securities transactions', ' The smooth operation of these services is crucial for maintaining confidence in the euro and to support monetary policy operations', ' The ECB will keep a watchful eye on technical innovations and assess their possible impact on financial markets', ' The first condition is that innovations are proven to be safe before they find their way into the market', ' Second, it is equally important to ensure that innovations increase efficiency instead of a hurdle to increase efficiency and efficiency', ' ECB stands ready to work together with all interested parties in its catalyst towards the move towards interoperability of services developed by the Eurosystem', ' The European Central Bank is ready to explore all options within its mandate to ensure it can continue to fulfil its responsibilities under the Treaty, i', 'e', ' promoting the smooth operation', ' of payment systems and ensuring the effective transmission of monetary policy, for which the stability of the centrally-cleared repo segment of euro money markets is crucial', ' It also considers how best to respond and take advantage of technical innovation and meet new user needs, while staying ahead of evolving risks such as cyber risk', ' The EU law provides for a college of supervisors, involving all authorities that have a relevant interest in the prudent risk management of CCPs', ' The colleges act as forums for information-sharing, ensuring a high level of transparency in the way CCPs operate', ' ECB considers how to improve the efficiency and lower costs of its market infrastructure', ' It considers if technical innovation can create opportunities to improve financial services, but it also needs to be careful about the risks associated with its use', '  in order to avoid any negative consequences of technological innovations in financial markets, as it is essential for them to be proven safe and proven safe in order for their use to be used in the financial system', ' It is also necessary to assess if they can be used to enhance the provisions of financial services without harming safety, and if they bring added value to the services offered along the value chain', \" It's also important to keep an eye on the development of the regulatory, supervisory and oversight framework for financial market infrastructures, which has been enhanced and strengthened since 2008, and it should be ensured when necessary\", '   ']\n"
     ]
    }
   ],
   "source": [
    "print(textSummarized[0][\"summary_text\"].split(\".\"))"
   ]
  },
  {
   "cell_type": "code",
   "execution_count": 14,
   "metadata": {},
   "outputs": [],
   "source": [
    "textSummarized = realSummarizer(' '.join(ecb[\"text_preprocessed\"].iloc[337].split()[:850]), max_length=700, min_length=600) #does not work without join the split"
   ]
  },
  {
   "cell_type": "code",
   "execution_count": 15,
   "metadata": {},
   "outputs": [
    {
     "name": "stdout",
     "output_type": "stream",
     "text": [
      "  The role of monetary policy in addressing the crisis in the euro area   Speech by Mario Draghi, President of the ECB, at the “Room for discussion” of the Study Association SEFA and the Faculty of Economics and Business, Amsterdam,15 April 2013  Introduction There was a time, not too long ago, when central banking was considered to be a rather boring and unexciting occupation. In the era of the “Great Moderation”, mostly seen as the period between the mid-1980s and the beginning of the global f\n",
      "...\n",
      "dy taken lies ahead. All parties involved in this comprehensive reform agenda must persevere. And we must all work with conviction and determination towards our shared vision. If we do so, I am confident that restoring stability and ensuring prosperity in the euro area are within our reach.      [1]\n",
      "-------------\n",
      "  The role of monetary policy in addressing the crisis in the euro area   Speech by Mario Draghi, President of the ECB, at the “Room for discussion” of the Study Association SEFA and the Faculty of Economics and Business, Amsterdam,15 April 2013  Introduction There was a time, not too long ago, when central banking was considered to be a rather boring and unexciting occupation. In the era of the “Great Moderation”, mostly seen as the period between the mid-1980s and the beginning of the global f\n",
      "...\n",
      "elements needed to address the root causes of the crisis and to build a genuine Economic and Monetary Union have been set in motion. The ECB’s monetary policy will continue to make its contribution to this endeavour, in line with its mandate. The heavy task of implementing the important decisions already taken lies ahead. All parties involved in this comprehensive reform agenda must persevere. And we must all work with conviction and determination towards our shared vision. If we do so, I am confident that restoring stability and ensuring prosperity in the euro area are within our reach.      \n",
      "====================\n",
      "   SPEECH  The pandemic emergency: the three challenges for the ECB   Speech by Philip R. Lane, Member of the Executive Board of the ECB, at the Jackson Hole Economic Policy Symposium, Federal Reserve Bank of Kansas City “Navigating the Decade Ahead: Implications for Monetary Policy” 27 August 2020 Today, I will discuss the monetary policy measures taken by the ECB in response to the pandemic shock, take stock of the progress to date and outline the main challenges that lie ahead.[1]  The pandem\n",
      "...\n",
      "icies”, Economic Bulletin, Issue 4, ECB. See also footnote 6. For simplicity, this post-pandemic inflation path is represented here as a parallel shift, but it might well be that inflation would recover more slowly in the post-pandemic economy in the absence of additional monetary accommodation.    \n",
      "-------------\n",
      "   SPEECH  The pandemic emergency: the three challenges for the ECB   Speech by Philip R. Lane, Member of the Executive Board of the ECB, at the Jackson Hole Economic Policy Symposium, Federal Reserve Bank of Kansas City “Navigating the Decade Ahead: Implications for Monetary Policy” 27 August 2020 Today, I will discuss the monetary policy measures taken by the ECB in response to the pandemic shock, take stock of the progress to date and outline the main challenges that lie ahead.  The pandemic:\n",
      "...\n",
      "y, stabilisation and supporting the recovery”, 24 June. Since the ECB was already an active purchaser of both sovereign and private-sector securities, the PEPP could be rolled out quite quickly. On 12 March, the ECB had already expanded the size of its long-established asset purchase programme (APP) with an additional EUR 120 billion allocated for the rest of 2020. The 18 March launch of the PEPP was in recognition that a temporary and flexible programme was better suited to respond to the exceptional nature of the pandemic shock, rather than just relying on a mechanical expansion of the APP. \n",
      "====================\n",
      "  Transmission channels of monetary policy in the current environment   Speech by Peter Praet, Member of the Executive Board of the ECB,at the Financial Times Festival of Finance,London, 1 July 2016 Ladies and Gentlemen[1], Since the onset of the financial crisis in 2007/2008, the euro area, like many other economies, has been hit by a barrage of shocks with adverse macroeconomic fall-outs. The ECB, like many other major central banks, has responded to these shocks with forceful and often unprec\n",
      "...\n",
      "d to create durable and resilient improvement in economic performance going forward. This requires a concerted effort in the fiscal and structural policy domain to support the ongoing cyclical upswing; and a common strategy to complete and improve the institutional set-up of monetary union.      [1]\n",
      "-------------\n",
      "  Transmission channels of monetary policy in the current environment   Speech by Peter Praet, Member of the Executive Board of the ECB,at the Financial Times Festival of Finance,London, 1 July 2016 Ladies and Gentlemen, Since the onset of the financial crisis in 2007/2008, the euro area, like many other economies, has been hit by a barrage of shocks with adverse macroeconomic fall-outs. The ECB, like many other major central banks, has responded to these shocks with forceful and often unprecede\n",
      "...\n",
      "ssue that requires close monitoring. Against this background, monetary policy cannot be the only remedy to our current economic challenges. Instead, a broader set of actors needs to step into the breach, adopting a common approach to support the economic recovery in a context of persistent headwinds and to create durable and resilient improvement in economic performance going forward. This requires a concerted effort in the fiscal and structural policy domain to support the ongoing cyclical upswing; and a common strategy to complete and improve the institutional set-up of monetary union.      \n",
      "====================\n",
      "  Domestic and cross-border spillovers  of unconventional monetary policies   Remarks by Benoît Cœuré, Member of the Executive Board of the ECB, at the at the SNB-IMF Conference \"Monetary Policy Challenges in a Changing World\",Zurich, 12 May 2015  ***   Summary   Discussion has recently emerged on the global financial market implications of diverging monetary policy cycles. Central banks in large advanced economies can free themselves from the global financial cycle and regain monetary independe\n",
      "...\n",
      "ea on a more dynamic growth path, thereby creating attractive investment projects that generate high, but fundamentally justified, returns. These are the conditions for unconventional monetary policies to bring economies back to a stable and sustainable growth path, both at home and abroad.      [1]\n",
      "-------------\n",
      "  Domestic and cross-border spillovers  of unconventional monetary policies   Remarks by Benoît Cœuré, Member of the Executive Board of the ECB, at the at the SNB-IMF Conference \"Monetary Policy Challenges in a Changing World\",Zurich, 12 May 2015  ***   Summary   Discussion has recently emerged on the global financial market implications of diverging monetary policy cycles. Central banks in large advanced economies can free themselves from the global financial cycle and regain monetary independe\n",
      "...\n",
      "ro-prudential policy is best suited to safeguard financial stability. Macro-prudential instruments can be targeted more efficiently to those sectors and countries where systemic risks may be materialising . Finally, we encourage national authorities to do whatever is in their power to place the euro area on a more dynamic growth path, thereby creating attractive investment projects that generate high, but fundamentally justified, returns. These are the conditions for unconventional monetary policies to bring economies back to a stable and sustainable growth path, both at home and abroad.      \n",
      "====================\n",
      "  The case for cooperation: cross-border CCP supervision and the role of central banks   Introductory remarks by Benoît Cœuré, Member of the Executive Board of the ECB, at a conference on CCP risk management organised by the Deutsche Bundesbank, the ECB and the Federal Reserve Bank of Chicago, Frankfurt am Main, 27 February 2019 It is with great pleasure that I welcome you to Frankfurt. I thank you all for coming, especially those who have travelled from far away.  I am delighted to open this co\n",
      "...\n",
      "o CCPs. The role of the central bank of issue thus needs to be acknowledged appropriately. On this note, I hope that I have been able to whet your appetite for a vigorous and fruitful exchange of views during today’s conference and leave you in the capable hands of the organisers. Thank you.     [1]\n",
      "-------------\n",
      "  The case for cooperation: cross-border CCP supervision and the role of central banks   Introductory remarks by Benoît Cœuré, Member of the Executive Board of the ECB, at a conference on CCP risk management organised by the Deutsche Bundesbank, the ECB and the Federal Reserve Bank of Chicago, Frankfurt am Main, 27 February 2019 It is with great pleasure that I welcome you to Frankfurt. I thank you all for coming, especially those who have travelled from far away.  I am delighted to open this co\n",
      "...\n",
      "relevant authorities, including central banks, need to pull on the same rope. Europe, with its deep financial interconnectedness and high risk of spillovers, requires a particularly close level of information-sharing and cooperative oversight – the prerequisite for the Eurosystem to provide liquidity to CCPs. The role of the central bank of issue thus needs to be acknowledged appropriately. On this note, I hope that I have been able to whet your appetite for a vigorous and fruitful exchange of views during today’s conference and leave you in the capable hands of the organisers. Thank you.     \n",
      "====================\n",
      "  Translating a shared vision into a winning story   Closing Remarks at the T2S launch celebration by Yves Mersch, Member of the Executive Board of the ECB, Milan, 2 July 2015 We chose to call this T2S launch celebration “Translating a shared vision into a winning story”. Listening to the speakers for the past two hours I believe the name was just right. We have heard how the T2S Community transformed the shared vision of an integrated securities settlement landscape into a winning story, culmin\n",
      "...\n",
      "m sure of is that the story of T2S is successful because of each and every one of you. To celebrate this great achievement, I would like to invite you for a drink in the beautiful garden outside.  Thank you.     SEE ALSO  Find out more about related content   Payments & Markets TARGET2-Securities   \n",
      "-------------\n",
      "  Translating a shared vision into a winning story   Closing Remarks at the T2S launch celebration by Yves Mersch, Member of the Executive Board of the ECB, Milan, 2 July 2015 We chose to call this T2S launch celebration “Translating a shared vision into a winning story”. Listening to the speakers for the past two hours I believe the name was just right. We have heard how the T2S Community transformed the shared vision of an integrated securities settlement landscape into a winning story, culmin\n",
      "...\n",
      "d in the market infrastructure arena in order to progress on the journey towards an integrated financial market in Europe? One helping hand will be the synergy between TARGET2 on the cash side and T2S on the securities side, which certainly brings new opportunities. The objective should be to better meet the demands of the market and increase efficiency. Our journey continues. What I am sure of is that the story of T2S is successful because of each and every one of you. To celebrate this great achievement, I would like to invite you for a drink in the beautiful garden outside.  Thank you.     \n",
      "====================\n",
      "  Systemic Risk   Clare Distinguished Lecture in Economics and Public Policyby Jean-Claude Trichet, President of the ECBorganised by the Clare College, University of CambridgeCambridge, 10 December 2009 Ladies and Gentlemen, I am delighted to have been invited by Clare College, Cambridge, to give this lecture in economics and public policy. One of the greatest challenges for economics and public policy at this time is to restore financial and economic stability, and to improve the future functio\n",
      "...\n",
      "ures on monetary and fiscal policies to extend financial safety nets. The standard macroeconomic stabilisation policies can then focus more clearly on their primary objectives and thereby make their own best contribution to growth and well-being. Thank you very much for your kind attention.      [1]\n",
      "-------------\n",
      "  Systemic Risk   Clare Distinguished Lecture in Economics and Public Policyby Jean-Claude Trichet, President of the ECBorganised by the Clare College, University of CambridgeCambridge, 10 December 2009 Ladies and Gentlemen, I am delighted to have been invited by Clare College, Cambridge, to give this lecture in economics and public policy. One of the greatest challenges for economics and public policy at this time is to restore financial and economic stability, and to improve the future functio\n",
      "...\n",
      "ntial supervision is an important tool to contain systemic risks and thereby contribute to sustainable growth and prosperity. The proposed establishment of a European Systemic Risk Board next year is a very important initiative in this regard. Ensuring systemic stability will also alleviate undue pressures on monetary and fiscal policies to extend financial safety nets. The standard macroeconomic stabilisation policies can then focus more clearly on their primary objectives and thereby make their own best contribution to growth and well-being. Thank you very much for your kind attention.      \n",
      "====================\n",
      "  Working together for growth in Europe   Introductory remarks by Mario Draghi, President of the ECB,at Deutscher Bundestag, Berlin, 28 September 2016  Introduction Mr Chairman, Honourable Members of the Bundestag, Ladies and gentlemen, Thank you for your invitation. It is a pleasure to speak here in in the halls of the Committee on the Affairs of the European Union, where you bring the debate about European integration to the Bundestag, the heart of German democracy.  As President of the ECB, I\n",
      "...\n",
      "o allow our measures to develop their full impact. And in order to reap the full benefits of our monetary policy measures, other policy areas must contribute much more decisively, both at the national and at the European level. Thank you for your attention. I look forward to your questions.      [1]\n",
      "-------------\n",
      "  Working together for growth in Europe   Introductory remarks by Mario Draghi, President of the ECB,at Deutscher Bundestag, Berlin, 28 September 2016  Introduction Mr Chairman, Honourable Members of the Bundestag, Ladies and gentlemen, Thank you for your invitation. It is a pleasure to speak here in in the halls of the Committee on the Affairs of the European Union, where you bring the debate about European integration to the Bundestag, the heart of German democracy.  As President of the ECB, I\n",
      "...\n",
      "ability using all necessary tools within its mandate. Our monetary policy has supported growth and employment and will eventually bring inflation back to our aim of below, but close to, 2%. Low interest rates today are necessary for a return to higher interest rates in the future. What we need now is to allow our measures to develop their full impact. And in order to reap the full benefits of our monetary policy measures, other policy areas must contribute much more decisively, both at the national and at the European level. Thank you for your attention. I look forward to your questions.      \n",
      "====================\n",
      "   SPEECH Frankfurt am Main (by video conference), 7 July 2020  Unleashing the euro’s untapped potential at global level   Introductory remarks by Fabio Panetta, Member of the Executive Board of the ECB, Meeting with Members of the European Parliament The introduction of the euro has undoubtedly been one of the most profound changes in the international monetary system since the collapse of the Bretton Woods system. Right from the start, the ECB has monitored developments in the international ro\n",
      "...\n",
      "currency at birth. How and whether this international status will evolve in the future remains in the hands of European policymakers. The European Parliament has a key role to play in delivering reforms that will further strengthen people’s confidence in the European project and in the euro.     [1]\n",
      "-------------\n",
      "   SPEECH Frankfurt am Main (by video conference), 7 July 2020  Unleashing the euro’s untapped potential at global level   Introductory remarks by Fabio Panetta, Member of the Executive Board of the ECB, Meeting with Members of the European Parliament The introduction of the euro has undoubtedly been one of the most profound changes in the international monetary system since the collapse of the Bretton Woods system. Right from the start, the ECB has monitored developments in the international ro\n",
      "...\n",
      "c developments. It could amplify the real and financial cross-border spillovers of domestic monetary policy shocks by creating a new channel for their propagation. The magnitude of such effects would depend on the design of the CBDC.  Conclusions Allow me to conclude.  The euro became an international currency at birth. How and whether this international status will evolve in the future remains in the hands of European policymakers. The European Parliament has a key role to play in delivering reforms that will further strengthen people’s confidence in the European project and in the euro.     \n",
      "====================\n",
      "  Presentation of the book entitled “L’acqua e la spugna” by Franco Bruni   Speech by Lorenzo Bini Smaghi, Member of the Executive Board of the ECBCenter for American StudiesRome, 24 June 2009 Above all, I should like to thank the Center for American Studies for inviting me to present this book by Franco Bruni; a book which is a real pleasure to present because it actually shows to be untrue what many have claimed recently, namely that the economists did not foresee the crisis and that they did \n",
      "...\n",
      "nses to questions posed by the parliament. It can be confirmed from this that the ECB reports with the same intensity and frequency as the US central bank. This does not mean that the quality of interaction cannot be improved, but this depends, to a large extent, on the European Parliament.      [1]\n",
      "-------------\n",
      "  Presentation of the book entitled “L’acqua e la spugna” by Franco Bruni   Speech by Lorenzo Bini Smaghi, Member of the Executive Board of the ECBCenter for American StudiesRome, 24 June 2009 Above all, I should like to thank the Center for American Studies for inviting me to present this book by Franco Bruni; a book which is a real pleasure to present because it actually shows to be untrue what many have claimed recently, namely that the economists did not foresee the crisis and that they did \n",
      "...\n",
      "he cannot be distinguished from a certain trend which erroneously considers the ECB to be less accountable than the Federal Reserve, particularly with regard to parliament. The appendix gives details about the methods of reporting to the respective parliaments, in terms of reporting, hearings and responses to questions posed by the parliament. It can be confirmed from this that the ECB reports with the same intensity and frequency as the US central bank. This does not mean that the quality of interaction cannot be improved, but this depends, to a large extent, on the European Parliament.      \n",
      "====================\n"
     ]
    }
   ],
   "source": [
    "test_nb = 10\n",
    "counter = 0\n",
    "for text_ in ecb[\"text\"]:\n",
    "    if isinstance(text_, str):\n",
    "        text = numbered_reference_removal(text_)\n",
    "        text2 = reference_removal_en(text)\n",
    "        if text2 != text:\n",
    "            print(text[:500])\n",
    "            print(\"...\")\n",
    "            print(text[-300:])\n",
    "            print(\"-------------\")\n",
    "            print(text2[:500])\n",
    "            print(\"...\")\n",
    "            print(text2[-600:])\n",
    "            print(\"====================\")\n",
    "            counter += 1\n",
    "    if counter == 10:\n",
    "        break"
   ]
  },
  {
   "cell_type": "code",
   "execution_count": 15,
   "metadata": {},
   "outputs": [
    {
     "data": {
      "text/plain": [
       "'The ECB will keep a watchful eye on technical innovations and assess their possible impact on financial markets. Central counterparties (CCPs) have been in the focus of regulators and central banks since the financial crisis. The Eurosystem is looking for ways to improve the efficiency and lower the costs of its market infrastructure. ECB uses its position as broker to facilitate the harmonisation of market standards.'"
      ]
     },
     "execution_count": 15,
     "metadata": {},
     "output_type": "execute_result"
    }
   ],
   "source": [
    "ecb[\"text_preprocessed\"].iloc[0][0][\"summary_text\"]"
   ]
  },
  {
   "cell_type": "code",
   "execution_count": 16,
   "metadata": {},
   "outputs": [
    {
     "data": {
      "text/plain": [
       "[{'summary_text': 'The ECB will keep a watchful eye on technical innovations and assess their possible impact on financial markets. Central counterparties (CCPs) have been in the focus of regulators and central banks since the financial crisis. The Eurosystem is looking for ways to improve the efficiency and lower the costs of its market infrastructure. ECB uses its position as broker to facilitate the harmonisation of market standards.'}]"
      ]
     },
     "execution_count": 13,
     "metadata": {},
     "output_type": "execute_result"
    }
   ],
   "source": [
    "ecb[\"text_preprocessed\"].iloc[0]"
   ]
  },
  {
   "attachments": {},
   "cell_type": "markdown",
   "metadata": {},
   "source": [
    "What are the N/A entries for text? Do they also have no speaker or no title?"
   ]
  },
  {
   "cell_type": "code",
   "execution_count": 17,
   "metadata": {},
   "outputs": [
    {
     "data": {
      "text/html": [
       "<div>\n",
       "<style scoped>\n",
       "    .dataframe tbody tr th:only-of-type {\n",
       "        vertical-align: middle;\n",
       "    }\n",
       "\n",
       "    .dataframe tbody tr th {\n",
       "        vertical-align: top;\n",
       "    }\n",
       "\n",
       "    .dataframe thead th {\n",
       "        text-align: right;\n",
       "    }\n",
       "</style>\n",
       "<table border=\"1\" class=\"dataframe\">\n",
       "  <thead>\n",
       "    <tr style=\"text-align: right;\">\n",
       "      <th></th>\n",
       "      <th>title</th>\n",
       "      <th>speaker</th>\n",
       "      <th>text</th>\n",
       "      <th>text_preprocessed</th>\n",
       "    </tr>\n",
       "  </thead>\n",
       "  <tbody>\n",
       "    <tr>\n",
       "      <th>40</th>\n",
       "      <td>Die EZB, das Geld und die Wirtschaft: Von A wi...</td>\n",
       "      <td>Sabine Lautenschläger</td>\n",
       "      <td>NaN</td>\n",
       "      <td>Die EZB, das Geld und die Wirtschaft: Von A wi...</td>\n",
       "    </tr>\n",
       "    <tr>\n",
       "      <th>104</th>\n",
       "      <td>Economic situation and outlook</td>\n",
       "      <td>Peter Praet</td>\n",
       "      <td>NaN</td>\n",
       "      <td>Economic situation and outlook</td>\n",
       "    </tr>\n",
       "    <tr>\n",
       "      <th>146</th>\n",
       "      <td>Economic developments in the euro area</td>\n",
       "      <td>Peter Praet</td>\n",
       "      <td>NaN</td>\n",
       "      <td>Economic developments in the euro area</td>\n",
       "    </tr>\n",
       "    <tr>\n",
       "      <th>172</th>\n",
       "      <td>Unequal scars – distributional consequences of...</td>\n",
       "      <td>Isabel Schnabel</td>\n",
       "      <td>NaN</td>\n",
       "      <td>Unequal scars – distributional consequences of...</td>\n",
       "    </tr>\n",
       "    <tr>\n",
       "      <th>220</th>\n",
       "      <td>The economic outlook for the euro area</td>\n",
       "      <td>Philip R. Lane</td>\n",
       "      <td>NaN</td>\n",
       "      <td>The economic outlook for the euro area</td>\n",
       "    </tr>\n",
       "    <tr>\n",
       "      <th>257</th>\n",
       "      <td>Mehr Europa für eine stabile gemeinsame Währung</td>\n",
       "      <td>Isabel Schnabel</td>\n",
       "      <td>NaN</td>\n",
       "      <td>Mehr Europa für eine stabile gemeinsame Währung</td>\n",
       "    </tr>\n",
       "    <tr>\n",
       "      <th>275</th>\n",
       "      <td>Better Regulation“ im Finanzsektor - die Sicht...</td>\n",
       "      <td>Gertrude Tumpel-Gugerell</td>\n",
       "      <td>NaN</td>\n",
       "      <td>Better Regulation“ im Finanzsektor - die Sicht...</td>\n",
       "    </tr>\n",
       "    <tr>\n",
       "      <th>291</th>\n",
       "      <td>The ECB's monetary policy strategy review - IM...</td>\n",
       "      <td>Philip R. Lane</td>\n",
       "      <td>NaN</td>\n",
       "      <td>The ECB's monetary policy strategy review - IM...</td>\n",
       "    </tr>\n",
       "    <tr>\n",
       "      <th>332</th>\n",
       "      <td>Sources of risk and vulnerabilities for financ...</td>\n",
       "      <td>Luis de Guindos</td>\n",
       "      <td>NaN</td>\n",
       "      <td>Sources of risk and vulnerabilities for financ...</td>\n",
       "    </tr>\n",
       "    <tr>\n",
       "      <th>413</th>\n",
       "      <td>Policy Frameworks and Strategies for an Open E...</td>\n",
       "      <td>Philip R. Lane</td>\n",
       "      <td>NaN</td>\n",
       "      <td>Policy Frameworks and Strategies for an Open E...</td>\n",
       "    </tr>\n",
       "    <tr>\n",
       "      <th>497</th>\n",
       "      <td>The ECB's policy response to the COVID-19 pand...</td>\n",
       "      <td>Isabel Schnabel</td>\n",
       "      <td>NaN</td>\n",
       "      <td>The ECB's policy response to the COVID-19 pand...</td>\n",
       "    </tr>\n",
       "    <tr>\n",
       "      <th>509</th>\n",
       "      <td>Die neue geldpolitische Strategie der Europäis...</td>\n",
       "      <td>Isabel Schnabel</td>\n",
       "      <td>NaN</td>\n",
       "      <td>Die neue geldpolitische Strategie der Europäis...</td>\n",
       "    </tr>\n",
       "    <tr>\n",
       "      <th>528</th>\n",
       "      <td>Taking stock: The ECB strategy review and curr...</td>\n",
       "      <td>Philip R. Lane</td>\n",
       "      <td>NaN</td>\n",
       "      <td>Taking stock: The ECB strategy review and curr...</td>\n",
       "    </tr>\n",
       "    <tr>\n",
       "      <th>649</th>\n",
       "      <td>Climate change and monetary policy</td>\n",
       "      <td>Isabel Schnabel</td>\n",
       "      <td>NaN</td>\n",
       "      <td>Climate change and monetary policy</td>\n",
       "    </tr>\n",
       "    <tr>\n",
       "      <th>695</th>\n",
       "      <td>The future of the euro</td>\n",
       "      <td>Philip R. Lane</td>\n",
       "      <td>NaN</td>\n",
       "      <td>The future of the euro</td>\n",
       "    </tr>\n",
       "    <tr>\n",
       "      <th>739</th>\n",
       "      <td>International flows and the pandemic: evidence...</td>\n",
       "      <td>Philip R. Lane</td>\n",
       "      <td>NaN</td>\n",
       "      <td>International flows and the pandemic: evidence...</td>\n",
       "    </tr>\n",
       "    <tr>\n",
       "      <th>747</th>\n",
       "      <td>The ECB’s monetary policy during the coronavir...</td>\n",
       "      <td>Isabel Schnabel</td>\n",
       "      <td>NaN</td>\n",
       "      <td>The ECB’s monetary policy during the coronavir...</td>\n",
       "    </tr>\n",
       "    <tr>\n",
       "      <th>753</th>\n",
       "      <td>The Phillips Curve at the ECB</td>\n",
       "      <td>Philip R. Lane</td>\n",
       "      <td>NaN</td>\n",
       "      <td>The Phillips Curve at the ECB</td>\n",
       "    </tr>\n",
       "    <tr>\n",
       "      <th>788</th>\n",
       "      <td>The resilience of the euro</td>\n",
       "      <td>Philip R. Lane</td>\n",
       "      <td>NaN</td>\n",
       "      <td>The resilience of the euro</td>\n",
       "    </tr>\n",
       "    <tr>\n",
       "      <th>829</th>\n",
       "      <td>Die Geldpolitik der EZB in der Corona-Krise</td>\n",
       "      <td>Isabel Schnabel</td>\n",
       "      <td>NaN</td>\n",
       "      <td>Die Geldpolitik der EZB in der Corona-Krise</td>\n",
       "    </tr>\n",
       "    <tr>\n",
       "      <th>832</th>\n",
       "      <td>The ECB's policy response to the COVID-19 crisis</td>\n",
       "      <td>Isabel Schnabel</td>\n",
       "      <td>NaN</td>\n",
       "      <td>The ECB's policy response to the COVID-19 crisis</td>\n",
       "    </tr>\n",
       "    <tr>\n",
       "      <th>1025</th>\n",
       "      <td>IMF Policy dialogue: New policy frameworks for...</td>\n",
       "      <td>Philip R. Lane</td>\n",
       "      <td>NaN</td>\n",
       "      <td>IMF Policy dialogue: New policy frameworks for...</td>\n",
       "    </tr>\n",
       "    <tr>\n",
       "      <th>1058</th>\n",
       "      <td>The ECB strategy review</td>\n",
       "      <td>Philip R. Lane</td>\n",
       "      <td>NaN</td>\n",
       "      <td>The ECB strategy review</td>\n",
       "    </tr>\n",
       "    <tr>\n",
       "      <th>1280</th>\n",
       "      <td>Europe’s role in a changing global economy</td>\n",
       "      <td>Philip R. Lane</td>\n",
       "      <td>NaN</td>\n",
       "      <td>Europe’s role in a changing global economy</td>\n",
       "    </tr>\n",
       "    <tr>\n",
       "      <th>1383</th>\n",
       "      <td>The resilience of the euro</td>\n",
       "      <td>Philip R. Lane</td>\n",
       "      <td>NaN</td>\n",
       "      <td>The resilience of the euro</td>\n",
       "    </tr>\n",
       "    <tr>\n",
       "      <th>1412</th>\n",
       "      <td>Monetary and Macroprudential Policy Interactions</td>\n",
       "      <td>Peter Praet</td>\n",
       "      <td>NaN</td>\n",
       "      <td>Monetary and Macroprudential Policy Interactions</td>\n",
       "    </tr>\n",
       "    <tr>\n",
       "      <th>1467</th>\n",
       "      <td>Die Geldpolitik der EZB in der Corona-Krise</td>\n",
       "      <td>NaN</td>\n",
       "      <td>NaN</td>\n",
       "      <td>Die Geldpolitik der EZB in der Corona-Krise</td>\n",
       "    </tr>\n",
       "    <tr>\n",
       "      <th>1493</th>\n",
       "      <td>The euro area: a laboratory for international ...</td>\n",
       "      <td>Philip R. Lane</td>\n",
       "      <td>NaN</td>\n",
       "      <td>The euro area: a laboratory for international ...</td>\n",
       "    </tr>\n",
       "    <tr>\n",
       "      <th>1594</th>\n",
       "      <td>Data analysis and monetary policy during the p...</td>\n",
       "      <td>Philip R. Lane</td>\n",
       "      <td>NaN</td>\n",
       "      <td>Data analysis and monetary policy during the p...</td>\n",
       "    </tr>\n",
       "    <tr>\n",
       "      <th>1595</th>\n",
       "      <td>The euro area economic outlook and completion ...</td>\n",
       "      <td>Benoît Cœuré</td>\n",
       "      <td>NaN</td>\n",
       "      <td>The euro area economic outlook and completion ...</td>\n",
       "    </tr>\n",
       "    <tr>\n",
       "      <th>1618</th>\n",
       "      <td>The pandemic and ECB monetary policy</td>\n",
       "      <td>Philip R. Lane</td>\n",
       "      <td>NaN</td>\n",
       "      <td>The pandemic and ECB monetary policy</td>\n",
       "    </tr>\n",
       "    <tr>\n",
       "      <th>1697</th>\n",
       "      <td>The ECB’s policy response to the COVID-19 pand...</td>\n",
       "      <td>Isabel Schnabel</td>\n",
       "      <td>NaN</td>\n",
       "      <td>The ECB’s policy response to the COVID-19 pand...</td>\n",
       "    </tr>\n",
       "    <tr>\n",
       "      <th>1763</th>\n",
       "      <td>Understanding the pandemic emergency purchase ...</td>\n",
       "      <td>Philip R. Lane</td>\n",
       "      <td>NaN</td>\n",
       "      <td>Understanding the pandemic emergency purchase ...</td>\n",
       "    </tr>\n",
       "    <tr>\n",
       "      <th>1765</th>\n",
       "      <td>Die Geldpolitik der EZB in der Corona-Krise</td>\n",
       "      <td>Isabel Schnabel</td>\n",
       "      <td>NaN</td>\n",
       "      <td>Die Geldpolitik der EZB in der Corona-Krise</td>\n",
       "    </tr>\n",
       "  </tbody>\n",
       "</table>\n",
       "</div>"
      ],
      "text/plain": [
       "                                                  title  \\\n",
       "40    Die EZB, das Geld und die Wirtschaft: Von A wi...   \n",
       "104                      Economic situation and outlook   \n",
       "146              Economic developments in the euro area   \n",
       "172   Unequal scars – distributional consequences of...   \n",
       "220              The economic outlook for the euro area   \n",
       "257     Mehr Europa für eine stabile gemeinsame Währung   \n",
       "275   Better Regulation“ im Finanzsektor - die Sicht...   \n",
       "291   The ECB's monetary policy strategy review - IM...   \n",
       "332   Sources of risk and vulnerabilities for financ...   \n",
       "413   Policy Frameworks and Strategies for an Open E...   \n",
       "497   The ECB's policy response to the COVID-19 pand...   \n",
       "509   Die neue geldpolitische Strategie der Europäis...   \n",
       "528   Taking stock: The ECB strategy review and curr...   \n",
       "649                  Climate change and monetary policy   \n",
       "695                              The future of the euro   \n",
       "739   International flows and the pandemic: evidence...   \n",
       "747   The ECB’s monetary policy during the coronavir...   \n",
       "753                       The Phillips Curve at the ECB   \n",
       "788                          The resilience of the euro   \n",
       "829         Die Geldpolitik der EZB in der Corona-Krise   \n",
       "832    The ECB's policy response to the COVID-19 crisis   \n",
       "1025  IMF Policy dialogue: New policy frameworks for...   \n",
       "1058                            The ECB strategy review   \n",
       "1280         Europe’s role in a changing global economy   \n",
       "1383                         The resilience of the euro   \n",
       "1412   Monetary and Macroprudential Policy Interactions   \n",
       "1467        Die Geldpolitik der EZB in der Corona-Krise   \n",
       "1493  The euro area: a laboratory for international ...   \n",
       "1594  Data analysis and monetary policy during the p...   \n",
       "1595  The euro area economic outlook and completion ...   \n",
       "1618               The pandemic and ECB monetary policy   \n",
       "1697  The ECB’s policy response to the COVID-19 pand...   \n",
       "1763  Understanding the pandemic emergency purchase ...   \n",
       "1765        Die Geldpolitik der EZB in der Corona-Krise   \n",
       "\n",
       "                       speaker text  \\\n",
       "40       Sabine Lautenschläger  NaN   \n",
       "104                Peter Praet  NaN   \n",
       "146                Peter Praet  NaN   \n",
       "172            Isabel Schnabel  NaN   \n",
       "220             Philip R. Lane  NaN   \n",
       "257            Isabel Schnabel  NaN   \n",
       "275   Gertrude Tumpel-Gugerell  NaN   \n",
       "291             Philip R. Lane  NaN   \n",
       "332            Luis de Guindos  NaN   \n",
       "413             Philip R. Lane  NaN   \n",
       "497            Isabel Schnabel  NaN   \n",
       "509            Isabel Schnabel  NaN   \n",
       "528             Philip R. Lane  NaN   \n",
       "649            Isabel Schnabel  NaN   \n",
       "695             Philip R. Lane  NaN   \n",
       "739             Philip R. Lane  NaN   \n",
       "747            Isabel Schnabel  NaN   \n",
       "753             Philip R. Lane  NaN   \n",
       "788             Philip R. Lane  NaN   \n",
       "829            Isabel Schnabel  NaN   \n",
       "832            Isabel Schnabel  NaN   \n",
       "1025            Philip R. Lane  NaN   \n",
       "1058            Philip R. Lane  NaN   \n",
       "1280            Philip R. Lane  NaN   \n",
       "1383            Philip R. Lane  NaN   \n",
       "1412               Peter Praet  NaN   \n",
       "1467                       NaN  NaN   \n",
       "1493            Philip R. Lane  NaN   \n",
       "1594            Philip R. Lane  NaN   \n",
       "1595              Benoît Cœuré  NaN   \n",
       "1618            Philip R. Lane  NaN   \n",
       "1697           Isabel Schnabel  NaN   \n",
       "1763            Philip R. Lane  NaN   \n",
       "1765           Isabel Schnabel  NaN   \n",
       "\n",
       "                                      text_preprocessed  \n",
       "40    Die EZB, das Geld und die Wirtschaft: Von A wi...  \n",
       "104                      Economic situation and outlook  \n",
       "146              Economic developments in the euro area  \n",
       "172   Unequal scars – distributional consequences of...  \n",
       "220              The economic outlook for the euro area  \n",
       "257     Mehr Europa für eine stabile gemeinsame Währung  \n",
       "275   Better Regulation“ im Finanzsektor - die Sicht...  \n",
       "291   The ECB's monetary policy strategy review - IM...  \n",
       "332   Sources of risk and vulnerabilities for financ...  \n",
       "413   Policy Frameworks and Strategies for an Open E...  \n",
       "497   The ECB's policy response to the COVID-19 pand...  \n",
       "509   Die neue geldpolitische Strategie der Europäis...  \n",
       "528   Taking stock: The ECB strategy review and curr...  \n",
       "649                  Climate change and monetary policy  \n",
       "695                              The future of the euro  \n",
       "739   International flows and the pandemic: evidence...  \n",
       "747   The ECB’s monetary policy during the coronavir...  \n",
       "753                       The Phillips Curve at the ECB  \n",
       "788                          The resilience of the euro  \n",
       "829         Die Geldpolitik der EZB in der Corona-Krise  \n",
       "832    The ECB's policy response to the COVID-19 crisis  \n",
       "1025  IMF Policy dialogue: New policy frameworks for...  \n",
       "1058                            The ECB strategy review  \n",
       "1280         Europe’s role in a changing global economy  \n",
       "1383                         The resilience of the euro  \n",
       "1412   Monetary and Macroprudential Policy Interactions  \n",
       "1467        Die Geldpolitik der EZB in der Corona-Krise  \n",
       "1493  The euro area: a laboratory for international ...  \n",
       "1594  Data analysis and monetary policy during the p...  \n",
       "1595  The euro area economic outlook and completion ...  \n",
       "1618               The pandemic and ECB monetary policy  \n",
       "1697  The ECB’s policy response to the COVID-19 pand...  \n",
       "1763  Understanding the pandemic emergency purchase ...  \n",
       "1765        Die Geldpolitik der EZB in der Corona-Krise  "
      ]
     },
     "execution_count": 17,
     "metadata": {},
     "output_type": "execute_result"
    }
   ],
   "source": [
    "ecb[ecb.isna().any(axis=1)]"
   ]
  },
  {
   "cell_type": "code",
   "execution_count": 18,
   "metadata": {},
   "outputs": [
    {
     "data": {
      "text/html": [
       "<div>\n",
       "<style scoped>\n",
       "    .dataframe tbody tr th:only-of-type {\n",
       "        vertical-align: middle;\n",
       "    }\n",
       "\n",
       "    .dataframe tbody tr th {\n",
       "        vertical-align: top;\n",
       "    }\n",
       "\n",
       "    .dataframe thead th {\n",
       "        text-align: right;\n",
       "    }\n",
       "</style>\n",
       "<table border=\"1\" class=\"dataframe\">\n",
       "  <thead>\n",
       "    <tr style=\"text-align: right;\">\n",
       "      <th></th>\n",
       "      <th>title</th>\n",
       "      <th>speaker</th>\n",
       "      <th>text</th>\n",
       "    </tr>\n",
       "  </thead>\n",
       "  <tbody>\n",
       "    <tr>\n",
       "      <th>461</th>\n",
       "      <td>Reflections on a Year of Crisis</td>\n",
       "      <td>NaN</td>\n",
       "      <td>Chairman Bernanke delivered the same remarks ...</td>\n",
       "    </tr>\n",
       "    <tr>\n",
       "      <th>494</th>\n",
       "      <td>Liquidity Provision by the Federal Reserve</td>\n",
       "      <td>NaN</td>\n",
       "      <td>Chairman Bernanke presented identical remarks...</td>\n",
       "    </tr>\n",
       "  </tbody>\n",
       "</table>\n",
       "</div>"
      ],
      "text/plain": [
       "                                           title speaker  \\\n",
       "461             Reflections on a Year of Crisis      NaN   \n",
       "494  Liquidity Provision by the Federal Reserve      NaN   \n",
       "\n",
       "                                                  text  \n",
       "461   Chairman Bernanke delivered the same remarks ...  \n",
       "494   Chairman Bernanke presented identical remarks...  "
      ]
     },
     "execution_count": 18,
     "metadata": {},
     "output_type": "execute_result"
    }
   ],
   "source": [
    "fed[fed.isna().any(axis=1)]"
   ]
  },
  {
   "attachments": {},
   "cell_type": "markdown",
   "metadata": {},
   "source": [
    "FED is okay. In ECB, if there is no text, there is at least a title, so we can still work with that."
   ]
  },
  {
   "attachments": {},
   "cell_type": "markdown",
   "metadata": {},
   "source": [
    "Let us view the speakers."
   ]
  },
  {
   "cell_type": "code",
   "execution_count": 19,
   "metadata": {},
   "outputs": [
    {
     "data": {
      "text/plain": [
       "Jean-Claude Trichet            216\n",
       "Benoît Cœuré                   191\n",
       "Mario Draghi                   186\n",
       "Yves Mersch                    161\n",
       "Peter Praet                    129\n",
       "Vítor Constâncio               126\n",
       "Lorenzo Bini Smaghi            105\n",
       "Gertrude Tumpel-Gugerell        99\n",
       "Sabine Lautenschläger           85\n",
       "José Manuel González-Páramo     84\n",
       "Jürgen Stark                    80\n",
       "Luis de Guindos                 57\n",
       "Jörg Asmussen                   51\n",
       "Lucas Papademos                 45\n",
       "Isabel Schnabel                 42\n",
       "Christine Lagarde               41\n",
       "Philip R. Lane                  40\n",
       "Fabio Panetta                   26\n",
       "Frank Elderson                   7\n",
       "Name: speaker, dtype: int64"
      ]
     },
     "execution_count": 19,
     "metadata": {},
     "output_type": "execute_result"
    }
   ],
   "source": [
    "ecb[\"speaker\"].value_counts()"
   ]
  },
  {
   "cell_type": "code",
   "execution_count": 20,
   "metadata": {},
   "outputs": [
    {
     "data": {
      "text/plain": [
       "Chairman Ben S. Bernanke                        145\n",
       "Governor Lael Brainard                           68\n",
       "Governor Daniel K. Tarullo                       54\n",
       "Governor Jerome H. Powell                        50\n",
       "Vice Chairman Stanley Fischer                    45\n",
       "Governor Elizabeth A. Duke                       44\n",
       "Chair Janet L. Yellen                            44\n",
       "Vice Chairman Donald L. Kohn                     41\n",
       "Vice Chair for Supervision Randal K. Quarles     39\n",
       "Governor Randall S. Kroszner                     36\n",
       "Chairman Jerome H. Powell                        32\n",
       "Governor Frederic S. Mishkin                     26\n",
       "Vice Chairman Richard H. Clarida                 26\n",
       "Vice Chair Janet L. Yellen                       22\n",
       "Governor Sarah Bloom Raskin                      17\n",
       "Governor Kevin Warsh                             16\n",
       "Governor Jeremy C. Stein                         16\n",
       "Governor Michelle W. Bowman                      13\n",
       "Governor Susan S. Bies                            3\n",
       "Name: speaker, dtype: int64"
      ]
     },
     "execution_count": 20,
     "metadata": {},
     "output_type": "execute_result"
    }
   ],
   "source": [
    "fed[\"speaker\"].value_counts()"
   ]
  },
  {
   "attachments": {},
   "cell_type": "markdown",
   "metadata": {},
   "source": []
  },
  {
   "cell_type": "code",
   "execution_count": null,
   "metadata": {},
   "outputs": [],
   "source": []
  },
  {
   "cell_type": "code",
   "execution_count": null,
   "metadata": {},
   "outputs": [],
   "source": []
  },
  {
   "attachments": {},
   "cell_type": "markdown",
   "metadata": {},
   "source": [
    "Let us view the text languages."
   ]
  },
  {
   "cell_type": "code",
   "execution_count": 21,
   "metadata": {},
   "outputs": [],
   "source": [
    "ecb[\"lang\"] = ecb[\"text_preprocessed\"].apply(lambda x : detect(x[:500]), )\n",
    "fed[\"lang\"] = fed[\"text\"].apply(lambda x : detect(x[:500]))"
   ]
  },
  {
   "cell_type": "code",
   "execution_count": 22,
   "metadata": {},
   "outputs": [
    {
     "data": {
      "text/plain": [
       "en    1646\n",
       "de      75\n",
       "fr      31\n",
       "es      16\n",
       "it       4\n",
       "Name: lang, dtype: int64"
      ]
     },
     "execution_count": 22,
     "metadata": {},
     "output_type": "execute_result"
    }
   ],
   "source": [
    "ecb[\"lang\"].value_counts()"
   ]
  },
  {
   "cell_type": "code",
   "execution_count": 23,
   "metadata": {},
   "outputs": [
    {
     "data": {
      "text/plain": [
       "en    739\n",
       "Name: lang, dtype: int64"
      ]
     },
     "execution_count": 23,
     "metadata": {},
     "output_type": "execute_result"
    }
   ],
   "source": [
    "fed[\"lang\"].value_counts()"
   ]
  },
  {
   "cell_type": "code",
   "execution_count": 24,
   "metadata": {},
   "outputs": [
    {
     "data": {
      "text/plain": [
       "2565448"
      ]
     },
     "execution_count": 24,
     "metadata": {},
     "output_type": "execute_result"
    }
   ],
   "source": [
    "ecb[ecb[\"lang\"] != \"en\"][\"text_preprocessed\"].str.len().sum(skipna=True)"
   ]
  },
  {
   "cell_type": "code",
   "execution_count": 25,
   "metadata": {},
   "outputs": [
    {
     "data": {
      "text/plain": [
       "'  Die Finanzmarktunion als Element einer stabilen Währungsunion?   Rede von Jörg Asmussen, Mitglied des Direktoriums der EZB, Handelsblatt Jahrestagung „Banken im Umbruch“, Frankfurt am Main, 4. September 2012 Sehr geehrte Damen und Herren,  Ein Satz in der Schlusserklärung des Euro-Gipfels vom 28. Juni dieses Jahres sorgte für Aufhorchen und viel Diskussionsstoff über den Sommer – ich zitiere: „ Sobald unter Einbeziehung der EZB ein wirksamer einheitlicher Aufsichts\\xadmechanismus für Banken des Euro-Währungs\\xadgebiets eingerichtet worden ist, hätte der ESM nach einem ordentlichen Beschluss die Möglich\\xadkeit, Banken direkt zu rekapitalisieren.“  Hier wurde der Anfang einer Finanzmarktunion beschlossen. Als Beitrag zu dieser Diskussion möchte ich im Folgenden gerne drei Aspekte aufgreifen:    Wo stehen wir bei der Finanzmarkt\\xadregulierung? Wie stellt sich aktuell die Lage an den Finanzmärkten dar?   Warum ist eine Finanzmarktunion not\\xadwendig geworden? Wie soll diese aus\\xadsehen?   Welche Rolle kann der EZB innerhalb der neuen Aufsichtsarchitektur zukommen, welche Bedingungen müssen erfüllt sein?    Wo stehen wir bei der Finanzmarkt\\xadregulierung? Wie ist die Lage an den Finanzmärkten? Seit 2008 haben sich die Staats- und Regie\\xadrungschefs der G20 wiederholt zu einem ge\\xadmeinsamen Vorgehen für mehr und bessere Re\\xadgulierung geeignet. Es herrschte Konsens über eine zentrale Lehre der Krise: dass alle syste\\xadmisch relevanten Institute, Märkte und Instru\\xadmente angemessen reguliert und beaufsichtigt werden sollten. Die Europäer verstärkten ihre Bemühungen, ein so genanntes „Single Rule\\xadbook“ zu erarbeiten, durch eine Vielzahl von Verordnungen und Richtlinien, über ein Dutzend seit Krisenbeginn. Dass deren Be\\xadnennung meist eine veritable Buchstabensuppe ist – CRD\\xa0IV, MiFID, EMIR, usw. ist ein Indiz, dass die Materie ist hochkomplex ist.  Die ersten drei G20-Gipfel der Staats- und Re\\xadgierungschefs in Washington, London und vor allen Pittsburgh haben in der Finanzmarkt\\xadregulierung weit überdurchschnittliche Ergeb\\xadnisse hervorgebracht, andere Gipfel haben in anderen Bereichen Erfolge erzielen können, zum Beispiel der Gipfel in Seoul bei der IWF-Reform. Inzwischen hat der G20-Prozess auch bezogen auf die Finanzmarktregulierung an Fahrt verloren. Wir müssen uns bemühen, den verlorengegangenen „drive“ zurückzugewinnen. Die Häufung von zumindest individuellem Fehl\\xadverhalten in großen Finanzinstitutionen zeigt, dass eine scharfe Regulierung notwendig ist, weil entweder interne Kontrollmechanismen oder die externe Aufsicht nicht funktioniert haben. Ich bin davon heute mehr überzeugt als je zuvor. Es gilt grundsätzlich in Rechtsstaaten die Un\\xadschuldsvermutung, aber wenn sich die Vorwürfe bewahrheiten sollten, werden die Auswirkungen der LIBOR- Manipulationen bei weitem noch nicht absehbar sein. Das Monitoring des Financial Stability Board (FSB) zeigt, dass viele nationale Gesetzgeber angesichts der Fülle neuer Finanzmarktgesetz\\xadgebung überlastet sind und in der Umsetzung zeitlich hinterherhinken. Auch die Europäische Union sieht sich mit der Herausforderung „glei\\xadche Regeln – ungleiche Umsetzung“ kon\\xadfrontiert. Trotz der großen Bemühungen der Europäischen Bankenbehörde (EBA) leidet der Ansatz des „Single Rulebooks“ unter einer un\\xadeinheitlichen Umsetzung. Die neue Gesetz\\xadgebung – beispielsweise die Richtlinie und Ver\\xadordnung zu verbesserten Eigenkapitalanforderungen – über\\xadlässt den nationalen Aufsichtsbehörden einen erheblichen Ermessensspielraum.  Zahlreiche der neuen Finanzmarktregelungen sind sehr komplex. Zu Recht kann man die Frage stellen, ob die hohe Komplexität der Re\\xadgulierung nicht zu Intransparenz und Unsicher\\xadheit bei Marktteilnehmern führt, und folglich in Bezug auf die Finanzmarktstabilität das Gegen\\xadteil vom dem erreicht, was erreicht werden sollte. Wären einfachere Regeln nicht die bessere Alternative? Dieser Frage ist zum Beispiel Andrew Haldane von der Bank of England in einen Research Paper nach\\xadgegangen, das er vor wenigen Tagen in Jackson Hole vorgestellt hat. Ich nutze im Folgenden kurz seine Erkenntnisse. Wenn man den Seitenumfang der Regulierung als Maßgabe für die Komplexität der Regelun\\xadgen nimmt, was sicher eine unzulässige Verein\\xadfachung ist, aber einen guten ersten Anhaltspunkt gibt, dann stellt es sich wie folgt dar: Basel 1 hatte 30 Seiten. Basel 2 schon 350 Seiten und Basel 3 hat 620 Seiten. Dazu kom\\xadmen tausende Seiten regionaler und/oder natio\\xadnaler Umsetzung. Haldane kommt mittels empirischer Analysen und nicht nur durch Seiten-Zählen zu dem Er\\xadgebnis, dass einfache Regeln nicht weniger effektiv seien als komplexe. Ich weiß natürlich, dass einfachere Regeln oft die so\\xadgenannte Einzelfallgerechtigkeit verletzen. Ich weiß natürlich auch, dass die Komplexität der Regeln oft einer erfolgreichen Lobbyarbeit ge\\xadschuldet ist, um für ein spezielles Geschäfts\\xadmodell eine passgenaue Lösung zu finden. Aber ich finde die Grundfrage von Andrew Haldane richtig, und werde weiter darüber nachdenken. Aktuell stellt sich die Lage an den Finanz\\xadmärkten wie folgt dar: Wir beobachten im Euroraum einen Prozess der Fragmentierung des gemeinsamen Finanzmarktes, es findet eine Renationalisierung statt. Beispiels\\xadweise ist der Anteil der grenzüberschreitenden Kredite auf den Geldmärkten zwischen Mitte 2011 und heute von 60 Prozent auf 40\\xa0Prozent gesunken. In mehreren Ländern haben die aus\\xadländischen Bankeinlagen das niedrigste Niveau seit Anfang 2008 erreicht. Banken nutzen zu\\xadnehmend inländische Sicherheiten beim Zugang zu EZB-Fazilitäten.  Der Kern dieses – bildlich gesprochen – Wiederaufbaus der Schlagbäume ist die starke finanzielle Verflechtung zwischen einzelnen Staaten und ihren Bankensystemen. Fehlendes Vertrauen gegenüber den Banken in den be\\xadtroffenen Mitgliedsstaaten führt außerdem zu einer starken Abhängigkeit einiger Banken\\xadsysteme von Zentralbankliquidität.  Diese Ab\\xadwärtsspirale hat entscheidend dazu beigetragen, dass sich die Lage auf den Finanzmärkten im Euroraum seit Mitte letzten Jahres noch einmal verschlechtert hat. Die Risikoprämien von Staatsanleihen spiegeln mittlerweile nicht nur das Insolvenzrisiko einzelner Staaten wider, sondern sogar ein Wechselkursrisiko, welches es in einer Währungsunion theoretisch nicht geben dürfte. Die Märkte preisen also ein Auseinanderbrechen des Euroraums ein.  Für eine Währungsunion sind solche systemi\\xadschen Zweifel nicht akzeptabel. Nur eine Wäh\\xadrung, an deren Bestand es keinen Zweifel gibt, ist eine stabile Währung. Denn diese Zweifel haben folgenschwere Auswirkungen für die ge\\xadmeinsame Geldpolitik: ein geldpolitisches Sig\\xadnal, wie es die EZB beispielsweise mit der Zins\\xadsenkung im Juli gesetzt hat, kommt unein\\xadheitlich oder zum Teil überhaupt nicht in der Realwirtschaft an. Die EZB hat gestern Daten veröffentlicht, die das eindrucksvoll zeigen: So zahlen kleine Unternehmen in Spanien für einen Kredit bis zu 1 Mio EUR und einer Laufzeit von mehr als einem und bis zu 5 Jahren derzeit 6,5% Zinsen, so viel wie noch nie seit 2008. In Italien sind es aktuell 6,24%, während der gleiche Unternehmenskredit in Deutschland für rund 4% zu haben ist und das bei gleichem Leitzins.  Der Leitzins, der eigentlich „leiten“ soll, tut dies nur noch eingeschränkt.   2. Warum ist eine Finanzmarktunion notwendig geworden? Wie soll diese aussehen? Trotz der Fragmentierung der europäischen Finanzmärkte, die wir jüngst beobachten und die ich gerade beschrieben habe, hat die Ent\\xadwicklung seit der Bankenkrise 2007/2008 in Europa vor allem eines gezeigt: der Banken\\xadsektor ist in Europa vielfach so eng mit der Staatsfinanzierung verwoben, dass Probleme in dem einen Bereich zu Ansteckungseffekten in dem jeweils anderen Bereich führen können, bis beide wanken und sich zum gesamteuropäischen Problem entwickeln können, das innerhalb eines Mitgliedsstaates nicht mehr zu lösen ist, weil die finanziellen Mittel fehlen und es strukturelle Schwächen gibt. Die Problemfälle sind Ihnen bekannt: In Irland sprang der Staat dem über\\xaddimensionierten Finanzsektor zur Seite und ge\\xadriet daraufhin selbst ins Straucheln; ähnliches erleben wir gerade in Zypern. In Griechenland haben wir die umgekehrte Situation vorge\\xadfunden. Marode Staatsfinanzen belasten auch die heimischen Bankbilanzen schwer, weil die Ab\\xadnehmer für griechische Staatsanleihen vor allem die griechischen Banken waren. In der Folge ist wiederum die Staatsfinanzierung erschwert, weil die heimischen Banken die Anleihen nicht mehr aufnehmen können. Spanien wurde in der Finanzmarktkrise vielfach gelobt, weil die Auf\\xadsicht dort erfolgreich den Flächenbrand durch überkomplexe, strukturierte Produkte verhindern konnte. Nicht toxische assets wurden zum Problem für spanische Banken, sondern das Platzen einer klassischen Immobilienblase und vielfach darin verstrickt waren spanische Spar\\xadkassen, deren Stützung jetzt die Regionen und den spanischen Zentralstaat schwer belastet. Neben dieser verhängnisvollen Verzahnung von Banken- und Staaten hat die Krise die allge\\xadmeine Frage aufgeworfen, welches Gewicht Überlegungen zur Finanzmarktstabilität in Europa haben, wenn der Aufseher Teil der nationalen Exekutive und damit in erster Linie gegenüber einem nati\\xadonalen Parlament und letztlich gegenüber dem nationalen Steuerzahler verantwortlich ist. Wir haben hier in den vergangenen Jahren sehen können, dass Partikularinteressen in Konflikt mit dem Interesse an Finanzstabilität in Europa geraten können. Wenn die Finanzmarktstabilität in ganz Europa gefährden ist, dann sollten wir eine gesamteuropäische Antwort hierauf finden, und diese Antwort lautet: wir sollten eine Finanz\\xadmarktunion schaffen. Das bringt mich zu der Frage: Wie sähe eine solche Finanzmarktunion aus? Die neue Archi\\xadtektur sollte am Ende des Prozesses folgende drei Säulen aufweisen:   Erstens, eine europäische Bankenaufsicht, die über ausreichende Instrumente und Kompetenzen verfügt. Sie muss eine ein\\xadheitliche Umsetzung des europäischen Regelwerks sicherstellen. Diese Banken\\xadaufsicht muss auch in der Lage sein, nicht lebensfähige Institute zu schließen und zur Abwicklung zu übergeben.   Zweitens, eine europäische Abwicklungsbe\\xadhörde und ein einheitliches Regelwerk zur Abwicklung instabiler systemrelevanter Banken. Diese Behörde muss im Notfall auf einen durch die Finanzindustrie finanzierten Fonds zurück\\xadgreifen können. Das verhindert dass natio\\xadnale Haushalte und Steuerzahler belastet werden.    Drittens sollte die Einlagensicherung auf eu\\xadropäischer Ebene organisiert oder zu\\xadmindest weiter harmonisiert werden.    Alle drei Elemente bedingen sich gegenseitig. Man stelle sich einen Hocker mit drei Beinen vor: Fehlt ein Bein, kippt der Hocker um. Die Bankenaufsicht kann nur effektiv und sinnvoll agieren, wenn sie auch über vollständige Infor\\xadmationen, z. B. zur Einlagensicherung verfügt und sie kann auch nur dann effektiv handeln, wenn sie beispielsweise die Abwicklung eines Instituts anordnen kann. Was nützt ein Brandmelder, wenn im Ernst\\xadfall keine Feuerwehr ausrücken kann, oder die Feuerwehr nicht weiß, was eigentlich brennt. Darüber hinaus sollte geprüft werden, die Zu\\xadständigkeit der Finanzmarktunion auf weitere Bereiche auszuweiten. Ich denke dabei insbe\\xadsondere an zentrale Marktinfrastrukturen wie zentrale Clearinghäuser (Central Counterparties – CCPs). Die Schaffung einer einheitlichen Banken\\xadaufsicht für den Euroraum ist eine unbedingte Voraussetzung für eine direkte Rekapitalisierung der Banken durch den Europäischen Stabilitäts\\xadmechanismus (ESM). Dieses Junktim zwischen Mittelverwendung und Kontrolle ist unverzicht\\xadbar.   3. Welche Rolle kommt der EZB innerhalb der neuen Aufsichtsarchitektur zu? Welche Bedingungen müssen erfüllt sein Doch welche Rolle kommt nun der EZB inner\\xadhalb der neuen Aufsichtsarchitektur zu? In einer Woche, am 12. September, wird die Europäische Kommission ihre Gesetzgebungs\\xadvorschläge für eine europäische Bankenaufsicht vorstellen. Einige Details des Vorschlags sind durch ein Interview von Kommissar Barnier in der Süd\\xaddeutschen Zeitung bereits bekannt geworden. Demnach soll die EZB eine wichtige Rolle innerhalb einer europäischen Bankenaufsicht übernehmen.  Die EZB hat zusammen mit den nationalen Zentralbanken bereits bekräftigt, dass sie bereit ist, als Aufsichtsbehörde Verantwortung zu übernehmen.  Das ist bei manchen auf Unverständnis gestoßen. Einige meinen, eine Zentralbank sollte sich grundsätzlich aus der Einzelinstitutsaufsicht heraushalten. Zu groß sei der Interessenkonflikt, zum Beispiel einen Geschäftspartner von geldpolitischen Operationen am Leben zu erhalten, obwohl eine Abwicklung notwendig wäre. Andere befürchten eine Machtkonzentra\\xadtion bei der EZB als europäischer Superbehörde. Wir sind uns dieser Befürchtungen sehr wohl bewusst. Deshalb wird die EZB Aufgaben bei der Aufsicht nur übernehmen, wenn bestimmte Bedingungen erfüllt sind:   Erstens muss das vorrangige Ziel der Preis\\xadstabilität unangetastet bleiben. Die Geld\\xadpolitik muss von der Bankenaufsicht nach außen und nach innen organisatorisch und auch personell getrennt werden. Mittel dazu sind chinesische Mauern und die Schaffung eines neuen Entscheidungsgremiums neben dem EZB-Rat, das für alle Aufsichts\\xadaufgaben zuständig ist. Fakt ist, dass schon heute 14 der 17 nationalen Zentralbanken des Euroraums Aufsichtsaufgaben haben.    Zweitens wird die EZB darauf achten, dass ihre Unabhängigkeit in keiner Weise beinträchtig wird. Gleichzeitig ist aber auch klar, dass Aufgaben der Bankenaufsicht der parlamentarischen und gerichtlichen Kon\\xadtrolle unterstehen müssen. Denn Banken\\xadaufsicht ist hoheitliches Handeln, durch das in Grundrechte der Betroffenen eingegrif\\xadfen werden kann. Wir stehen den not\\xadwendigen Rechenschaftspflichten einer europäischen Bankenaufsicht bei der EZB aufgeschlossen gegenüber. Dies gilt sowohl gegenüber dem europäischen Parlament also auch gegenüber dem Ministerrat der EU.    Drittens muss das Gesetz die EZB mit allen Instrumenten ausstatten, die notwendig sind, um die Aufgaben einer Banken\\xadaufsicht effektiv ausüben zu können. Es muss der EZB möglich sein, den reichen Erfahrungs\\xadschatz und das technische Knowhow der nationalen Zentralbanken zu nutzen. Denn klar ist, dass viele Aufsichts\\xadaufgaben auch morgen nur vor Ort ausge\\xadführt werden können. Gleichzeitig muss eine einheitliche Umsetzung der europäi\\xadschen Richtlinien sichergestellt werden. Von besonderer Bedeutung ist vor allem der direkte Zugang zu allen notwendigen Informationen über die beaufsichtigten In\\xadstitute, wie beispielsweise Prüfungsberichte über bankgeschäftliche Prüfungen oder Auswertungsberichte zu Jahresabschlüssen. Die EZB muss darüber hinaus über ausreichende Eingriffsrechte verfügen und, wie schon erwähnt, das Recht haben, nicht lebensfähige Banken notfalls zu schließen. Ohne diese Mindestausstattung wird die EZB aus meiner Sicht keine Verantwortung übernehmen, denn das Risiko für den Ruf der Institution wäre zu groß, das Reputationsrisiko liegt alleine bei uns.\\u2028Bis zur Umsetzung der Kommissionsvorschläge müssen neben diesen Aspekten eine ganze Reihe wichtiger Gestaltungsfragen geklärt werden.    Wie würde die Aufgabenteilung zwischen der EZB und den anderen europäischen Aufsichtsbehörden – insbesondere der Europäischen Bankenbehörde (EBA) – aus\\xadsehen? Denkbar wäre es aus meiner Sicht, dass die EBA weiterhin für die Weiterent\\xadwicklung des „Single Rulebook“ im Binnenmarkt der EU 27 zuständig ist.    Wird die europäische Bankenaufsicht nur die Banken der Eurozone oder der ganzen EU beaufsichtigen?\\u2028Eine funktionierende Finanzmarktunion ist vor allem ein An\\xadliegen der Währungsunion. Aus dieser Sicht wäre ein Fokus auf die Institute des Euroraums sinnvoll. Nicht-Euro-Staaten sollte es aber frei stehen, ihre Institute ebenfalls der europäischen Aufsicht zu unterstellen.   Wird es um Banken jeder Größenordnung gehen oder nur um die systemisch relevan\\xadten?\\u2028Aus meiner persönlichen Sicht ist es sinnvoll, zumindest anfangs die euro\\xadpäische Aufsicht auf die europaweit und national systemisch relevanten Institute zu begrenzen. Zum Jahres\\xadanfang 2013 eine Aufsicht über alle Banken des Euroraums zu organisieren, ist weder zielführend noch darstellbar. Wichtig ist, dass die europäische Aufsicht auch operati\\xadonal zu einer effizienten Aufsicht von An\\xadfang an in der Lage ist.   Wie sieht die Arbeitsteilung zwischen der EZB und den nationalen Behörden aus?\\u2028Bei der operativen Arbeitsteilung stehen wir vor einer Kernherausforderung. Zum einen muss die Expertise vor Ort maximal einge\\xadsetzt werden. Gleichzeitig muss aber auch ein einheitlicher Aufsichtsstandard im gan\\xadzen Euroraum gewährleistet ist – nicht zu\\xadletzt auch damit für die Banken selbst das System nicht noch weiter verkompliziert wird. Das könnte erreicht werden, wenn pro Institut ein gemischtes Aufsichtsteam aus nationalen und europäischen Experten ge\\xadbildet würde. Dieses Team könnte auch als einheitlicher Ansprechpartner gegenüber der Bank fungieren.\\u2028Die europäische Auf\\xadsicht müsste die Möglichkeit haben, die tagtägliche Aufsicht über kleinere Institute an die nationalen Behörden zurückzu\\xaddelegieren. Einzelne Fälle müsste sie aber ohne Weiteres wieder an sich ziehen kön\\xadnen.\\u2028Zwar muss der ESM möglichst bald in der Lage sein, Banken direkt zu rekapitalisieren. Es geht aber auch darum, die Dinge richtig zu machen und nicht unter Zeitdruck halbfertige Lösungen festzuschreiben. \\u2028Ich möchte auch daran erinnern, dass eine Finanzmarkunion alleine die Krise nicht lösen kann. Selbst eine optimal aufgestellte Finanz\\xadmarktunion könnte nicht dafür sorgen, dass der griechische Haushalt ins Gleichgewicht kommt oder sich die Wettbewerbsfähigkeit Portugals erhöht. Denn Gründe für die Krise sind auch in den Bereichen der gemeinsamen Haushalts\\xadpolitik und Wirtschaftspolitik zu suchen. \\u2028Europa muss sich jetzt entscheiden. Entweder wir vollenden die Integration des Euroraums, indem wir bei Finanzmarktpolitik, Haushalts\\xadpolitik, Wirtschaftspolitik und demokratischer Kontrolle Souveränität mit Europa teilen. Oder wir entscheiden uns für den anderen Weg, ein dezentralisiertes Europa. Das bedeutet dann aber auch, dass wir die großen wirtschaftlichen Ge\\xadwinne, die uns Währungsunion und Binnen\\xadmarkt gebracht haben, aufs Spiel setzen. \\u2028Um das zu vermeiden, sollten wir die Architek\\xadtur der Wirtschafts- und Währungsunion voll\\xadenden. Dazu sind neben der Finanzmarktunion noch drei weitere Bausteine unverzichtbar:     Eine Fiskalunion   Eine echte Wirtschaftsunion    Eine demokratisch legitimierte politische Union    Diese vier Bausteine gehören zusammen und bedingen einander. Fortschritte in nur einem der vier Bereiche werden nicht ausreichen, alle vier Aspekte sind für ein Funktionieren der Wirt\\xadschafts- und Währungsunion, sind für die Zu\\xadkunft eines stabilen Euros unverzichtbar.  Meine Antwort in dieser Situation ist eindeutig: Mehr Europa, ein besseres Europa. Aber nicht als Selbstzweck. Son\\xaddern als der Weg, der Europas Bürgern Wohl\\xadstand, Freiheit und Sicherheit in der globalisierten Welt des 21. Jahrhunderts sichert. Meine Damen und Herren,  Ihre Tagung steht unter dem Motto „Banken im Umbruch“. Auch die institutionelle Architektur der Eurozone ist derzeit „im Umbruch“. Damit dieser „Umbruch“ ein „Aufbruch“ wird, hin zu einer stabilen, prosperierenden und vertieften Währungsunion, brauchen wir eine breite Diskussion – auch hier und jetzt gleich mit Ihnen. Darauf freue ich mich. Vielen Dank für Ihre Aufmerksamkeit. ***  '"
      ]
     },
     "execution_count": 25,
     "metadata": {},
     "output_type": "execute_result"
    }
   ],
   "source": [
    "ecb.loc[31][\"text\"]"
   ]
  },
  {
   "cell_type": "code",
   "execution_count": null,
   "metadata": {},
   "outputs": [],
   "source": []
  }
 ],
 "metadata": {
  "kernelspec": {
   "display_name": "Python 3.9.12 ('base')",
   "language": "python",
   "name": "python3"
  },
  "language_info": {
   "codemirror_mode": {
    "name": "ipython",
    "version": 3
   },
   "file_extension": ".py",
   "mimetype": "text/x-python",
   "name": "python",
   "nbconvert_exporter": "python",
   "pygments_lexer": "ipython3",
   "version": "3.9.12"
  },
  "orig_nbformat": 4,
  "vscode": {
   "interpreter": {
    "hash": "40d3a090f54c6569ab1632332b64b2c03c39dcf918b08424e98f38b5ae0af88f"
   }
  }
 },
 "nbformat": 4,
 "nbformat_minor": 2
}
