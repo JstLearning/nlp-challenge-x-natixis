{
 "cells": [
  {
   "attachments": {},
   "cell_type": "markdown",
   "metadata": {},
   "source": [
    "# Preprocessing data for the Data Challenge"
   ]
  },
  {
   "cell_type": "code",
   "execution_count": 4,
   "metadata": {},
   "outputs": [
    {
     "name": "stdout",
     "output_type": "stream",
     "text": [
      "Collecting langdetect\n",
      "  Downloading langdetect-1.0.9.tar.gz (981 kB)\n",
      "\u001b[2K     \u001b[90m━━━━━━━━━━━━━━━━━━━━━━━━━━━━━━━━━━━━━━\u001b[0m \u001b[32m981.5/981.5 kB\u001b[0m \u001b[31m10.0 MB/s\u001b[0m eta \u001b[36m0:00:00\u001b[0ma \u001b[36m0:00:01\u001b[0m\n",
      "\u001b[?25h  Preparing metadata (setup.py) ... \u001b[?25ldone\n",
      "\u001b[?25hRequirement already satisfied: six in /opt/anaconda3/lib/python3.9/site-packages (from langdetect) (1.16.0)\n",
      "Building wheels for collected packages: langdetect\n",
      "  Building wheel for langdetect (setup.py) ... \u001b[?25ldone\n",
      "\u001b[?25h  Created wheel for langdetect: filename=langdetect-1.0.9-py3-none-any.whl size=993225 sha256=e23d095184074a7fc2df5fcffcc4247c9b14007ec456d793d29b29f0e8bb12cf\n",
      "  Stored in directory: /Users/solenedebuysere/Library/Caches/pip/wheels/6a/67/f8/9cf1a8ff87e0b37f738769df49cc142a655489a6d27b68089f\n",
      "Successfully built langdetect\n",
      "Installing collected packages: langdetect\n",
      "Successfully installed langdetect-1.0.9\n"
     ]
    }
   ],
   "source": [
    "!pip install langdetect"
   ]
  },
  {
   "cell_type": "code",
   "execution_count": 5,
   "metadata": {},
   "outputs": [],
   "source": [
    "import pandas as pd\n",
    "import numpy as np\n",
    "\n",
    "import matplotlib.pyplot as plt\n",
    "\n",
    "import torch\n",
    "import torch.nn as nn\n",
    "from torch.utils.data import DataLoader\n",
    "\n",
    "from sklearn.model_selection import train_test_split\n",
    "\n",
    "import time\n",
    "import re\n",
    "from langdetect import detect\n",
    "\n",
    "from collections import Counter\n",
    "\n",
    "import gc"
   ]
  },
  {
   "cell_type": "code",
   "execution_count": 6,
   "metadata": {},
   "outputs": [],
   "source": [
    "FILENAME = \"../data/train_series.csv\"\n",
    "FILENAME_ECB = \"../data/ecb_data.csv\"\n",
    "FILENAME_FED = \"../data/fed_data.csv\""
   ]
  },
  {
   "cell_type": "code",
   "execution_count": 7,
   "metadata": {},
   "outputs": [],
   "source": [
    "ecb = pd.read_csv(FILENAME_ECB, index_col=0)\n",
    "fed = pd.read_csv(FILENAME_FED, index_col=0)"
   ]
  },
  {
   "cell_type": "code",
   "execution_count": 8,
   "metadata": {},
   "outputs": [
    {
     "data": {
      "text/html": [
       "<div>\n",
       "<style scoped>\n",
       "    .dataframe tbody tr th:only-of-type {\n",
       "        vertical-align: middle;\n",
       "    }\n",
       "\n",
       "    .dataframe tbody tr th {\n",
       "        vertical-align: top;\n",
       "    }\n",
       "\n",
       "    .dataframe thead th {\n",
       "        text-align: right;\n",
       "    }\n",
       "</style>\n",
       "<table border=\"1\" class=\"dataframe\">\n",
       "  <thead>\n",
       "    <tr style=\"text-align: right;\">\n",
       "      <th></th>\n",
       "      <th>title</th>\n",
       "      <th>speaker</th>\n",
       "      <th>text</th>\n",
       "    </tr>\n",
       "  </thead>\n",
       "  <tbody>\n",
       "    <tr>\n",
       "      <th>0</th>\n",
       "      <td>Comments by Yves Mersch at Financial Services ...</td>\n",
       "      <td>Yves Mersch</td>\n",
       "      <td>Comments by Yves Mersch at Financial Service...</td>\n",
       "    </tr>\n",
       "    <tr>\n",
       "      <th>1</th>\n",
       "      <td>Securing sustained economic growth in the euro...</td>\n",
       "      <td>Vítor Constâncio</td>\n",
       "      <td>Securing sustained economic growth in the eu...</td>\n",
       "    </tr>\n",
       "    <tr>\n",
       "      <th>2</th>\n",
       "      <td>The role of monetary policy in addressing the ...</td>\n",
       "      <td>Mario Draghi</td>\n",
       "      <td>The role of monetary policy in addressing th...</td>\n",
       "    </tr>\n",
       "    <tr>\n",
       "      <th>3</th>\n",
       "      <td>The pandemic emergency: the three challenges f...</td>\n",
       "      <td>Philip R. Lane</td>\n",
       "      <td>SPEECH  The pandemic emergency: the three c...</td>\n",
       "    </tr>\n",
       "    <tr>\n",
       "      <th>4</th>\n",
       "      <td>Transmission channels of monetary policy in th...</td>\n",
       "      <td>Peter Praet</td>\n",
       "      <td>Transmission channels of monetary policy in ...</td>\n",
       "    </tr>\n",
       "  </tbody>\n",
       "</table>\n",
       "</div>"
      ],
      "text/plain": [
       "                                               title           speaker  \\\n",
       "0  Comments by Yves Mersch at Financial Services ...       Yves Mersch   \n",
       "1  Securing sustained economic growth in the euro...  Vítor Constâncio   \n",
       "2  The role of monetary policy in addressing the ...      Mario Draghi   \n",
       "3  The pandemic emergency: the three challenges f...    Philip R. Lane   \n",
       "4  Transmission channels of monetary policy in th...       Peter Praet   \n",
       "\n",
       "                                                text  \n",
       "0    Comments by Yves Mersch at Financial Service...  \n",
       "1    Securing sustained economic growth in the eu...  \n",
       "2    The role of monetary policy in addressing th...  \n",
       "3     SPEECH  The pandemic emergency: the three c...  \n",
       "4    Transmission channels of monetary policy in ...  "
      ]
     },
     "execution_count": 8,
     "metadata": {},
     "output_type": "execute_result"
    }
   ],
   "source": [
    "ecb.head()"
   ]
  },
  {
   "cell_type": "code",
   "execution_count": 9,
   "metadata": {},
   "outputs": [
    {
     "data": {
      "text/html": [
       "<div>\n",
       "<style scoped>\n",
       "    .dataframe tbody tr th:only-of-type {\n",
       "        vertical-align: middle;\n",
       "    }\n",
       "\n",
       "    .dataframe tbody tr th {\n",
       "        vertical-align: top;\n",
       "    }\n",
       "\n",
       "    .dataframe thead th {\n",
       "        text-align: right;\n",
       "    }\n",
       "</style>\n",
       "<table border=\"1\" class=\"dataframe\">\n",
       "  <thead>\n",
       "    <tr style=\"text-align: right;\">\n",
       "      <th></th>\n",
       "      <th>title</th>\n",
       "      <th>speaker</th>\n",
       "      <th>text</th>\n",
       "    </tr>\n",
       "  </thead>\n",
       "  <tbody>\n",
       "    <tr>\n",
       "      <th>0</th>\n",
       "      <td>The Importance of Economic Education and Finan...</td>\n",
       "      <td>Governor Frederic S. Mishkin</td>\n",
       "      <td>As ...</td>\n",
       "    </tr>\n",
       "    <tr>\n",
       "      <th>1</th>\n",
       "      <td>Financial Innovation and Consumer Protection</td>\n",
       "      <td>Chairman Ben S. Bernanke</td>\n",
       "      <td>The concept of financial innovation, it seems...</td>\n",
       "    </tr>\n",
       "    <tr>\n",
       "      <th>2</th>\n",
       "      <td>Implementing Basel II in the United States</td>\n",
       "      <td>Governor Randall S. Kroszner</td>\n",
       "      <td>Good afternoon. I would like to thank Standar...</td>\n",
       "    </tr>\n",
       "    <tr>\n",
       "      <th>3</th>\n",
       "      <td>An Assessment of the U.S. Economy</td>\n",
       "      <td>Vice Chair for Supervision Randal K. Quarles</td>\n",
       "      <td>Thank you for the opportunity to take part in...</td>\n",
       "    </tr>\n",
       "    <tr>\n",
       "      <th>4</th>\n",
       "      <td>Monetary Policy since the Onset of the Crisis</td>\n",
       "      <td>Chairman Ben S. Bernanke</td>\n",
       "      <td>When we convened in Jackson Hole in August 20...</td>\n",
       "    </tr>\n",
       "  </tbody>\n",
       "</table>\n",
       "</div>"
      ],
      "text/plain": [
       "                                               title  \\\n",
       "0  The Importance of Economic Education and Finan...   \n",
       "1       Financial Innovation and Consumer Protection   \n",
       "2         Implementing Basel II in the United States   \n",
       "3                  An Assessment of the U.S. Economy   \n",
       "4      Monetary Policy since the Onset of the Crisis   \n",
       "\n",
       "                                        speaker  \\\n",
       "0                  Governor Frederic S. Mishkin   \n",
       "1                      Chairman Ben S. Bernanke   \n",
       "2                  Governor Randall S. Kroszner   \n",
       "3  Vice Chair for Supervision Randal K. Quarles   \n",
       "4                      Chairman Ben S. Bernanke   \n",
       "\n",
       "                                                text  \n",
       "0                                             As ...  \n",
       "1   The concept of financial innovation, it seems...  \n",
       "2   Good afternoon. I would like to thank Standar...  \n",
       "3   Thank you for the opportunity to take part in...  \n",
       "4   When we convened in Jackson Hole in August 20...  "
      ]
     },
     "execution_count": 9,
     "metadata": {},
     "output_type": "execute_result"
    }
   ],
   "source": [
    "fed.head()"
   ]
  },
  {
   "attachments": {},
   "cell_type": "markdown",
   "metadata": {},
   "source": [
    "## Treating NA"
   ]
  },
  {
   "cell_type": "code",
   "execution_count": 6,
   "metadata": {},
   "outputs": [
    {
     "data": {
      "text/plain": [
       "title       0\n",
       "speaker     1\n",
       "text       34\n",
       "dtype: int64"
      ]
     },
     "execution_count": 6,
     "metadata": {},
     "output_type": "execute_result"
    }
   ],
   "source": [
    "ecb.isna().sum()"
   ]
  },
  {
   "cell_type": "code",
   "execution_count": 7,
   "metadata": {},
   "outputs": [
    {
     "data": {
      "text/plain": [
       "title      0\n",
       "speaker    2\n",
       "text       0\n",
       "dtype: int64"
      ]
     },
     "execution_count": 7,
     "metadata": {},
     "output_type": "execute_result"
    }
   ],
   "source": [
    "fed.isna().sum()"
   ]
  },
  {
   "cell_type": "code",
   "execution_count": 12,
   "metadata": {},
   "outputs": [
    {
     "name": "stdout",
     "output_type": "stream",
     "text": [
      "  Domestic and cross-border spillovers  of unconventional monetary policies   Remarks by Benoît Cœuré, Member of the Executive Board of the ECB, at the at the SNB-IMF Conference \"Monetary Policy Challenges in a Changing World\",Zurich, 12 May 2015  ***   Summary   Discussion has recently emerged on the global financial market implications of diverging monetary policy cycles. Central banks in large advanced economies can free themselves from the global financial cycle and regain monetary independe\n",
      "...\n",
      "efficiency imply, from a long-run perspective, that the real growth rate exceeds the real interest rate on physical capital.    [13] Tirole, J. ( 1985): “Asset Bubbles and Overlapping Generations” Econometrica, Vol. 53, No. 6 (Nov., 1985), pp. 1499-1528    [14]“Reinforcing financial stability in the euro area”, speech given by Vítor Constâncio, Vice-President of the ECB, at the OMFIF City Lecture, London, 8 May 2015.       SEE ALSO  Find out more about related content   Related information      \n"
     ]
    }
   ],
   "source": [
    "test_text = ecb.iloc[5][\"text\"]\n",
    "print(test_text[:500])\n",
    "print(\"...\")\n",
    "print(test_text[-500:])"
   ]
  },
  {
   "cell_type": "code",
   "execution_count": 13,
   "metadata": {},
   "outputs": [],
   "source": [
    "def numbered_reference_removal(text):\n",
    "    # refs are typically in the form [n] in the text.\n",
    "    matches = re.findall(r'\\[[0-9]+?\\]', text)\n",
    "    counter = Counter(matches)\n",
    "    for match in matches:\n",
    "        if counter[match] != 2:\n",
    "            # print(f\"Didn't find a reference twice in the text, but {counter[match]} times. Cannot remove.\")\n",
    "            # print(text[:2000], '\\n ... \\n',text[-2000:])\n",
    "            # print()\n",
    "            return text\n",
    "    \n",
    "    assert len(matches)%2 == 0\n",
    "    if len(matches) == 0:\n",
    "        return text\n",
    "    N = len(matches)//2\n",
    "    is_ordered = True\n",
    "    n = 0\n",
    "    for s in matches:\n",
    "        is_ordered = (s == f'[{n%N+1}]')\n",
    "        if not is_ordered : \n",
    "            # print(f\"Not ordered, {str(matches)}\")\n",
    "            return text\n",
    "        n += 1\n",
    "    \n",
    "    # Remove all references after [1]\n",
    "    res = re.findall(\n",
    "        r'^.*?\\[1\\].+?\\[1\\]',\n",
    "        text\n",
    "    )\n",
    "    return res[0]"
   ]
  },
  {
   "cell_type": "code",
   "execution_count": 14,
   "metadata": {},
   "outputs": [],
   "source": [
    "def reference_removal_en(text):\n",
    "    res = re.sub(r'(?i)see also.*', '', text)\n",
    "    res = re.sub(r'References.*', '', res)\n",
    "    res = re.sub(\"\\[[0-9]+\\]\", \"\", res)\n",
    "    return res"
   ]
  },
  {
   "cell_type": "code",
   "execution_count": 15,
   "metadata": {},
   "outputs": [
    {
     "name": "stdout",
     "output_type": "stream",
     "text": [
      "  The role of monetary policy in addressing the crisis in the euro area   Speech by Mario Draghi, President of the ECB, at the “Room for discussion” of the Study Association SEFA and the Faculty of Economics and Business, Amsterdam,15 April 2013  Introduction There was a time, not too long ago, when central banking was considered to be a rather boring and unexciting occupation. In the era of the “Great Moderation”, mostly seen as the period between the mid-1980s and the beginning of the global f\n",
      "...\n",
      "dy taken lies ahead. All parties involved in this comprehensive reform agenda must persevere. And we must all work with conviction and determination towards our shared vision. If we do so, I am confident that restoring stability and ensuring prosperity in the euro area are within our reach.      [1]\n",
      "-------------\n",
      "  The role of monetary policy in addressing the crisis in the euro area   Speech by Mario Draghi, President of the ECB, at the “Room for discussion” of the Study Association SEFA and the Faculty of Economics and Business, Amsterdam,15 April 2013  Introduction There was a time, not too long ago, when central banking was considered to be a rather boring and unexciting occupation. In the era of the “Great Moderation”, mostly seen as the period between the mid-1980s and the beginning of the global f\n",
      "...\n",
      "elements needed to address the root causes of the crisis and to build a genuine Economic and Monetary Union have been set in motion. The ECB’s monetary policy will continue to make its contribution to this endeavour, in line with its mandate. The heavy task of implementing the important decisions already taken lies ahead. All parties involved in this comprehensive reform agenda must persevere. And we must all work with conviction and determination towards our shared vision. If we do so, I am confident that restoring stability and ensuring prosperity in the euro area are within our reach.      \n",
      "====================\n",
      "   SPEECH  The pandemic emergency: the three challenges for the ECB   Speech by Philip R. Lane, Member of the Executive Board of the ECB, at the Jackson Hole Economic Policy Symposium, Federal Reserve Bank of Kansas City “Navigating the Decade Ahead: Implications for Monetary Policy” 27 August 2020 Today, I will discuss the monetary policy measures taken by the ECB in response to the pandemic shock, take stock of the progress to date and outline the main challenges that lie ahead.[1]  The pandem\n",
      "...\n",
      "icies”, Economic Bulletin, Issue 4, ECB. See also footnote 6. For simplicity, this post-pandemic inflation path is represented here as a parallel shift, but it might well be that inflation would recover more slowly in the post-pandemic economy in the absence of additional monetary accommodation.    \n",
      "-------------\n",
      "   SPEECH  The pandemic emergency: the three challenges for the ECB   Speech by Philip R. Lane, Member of the Executive Board of the ECB, at the Jackson Hole Economic Policy Symposium, Federal Reserve Bank of Kansas City “Navigating the Decade Ahead: Implications for Monetary Policy” 27 August 2020 Today, I will discuss the monetary policy measures taken by the ECB in response to the pandemic shock, take stock of the progress to date and outline the main challenges that lie ahead.  The pandemic:\n",
      "...\n",
      "y, stabilisation and supporting the recovery”, 24 June. Since the ECB was already an active purchaser of both sovereign and private-sector securities, the PEPP could be rolled out quite quickly. On 12 March, the ECB had already expanded the size of its long-established asset purchase programme (APP) with an additional EUR 120 billion allocated for the rest of 2020. The 18 March launch of the PEPP was in recognition that a temporary and flexible programme was better suited to respond to the exceptional nature of the pandemic shock, rather than just relying on a mechanical expansion of the APP. \n",
      "====================\n",
      "  Transmission channels of monetary policy in the current environment   Speech by Peter Praet, Member of the Executive Board of the ECB,at the Financial Times Festival of Finance,London, 1 July 2016 Ladies and Gentlemen[1], Since the onset of the financial crisis in 2007/2008, the euro area, like many other economies, has been hit by a barrage of shocks with adverse macroeconomic fall-outs. The ECB, like many other major central banks, has responded to these shocks with forceful and often unprec\n",
      "...\n",
      "d to create durable and resilient improvement in economic performance going forward. This requires a concerted effort in the fiscal and structural policy domain to support the ongoing cyclical upswing; and a common strategy to complete and improve the institutional set-up of monetary union.      [1]\n",
      "-------------\n",
      "  Transmission channels of monetary policy in the current environment   Speech by Peter Praet, Member of the Executive Board of the ECB,at the Financial Times Festival of Finance,London, 1 July 2016 Ladies and Gentlemen, Since the onset of the financial crisis in 2007/2008, the euro area, like many other economies, has been hit by a barrage of shocks with adverse macroeconomic fall-outs. The ECB, like many other major central banks, has responded to these shocks with forceful and often unprecede\n",
      "...\n",
      "ssue that requires close monitoring. Against this background, monetary policy cannot be the only remedy to our current economic challenges. Instead, a broader set of actors needs to step into the breach, adopting a common approach to support the economic recovery in a context of persistent headwinds and to create durable and resilient improvement in economic performance going forward. This requires a concerted effort in the fiscal and structural policy domain to support the ongoing cyclical upswing; and a common strategy to complete and improve the institutional set-up of monetary union.      \n",
      "====================\n",
      "  Domestic and cross-border spillovers  of unconventional monetary policies   Remarks by Benoît Cœuré, Member of the Executive Board of the ECB, at the at the SNB-IMF Conference \"Monetary Policy Challenges in a Changing World\",Zurich, 12 May 2015  ***   Summary   Discussion has recently emerged on the global financial market implications of diverging monetary policy cycles. Central banks in large advanced economies can free themselves from the global financial cycle and regain monetary independe\n",
      "...\n",
      "ea on a more dynamic growth path, thereby creating attractive investment projects that generate high, but fundamentally justified, returns. These are the conditions for unconventional monetary policies to bring economies back to a stable and sustainable growth path, both at home and abroad.      [1]\n",
      "-------------\n",
      "  Domestic and cross-border spillovers  of unconventional monetary policies   Remarks by Benoît Cœuré, Member of the Executive Board of the ECB, at the at the SNB-IMF Conference \"Monetary Policy Challenges in a Changing World\",Zurich, 12 May 2015  ***   Summary   Discussion has recently emerged on the global financial market implications of diverging monetary policy cycles. Central banks in large advanced economies can free themselves from the global financial cycle and regain monetary independe\n",
      "...\n",
      "ro-prudential policy is best suited to safeguard financial stability. Macro-prudential instruments can be targeted more efficiently to those sectors and countries where systemic risks may be materialising . Finally, we encourage national authorities to do whatever is in their power to place the euro area on a more dynamic growth path, thereby creating attractive investment projects that generate high, but fundamentally justified, returns. These are the conditions for unconventional monetary policies to bring economies back to a stable and sustainable growth path, both at home and abroad.      \n",
      "====================\n",
      "  The case for cooperation: cross-border CCP supervision and the role of central banks   Introductory remarks by Benoît Cœuré, Member of the Executive Board of the ECB, at a conference on CCP risk management organised by the Deutsche Bundesbank, the ECB and the Federal Reserve Bank of Chicago, Frankfurt am Main, 27 February 2019 It is with great pleasure that I welcome you to Frankfurt. I thank you all for coming, especially those who have travelled from far away.  I am delighted to open this co\n",
      "...\n",
      "o CCPs. The role of the central bank of issue thus needs to be acknowledged appropriately. On this note, I hope that I have been able to whet your appetite for a vigorous and fruitful exchange of views during today’s conference and leave you in the capable hands of the organisers. Thank you.     [1]\n",
      "-------------\n",
      "  The case for cooperation: cross-border CCP supervision and the role of central banks   Introductory remarks by Benoît Cœuré, Member of the Executive Board of the ECB, at a conference on CCP risk management organised by the Deutsche Bundesbank, the ECB and the Federal Reserve Bank of Chicago, Frankfurt am Main, 27 February 2019 It is with great pleasure that I welcome you to Frankfurt. I thank you all for coming, especially those who have travelled from far away.  I am delighted to open this co\n",
      "...\n",
      "relevant authorities, including central banks, need to pull on the same rope. Europe, with its deep financial interconnectedness and high risk of spillovers, requires a particularly close level of information-sharing and cooperative oversight – the prerequisite for the Eurosystem to provide liquidity to CCPs. The role of the central bank of issue thus needs to be acknowledged appropriately. On this note, I hope that I have been able to whet your appetite for a vigorous and fruitful exchange of views during today’s conference and leave you in the capable hands of the organisers. Thank you.     \n",
      "====================\n",
      "  Translating a shared vision into a winning story   Closing Remarks at the T2S launch celebration by Yves Mersch, Member of the Executive Board of the ECB, Milan, 2 July 2015 We chose to call this T2S launch celebration “Translating a shared vision into a winning story”. Listening to the speakers for the past two hours I believe the name was just right. We have heard how the T2S Community transformed the shared vision of an integrated securities settlement landscape into a winning story, culmin\n",
      "...\n",
      "m sure of is that the story of T2S is successful because of each and every one of you. To celebrate this great achievement, I would like to invite you for a drink in the beautiful garden outside.  Thank you.     SEE ALSO  Find out more about related content   Payments & Markets TARGET2-Securities   \n",
      "-------------\n",
      "  Translating a shared vision into a winning story   Closing Remarks at the T2S launch celebration by Yves Mersch, Member of the Executive Board of the ECB, Milan, 2 July 2015 We chose to call this T2S launch celebration “Translating a shared vision into a winning story”. Listening to the speakers for the past two hours I believe the name was just right. We have heard how the T2S Community transformed the shared vision of an integrated securities settlement landscape into a winning story, culmin\n",
      "...\n",
      "d in the market infrastructure arena in order to progress on the journey towards an integrated financial market in Europe? One helping hand will be the synergy between TARGET2 on the cash side and T2S on the securities side, which certainly brings new opportunities. The objective should be to better meet the demands of the market and increase efficiency. Our journey continues. What I am sure of is that the story of T2S is successful because of each and every one of you. To celebrate this great achievement, I would like to invite you for a drink in the beautiful garden outside.  Thank you.     \n",
      "====================\n",
      "  Systemic Risk   Clare Distinguished Lecture in Economics and Public Policyby Jean-Claude Trichet, President of the ECBorganised by the Clare College, University of CambridgeCambridge, 10 December 2009 Ladies and Gentlemen, I am delighted to have been invited by Clare College, Cambridge, to give this lecture in economics and public policy. One of the greatest challenges for economics and public policy at this time is to restore financial and economic stability, and to improve the future functio\n",
      "...\n",
      "ures on monetary and fiscal policies to extend financial safety nets. The standard macroeconomic stabilisation policies can then focus more clearly on their primary objectives and thereby make their own best contribution to growth and well-being. Thank you very much for your kind attention.      [1]\n",
      "-------------\n",
      "  Systemic Risk   Clare Distinguished Lecture in Economics and Public Policyby Jean-Claude Trichet, President of the ECBorganised by the Clare College, University of CambridgeCambridge, 10 December 2009 Ladies and Gentlemen, I am delighted to have been invited by Clare College, Cambridge, to give this lecture in economics and public policy. One of the greatest challenges for economics and public policy at this time is to restore financial and economic stability, and to improve the future functio\n",
      "...\n",
      "ntial supervision is an important tool to contain systemic risks and thereby contribute to sustainable growth and prosperity. The proposed establishment of a European Systemic Risk Board next year is a very important initiative in this regard. Ensuring systemic stability will also alleviate undue pressures on monetary and fiscal policies to extend financial safety nets. The standard macroeconomic stabilisation policies can then focus more clearly on their primary objectives and thereby make their own best contribution to growth and well-being. Thank you very much for your kind attention.      \n",
      "====================\n",
      "  Working together for growth in Europe   Introductory remarks by Mario Draghi, President of the ECB,at Deutscher Bundestag, Berlin, 28 September 2016  Introduction Mr Chairman, Honourable Members of the Bundestag, Ladies and gentlemen, Thank you for your invitation. It is a pleasure to speak here in in the halls of the Committee on the Affairs of the European Union, where you bring the debate about European integration to the Bundestag, the heart of German democracy.  As President of the ECB, I\n",
      "...\n",
      "o allow our measures to develop their full impact. And in order to reap the full benefits of our monetary policy measures, other policy areas must contribute much more decisively, both at the national and at the European level. Thank you for your attention. I look forward to your questions.      [1]\n",
      "-------------\n",
      "  Working together for growth in Europe   Introductory remarks by Mario Draghi, President of the ECB,at Deutscher Bundestag, Berlin, 28 September 2016  Introduction Mr Chairman, Honourable Members of the Bundestag, Ladies and gentlemen, Thank you for your invitation. It is a pleasure to speak here in in the halls of the Committee on the Affairs of the European Union, where you bring the debate about European integration to the Bundestag, the heart of German democracy.  As President of the ECB, I\n",
      "...\n",
      "ability using all necessary tools within its mandate. Our monetary policy has supported growth and employment and will eventually bring inflation back to our aim of below, but close to, 2%. Low interest rates today are necessary for a return to higher interest rates in the future. What we need now is to allow our measures to develop their full impact. And in order to reap the full benefits of our monetary policy measures, other policy areas must contribute much more decisively, both at the national and at the European level. Thank you for your attention. I look forward to your questions.      \n",
      "====================\n",
      "   SPEECH Frankfurt am Main (by video conference), 7 July 2020  Unleashing the euro’s untapped potential at global level   Introductory remarks by Fabio Panetta, Member of the Executive Board of the ECB, Meeting with Members of the European Parliament The introduction of the euro has undoubtedly been one of the most profound changes in the international monetary system since the collapse of the Bretton Woods system. Right from the start, the ECB has monitored developments in the international ro\n",
      "...\n",
      "currency at birth. How and whether this international status will evolve in the future remains in the hands of European policymakers. The European Parliament has a key role to play in delivering reforms that will further strengthen people’s confidence in the European project and in the euro.     [1]\n",
      "-------------\n",
      "   SPEECH Frankfurt am Main (by video conference), 7 July 2020  Unleashing the euro’s untapped potential at global level   Introductory remarks by Fabio Panetta, Member of the Executive Board of the ECB, Meeting with Members of the European Parliament The introduction of the euro has undoubtedly been one of the most profound changes in the international monetary system since the collapse of the Bretton Woods system. Right from the start, the ECB has monitored developments in the international ro\n",
      "...\n",
      "c developments. It could amplify the real and financial cross-border spillovers of domestic monetary policy shocks by creating a new channel for their propagation. The magnitude of such effects would depend on the design of the CBDC.  Conclusions Allow me to conclude.  The euro became an international currency at birth. How and whether this international status will evolve in the future remains in the hands of European policymakers. The European Parliament has a key role to play in delivering reforms that will further strengthen people’s confidence in the European project and in the euro.     \n",
      "====================\n",
      "  Presentation of the book entitled “L’acqua e la spugna” by Franco Bruni   Speech by Lorenzo Bini Smaghi, Member of the Executive Board of the ECBCenter for American StudiesRome, 24 June 2009 Above all, I should like to thank the Center for American Studies for inviting me to present this book by Franco Bruni; a book which is a real pleasure to present because it actually shows to be untrue what many have claimed recently, namely that the economists did not foresee the crisis and that they did \n",
      "...\n",
      "nses to questions posed by the parliament. It can be confirmed from this that the ECB reports with the same intensity and frequency as the US central bank. This does not mean that the quality of interaction cannot be improved, but this depends, to a large extent, on the European Parliament.      [1]\n",
      "-------------\n",
      "  Presentation of the book entitled “L’acqua e la spugna” by Franco Bruni   Speech by Lorenzo Bini Smaghi, Member of the Executive Board of the ECBCenter for American StudiesRome, 24 June 2009 Above all, I should like to thank the Center for American Studies for inviting me to present this book by Franco Bruni; a book which is a real pleasure to present because it actually shows to be untrue what many have claimed recently, namely that the economists did not foresee the crisis and that they did \n",
      "...\n",
      "he cannot be distinguished from a certain trend which erroneously considers the ECB to be less accountable than the Federal Reserve, particularly with regard to parliament. The appendix gives details about the methods of reporting to the respective parliaments, in terms of reporting, hearings and responses to questions posed by the parliament. It can be confirmed from this that the ECB reports with the same intensity and frequency as the US central bank. This does not mean that the quality of interaction cannot be improved, but this depends, to a large extent, on the European Parliament.      \n",
      "====================\n"
     ]
    }
   ],
   "source": [
    "test_nb = 10\n",
    "counter = 0\n",
    "for text_ in ecb[\"text\"]:\n",
    "    if isinstance(text_, str):\n",
    "        text = numbered_reference_removal(text_)\n",
    "        text2 = reference_removal_en(text)\n",
    "        if text2 != text:\n",
    "            print(text[:500])\n",
    "            print(\"...\")\n",
    "            print(text[-300:])\n",
    "            print(\"-------------\")\n",
    "            print(text2[:500])\n",
    "            print(\"...\")\n",
    "            print(text2[-600:])\n",
    "            print(\"====================\")\n",
    "            counter += 1\n",
    "    if counter == 10:\n",
    "        break"
   ]
  },
  {
   "attachments": {},
   "cell_type": "markdown",
   "metadata": {},
   "source": [
    "Sometimes, the title appears in the beginning of an ECB text. We can remove it using regular expressions."
   ]
  },
  {
   "cell_type": "code",
   "execution_count": 16,
   "metadata": {},
   "outputs": [],
   "source": [
    "# Before dealing with N/A because otherwise, this edit would just undo the other.\n",
    "# We can use this to remove the \"TRANSCRIPT\" and \"SPEECH\" tags.\n",
    "# We also notice that most of the time, the content is preceded by a date. It would be useful to make a date parser to remove the first chunk.\n",
    "\n",
    "def first_date_extractor(text):\n",
    "    if len(text) > 0:\n",
    "        res = re.sub('^(.*?)[1-9][0-9]* (?:Jan(?:uary)?|Feb(?:ruary)?|Mar(?:ch)?|'\n",
    "                     + 'Apr(?:il)?|May|Jun(?:e)?|Jul(?:y)?|Aug(?:ust)?|Sep(?:tember)?|Oct(?:ober)?|(Nov|Dec)(?:ember)?) (19|20)[0-9][0-9]',\n",
    "                     '', text)\n",
    "        return res\n",
    "\n",
    "def remove_title(x):\n",
    "    if not x[\"text\"] is None and isinstance(x[\"text\"], str):\n",
    "        res = re.sub(x[\"title\"], '', x[\"text\"]).strip()\n",
    "        return res\n",
    "    else:\n",
    "        return x[\"title\"]\n",
    "\n",
    "def website_remover(text):\n",
    "    # Remove websites\n",
    "    regex = \"((http|https)://)(www.)?\" \\\n",
    "        + \"[a-zA-Z0-9@:%._\\\\+~#?&//=]{2,256}\\\\.[a-z]\" \\\n",
    "        + \"{2,6}\\\\b([-a-zA-Z0-9@:%._\\\\+~#?&//=]*)\"\n",
    "    res = re.sub(regex, \"\", text).strip()\n",
    "    return res\n",
    "\n",
    "def tag_removal(text):\n",
    "    # Remove tags\n",
    "    res = re.sub('SPEECH', '', text)\n",
    "    res = re.sub('TRANSCRIPT', '', res)\n",
    "    res = re.sub(\"Introduction\", \"\", res)\n",
    "    res = re.sub(\"Summary\", \"\", res)\n",
    "    return res\n",
    "\n",
    "def pipeline_en(x):\n",
    "    res = remove_title(x)\n",
    "    if res is None:\n",
    "        return res\n",
    "    res = numbered_reference_removal(res)\n",
    "    res = reference_removal_en(res)\n",
    "    res = tag_removal(res).strip()\n",
    "    res = first_date_extractor(res).strip()\n",
    "\n",
    "    # print(\"================================================\")\n",
    "    # print(res[:200])\n",
    "    # print(\"...\")\n",
    "    # print(res[-500:])\n",
    "    return res\n",
    "\n",
    "ecb[\"text_preprocessed\"] = ecb.apply(pipeline_en, axis=1)"
   ]
  },
  {
   "attachments": {},
   "cell_type": "markdown",
   "metadata": {},
   "source": [
    "What are the N/A entries for text? Do they also have no speaker or no title?"
   ]
  },
  {
   "cell_type": "code",
   "execution_count": 17,
   "metadata": {},
   "outputs": [
    {
     "data": {
      "text/html": [
       "<div>\n",
       "<style scoped>\n",
       "    .dataframe tbody tr th:only-of-type {\n",
       "        vertical-align: middle;\n",
       "    }\n",
       "\n",
       "    .dataframe tbody tr th {\n",
       "        vertical-align: top;\n",
       "    }\n",
       "\n",
       "    .dataframe thead th {\n",
       "        text-align: right;\n",
       "    }\n",
       "</style>\n",
       "<table border=\"1\" class=\"dataframe\">\n",
       "  <thead>\n",
       "    <tr style=\"text-align: right;\">\n",
       "      <th></th>\n",
       "      <th>title</th>\n",
       "      <th>speaker</th>\n",
       "      <th>text</th>\n",
       "      <th>text_preprocessed</th>\n",
       "    </tr>\n",
       "  </thead>\n",
       "  <tbody>\n",
       "    <tr>\n",
       "      <th>40</th>\n",
       "      <td>Die EZB, das Geld und die Wirtschaft: Von A wi...</td>\n",
       "      <td>Sabine Lautenschläger</td>\n",
       "      <td>NaN</td>\n",
       "      <td>Die EZB, das Geld und die Wirtschaft: Von A wi...</td>\n",
       "    </tr>\n",
       "    <tr>\n",
       "      <th>104</th>\n",
       "      <td>Economic situation and outlook</td>\n",
       "      <td>Peter Praet</td>\n",
       "      <td>NaN</td>\n",
       "      <td>Economic situation and outlook</td>\n",
       "    </tr>\n",
       "    <tr>\n",
       "      <th>146</th>\n",
       "      <td>Economic developments in the euro area</td>\n",
       "      <td>Peter Praet</td>\n",
       "      <td>NaN</td>\n",
       "      <td>Economic developments in the euro area</td>\n",
       "    </tr>\n",
       "    <tr>\n",
       "      <th>172</th>\n",
       "      <td>Unequal scars – distributional consequences of...</td>\n",
       "      <td>Isabel Schnabel</td>\n",
       "      <td>NaN</td>\n",
       "      <td>Unequal scars – distributional consequences of...</td>\n",
       "    </tr>\n",
       "    <tr>\n",
       "      <th>220</th>\n",
       "      <td>The economic outlook for the euro area</td>\n",
       "      <td>Philip R. Lane</td>\n",
       "      <td>NaN</td>\n",
       "      <td>The economic outlook for the euro area</td>\n",
       "    </tr>\n",
       "    <tr>\n",
       "      <th>257</th>\n",
       "      <td>Mehr Europa für eine stabile gemeinsame Währung</td>\n",
       "      <td>Isabel Schnabel</td>\n",
       "      <td>NaN</td>\n",
       "      <td>Mehr Europa für eine stabile gemeinsame Währung</td>\n",
       "    </tr>\n",
       "    <tr>\n",
       "      <th>275</th>\n",
       "      <td>Better Regulation“ im Finanzsektor - die Sicht...</td>\n",
       "      <td>Gertrude Tumpel-Gugerell</td>\n",
       "      <td>NaN</td>\n",
       "      <td>Better Regulation“ im Finanzsektor - die Sicht...</td>\n",
       "    </tr>\n",
       "    <tr>\n",
       "      <th>291</th>\n",
       "      <td>The ECB's monetary policy strategy review - IM...</td>\n",
       "      <td>Philip R. Lane</td>\n",
       "      <td>NaN</td>\n",
       "      <td>The ECB's monetary policy strategy review - IM...</td>\n",
       "    </tr>\n",
       "    <tr>\n",
       "      <th>332</th>\n",
       "      <td>Sources of risk and vulnerabilities for financ...</td>\n",
       "      <td>Luis de Guindos</td>\n",
       "      <td>NaN</td>\n",
       "      <td>Sources of risk and vulnerabilities for financ...</td>\n",
       "    </tr>\n",
       "    <tr>\n",
       "      <th>413</th>\n",
       "      <td>Policy Frameworks and Strategies for an Open E...</td>\n",
       "      <td>Philip R. Lane</td>\n",
       "      <td>NaN</td>\n",
       "      <td>Policy Frameworks and Strategies for an Open E...</td>\n",
       "    </tr>\n",
       "    <tr>\n",
       "      <th>497</th>\n",
       "      <td>The ECB's policy response to the COVID-19 pand...</td>\n",
       "      <td>Isabel Schnabel</td>\n",
       "      <td>NaN</td>\n",
       "      <td>The ECB's policy response to the COVID-19 pand...</td>\n",
       "    </tr>\n",
       "    <tr>\n",
       "      <th>509</th>\n",
       "      <td>Die neue geldpolitische Strategie der Europäis...</td>\n",
       "      <td>Isabel Schnabel</td>\n",
       "      <td>NaN</td>\n",
       "      <td>Die neue geldpolitische Strategie der Europäis...</td>\n",
       "    </tr>\n",
       "    <tr>\n",
       "      <th>528</th>\n",
       "      <td>Taking stock: The ECB strategy review and curr...</td>\n",
       "      <td>Philip R. Lane</td>\n",
       "      <td>NaN</td>\n",
       "      <td>Taking stock: The ECB strategy review and curr...</td>\n",
       "    </tr>\n",
       "    <tr>\n",
       "      <th>649</th>\n",
       "      <td>Climate change and monetary policy</td>\n",
       "      <td>Isabel Schnabel</td>\n",
       "      <td>NaN</td>\n",
       "      <td>Climate change and monetary policy</td>\n",
       "    </tr>\n",
       "    <tr>\n",
       "      <th>695</th>\n",
       "      <td>The future of the euro</td>\n",
       "      <td>Philip R. Lane</td>\n",
       "      <td>NaN</td>\n",
       "      <td>The future of the euro</td>\n",
       "    </tr>\n",
       "    <tr>\n",
       "      <th>739</th>\n",
       "      <td>International flows and the pandemic: evidence...</td>\n",
       "      <td>Philip R. Lane</td>\n",
       "      <td>NaN</td>\n",
       "      <td>International flows and the pandemic: evidence...</td>\n",
       "    </tr>\n",
       "    <tr>\n",
       "      <th>747</th>\n",
       "      <td>The ECB’s monetary policy during the coronavir...</td>\n",
       "      <td>Isabel Schnabel</td>\n",
       "      <td>NaN</td>\n",
       "      <td>The ECB’s monetary policy during the coronavir...</td>\n",
       "    </tr>\n",
       "    <tr>\n",
       "      <th>753</th>\n",
       "      <td>The Phillips Curve at the ECB</td>\n",
       "      <td>Philip R. Lane</td>\n",
       "      <td>NaN</td>\n",
       "      <td>The Phillips Curve at the ECB</td>\n",
       "    </tr>\n",
       "    <tr>\n",
       "      <th>788</th>\n",
       "      <td>The resilience of the euro</td>\n",
       "      <td>Philip R. Lane</td>\n",
       "      <td>NaN</td>\n",
       "      <td>The resilience of the euro</td>\n",
       "    </tr>\n",
       "    <tr>\n",
       "      <th>829</th>\n",
       "      <td>Die Geldpolitik der EZB in der Corona-Krise</td>\n",
       "      <td>Isabel Schnabel</td>\n",
       "      <td>NaN</td>\n",
       "      <td>Die Geldpolitik der EZB in der Corona-Krise</td>\n",
       "    </tr>\n",
       "    <tr>\n",
       "      <th>832</th>\n",
       "      <td>The ECB's policy response to the COVID-19 crisis</td>\n",
       "      <td>Isabel Schnabel</td>\n",
       "      <td>NaN</td>\n",
       "      <td>The ECB's policy response to the COVID-19 crisis</td>\n",
       "    </tr>\n",
       "    <tr>\n",
       "      <th>1025</th>\n",
       "      <td>IMF Policy dialogue: New policy frameworks for...</td>\n",
       "      <td>Philip R. Lane</td>\n",
       "      <td>NaN</td>\n",
       "      <td>IMF Policy dialogue: New policy frameworks for...</td>\n",
       "    </tr>\n",
       "    <tr>\n",
       "      <th>1058</th>\n",
       "      <td>The ECB strategy review</td>\n",
       "      <td>Philip R. Lane</td>\n",
       "      <td>NaN</td>\n",
       "      <td>The ECB strategy review</td>\n",
       "    </tr>\n",
       "    <tr>\n",
       "      <th>1280</th>\n",
       "      <td>Europe’s role in a changing global economy</td>\n",
       "      <td>Philip R. Lane</td>\n",
       "      <td>NaN</td>\n",
       "      <td>Europe’s role in a changing global economy</td>\n",
       "    </tr>\n",
       "    <tr>\n",
       "      <th>1383</th>\n",
       "      <td>The resilience of the euro</td>\n",
       "      <td>Philip R. Lane</td>\n",
       "      <td>NaN</td>\n",
       "      <td>The resilience of the euro</td>\n",
       "    </tr>\n",
       "    <tr>\n",
       "      <th>1412</th>\n",
       "      <td>Monetary and Macroprudential Policy Interactions</td>\n",
       "      <td>Peter Praet</td>\n",
       "      <td>NaN</td>\n",
       "      <td>Monetary and Macroprudential Policy Interactions</td>\n",
       "    </tr>\n",
       "    <tr>\n",
       "      <th>1467</th>\n",
       "      <td>Die Geldpolitik der EZB in der Corona-Krise</td>\n",
       "      <td>NaN</td>\n",
       "      <td>NaN</td>\n",
       "      <td>Die Geldpolitik der EZB in der Corona-Krise</td>\n",
       "    </tr>\n",
       "    <tr>\n",
       "      <th>1493</th>\n",
       "      <td>The euro area: a laboratory for international ...</td>\n",
       "      <td>Philip R. Lane</td>\n",
       "      <td>NaN</td>\n",
       "      <td>The euro area: a laboratory for international ...</td>\n",
       "    </tr>\n",
       "    <tr>\n",
       "      <th>1594</th>\n",
       "      <td>Data analysis and monetary policy during the p...</td>\n",
       "      <td>Philip R. Lane</td>\n",
       "      <td>NaN</td>\n",
       "      <td>Data analysis and monetary policy during the p...</td>\n",
       "    </tr>\n",
       "    <tr>\n",
       "      <th>1595</th>\n",
       "      <td>The euro area economic outlook and completion ...</td>\n",
       "      <td>Benoît Cœuré</td>\n",
       "      <td>NaN</td>\n",
       "      <td>The euro area economic outlook and completion ...</td>\n",
       "    </tr>\n",
       "    <tr>\n",
       "      <th>1618</th>\n",
       "      <td>The pandemic and ECB monetary policy</td>\n",
       "      <td>Philip R. Lane</td>\n",
       "      <td>NaN</td>\n",
       "      <td>The pandemic and ECB monetary policy</td>\n",
       "    </tr>\n",
       "    <tr>\n",
       "      <th>1697</th>\n",
       "      <td>The ECB’s policy response to the COVID-19 pand...</td>\n",
       "      <td>Isabel Schnabel</td>\n",
       "      <td>NaN</td>\n",
       "      <td>The ECB’s policy response to the COVID-19 pand...</td>\n",
       "    </tr>\n",
       "    <tr>\n",
       "      <th>1763</th>\n",
       "      <td>Understanding the pandemic emergency purchase ...</td>\n",
       "      <td>Philip R. Lane</td>\n",
       "      <td>NaN</td>\n",
       "      <td>Understanding the pandemic emergency purchase ...</td>\n",
       "    </tr>\n",
       "    <tr>\n",
       "      <th>1765</th>\n",
       "      <td>Die Geldpolitik der EZB in der Corona-Krise</td>\n",
       "      <td>Isabel Schnabel</td>\n",
       "      <td>NaN</td>\n",
       "      <td>Die Geldpolitik der EZB in der Corona-Krise</td>\n",
       "    </tr>\n",
       "  </tbody>\n",
       "</table>\n",
       "</div>"
      ],
      "text/plain": [
       "                                                  title  \\\n",
       "40    Die EZB, das Geld und die Wirtschaft: Von A wi...   \n",
       "104                      Economic situation and outlook   \n",
       "146              Economic developments in the euro area   \n",
       "172   Unequal scars – distributional consequences of...   \n",
       "220              The economic outlook for the euro area   \n",
       "257     Mehr Europa für eine stabile gemeinsame Währung   \n",
       "275   Better Regulation“ im Finanzsektor - die Sicht...   \n",
       "291   The ECB's monetary policy strategy review - IM...   \n",
       "332   Sources of risk and vulnerabilities for financ...   \n",
       "413   Policy Frameworks and Strategies for an Open E...   \n",
       "497   The ECB's policy response to the COVID-19 pand...   \n",
       "509   Die neue geldpolitische Strategie der Europäis...   \n",
       "528   Taking stock: The ECB strategy review and curr...   \n",
       "649                  Climate change and monetary policy   \n",
       "695                              The future of the euro   \n",
       "739   International flows and the pandemic: evidence...   \n",
       "747   The ECB’s monetary policy during the coronavir...   \n",
       "753                       The Phillips Curve at the ECB   \n",
       "788                          The resilience of the euro   \n",
       "829         Die Geldpolitik der EZB in der Corona-Krise   \n",
       "832    The ECB's policy response to the COVID-19 crisis   \n",
       "1025  IMF Policy dialogue: New policy frameworks for...   \n",
       "1058                            The ECB strategy review   \n",
       "1280         Europe’s role in a changing global economy   \n",
       "1383                         The resilience of the euro   \n",
       "1412   Monetary and Macroprudential Policy Interactions   \n",
       "1467        Die Geldpolitik der EZB in der Corona-Krise   \n",
       "1493  The euro area: a laboratory for international ...   \n",
       "1594  Data analysis and monetary policy during the p...   \n",
       "1595  The euro area economic outlook and completion ...   \n",
       "1618               The pandemic and ECB monetary policy   \n",
       "1697  The ECB’s policy response to the COVID-19 pand...   \n",
       "1763  Understanding the pandemic emergency purchase ...   \n",
       "1765        Die Geldpolitik der EZB in der Corona-Krise   \n",
       "\n",
       "                       speaker text  \\\n",
       "40       Sabine Lautenschläger  NaN   \n",
       "104                Peter Praet  NaN   \n",
       "146                Peter Praet  NaN   \n",
       "172            Isabel Schnabel  NaN   \n",
       "220             Philip R. Lane  NaN   \n",
       "257            Isabel Schnabel  NaN   \n",
       "275   Gertrude Tumpel-Gugerell  NaN   \n",
       "291             Philip R. Lane  NaN   \n",
       "332            Luis de Guindos  NaN   \n",
       "413             Philip R. Lane  NaN   \n",
       "497            Isabel Schnabel  NaN   \n",
       "509            Isabel Schnabel  NaN   \n",
       "528             Philip R. Lane  NaN   \n",
       "649            Isabel Schnabel  NaN   \n",
       "695             Philip R. Lane  NaN   \n",
       "739             Philip R. Lane  NaN   \n",
       "747            Isabel Schnabel  NaN   \n",
       "753             Philip R. Lane  NaN   \n",
       "788             Philip R. Lane  NaN   \n",
       "829            Isabel Schnabel  NaN   \n",
       "832            Isabel Schnabel  NaN   \n",
       "1025            Philip R. Lane  NaN   \n",
       "1058            Philip R. Lane  NaN   \n",
       "1280            Philip R. Lane  NaN   \n",
       "1383            Philip R. Lane  NaN   \n",
       "1412               Peter Praet  NaN   \n",
       "1467                       NaN  NaN   \n",
       "1493            Philip R. Lane  NaN   \n",
       "1594            Philip R. Lane  NaN   \n",
       "1595              Benoît Cœuré  NaN   \n",
       "1618            Philip R. Lane  NaN   \n",
       "1697           Isabel Schnabel  NaN   \n",
       "1763            Philip R. Lane  NaN   \n",
       "1765           Isabel Schnabel  NaN   \n",
       "\n",
       "                                      text_preprocessed  \n",
       "40    Die EZB, das Geld und die Wirtschaft: Von A wi...  \n",
       "104                      Economic situation and outlook  \n",
       "146              Economic developments in the euro area  \n",
       "172   Unequal scars – distributional consequences of...  \n",
       "220              The economic outlook for the euro area  \n",
       "257     Mehr Europa für eine stabile gemeinsame Währung  \n",
       "275   Better Regulation“ im Finanzsektor - die Sicht...  \n",
       "291   The ECB's monetary policy strategy review - IM...  \n",
       "332   Sources of risk and vulnerabilities for financ...  \n",
       "413   Policy Frameworks and Strategies for an Open E...  \n",
       "497   The ECB's policy response to the COVID-19 pand...  \n",
       "509   Die neue geldpolitische Strategie der Europäis...  \n",
       "528   Taking stock: The ECB strategy review and curr...  \n",
       "649                  Climate change and monetary policy  \n",
       "695                              The future of the euro  \n",
       "739   International flows and the pandemic: evidence...  \n",
       "747   The ECB’s monetary policy during the coronavir...  \n",
       "753                       The Phillips Curve at the ECB  \n",
       "788                          The resilience of the euro  \n",
       "829         Die Geldpolitik der EZB in der Corona-Krise  \n",
       "832    The ECB's policy response to the COVID-19 crisis  \n",
       "1025  IMF Policy dialogue: New policy frameworks for...  \n",
       "1058                            The ECB strategy review  \n",
       "1280         Europe’s role in a changing global economy  \n",
       "1383                         The resilience of the euro  \n",
       "1412   Monetary and Macroprudential Policy Interactions  \n",
       "1467        Die Geldpolitik der EZB in der Corona-Krise  \n",
       "1493  The euro area: a laboratory for international ...  \n",
       "1594  Data analysis and monetary policy during the p...  \n",
       "1595  The euro area economic outlook and completion ...  \n",
       "1618               The pandemic and ECB monetary policy  \n",
       "1697  The ECB’s policy response to the COVID-19 pand...  \n",
       "1763  Understanding the pandemic emergency purchase ...  \n",
       "1765        Die Geldpolitik der EZB in der Corona-Krise  "
      ]
     },
     "execution_count": 17,
     "metadata": {},
     "output_type": "execute_result"
    }
   ],
   "source": [
    "ecb[ecb.isna().any(axis=1)]"
   ]
  },
  {
   "cell_type": "code",
   "execution_count": 18,
   "metadata": {},
   "outputs": [
    {
     "data": {
      "text/html": [
       "<div>\n",
       "<style scoped>\n",
       "    .dataframe tbody tr th:only-of-type {\n",
       "        vertical-align: middle;\n",
       "    }\n",
       "\n",
       "    .dataframe tbody tr th {\n",
       "        vertical-align: top;\n",
       "    }\n",
       "\n",
       "    .dataframe thead th {\n",
       "        text-align: right;\n",
       "    }\n",
       "</style>\n",
       "<table border=\"1\" class=\"dataframe\">\n",
       "  <thead>\n",
       "    <tr style=\"text-align: right;\">\n",
       "      <th></th>\n",
       "      <th>title</th>\n",
       "      <th>speaker</th>\n",
       "      <th>text</th>\n",
       "    </tr>\n",
       "  </thead>\n",
       "  <tbody>\n",
       "    <tr>\n",
       "      <th>461</th>\n",
       "      <td>Reflections on a Year of Crisis</td>\n",
       "      <td>NaN</td>\n",
       "      <td>Chairman Bernanke delivered the same remarks ...</td>\n",
       "    </tr>\n",
       "    <tr>\n",
       "      <th>494</th>\n",
       "      <td>Liquidity Provision by the Federal Reserve</td>\n",
       "      <td>NaN</td>\n",
       "      <td>Chairman Bernanke presented identical remarks...</td>\n",
       "    </tr>\n",
       "  </tbody>\n",
       "</table>\n",
       "</div>"
      ],
      "text/plain": [
       "                                           title speaker  \\\n",
       "461             Reflections on a Year of Crisis      NaN   \n",
       "494  Liquidity Provision by the Federal Reserve      NaN   \n",
       "\n",
       "                                                  text  \n",
       "461   Chairman Bernanke delivered the same remarks ...  \n",
       "494   Chairman Bernanke presented identical remarks...  "
      ]
     },
     "execution_count": 18,
     "metadata": {},
     "output_type": "execute_result"
    }
   ],
   "source": [
    "fed[fed.isna().any(axis=1)]"
   ]
  },
  {
   "attachments": {},
   "cell_type": "markdown",
   "metadata": {},
   "source": [
    "FED is okay. In ECB, if there is no text, there is at least a title, so we can still work with that."
   ]
  },
  {
   "attachments": {},
   "cell_type": "markdown",
   "metadata": {},
   "source": [
    "Let us view the speakers."
   ]
  },
  {
   "cell_type": "code",
   "execution_count": 19,
   "metadata": {},
   "outputs": [
    {
     "data": {
      "text/plain": [
       "Jean-Claude Trichet            216\n",
       "Benoît Cœuré                   191\n",
       "Mario Draghi                   186\n",
       "Yves Mersch                    161\n",
       "Peter Praet                    129\n",
       "Vítor Constâncio               126\n",
       "Lorenzo Bini Smaghi            105\n",
       "Gertrude Tumpel-Gugerell        99\n",
       "Sabine Lautenschläger           85\n",
       "José Manuel González-Páramo     84\n",
       "Jürgen Stark                    80\n",
       "Luis de Guindos                 57\n",
       "Jörg Asmussen                   51\n",
       "Lucas Papademos                 45\n",
       "Isabel Schnabel                 42\n",
       "Christine Lagarde               41\n",
       "Philip R. Lane                  40\n",
       "Fabio Panetta                   26\n",
       "Frank Elderson                   7\n",
       "Name: speaker, dtype: int64"
      ]
     },
     "execution_count": 19,
     "metadata": {},
     "output_type": "execute_result"
    }
   ],
   "source": [
    "ecb[\"speaker\"].value_counts()"
   ]
  },
  {
   "cell_type": "code",
   "execution_count": 20,
   "metadata": {},
   "outputs": [
    {
     "data": {
      "text/plain": [
       "Chairman Ben S. Bernanke                        145\n",
       "Governor Lael Brainard                           68\n",
       "Governor Daniel K. Tarullo                       54\n",
       "Governor Jerome H. Powell                        50\n",
       "Vice Chairman Stanley Fischer                    45\n",
       "Governor Elizabeth A. Duke                       44\n",
       "Chair Janet L. Yellen                            44\n",
       "Vice Chairman Donald L. Kohn                     41\n",
       "Vice Chair for Supervision Randal K. Quarles     39\n",
       "Governor Randall S. Kroszner                     36\n",
       "Chairman Jerome H. Powell                        32\n",
       "Governor Frederic S. Mishkin                     26\n",
       "Vice Chairman Richard H. Clarida                 26\n",
       "Vice Chair Janet L. Yellen                       22\n",
       "Governor Sarah Bloom Raskin                      17\n",
       "Governor Kevin Warsh                             16\n",
       "Governor Jeremy C. Stein                         16\n",
       "Governor Michelle W. Bowman                      13\n",
       "Governor Susan S. Bies                            3\n",
       "Name: speaker, dtype: int64"
      ]
     },
     "execution_count": 20,
     "metadata": {},
     "output_type": "execute_result"
    }
   ],
   "source": [
    "fed[\"speaker\"].value_counts()"
   ]
  },
  {
   "attachments": {},
   "cell_type": "markdown",
   "metadata": {},
   "source": []
  },
  {
   "cell_type": "code",
   "execution_count": null,
   "metadata": {},
   "outputs": [],
   "source": []
  },
  {
   "cell_type": "code",
   "execution_count": null,
   "metadata": {},
   "outputs": [],
   "source": []
  },
  {
   "attachments": {},
   "cell_type": "markdown",
   "metadata": {},
   "source": [
    "Let us view the text languages."
   ]
  },
  {
   "cell_type": "code",
   "execution_count": 21,
   "metadata": {},
   "outputs": [],
   "source": [
    "ecb[\"lang\"] = ecb[\"text_preprocessed\"].apply(lambda x : detect(x[:500]), )\n",
    "fed[\"lang\"] = fed[\"text\"].apply(lambda x : detect(x[:500]))"
   ]
  },
  {
   "cell_type": "code",
   "execution_count": 22,
   "metadata": {},
   "outputs": [
    {
     "data": {
      "text/plain": [
       "en    1646\n",
       "de      75\n",
       "fr      31\n",
       "es      16\n",
       "it       4\n",
       "Name: lang, dtype: int64"
      ]
     },
     "execution_count": 22,
     "metadata": {},
     "output_type": "execute_result"
    }
   ],
   "source": [
    "ecb[\"lang\"].value_counts()"
   ]
  },
  {
   "cell_type": "code",
   "execution_count": 23,
   "metadata": {},
   "outputs": [
    {
     "data": {
      "text/plain": [
       "en    739\n",
       "Name: lang, dtype: int64"
      ]
     },
     "execution_count": 23,
     "metadata": {},
     "output_type": "execute_result"
    }
   ],
   "source": [
    "fed[\"lang\"].value_counts()"
   ]
  },
  {
   "cell_type": "code",
   "execution_count": 24,
   "metadata": {},
   "outputs": [
    {
     "data": {
      "text/plain": [
       "2565448"
      ]
     },
     "execution_count": 24,
     "metadata": {},
     "output_type": "execute_result"
    }
   ],
   "source": [
    "ecb[ecb[\"lang\"] != \"en\"][\"text_preprocessed\"].str.len().sum(skipna=True)"
   ]
  },
  {
   "cell_type": "code",
   "execution_count": 25,
   "metadata": {},
   "outputs": [
    {
     "data": {
      "text/plain": [
       "'  Die Finanzmarktunion als Element einer stabilen Währungsunion?   Rede von Jörg Asmussen, Mitglied des Direktoriums der EZB, Handelsblatt Jahrestagung „Banken im Umbruch“, Frankfurt am Main, 4. September 2012 Sehr geehrte Damen und Herren,  Ein Satz in der Schlusserklärung des Euro-Gipfels vom 28. Juni dieses Jahres sorgte für Aufhorchen und viel Diskussionsstoff über den Sommer – ich zitiere: „ Sobald unter Einbeziehung der EZB ein wirksamer einheitlicher Aufsichts\\xadmechanismus für Banken des Euro-Währungs\\xadgebiets eingerichtet worden ist, hätte der ESM nach einem ordentlichen Beschluss die Möglich\\xadkeit, Banken direkt zu rekapitalisieren.“  Hier wurde der Anfang einer Finanzmarktunion beschlossen. Als Beitrag zu dieser Diskussion möchte ich im Folgenden gerne drei Aspekte aufgreifen:    Wo stehen wir bei der Finanzmarkt\\xadregulierung? Wie stellt sich aktuell die Lage an den Finanzmärkten dar?   Warum ist eine Finanzmarktunion not\\xadwendig geworden? Wie soll diese aus\\xadsehen?   Welche Rolle kann der EZB innerhalb der neuen Aufsichtsarchitektur zukommen, welche Bedingungen müssen erfüllt sein?    Wo stehen wir bei der Finanzmarkt\\xadregulierung? Wie ist die Lage an den Finanzmärkten? Seit 2008 haben sich die Staats- und Regie\\xadrungschefs der G20 wiederholt zu einem ge\\xadmeinsamen Vorgehen für mehr und bessere Re\\xadgulierung geeignet. Es herrschte Konsens über eine zentrale Lehre der Krise: dass alle syste\\xadmisch relevanten Institute, Märkte und Instru\\xadmente angemessen reguliert und beaufsichtigt werden sollten. Die Europäer verstärkten ihre Bemühungen, ein so genanntes „Single Rule\\xadbook“ zu erarbeiten, durch eine Vielzahl von Verordnungen und Richtlinien, über ein Dutzend seit Krisenbeginn. Dass deren Be\\xadnennung meist eine veritable Buchstabensuppe ist – CRD\\xa0IV, MiFID, EMIR, usw. ist ein Indiz, dass die Materie ist hochkomplex ist.  Die ersten drei G20-Gipfel der Staats- und Re\\xadgierungschefs in Washington, London und vor allen Pittsburgh haben in der Finanzmarkt\\xadregulierung weit überdurchschnittliche Ergeb\\xadnisse hervorgebracht, andere Gipfel haben in anderen Bereichen Erfolge erzielen können, zum Beispiel der Gipfel in Seoul bei der IWF-Reform. Inzwischen hat der G20-Prozess auch bezogen auf die Finanzmarktregulierung an Fahrt verloren. Wir müssen uns bemühen, den verlorengegangenen „drive“ zurückzugewinnen. Die Häufung von zumindest individuellem Fehl\\xadverhalten in großen Finanzinstitutionen zeigt, dass eine scharfe Regulierung notwendig ist, weil entweder interne Kontrollmechanismen oder die externe Aufsicht nicht funktioniert haben. Ich bin davon heute mehr überzeugt als je zuvor. Es gilt grundsätzlich in Rechtsstaaten die Un\\xadschuldsvermutung, aber wenn sich die Vorwürfe bewahrheiten sollten, werden die Auswirkungen der LIBOR- Manipulationen bei weitem noch nicht absehbar sein. Das Monitoring des Financial Stability Board (FSB) zeigt, dass viele nationale Gesetzgeber angesichts der Fülle neuer Finanzmarktgesetz\\xadgebung überlastet sind und in der Umsetzung zeitlich hinterherhinken. Auch die Europäische Union sieht sich mit der Herausforderung „glei\\xadche Regeln – ungleiche Umsetzung“ kon\\xadfrontiert. Trotz der großen Bemühungen der Europäischen Bankenbehörde (EBA) leidet der Ansatz des „Single Rulebooks“ unter einer un\\xadeinheitlichen Umsetzung. Die neue Gesetz\\xadgebung – beispielsweise die Richtlinie und Ver\\xadordnung zu verbesserten Eigenkapitalanforderungen – über\\xadlässt den nationalen Aufsichtsbehörden einen erheblichen Ermessensspielraum.  Zahlreiche der neuen Finanzmarktregelungen sind sehr komplex. Zu Recht kann man die Frage stellen, ob die hohe Komplexität der Re\\xadgulierung nicht zu Intransparenz und Unsicher\\xadheit bei Marktteilnehmern führt, und folglich in Bezug auf die Finanzmarktstabilität das Gegen\\xadteil vom dem erreicht, was erreicht werden sollte. Wären einfachere Regeln nicht die bessere Alternative? Dieser Frage ist zum Beispiel Andrew Haldane von der Bank of England in einen Research Paper nach\\xadgegangen, das er vor wenigen Tagen in Jackson Hole vorgestellt hat. Ich nutze im Folgenden kurz seine Erkenntnisse. Wenn man den Seitenumfang der Regulierung als Maßgabe für die Komplexität der Regelun\\xadgen nimmt, was sicher eine unzulässige Verein\\xadfachung ist, aber einen guten ersten Anhaltspunkt gibt, dann stellt es sich wie folgt dar: Basel 1 hatte 30 Seiten. Basel 2 schon 350 Seiten und Basel 3 hat 620 Seiten. Dazu kom\\xadmen tausende Seiten regionaler und/oder natio\\xadnaler Umsetzung. Haldane kommt mittels empirischer Analysen und nicht nur durch Seiten-Zählen zu dem Er\\xadgebnis, dass einfache Regeln nicht weniger effektiv seien als komplexe. Ich weiß natürlich, dass einfachere Regeln oft die so\\xadgenannte Einzelfallgerechtigkeit verletzen. Ich weiß natürlich auch, dass die Komplexität der Regeln oft einer erfolgreichen Lobbyarbeit ge\\xadschuldet ist, um für ein spezielles Geschäfts\\xadmodell eine passgenaue Lösung zu finden. Aber ich finde die Grundfrage von Andrew Haldane richtig, und werde weiter darüber nachdenken. Aktuell stellt sich die Lage an den Finanz\\xadmärkten wie folgt dar: Wir beobachten im Euroraum einen Prozess der Fragmentierung des gemeinsamen Finanzmarktes, es findet eine Renationalisierung statt. Beispiels\\xadweise ist der Anteil der grenzüberschreitenden Kredite auf den Geldmärkten zwischen Mitte 2011 und heute von 60 Prozent auf 40\\xa0Prozent gesunken. In mehreren Ländern haben die aus\\xadländischen Bankeinlagen das niedrigste Niveau seit Anfang 2008 erreicht. Banken nutzen zu\\xadnehmend inländische Sicherheiten beim Zugang zu EZB-Fazilitäten.  Der Kern dieses – bildlich gesprochen – Wiederaufbaus der Schlagbäume ist die starke finanzielle Verflechtung zwischen einzelnen Staaten und ihren Bankensystemen. Fehlendes Vertrauen gegenüber den Banken in den be\\xadtroffenen Mitgliedsstaaten führt außerdem zu einer starken Abhängigkeit einiger Banken\\xadsysteme von Zentralbankliquidität.  Diese Ab\\xadwärtsspirale hat entscheidend dazu beigetragen, dass sich die Lage auf den Finanzmärkten im Euroraum seit Mitte letzten Jahres noch einmal verschlechtert hat. Die Risikoprämien von Staatsanleihen spiegeln mittlerweile nicht nur das Insolvenzrisiko einzelner Staaten wider, sondern sogar ein Wechselkursrisiko, welches es in einer Währungsunion theoretisch nicht geben dürfte. Die Märkte preisen also ein Auseinanderbrechen des Euroraums ein.  Für eine Währungsunion sind solche systemi\\xadschen Zweifel nicht akzeptabel. Nur eine Wäh\\xadrung, an deren Bestand es keinen Zweifel gibt, ist eine stabile Währung. Denn diese Zweifel haben folgenschwere Auswirkungen für die ge\\xadmeinsame Geldpolitik: ein geldpolitisches Sig\\xadnal, wie es die EZB beispielsweise mit der Zins\\xadsenkung im Juli gesetzt hat, kommt unein\\xadheitlich oder zum Teil überhaupt nicht in der Realwirtschaft an. Die EZB hat gestern Daten veröffentlicht, die das eindrucksvoll zeigen: So zahlen kleine Unternehmen in Spanien für einen Kredit bis zu 1 Mio EUR und einer Laufzeit von mehr als einem und bis zu 5 Jahren derzeit 6,5% Zinsen, so viel wie noch nie seit 2008. In Italien sind es aktuell 6,24%, während der gleiche Unternehmenskredit in Deutschland für rund 4% zu haben ist und das bei gleichem Leitzins.  Der Leitzins, der eigentlich „leiten“ soll, tut dies nur noch eingeschränkt.   2. Warum ist eine Finanzmarktunion notwendig geworden? Wie soll diese aussehen? Trotz der Fragmentierung der europäischen Finanzmärkte, die wir jüngst beobachten und die ich gerade beschrieben habe, hat die Ent\\xadwicklung seit der Bankenkrise 2007/2008 in Europa vor allem eines gezeigt: der Banken\\xadsektor ist in Europa vielfach so eng mit der Staatsfinanzierung verwoben, dass Probleme in dem einen Bereich zu Ansteckungseffekten in dem jeweils anderen Bereich führen können, bis beide wanken und sich zum gesamteuropäischen Problem entwickeln können, das innerhalb eines Mitgliedsstaates nicht mehr zu lösen ist, weil die finanziellen Mittel fehlen und es strukturelle Schwächen gibt. Die Problemfälle sind Ihnen bekannt: In Irland sprang der Staat dem über\\xaddimensionierten Finanzsektor zur Seite und ge\\xadriet daraufhin selbst ins Straucheln; ähnliches erleben wir gerade in Zypern. In Griechenland haben wir die umgekehrte Situation vorge\\xadfunden. Marode Staatsfinanzen belasten auch die heimischen Bankbilanzen schwer, weil die Ab\\xadnehmer für griechische Staatsanleihen vor allem die griechischen Banken waren. In der Folge ist wiederum die Staatsfinanzierung erschwert, weil die heimischen Banken die Anleihen nicht mehr aufnehmen können. Spanien wurde in der Finanzmarktkrise vielfach gelobt, weil die Auf\\xadsicht dort erfolgreich den Flächenbrand durch überkomplexe, strukturierte Produkte verhindern konnte. Nicht toxische assets wurden zum Problem für spanische Banken, sondern das Platzen einer klassischen Immobilienblase und vielfach darin verstrickt waren spanische Spar\\xadkassen, deren Stützung jetzt die Regionen und den spanischen Zentralstaat schwer belastet. Neben dieser verhängnisvollen Verzahnung von Banken- und Staaten hat die Krise die allge\\xadmeine Frage aufgeworfen, welches Gewicht Überlegungen zur Finanzmarktstabilität in Europa haben, wenn der Aufseher Teil der nationalen Exekutive und damit in erster Linie gegenüber einem nati\\xadonalen Parlament und letztlich gegenüber dem nationalen Steuerzahler verantwortlich ist. Wir haben hier in den vergangenen Jahren sehen können, dass Partikularinteressen in Konflikt mit dem Interesse an Finanzstabilität in Europa geraten können. Wenn die Finanzmarktstabilität in ganz Europa gefährden ist, dann sollten wir eine gesamteuropäische Antwort hierauf finden, und diese Antwort lautet: wir sollten eine Finanz\\xadmarktunion schaffen. Das bringt mich zu der Frage: Wie sähe eine solche Finanzmarktunion aus? Die neue Archi\\xadtektur sollte am Ende des Prozesses folgende drei Säulen aufweisen:   Erstens, eine europäische Bankenaufsicht, die über ausreichende Instrumente und Kompetenzen verfügt. Sie muss eine ein\\xadheitliche Umsetzung des europäischen Regelwerks sicherstellen. Diese Banken\\xadaufsicht muss auch in der Lage sein, nicht lebensfähige Institute zu schließen und zur Abwicklung zu übergeben.   Zweitens, eine europäische Abwicklungsbe\\xadhörde und ein einheitliches Regelwerk zur Abwicklung instabiler systemrelevanter Banken. Diese Behörde muss im Notfall auf einen durch die Finanzindustrie finanzierten Fonds zurück\\xadgreifen können. Das verhindert dass natio\\xadnale Haushalte und Steuerzahler belastet werden.    Drittens sollte die Einlagensicherung auf eu\\xadropäischer Ebene organisiert oder zu\\xadmindest weiter harmonisiert werden.    Alle drei Elemente bedingen sich gegenseitig. Man stelle sich einen Hocker mit drei Beinen vor: Fehlt ein Bein, kippt der Hocker um. Die Bankenaufsicht kann nur effektiv und sinnvoll agieren, wenn sie auch über vollständige Infor\\xadmationen, z. B. zur Einlagensicherung verfügt und sie kann auch nur dann effektiv handeln, wenn sie beispielsweise die Abwicklung eines Instituts anordnen kann. Was nützt ein Brandmelder, wenn im Ernst\\xadfall keine Feuerwehr ausrücken kann, oder die Feuerwehr nicht weiß, was eigentlich brennt. Darüber hinaus sollte geprüft werden, die Zu\\xadständigkeit der Finanzmarktunion auf weitere Bereiche auszuweiten. Ich denke dabei insbe\\xadsondere an zentrale Marktinfrastrukturen wie zentrale Clearinghäuser (Central Counterparties – CCPs). Die Schaffung einer einheitlichen Banken\\xadaufsicht für den Euroraum ist eine unbedingte Voraussetzung für eine direkte Rekapitalisierung der Banken durch den Europäischen Stabilitäts\\xadmechanismus (ESM). Dieses Junktim zwischen Mittelverwendung und Kontrolle ist unverzicht\\xadbar.   3. Welche Rolle kommt der EZB innerhalb der neuen Aufsichtsarchitektur zu? Welche Bedingungen müssen erfüllt sein Doch welche Rolle kommt nun der EZB inner\\xadhalb der neuen Aufsichtsarchitektur zu? In einer Woche, am 12. September, wird die Europäische Kommission ihre Gesetzgebungs\\xadvorschläge für eine europäische Bankenaufsicht vorstellen. Einige Details des Vorschlags sind durch ein Interview von Kommissar Barnier in der Süd\\xaddeutschen Zeitung bereits bekannt geworden. Demnach soll die EZB eine wichtige Rolle innerhalb einer europäischen Bankenaufsicht übernehmen.  Die EZB hat zusammen mit den nationalen Zentralbanken bereits bekräftigt, dass sie bereit ist, als Aufsichtsbehörde Verantwortung zu übernehmen.  Das ist bei manchen auf Unverständnis gestoßen. Einige meinen, eine Zentralbank sollte sich grundsätzlich aus der Einzelinstitutsaufsicht heraushalten. Zu groß sei der Interessenkonflikt, zum Beispiel einen Geschäftspartner von geldpolitischen Operationen am Leben zu erhalten, obwohl eine Abwicklung notwendig wäre. Andere befürchten eine Machtkonzentra\\xadtion bei der EZB als europäischer Superbehörde. Wir sind uns dieser Befürchtungen sehr wohl bewusst. Deshalb wird die EZB Aufgaben bei der Aufsicht nur übernehmen, wenn bestimmte Bedingungen erfüllt sind:   Erstens muss das vorrangige Ziel der Preis\\xadstabilität unangetastet bleiben. Die Geld\\xadpolitik muss von der Bankenaufsicht nach außen und nach innen organisatorisch und auch personell getrennt werden. Mittel dazu sind chinesische Mauern und die Schaffung eines neuen Entscheidungsgremiums neben dem EZB-Rat, das für alle Aufsichts\\xadaufgaben zuständig ist. Fakt ist, dass schon heute 14 der 17 nationalen Zentralbanken des Euroraums Aufsichtsaufgaben haben.    Zweitens wird die EZB darauf achten, dass ihre Unabhängigkeit in keiner Weise beinträchtig wird. Gleichzeitig ist aber auch klar, dass Aufgaben der Bankenaufsicht der parlamentarischen und gerichtlichen Kon\\xadtrolle unterstehen müssen. Denn Banken\\xadaufsicht ist hoheitliches Handeln, durch das in Grundrechte der Betroffenen eingegrif\\xadfen werden kann. Wir stehen den not\\xadwendigen Rechenschaftspflichten einer europäischen Bankenaufsicht bei der EZB aufgeschlossen gegenüber. Dies gilt sowohl gegenüber dem europäischen Parlament also auch gegenüber dem Ministerrat der EU.    Drittens muss das Gesetz die EZB mit allen Instrumenten ausstatten, die notwendig sind, um die Aufgaben einer Banken\\xadaufsicht effektiv ausüben zu können. Es muss der EZB möglich sein, den reichen Erfahrungs\\xadschatz und das technische Knowhow der nationalen Zentralbanken zu nutzen. Denn klar ist, dass viele Aufsichts\\xadaufgaben auch morgen nur vor Ort ausge\\xadführt werden können. Gleichzeitig muss eine einheitliche Umsetzung der europäi\\xadschen Richtlinien sichergestellt werden. Von besonderer Bedeutung ist vor allem der direkte Zugang zu allen notwendigen Informationen über die beaufsichtigten In\\xadstitute, wie beispielsweise Prüfungsberichte über bankgeschäftliche Prüfungen oder Auswertungsberichte zu Jahresabschlüssen. Die EZB muss darüber hinaus über ausreichende Eingriffsrechte verfügen und, wie schon erwähnt, das Recht haben, nicht lebensfähige Banken notfalls zu schließen. Ohne diese Mindestausstattung wird die EZB aus meiner Sicht keine Verantwortung übernehmen, denn das Risiko für den Ruf der Institution wäre zu groß, das Reputationsrisiko liegt alleine bei uns.\\u2028Bis zur Umsetzung der Kommissionsvorschläge müssen neben diesen Aspekten eine ganze Reihe wichtiger Gestaltungsfragen geklärt werden.    Wie würde die Aufgabenteilung zwischen der EZB und den anderen europäischen Aufsichtsbehörden – insbesondere der Europäischen Bankenbehörde (EBA) – aus\\xadsehen? Denkbar wäre es aus meiner Sicht, dass die EBA weiterhin für die Weiterent\\xadwicklung des „Single Rulebook“ im Binnenmarkt der EU 27 zuständig ist.    Wird die europäische Bankenaufsicht nur die Banken der Eurozone oder der ganzen EU beaufsichtigen?\\u2028Eine funktionierende Finanzmarktunion ist vor allem ein An\\xadliegen der Währungsunion. Aus dieser Sicht wäre ein Fokus auf die Institute des Euroraums sinnvoll. Nicht-Euro-Staaten sollte es aber frei stehen, ihre Institute ebenfalls der europäischen Aufsicht zu unterstellen.   Wird es um Banken jeder Größenordnung gehen oder nur um die systemisch relevan\\xadten?\\u2028Aus meiner persönlichen Sicht ist es sinnvoll, zumindest anfangs die euro\\xadpäische Aufsicht auf die europaweit und national systemisch relevanten Institute zu begrenzen. Zum Jahres\\xadanfang 2013 eine Aufsicht über alle Banken des Euroraums zu organisieren, ist weder zielführend noch darstellbar. Wichtig ist, dass die europäische Aufsicht auch operati\\xadonal zu einer effizienten Aufsicht von An\\xadfang an in der Lage ist.   Wie sieht die Arbeitsteilung zwischen der EZB und den nationalen Behörden aus?\\u2028Bei der operativen Arbeitsteilung stehen wir vor einer Kernherausforderung. Zum einen muss die Expertise vor Ort maximal einge\\xadsetzt werden. Gleichzeitig muss aber auch ein einheitlicher Aufsichtsstandard im gan\\xadzen Euroraum gewährleistet ist – nicht zu\\xadletzt auch damit für die Banken selbst das System nicht noch weiter verkompliziert wird. Das könnte erreicht werden, wenn pro Institut ein gemischtes Aufsichtsteam aus nationalen und europäischen Experten ge\\xadbildet würde. Dieses Team könnte auch als einheitlicher Ansprechpartner gegenüber der Bank fungieren.\\u2028Die europäische Auf\\xadsicht müsste die Möglichkeit haben, die tagtägliche Aufsicht über kleinere Institute an die nationalen Behörden zurückzu\\xaddelegieren. Einzelne Fälle müsste sie aber ohne Weiteres wieder an sich ziehen kön\\xadnen.\\u2028Zwar muss der ESM möglichst bald in der Lage sein, Banken direkt zu rekapitalisieren. Es geht aber auch darum, die Dinge richtig zu machen und nicht unter Zeitdruck halbfertige Lösungen festzuschreiben. \\u2028Ich möchte auch daran erinnern, dass eine Finanzmarkunion alleine die Krise nicht lösen kann. Selbst eine optimal aufgestellte Finanz\\xadmarktunion könnte nicht dafür sorgen, dass der griechische Haushalt ins Gleichgewicht kommt oder sich die Wettbewerbsfähigkeit Portugals erhöht. Denn Gründe für die Krise sind auch in den Bereichen der gemeinsamen Haushalts\\xadpolitik und Wirtschaftspolitik zu suchen. \\u2028Europa muss sich jetzt entscheiden. Entweder wir vollenden die Integration des Euroraums, indem wir bei Finanzmarktpolitik, Haushalts\\xadpolitik, Wirtschaftspolitik und demokratischer Kontrolle Souveränität mit Europa teilen. Oder wir entscheiden uns für den anderen Weg, ein dezentralisiertes Europa. Das bedeutet dann aber auch, dass wir die großen wirtschaftlichen Ge\\xadwinne, die uns Währungsunion und Binnen\\xadmarkt gebracht haben, aufs Spiel setzen. \\u2028Um das zu vermeiden, sollten wir die Architek\\xadtur der Wirtschafts- und Währungsunion voll\\xadenden. Dazu sind neben der Finanzmarktunion noch drei weitere Bausteine unverzichtbar:     Eine Fiskalunion   Eine echte Wirtschaftsunion    Eine demokratisch legitimierte politische Union    Diese vier Bausteine gehören zusammen und bedingen einander. Fortschritte in nur einem der vier Bereiche werden nicht ausreichen, alle vier Aspekte sind für ein Funktionieren der Wirt\\xadschafts- und Währungsunion, sind für die Zu\\xadkunft eines stabilen Euros unverzichtbar.  Meine Antwort in dieser Situation ist eindeutig: Mehr Europa, ein besseres Europa. Aber nicht als Selbstzweck. Son\\xaddern als der Weg, der Europas Bürgern Wohl\\xadstand, Freiheit und Sicherheit in der globalisierten Welt des 21. Jahrhunderts sichert. Meine Damen und Herren,  Ihre Tagung steht unter dem Motto „Banken im Umbruch“. Auch die institutionelle Architektur der Eurozone ist derzeit „im Umbruch“. Damit dieser „Umbruch“ ein „Aufbruch“ wird, hin zu einer stabilen, prosperierenden und vertieften Währungsunion, brauchen wir eine breite Diskussion – auch hier und jetzt gleich mit Ihnen. Darauf freue ich mich. Vielen Dank für Ihre Aufmerksamkeit. ***  '"
      ]
     },
     "execution_count": 25,
     "metadata": {},
     "output_type": "execute_result"
    }
   ],
   "source": [
    "ecb.loc[31][\"text\"]"
   ]
  },
  {
   "cell_type": "code",
   "execution_count": null,
   "metadata": {},
   "outputs": [],
   "source": []
  }
 ],
 "metadata": {
  "kernelspec": {
   "display_name": "Python 3.9.12 ('base')",
   "language": "python",
   "name": "python3"
  },
  "language_info": {
   "codemirror_mode": {
    "name": "ipython",
    "version": 3
   },
   "file_extension": ".py",
   "mimetype": "text/x-python",
   "name": "python",
   "nbconvert_exporter": "python",
   "pygments_lexer": "ipython3",
   "version": "3.9.12"
  },
  "orig_nbformat": 4,
  "vscode": {
   "interpreter": {
    "hash": "40d3a090f54c6569ab1632332b64b2c03c39dcf918b08424e98f38b5ae0af88f"
   }
  }
 },
 "nbformat": 4,
 "nbformat_minor": 2
}
